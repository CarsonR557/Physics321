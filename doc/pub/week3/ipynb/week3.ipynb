{
 "cells": [
  {
   "cell_type": "markdown",
   "metadata": {},
   "source": [
    "<!-- dom:TITLE: PHY321: Review of Vectors, Math and first Numerical Examples for simple Motion Problems -->\n",
    "# PHY321: Review of Vectors, Math and first Numerical Examples for simple Motion Problems\n",
    "<!-- dom:AUTHOR: [Morten Hjorth-Jensen](http://mhjgit.github.io/info/doc/web/) at Department of Physics and Astronomy and Facility for Rare Ion Beams (FRIB), Michigan State University, USA & Department of Physics, University of Oslo, Norway -->\n",
    "<!-- Author: -->  \n",
    "**[Morten Hjorth-Jensen](http://mhjgit.github.io/info/doc/web/)**, Department of Physics and Astronomy and Facility for Rare Ion Beams (FRIB), Michigan State University, USA and Department of Physics, University of Oslo, Norway\n",
    "\n",
    "Date: **Jan 20, 2021**\n",
    "\n",
    "Copyright 1999-2021, [Morten Hjorth-Jensen](http://mhjgit.github.io/info/doc/web/). Released under CC Attribution-NonCommercial 4.0 license\n",
    "\n",
    "\n",
    "\n",
    "\n",
    "## Aims and Overarching Motivation\n",
    "\n",
    "### Wednesday\n",
    "\n",
    "On Wednesday the 20th we will mainly go through the overview material from week 2, January 11-15.  See the learning material fro week 2 at for example <https://mhjensen.github.io/Physics321/doc/pub/week2/html/week2-bs.html>.\n",
    "\n",
    "### Friday\n",
    "\n",
    "We start studying the problem of a  falling object and use this to introduce numerical aspects.\n",
    "\n",
    "## Falling baseball in one dimension\n",
    "\n",
    "We anticipate the mathematical model to come and assume that we have a\n",
    "model for the motion of a falling baseball without air resistance.\n",
    "Our system (the baseball) is at an initial height $y_0$ (which we will\n",
    "specify in the program below) at the initial time $t_0=0$. In our program example here we will plot the position in steps of $\\Delta t$ up to a final time $t_f$. \n",
    "The mathematical formula for the position $y(t)$ as function of time $t$ is"
   ]
  },
  {
   "cell_type": "markdown",
   "metadata": {},
   "source": [
    "$$\n",
    "y(t) = y_0-\\frac{1}{2}gt^2,\n",
    "$$"
   ]
  },
  {
   "cell_type": "markdown",
   "metadata": {},
   "source": [
    "where $g=9.80665=0.980655\\times 10^1$m/s${}^2$ is a constant representing the standard acceleration due to gravity.\n",
    "We have here adopted the conventional standard value. This does not take into account other effects, such as buoyancy or drag.\n",
    "Furthermore, we stop when the ball hits the ground, which takes place at"
   ]
  },
  {
   "cell_type": "markdown",
   "metadata": {},
   "source": [
    "$$\n",
    "y(t) = 0= y_0-\\frac{1}{2}gt^2,\n",
    "$$"
   ]
  },
  {
   "cell_type": "markdown",
   "metadata": {},
   "source": [
    "which gives us a final time $t_f=\\sqrt{2y_0/g}$. \n",
    "\n",
    "As of now we simply assume that   we know the formula for the falling object. Afterwards, we will derive it.\n",
    "\n",
    "## Our Python Encounter\n",
    "\n",
    "We start with preparing folders for storing our calculations, figures and if needed, specific data files we use as input or output files."
   ]
  },
  {
   "cell_type": "code",
   "execution_count": 1,
   "metadata": {
    "collapsed": false
   },
   "outputs": [],
   "source": [
    "%matplotlib inline\n",
    "\n",
    "# Common imports\n",
    "import numpy as np\n",
    "import pandas as pd\n",
    "import matplotlib.pyplot as plt\n",
    "import os\n",
    "\n",
    "# Where to save the figures and data files\n",
    "PROJECT_ROOT_DIR = \"Results\"\n",
    "FIGURE_ID = \"Results/FigureFiles\"\n",
    "DATA_ID = \"DataFiles/\"\n",
    "\n",
    "if not os.path.exists(PROJECT_ROOT_DIR):\n",
    "    os.mkdir(PROJECT_ROOT_DIR)\n",
    "\n",
    "if not os.path.exists(FIGURE_ID):\n",
    "    os.makedirs(FIGURE_ID)\n",
    "\n",
    "if not os.path.exists(DATA_ID):\n",
    "    os.makedirs(DATA_ID)\n",
    "\n",
    "def image_path(fig_id):\n",
    "    return os.path.join(FIGURE_ID, fig_id)\n",
    "\n",
    "def data_path(dat_id):\n",
    "    return os.path.join(DATA_ID, dat_id)\n",
    "\n",
    "def save_fig(fig_id):\n",
    "    plt.savefig(image_path(fig_id) + \".png\", format='png')\n",
    "\n",
    "#in case we have an input file we wish to read in\n",
    "#infile = open(data_path(\"MassEval2016.dat\"),'r')"
   ]
  },
  {
   "cell_type": "markdown",
   "metadata": {},
   "source": [
    "You could also define a function for making our plots. You\n",
    "can obviously avoid this and simply set up various **matplotlib**\n",
    "commands every time you need them. You may however find it convenient\n",
    "to collect all such commands in one function and simply call this\n",
    "function."
   ]
  },
  {
   "cell_type": "code",
   "execution_count": 2,
   "metadata": {
    "collapsed": false
   },
   "outputs": [],
   "source": [
    "from pylab import plt, mpl\n",
    "plt.style.use('seaborn')\n",
    "mpl.rcParams['font.family'] = 'serif'\n",
    "\n",
    "def MakePlot(x,y, styles, labels, axlabels):\n",
    "    plt.figure(figsize=(10,6))\n",
    "    for i in range(len(x)):\n",
    "        plt.plot(x[i], y[i], styles[i], label = labels[i])\n",
    "        plt.xlabel(axlabels[0])\n",
    "        plt.ylabel(axlabels[1])\n",
    "    plt.legend(loc=0)"
   ]
  },
  {
   "cell_type": "markdown",
   "metadata": {},
   "source": [
    "Thereafter we start setting up the code for the falling object."
   ]
  },
  {
   "cell_type": "code",
   "execution_count": 3,
   "metadata": {
    "collapsed": false
   },
   "outputs": [],
   "source": [
    "%matplotlib inline\n",
    "import matplotlib.patches as mpatches\n",
    "\n",
    "g = 9.80655 #m/s^2\n",
    "y_0 = 10.0 # initial position in meters\n",
    "DeltaT = 0.1  # time step\n",
    "# final time when y = 0, t = sqrt(2*10/g)\n",
    "tfinal = np.sqrt(2.0*y_0/g)\n",
    "#set up arrays \n",
    "t = np.arange(0,tfinal,DeltaT)\n",
    "y =y_0 -g*.5*t**2\n",
    "# Then make a nice printout in table form using Pandas\n",
    "import pandas as pd\n",
    "from IPython.display import display\n",
    "data = {'t[s]': t,\n",
    "        'y[m]': y\n",
    "        }\n",
    "RawData = pd.DataFrame(data)\n",
    "display(RawData)\n",
    "plt.style.use('ggplot')\n",
    "plt.figure(figsize=(8,8))\n",
    "plt.scatter(t, y, color = 'b')\n",
    "blue_patch = mpatches.Patch(color = 'b', label = 'Height y as function of  time t')\n",
    "plt.legend(handles=[blue_patch])\n",
    "plt.xlabel(\"t[s]\")\n",
    "plt.ylabel(\"y[m]\")\n",
    "save_fig(\"FallingBaseball\")\n",
    "plt.show()"
   ]
  },
  {
   "cell_type": "markdown",
   "metadata": {},
   "source": [
    "Here we used **pandas** (see below) to systemize the output of the position as function of time.\n",
    "\n",
    "\n",
    "## Average quantities\n",
    "We define now the average velocity as"
   ]
  },
  {
   "cell_type": "markdown",
   "metadata": {},
   "source": [
    "$$\n",
    "\\overline{v}(t) = \\frac{y(t+\\Delta t)-y(t)}{\\Delta t}.\n",
    "$$"
   ]
  },
  {
   "cell_type": "markdown",
   "metadata": {},
   "source": [
    "In the code we have set the time step $\\Delta t$ to a given value. We could define it in terms of the number of points $n$ as"
   ]
  },
  {
   "cell_type": "markdown",
   "metadata": {},
   "source": [
    "$$\n",
    "\\Delta t = \\frac{t_{\\mathrm{final}-}t_{\\mathrm{initial}}}{n+1}.\n",
    "$$"
   ]
  },
  {
   "cell_type": "markdown",
   "metadata": {},
   "source": [
    "Since we have discretized the variables, we introduce the counter $i$ and let $y(t)\\rightarrow y(t_i)=y_i$ and $t\\rightarrow t_i$\n",
    "with $i=0,1,\\dots, n$. This gives us the following shorthand notations that we will use for the rest of this course. We define"
   ]
  },
  {
   "cell_type": "markdown",
   "metadata": {},
   "source": [
    "$$\n",
    "y_i = y(t_i),\\hspace{0.2cm} i=0,1,2,\\dots,n.\n",
    "$$"
   ]
  },
  {
   "cell_type": "markdown",
   "metadata": {},
   "source": [
    "This applies to other variables which depend on say time. Examples are the velocities, accelerations, momenta etc.\n",
    "Furthermore we use the shorthand"
   ]
  },
  {
   "cell_type": "markdown",
   "metadata": {},
   "source": [
    "$$\n",
    "y_{i\\pm 1} = y(t_i\\pm \\Delta t),\\hspace{0.12cm} i=0,1,2,\\dots,n.\n",
    "$$"
   ]
  },
  {
   "cell_type": "markdown",
   "metadata": {},
   "source": [
    "## Compact equations\n",
    "We can then rewrite in a more compact form the average velocity as"
   ]
  },
  {
   "cell_type": "markdown",
   "metadata": {},
   "source": [
    "$$\n",
    "\\overline{v}_i = \\frac{y_{i+1}-y_{i}}{\\Delta t}.\n",
    "$$"
   ]
  },
  {
   "cell_type": "markdown",
   "metadata": {},
   "source": [
    "The velocity is defined as the change in position per unit time.\n",
    "In the limit $\\Delta t \\rightarrow 0$ this defines the instantaneous velocity, which is nothing but the slope of the position at a time $t$.\n",
    "We have thus"
   ]
  },
  {
   "cell_type": "markdown",
   "metadata": {},
   "source": [
    "$$\n",
    "v(t) = \\frac{dy}{dt}=\\lim_{\\Delta t \\rightarrow 0}\\frac{y(t+\\Delta t)-y(t)}{\\Delta t}.\n",
    "$$"
   ]
  },
  {
   "cell_type": "markdown",
   "metadata": {},
   "source": [
    "Similarly, we can define the average acceleration as the change in velocity per unit time as"
   ]
  },
  {
   "cell_type": "markdown",
   "metadata": {},
   "source": [
    "$$\n",
    "\\overline{a}_i = \\frac{v_{i+1}-v_{i}}{\\Delta t},\n",
    "$$"
   ]
  },
  {
   "cell_type": "markdown",
   "metadata": {},
   "source": [
    "resulting in the instantaneous acceleration"
   ]
  },
  {
   "cell_type": "markdown",
   "metadata": {},
   "source": [
    "$$\n",
    "a(t) = \\frac{dv}{dt}=\\lim_{\\Delta t\\rightarrow 0}\\frac{v(t+\\Delta t)-v(t)}{\\Delta t}.\n",
    "$$"
   ]
  },
  {
   "cell_type": "markdown",
   "metadata": {},
   "source": [
    "**A note on notations**: When writing for example the velocity as $v(t)$ we are then referring to the continuous and instantaneous value. A subscript like\n",
    "$v_i$ refers always to the discretized values.\n",
    "\n",
    "## A differential equation\n",
    "We can rewrite the instantaneous acceleration as"
   ]
  },
  {
   "cell_type": "markdown",
   "metadata": {},
   "source": [
    "$$\n",
    "a(t) = \\frac{dv}{dt}=\\frac{d}{dt}\\frac{dy}{dt}=\\frac{d^2y}{dt^2}.\n",
    "$$"
   ]
  },
  {
   "cell_type": "markdown",
   "metadata": {},
   "source": [
    "This forms the starting point for our definition of forces later. It is a famous second-order differential equation. If the acceleration is constant we can now recover the formula for the falling ball we started with.\n",
    "The acceleration can depend on the position and the velocity. To be more formal we should then write the above differential equation as"
   ]
  },
  {
   "cell_type": "markdown",
   "metadata": {},
   "source": [
    "$$\n",
    "\\frac{d^2y}{dt^2}=a(t,y(t),\\frac{dy}{dt}).\n",
    "$$"
   ]
  },
  {
   "cell_type": "markdown",
   "metadata": {},
   "source": [
    "With given initial conditions for $y(t_0)$ and $v(t_0)$ we can then\n",
    "integrate the above equation and find the velocities and positions at\n",
    "a given time $t$.\n",
    "\n",
    "If we multiply with mass, we have one of the famous expressions for Newton's second law,"
   ]
  },
  {
   "cell_type": "markdown",
   "metadata": {},
   "source": [
    "$$\n",
    "F(y,v,t)=m\\frac{d^2y}{dt^2}=ma(t,y(t),\\frac{dy}{dt}),\n",
    "$$"
   ]
  },
  {
   "cell_type": "markdown",
   "metadata": {},
   "source": [
    "where $F$ is the force acting on an object with mass $m$. We see that it also has the right dimension, mass times length divided by time squared.\n",
    "We will come back to this soon.\n",
    "\n",
    "## Integrating our equations\n",
    "\n",
    "Formally we can then, starting with the acceleration (suppose we have measured it, how could we do that?)\n",
    "compute say the height of a building.  To see this we perform the following integrations from an initial time $t_0$  to a given time $t$"
   ]
  },
  {
   "cell_type": "markdown",
   "metadata": {},
   "source": [
    "$$\n",
    "\\int_{t_0}^t dt a(t) = \\int_{t_0}^t dt \\frac{dv}{dt} = v(t)-v(t_0),\n",
    "$$"
   ]
  },
  {
   "cell_type": "markdown",
   "metadata": {},
   "source": [
    "or as"
   ]
  },
  {
   "cell_type": "markdown",
   "metadata": {},
   "source": [
    "$$\n",
    "v(t)=v(t_0)+\\int_{t_0}^t dt a(t).\n",
    "$$"
   ]
  },
  {
   "cell_type": "markdown",
   "metadata": {},
   "source": [
    "When we know the velocity as function of time, we can find the position as function of time starting from the defintion of velocity as the derivative with respect to time, that is we have"
   ]
  },
  {
   "cell_type": "markdown",
   "metadata": {},
   "source": [
    "$$\n",
    "\\int_{t_0}^t dt v(t) = \\int_{t_0}^t dt \\frac{dy}{dt} = y(t)-y(t_0),\n",
    "$$"
   ]
  },
  {
   "cell_type": "markdown",
   "metadata": {},
   "source": [
    "or as"
   ]
  },
  {
   "cell_type": "markdown",
   "metadata": {},
   "source": [
    "$$\n",
    "y(t)=y(t_0)+\\int_{t_0}^t dt v(t).\n",
    "$$"
   ]
  },
  {
   "cell_type": "markdown",
   "metadata": {},
   "source": [
    "These equations define what is called the integration method for\n",
    "finding the position and the velocity as functions of time. There is\n",
    "no loss of generality if we extend these equations to more than one\n",
    "spatial dimension.\n",
    "\n",
    "## Constant acceleration case, the velocity\n",
    "Let us compute the velocity using the constant value for the acceleration given by $-g$. We have"
   ]
  },
  {
   "cell_type": "markdown",
   "metadata": {},
   "source": [
    "$$\n",
    "v(t)=v(t_0)+\\int_{t_0}^t dt a(t)=v(t_0)+\\int_{t_0}^t dt (-g).\n",
    "$$"
   ]
  },
  {
   "cell_type": "markdown",
   "metadata": {},
   "source": [
    "Using our initial time as $t_0=0$s and setting the initial velocity $v(t_0)=v_0=0$m/s we get when integrating"
   ]
  },
  {
   "cell_type": "markdown",
   "metadata": {},
   "source": [
    "$$\n",
    "v(t)=-gt.\n",
    "$$"
   ]
  },
  {
   "cell_type": "markdown",
   "metadata": {},
   "source": [
    "The more general case is"
   ]
  },
  {
   "cell_type": "markdown",
   "metadata": {},
   "source": [
    "$$\n",
    "v(t)=v_0-g(t-t_0).\n",
    "$$"
   ]
  },
  {
   "cell_type": "markdown",
   "metadata": {},
   "source": [
    "We can then integrate the velocity and obtain the final formula for the position as function of time through"
   ]
  },
  {
   "cell_type": "markdown",
   "metadata": {},
   "source": [
    "$$\n",
    "y(t)=y(t_0)+\\int_{t_0}^t dt v(t)=y_0+\\int_{t_0}^t dt v(t)=y_0+\\int_{t_0}^t dt (-gt),\n",
    "$$"
   ]
  },
  {
   "cell_type": "markdown",
   "metadata": {},
   "source": [
    "With $y_0=10$m and $t_0=0$s, we obtain the equation we started with"
   ]
  },
  {
   "cell_type": "markdown",
   "metadata": {},
   "source": [
    "$$\n",
    "y(t)=10-\\frac{1}{2}gt^2.\n",
    "$$"
   ]
  },
  {
   "cell_type": "markdown",
   "metadata": {},
   "source": [
    "## Computing the averages\n",
    "After this mathematical background we are now ready to compute the mean velocity using our data."
   ]
  },
  {
   "cell_type": "code",
   "execution_count": 4,
   "metadata": {
    "collapsed": false
   },
   "outputs": [],
   "source": [
    "# Now we can compute the mean velocity using our data\n",
    "# We define first an array Vaverage\n",
    "n = np.size(t)\n",
    "Vaverage = np.zeros(n)\n",
    "for i in range(1,n-1):\n",
    "    Vaverage[i] = (y[i+1]-y[i])/DeltaT\n",
    "# Now we can compute the mean accelearatio using our data\n",
    "# We define first an array Aaverage\n",
    "n = np.size(t)\n",
    "Aaverage = np.zeros(n)\n",
    "Aaverage[0] = -g\n",
    "for i in range(1,n-1):\n",
    "    Aaverage[i] = (Vaverage[i+1]-Vaverage[i])/DeltaT\n",
    "data = {'t[s]': t,\n",
    "        'y[m]': y,\n",
    "        'v[m/s]': Vaverage,\n",
    "        'a[m/s^2]': Aaverage\n",
    "        }\n",
    "NewData = pd.DataFrame(data)\n",
    "display(NewData[0:n-2])"
   ]
  },
  {
   "cell_type": "markdown",
   "metadata": {},
   "source": [
    "Note that we don't print the last values! \n",
    "\n",
    "\n",
    "\n",
    "## Including Air Resistance in our model\n",
    "\n",
    "In our discussions till now of the falling baseball, we have ignored\n",
    "air resistance and simply assumed that our system is only influenced\n",
    "by the gravitational force.  We will postpone the derivation of air\n",
    "resistance till later, after our discussion of Newton's laws and\n",
    "forces.\n",
    "\n",
    "For our discussions here it suffices to state that the accelerations is now modified to"
   ]
  },
  {
   "cell_type": "markdown",
   "metadata": {},
   "source": [
    "$$\n",
    "\\boldsymbol{a}(t) = -g +D\\boldsymbol{v}(t)\\vert v(t)\\vert,\n",
    "$$"
   ]
  },
  {
   "cell_type": "markdown",
   "metadata": {},
   "source": [
    "where $\\vert v(t)\\vert$ is the absolute value of the velocity and $D$ is a constant which pertains to the specific object we are studying.\n",
    "Since we are dealing with motion in one dimension, we can simplify the above to"
   ]
  },
  {
   "cell_type": "markdown",
   "metadata": {},
   "source": [
    "$$\n",
    "a(t) = -g +Dv^2(t).\n",
    "$$"
   ]
  },
  {
   "cell_type": "markdown",
   "metadata": {},
   "source": [
    "We can rewrite this as a differential equation"
   ]
  },
  {
   "cell_type": "markdown",
   "metadata": {},
   "source": [
    "$$\n",
    "a(t) = \\frac{dv}{dt}=\\frac{d^2y}{dt^2}= -g +Dv^2(t).\n",
    "$$"
   ]
  },
  {
   "cell_type": "markdown",
   "metadata": {},
   "source": [
    "Using the integral equations discussed above we can integrate twice\n",
    "and obtain first the velocity as function of time and thereafter the\n",
    "position as function of time.\n",
    "\n",
    "For this particular case, we can actually obtain an analytical\n",
    "solution for the velocity and for the position. Here we will first\n",
    "compute the solutions analytically, thereafter we will derive Euler's\n",
    "method for solving these differential equations numerically.\n",
    "\n",
    "## Analytical solutions\n",
    "\n",
    "For simplicity let us just write $v(t)$ as $v$. We have"
   ]
  },
  {
   "cell_type": "markdown",
   "metadata": {},
   "source": [
    "$$\n",
    "\\frac{dv}{dt}= -g +Dv^2(t).\n",
    "$$"
   ]
  },
  {
   "cell_type": "markdown",
   "metadata": {},
   "source": [
    "We can solve this using the technique of separation of variables. We\n",
    "isolate on the left all terms that involve $v$ and on the right all\n",
    "terms that involve time. We get then"
   ]
  },
  {
   "cell_type": "markdown",
   "metadata": {},
   "source": [
    "$$\n",
    "\\frac{dv}{g -Dv^2(t) }= -dt,\n",
    "$$"
   ]
  },
  {
   "cell_type": "markdown",
   "metadata": {},
   "source": [
    "We scale now the equation to the left by introducing a constant\n",
    "$v_T=\\sqrt{g/D}$. This constant has dimension length/time. Can you\n",
    "show this?\n",
    "\n",
    "Next we integrate the left-hand side (lhs) from $v_0=0$ m/s to $v$ and\n",
    "the right-hand side (rhs) from $t_0=0$ to $t$ and obtain"
   ]
  },
  {
   "cell_type": "markdown",
   "metadata": {},
   "source": [
    "$$\n",
    "\\int_{0}^v\\frac{dv}{g -Dv^2(t) }= \\frac{v_T}{g}\\mathrm{arctanh}(\\frac{v}{v_T})  =-\\int_0^tdt = -t.\n",
    "$$"
   ]
  },
  {
   "cell_type": "markdown",
   "metadata": {},
   "source": [
    "We can reorganize these equations as"
   ]
  },
  {
   "cell_type": "markdown",
   "metadata": {},
   "source": [
    "$$\n",
    "v_T\\mathrm{arctanh}(\\frac{v}{v_T})  =-gt,\n",
    "$$"
   ]
  },
  {
   "cell_type": "markdown",
   "metadata": {},
   "source": [
    "which gives us $v$ as function of time"
   ]
  },
  {
   "cell_type": "markdown",
   "metadata": {},
   "source": [
    "$$\n",
    "v(t)=v_T\\tanh{-(\\frac{gt}{v_T})}.\n",
    "$$"
   ]
  },
  {
   "cell_type": "markdown",
   "metadata": {},
   "source": [
    "## Finding the final height\n",
    "With the velocity we can then find the height $y(t)$ by integrating yet another time, that is"
   ]
  },
  {
   "cell_type": "markdown",
   "metadata": {},
   "source": [
    "$$\n",
    "y(t)=y(t_0)+\\int_{t_0}^t dt v(t)=\\int_{0}^t dt[v_T\\tanh{-(\\frac{gt}{v_T})}].\n",
    "$$"
   ]
  },
  {
   "cell_type": "markdown",
   "metadata": {},
   "source": [
    "This integral is a little bit trickier but we can look it up in a table over \n",
    "known integrals and we get"
   ]
  },
  {
   "cell_type": "markdown",
   "metadata": {},
   "source": [
    "$$\n",
    "y(t)=y(t_0)-\\frac{v_T^2}{g}\\log{[\\cosh{(\\frac{gt}{v_T})}]}.\n",
    "$$"
   ]
  },
  {
   "cell_type": "markdown",
   "metadata": {},
   "source": [
    "Alternatively we could have used the symbolic Python package **Sympy**  (example will be inserted later). \n",
    "\n",
    "In most cases however, we need to revert to numerical solutions. \n",
    "\n",
    "\n",
    "## Our first attempt at solving differential equations\n",
    "\n",
    "Here we will try the simplest possible approach to solving the second-order differential \n",
    "equation"
   ]
  },
  {
   "cell_type": "markdown",
   "metadata": {},
   "source": [
    "$$\n",
    "a(t) =\\frac{d^2y}{dt^2}= -g +Dv^2(t).\n",
    "$$"
   ]
  },
  {
   "cell_type": "markdown",
   "metadata": {},
   "source": [
    "We rewrite it as two coupled first-order equations (this is a standard approach)"
   ]
  },
  {
   "cell_type": "markdown",
   "metadata": {},
   "source": [
    "$$\n",
    "\\frac{dy}{dt} = v(t),\n",
    "$$"
   ]
  },
  {
   "cell_type": "markdown",
   "metadata": {},
   "source": [
    "with initial condition $y(t_0)=y_0$ and"
   ]
  },
  {
   "cell_type": "markdown",
   "metadata": {},
   "source": [
    "$$\n",
    "a(t) =\\frac{dv}{dt}= -g +Dv^2(t),\n",
    "$$"
   ]
  },
  {
   "cell_type": "markdown",
   "metadata": {},
   "source": [
    "with initial condition $v(t_0)=v_0$.\n",
    "\n",
    "Many of the algorithms for solving differential equations start with simple Taylor equations.\n",
    "If we now Taylor expand $y$ and $v$ around a value $t+\\Delta t$ we have"
   ]
  },
  {
   "cell_type": "markdown",
   "metadata": {},
   "source": [
    "$$\n",
    "y(t+\\Delta t) = y(t)+\\Delta t \\frac{dy}{dt}+\\frac{\\Delta t^2}{2!} \\frac{d^2y}{dt^2}+O(\\Delta t^3),\n",
    "$$"
   ]
  },
  {
   "cell_type": "markdown",
   "metadata": {},
   "source": [
    "and"
   ]
  },
  {
   "cell_type": "markdown",
   "metadata": {},
   "source": [
    "$$\n",
    "v(t+\\Delta t) = v(t)+\\Delta t \\frac{dv}{dt}+\\frac{\\Delta t^2}{2!} \\frac{d^2v}{dt^2}+O(\\Delta t^3).\n",
    "$$"
   ]
  },
  {
   "cell_type": "markdown",
   "metadata": {},
   "source": [
    "Using the fact that $dy/dt = v$ and $dv/dt=a$ and keeping only terms up to $\\Delta t$ we have"
   ]
  },
  {
   "cell_type": "markdown",
   "metadata": {},
   "source": [
    "$$\n",
    "y(t+\\Delta t) = y(t)+\\Delta t v(t)+O(\\Delta t^2),\n",
    "$$"
   ]
  },
  {
   "cell_type": "markdown",
   "metadata": {},
   "source": [
    "and"
   ]
  },
  {
   "cell_type": "markdown",
   "metadata": {},
   "source": [
    "$$\n",
    "v(t+\\Delta t) = v(t)+\\Delta t a(t)+O(\\Delta t^2).\n",
    "$$"
   ]
  },
  {
   "cell_type": "markdown",
   "metadata": {},
   "source": [
    "## Discretizing our equations\n",
    "\n",
    "Using our discretized versions of the equations with for example\n",
    "$y_{i}=y(t_i)$ and $y_{i\\pm 1}=y(t_i+\\Delta t)$, we can rewrite the\n",
    "above equations as (and truncating at $\\Delta t$)"
   ]
  },
  {
   "cell_type": "markdown",
   "metadata": {},
   "source": [
    "$$\n",
    "y_{i+1} = y_i+\\Delta t v_i,\n",
    "$$"
   ]
  },
  {
   "cell_type": "markdown",
   "metadata": {},
   "source": [
    "and"
   ]
  },
  {
   "cell_type": "markdown",
   "metadata": {},
   "source": [
    "$$\n",
    "v_{i+1} = v_i+\\Delta t a_i.\n",
    "$$"
   ]
  },
  {
   "cell_type": "markdown",
   "metadata": {},
   "source": [
    "These are the famous Euler equations (forward Euler).\n",
    "\n",
    "To solve these equations numerically we start at a time $t_0$ and simply integrate up these equations to a final time $t_f$,\n",
    "The step size $\\Delta t$ is an input  parameter in our code.\n",
    "You can define it directly in the code below as"
   ]
  },
  {
   "cell_type": "code",
   "execution_count": 5,
   "metadata": {
    "collapsed": false
   },
   "outputs": [],
   "source": [
    "DeltaT = 0.1"
   ]
  },
  {
   "cell_type": "markdown",
   "metadata": {},
   "source": [
    "With a given final time **tfinal**  we can then find the number of integration points via the **ceil** function included in the **math** package of Python\n",
    "as"
   ]
  },
  {
   "cell_type": "code",
   "execution_count": 6,
   "metadata": {
    "collapsed": false
   },
   "outputs": [],
   "source": [
    "#define final time, assuming that initial time is zero\n",
    "from math import ceil\n",
    "tfinal = 0.5\n",
    "n = ceil(tfinal/DeltaT)\n",
    "print(n)"
   ]
  },
  {
   "cell_type": "markdown",
   "metadata": {},
   "source": [
    "The **ceil** function returns the smallest integer not less than the input in say"
   ]
  },
  {
   "cell_type": "code",
   "execution_count": 7,
   "metadata": {
    "collapsed": false
   },
   "outputs": [],
   "source": [
    "x = 21.15\n",
    "print(ceil(x))"
   ]
  },
  {
   "cell_type": "markdown",
   "metadata": {},
   "source": [
    "which in the case here is 22."
   ]
  },
  {
   "cell_type": "code",
   "execution_count": 8,
   "metadata": {
    "collapsed": false
   },
   "outputs": [],
   "source": [
    "x = 21.75\n",
    "print(ceil(x))"
   ]
  },
  {
   "cell_type": "markdown",
   "metadata": {},
   "source": [
    "which also yields 22. The  **floor** function in the **math** package\n",
    "is used to return the closest integer value which is less than or equal to the specified expression or value.\n",
    "Compare the previous result to the usage of **floor**"
   ]
  },
  {
   "cell_type": "code",
   "execution_count": 9,
   "metadata": {
    "collapsed": false
   },
   "outputs": [],
   "source": [
    "from math import floor\n",
    "x = 21.75\n",
    "print(floor(x))"
   ]
  },
  {
   "cell_type": "markdown",
   "metadata": {},
   "source": [
    "Alternatively, we can define ourselves the number of integration(mesh) points. In this case we could have"
   ]
  },
  {
   "cell_type": "code",
   "execution_count": 10,
   "metadata": {
    "collapsed": false
   },
   "outputs": [],
   "source": [
    "n = 10\n",
    "tinitial = 0.0\n",
    "tfinal = 0.5\n",
    "DeltaT = (tfinal-tinitial)/(n)\n",
    "print(DeltaT)"
   ]
  },
  {
   "cell_type": "markdown",
   "metadata": {},
   "source": [
    "Since we will set up one-dimensional arrays that contain the values of\n",
    "various variables like time, position, velocity, acceleration etc, we\n",
    "need to know the value of $n$, the number of data points (or\n",
    "integration or mesh points).  With $n$ we can initialize a given array\n",
    "by setting all elelements to zero, as done here"
   ]
  },
  {
   "cell_type": "code",
   "execution_count": 11,
   "metadata": {
    "collapsed": false
   },
   "outputs": [],
   "source": [
    "# define array a\n",
    "a = np.zeros(n)\n",
    "print(a)"
   ]
  },
  {
   "cell_type": "markdown",
   "metadata": {},
   "source": [
    "## Code for implementing Euler's method\n",
    "In the code here we implement this simple Eurler scheme choosing a value for $D=0.0245$ m/s."
   ]
  },
  {
   "cell_type": "code",
   "execution_count": 12,
   "metadata": {
    "collapsed": false
   },
   "outputs": [],
   "source": [
    "# Common imports\n",
    "import numpy as np\n",
    "import pandas as pd\n",
    "from math import *\n",
    "import matplotlib.pyplot as plt\n",
    "import os\n",
    "\n",
    "# Where to save the figures and data files\n",
    "PROJECT_ROOT_DIR = \"Results\"\n",
    "FIGURE_ID = \"Results/FigureFiles\"\n",
    "DATA_ID = \"DataFiles/\"\n",
    "\n",
    "if not os.path.exists(PROJECT_ROOT_DIR):\n",
    "    os.mkdir(PROJECT_ROOT_DIR)\n",
    "\n",
    "if not os.path.exists(FIGURE_ID):\n",
    "    os.makedirs(FIGURE_ID)\n",
    "\n",
    "if not os.path.exists(DATA_ID):\n",
    "    os.makedirs(DATA_ID)\n",
    "\n",
    "def image_path(fig_id):\n",
    "    return os.path.join(FIGURE_ID, fig_id)\n",
    "\n",
    "def data_path(dat_id):\n",
    "    return os.path.join(DATA_ID, dat_id)\n",
    "\n",
    "def save_fig(fig_id):\n",
    "    plt.savefig(image_path(fig_id) + \".png\", format='png')\n",
    "\n",
    "\n",
    "g = 9.80655 #m/s^2\n",
    "D = 0.00245 #m/s\n",
    "DeltaT = 0.1\n",
    "#set up arrays \n",
    "tfinal = 0.5\n",
    "n = ceil(tfinal/DeltaT)\n",
    "# define scaling constant vT\n",
    "vT = sqrt(g/D)\n",
    "# set up arrays for t, a, v, and y and we can compare our results with analytical ones\n",
    "t = np.zeros(n)\n",
    "a = np.zeros(n)\n",
    "v = np.zeros(n)\n",
    "y = np.zeros(n)\n",
    "yanalytic = np.zeros(n)\n",
    "# Initial conditions\n",
    "v[0] = 0.0  #m/s\n",
    "y[0] = 10.0 #m\n",
    "yanalytic[0] = y[0]\n",
    "# Start integrating using Euler's method\n",
    "for i in range(n-1):\n",
    "    # expression for acceleration\n",
    "    a[i] = -g + D*v[i]*v[i]\n",
    "    # update velocity and position\n",
    "    y[i+1] = y[i] + DeltaT*v[i]\n",
    "    v[i+1] = v[i] + DeltaT*a[i]\n",
    "    # update time to next time step and compute analytical answer\n",
    "    t[i+1] = t[i] + DeltaT\n",
    "    yanalytic[i+1] = y[0]-(vT*vT/g)*log(cosh(g*t[i+1]/vT))\n",
    "    if ( y[i+1] < 0.0):\n",
    "        break\n",
    "a[n-1] = -g + D*v[n-1]*v[n-1]\n",
    "data = {'t[s]': t,\n",
    "        'y[m]': y-yanalytic,\n",
    "        'v[m/s]': v,\n",
    "        'a[m/s^2]': a\n",
    "        }\n",
    "NewData = pd.DataFrame(data)\n",
    "display(NewData)\n",
    "#finally we plot the data\n",
    "fig, axs = plt.subplots(3, 1)\n",
    "axs[0].plot(t, y, t, yanalytic)\n",
    "axs[0].set_xlim(0, tfinal)\n",
    "axs[0].set_ylabel('y and exact')\n",
    "axs[1].plot(t, v)\n",
    "axs[1].set_ylabel('v[m/s]')\n",
    "axs[2].plot(t, a)\n",
    "axs[2].set_xlabel('time[s]')\n",
    "axs[2].set_ylabel('a[m/s^2]')\n",
    "fig.tight_layout()\n",
    "save_fig(\"EulerIntegration\")\n",
    "plt.show()"
   ]
  },
  {
   "cell_type": "markdown",
   "metadata": {},
   "source": [
    "Try different values for $\\Delta t$ and study the difference between the exact solution and the numerical solution.\n",
    "\n",
    "## Simple extension, the Euler-Cromer method\n",
    "\n",
    "The Euler-Cromer method is a simple variant of the standard Euler\n",
    "method. We use the newly updated velocity $v_{i+1}$ as an input to the\n",
    "new position, that is, instead of"
   ]
  },
  {
   "cell_type": "markdown",
   "metadata": {},
   "source": [
    "$$\n",
    "y_{i+1} = y_i+\\Delta t v_i,\n",
    "$$"
   ]
  },
  {
   "cell_type": "markdown",
   "metadata": {},
   "source": [
    "and"
   ]
  },
  {
   "cell_type": "markdown",
   "metadata": {},
   "source": [
    "$$\n",
    "v_{i+1} = v_i+\\Delta t a_i,\n",
    "$$"
   ]
  },
  {
   "cell_type": "markdown",
   "metadata": {},
   "source": [
    "we use now the newly calculate for $v_{i+1}$ as input to $y_{i+1}$, that is \n",
    "we compute first"
   ]
  },
  {
   "cell_type": "markdown",
   "metadata": {},
   "source": [
    "$$\n",
    "v_{i+1} = v_i+\\Delta t a_i,\n",
    "$$"
   ]
  },
  {
   "cell_type": "markdown",
   "metadata": {},
   "source": [
    "and then"
   ]
  },
  {
   "cell_type": "markdown",
   "metadata": {},
   "source": [
    "$$\n",
    "y_{i+1} = y_i+\\Delta t v_{i+1},\n",
    "$$"
   ]
  },
  {
   "cell_type": "markdown",
   "metadata": {},
   "source": [
    "Implementing the Euler-Cromer method yields a simple change to the previous code. We only need to change the following line in the loop over time\n",
    "steps"
   ]
  },
  {
   "cell_type": "code",
   "execution_count": 13,
   "metadata": {
    "collapsed": false
   },
   "outputs": [],
   "source": [
    "for i in range(n-1):\n",
    "    # more codes in between here\n",
    "    v[i+1] = v[i] + DeltaT*a[i]\n",
    "    y[i+1] = y[i] + DeltaT*v[i+1]\n",
    "    # more code"
   ]
  }
 ],
 "metadata": {},
 "nbformat": 4,
 "nbformat_minor": 4
}
