{
 "cells": [
  {
   "cell_type": "markdown",
   "metadata": {},
   "source": [
    "<!-- dom:TITLE: Non-inertial Frames, Translation and Rotating Coordinate Systems -->\n",
    "# Non-inertial Frames, Translation and Rotating Coordinate Systems\n",
    "<!-- dom:AUTHOR: [Morten Hjorth-Jensen](http://mhjgit.github.io/info/doc/web/) at Department of Physics and Astronomy and National Superconducting Cyclotron Laboratory, Michigan State University, USA & Department of Physics, University of Oslo, Norway -->\n",
    "<!-- Author: -->  \n",
    "**[Morten Hjorth-Jensen](http://mhjgit.github.io/info/doc/web/)**, Department of Physics and Astronomy and National Superconducting Cyclotron Laboratory, Michigan State University, USA and Department of Physics, University of Oslo, Norway  \n",
    "<!-- dom:AUTHOR: [Scott Pratt](https://pa.msu.edu/profile/pratts/) at Department of Physics and Astronomy and National Superconducting Cyclotron Laboratory, Michigan State University, USA -->\n",
    "<!-- Author: --> **[Scott Pratt](https://pa.msu.edu/profile/pratts/)**, Department of Physics and Astronomy and National Superconducting Cyclotron Laboratory, Michigan State University, USA  \n",
    "<!-- dom:AUTHOR: [Carl Schmidt](https://pa.msu.edu/profile/schmidt/) at Department of Physics and Astronomy, Michigan State University, USA -->\n",
    "<!-- Author: --> **[Carl Schmidt](https://pa.msu.edu/profile/schmidt/)**, Department of Physics and Astronomy, Michigan State University, USA\n",
    "\n",
    "Date: **Apr 8, 2020**\n",
    "\n",
    "Copyright 1999-2020, [Morten Hjorth-Jensen](http://mhjgit.github.io/info/doc/web/). Released under CC Attribution-NonCommercial 4.0 license\n",
    "\n",
    "\n",
    "\n",
    "\n",
    "\n",
    "## Introduction\n",
    "\n",
    "\n",
    "Let us quickly remind ourselves about the definition of a so-called **inertial frame of reference**.\n",
    "An inertial frame of reference in classical physics (and in special\n",
    "relativity as well) possesses the property that in this frame of reference a\n",
    "body with zero net force acting upon it does not accelerate; that is,\n",
    "such a body is at rest or moving at a constant velocity.  If we recall the definition of Newton's first law, this is essentially its description.\n",
    "\n",
    "An\n",
    "inertial frame of reference can be defined in analytical terms as a\n",
    "frame of reference that describes time and space homogeneously,\n",
    "isotropically, and in a time-independent manner.\n",
    "\n",
    "Conceptually, the\n",
    "physics of a system in an inertial frame has no causes external to\n",
    "the system. An inertial frame of reference may also be called an\n",
    "inertial reference frame, inertial frame, Galilean reference frame, or\n",
    "inertial space. \n",
    "\n",
    "All inertial frames are in a state of constant, rectilinear motion\n",
    "with respect to one another; an accelerometer moving with any of them\n",
    "would detect zero acceleration. Measurements in one inertial frame can\n",
    "be converted to measurements in another by a simple transformation\n",
    "(the Galilean transformation in Newtonian physics and the Lorentz\n",
    "transformation in special relativity).\n",
    "In general relativity, in any\n",
    "region small enough for the curvature of spacetime and tidal forces\n",
    "to be negligible, one can find a set of inertial frames that\n",
    "approximately describe that region.\n",
    "\n",
    "In a non-inertial reference frame in classical physics and special\n",
    "relativity, the physics of a system vary depending on the acceleration\n",
    "of that frame with respect to an inertial frame, and the usual\n",
    "physical forces must be supplemented by fictitious forces. In\n",
    "contrast, systems in general relativity don't have external causes,\n",
    "because of the principle of geodesic motion.\n",
    "\n",
    "In classical physics, for example, a ball dropped towards the ground\n",
    "does not go exactly straight down because the Earth is rotating, which\n",
    "means the frame of reference of an observer on Earth is not\n",
    "inertial. The physics must account for the Coriolis effect—in this\n",
    "case thought of as a force—to predict the horizontal motion. Another\n",
    "example of such a fictitious force associated with rotating reference\n",
    "frames is the centrifugal effect, or centrifugal force. We will here,\n",
    "in addition to the abovementioned example of the Coriolis effect study\n",
    "a classic case in classical mechanics, namely Focoault's pendulum.\n",
    "\n",
    "\n",
    "## Galilean Transformations\n",
    "\n",
    "In many of the examples studied till now we have restricted our\n",
    "attention to the motion of a particle (or a system of particles) as\n",
    "seen from an inertial frame of reference. An inertial reference frame\n",
    "moves at constant velocity with respect to other reference frames. We\n",
    "can formalize this relationship as a coordinate transformation (known\n",
    "as a Galilean transformation) between say two given frames, one\n",
    "labeled $S_0$ and the other one labeled $S$. In our discussions here we will refer to the frame $S_0$ as the reference frame. \n",
    "\n",
    "We could consider for example an object in a car, where the car  moves with a\n",
    "constant velocity with respect to the system $S_0$. We then throw this\n",
    "object up in the air and study it's motion with respect to the two chosen frames.\n",
    "We denote the position of this object in the\n",
    "car relative to the car's frame as $\\boldsymbol{r}_S(t)$. We have included an explicit \n",
    "time dependence here. The position of the car relative to the\n",
    "reference frame $S_0$ is $\\boldsymbol{R}(t)$ and the position of the object in\n",
    "the car relative to $S_0$ is $\\boldsymbol{r}_{S_0}(t)$.\n",
    "\n",
    "The following relations between the positions\n",
    "link the various variables that describe the object in the two frames"
   ]
  },
  {
   "cell_type": "markdown",
   "metadata": {},
   "source": [
    "$$\n",
    "\\boldsymbol{r}_{S_0}(t) = \\boldsymbol{r}_{S}(t) + \\boldsymbol{R}(t).\n",
    "$$"
   ]
  },
  {
   "cell_type": "markdown",
   "metadata": {},
   "source": [
    "We will stay with Newtonian mechanics, meaning that we do not consider\n",
    "relatistic effects. This means also that the time we measure in $S_0$\n",
    "is the same as the time we measure in $S$. This approximation is\n",
    "reasonable as long as the two frames do not move very fast relative to\n",
    "each other. \n",
    "\n",
    "We can then compute the time derivatives and obtain the corresponding velocities"
   ]
  },
  {
   "cell_type": "markdown",
   "metadata": {},
   "source": [
    "$$\n",
    "\\dot{\\boldsymbol{r}}_{S_0}(t) = \\boldsymbol{v}_{S_0}=\\dot{\\boldsymbol{r}}_{S} + \\dot{\\boldsymbol{R}},\n",
    "$$"
   ]
  },
  {
   "cell_type": "markdown",
   "metadata": {},
   "source": [
    "or"
   ]
  },
  {
   "cell_type": "markdown",
   "metadata": {},
   "source": [
    "$$\n",
    "\\boldsymbol{v}_{S_0}=\\boldsymbol{v}_{S} + \\boldsymbol{u},\n",
    "$$"
   ]
  },
  {
   "cell_type": "markdown",
   "metadata": {},
   "source": [
    "with $\\boldsymbol{u}=\\dot{\\boldsymbol{R}}$. \n",
    "\n",
    "If our system $S$ moves at constant velocity, we have that the\n",
    "accelerations in the two systems equal each other since\n",
    "$\\ddot{\\boldsymbol{R}}=0$ and we have"
   ]
  },
  {
   "cell_type": "markdown",
   "metadata": {},
   "source": [
    "$$\n",
    "\\boldsymbol{a}_{S_0}=\\boldsymbol{a}_{S}.\n",
    "$$"
   ]
  },
  {
   "cell_type": "markdown",
   "metadata": {},
   "source": [
    "The above equations are examples of what we call a homogeneous\n",
    "Galilean transformation.  In an inertial frame, an object moves with\n",
    "constant velocity (i.e., has zero acceleration) if there are no forces\n",
    "acting on it. When we are not in an inertial frame, there will be\n",
    "spurious (or fictitious) accelerations arising from the acceleration\n",
    "of the reference frame. These effects can be seen in simple every-day\n",
    "situations such as sitting in a vehicle that is accelerating or\n",
    "rounding a corner. Or think of yourself sitting in a seat of an\n",
    "aircraft that accelerates rapidly during takeoff. You feel a force\n",
    "which pushes you back in the seat. Similarly, if you stand in a bus\n",
    "which suddenly brakes (negative acceleration), you feel a force which\n",
    "may make you fall forward unless you hold yourself.  In these\n",
    "situations, loose objects will appear to accelerate relative to the\n",
    "observer or vehicle.\n",
    "\n",
    "\n",
    "Our next step is thus to study an accelerating frame. Thereafter we\n",
    "will study reference frames that are rotating. This will introduce\n",
    "forces like the Coriolis force and the well-known centrifugal\n",
    "force. We will use these to study again an object which falls towards\n",
    "the Earth (the Earth rotates around its axis). This will lead to a\n",
    "correction to the object's acceleration twoards the Earth.\n",
    "\n",
    "Finally, we bring together acceleration and rotation and end the\n",
    "discussion here with a classic in classical mechanics, namely\n",
    "Focault's pendulum.\n",
    "\n",
    "\n",
    "## Accelerating Frames (No Rotation)\n",
    "\n",
    "We consider first the effect of uniformly accelerating reference\n",
    "frames.  We will hereafter label this frame with a subscript\n",
    "$S$. Assume now that this reference systems accelerates with an\n",
    "acceleration $\\boldsymbol{a}_{S_0}$ relative to an inertial reference frame,\n",
    "which we will label with a subscript $S_0$.  The accelerating frame\n",
    "has a velocity $\\boldsymbol{v}_{S_0}$ with respect to the inertial frame.\n",
    "\n",
    "The figure here\n",
    "<!-- dom:FIGURE: [figslides/rotation.png, width=600 frac=0.6]  -->\n",
    "<!-- begin figure -->\n",
    "\n",
    "<p></p>\n",
    "<img src=\"figslides/rotation.png\" width=600>\n",
    "\n",
    "<!-- end figure -->\n",
    "\n",
    "\n",
    "shows the relation between the two\n",
    "frames. The position of an object in frame $S$ relative to $S_0$ is\n",
    "labeled as $\\boldsymbol{r}_{S_0}$. Seen from this inertial frame, an object in\n",
    "the accelerating frame obeys Newton's second law"
   ]
  },
  {
   "cell_type": "markdown",
   "metadata": {},
   "source": [
    "<!-- Equation labels as ordinary links -->\n",
    "<div id=\"_auto1\"></div>\n",
    "\n",
    "$$\n",
    "\\begin{equation}\n",
    "m\\frac{d^2\\boldsymbol{r}_{S_0}}{dt^2}=\\boldsymbol{F}.\n",
    "\\label{_auto1} \\tag{1}\n",
    "\\end{equation}\n",
    "$$"
   ]
  },
  {
   "cell_type": "markdown",
   "metadata": {},
   "source": [
    "Here $\\boldsymbol{F}$ is the net force on an object in the accelerating frame\n",
    "seen from the inertial frame.\n",
    "\n",
    "If we on the other hand wish to study the motion of this object (say a\n",
    "ball in an accelerating car) relative to the accelerating frame, we\n",
    "need to define its position relative to this frame. We label this\n",
    "position as $\\boldsymbol{r}_{S}$.\n",
    "\n",
    "Using the definition of velocity as the time derivative of position\n",
    "and the standard vector addition of velocities, we can define the\n",
    "velocity relative to $S_0$ as"
   ]
  },
  {
   "cell_type": "markdown",
   "metadata": {},
   "source": [
    "$$\n",
    "\\dot{\\boldsymbol{r}}_{S_0}=\\dot{\\boldsymbol{r}}_{S}+\\boldsymbol{v}_{S_0}.\n",
    "$$"
   ]
  },
  {
   "cell_type": "markdown",
   "metadata": {},
   "source": [
    "The left hand side in the last equation defines the object's velocity\n",
    "relative to the inertial frame. The right hand side says this is the\n",
    "object's velocity relative to the accelerating frame plus the velocity\n",
    "of the accelerating frame with respect to the inertial frame. If we\n",
    "now take the second derivative of the above equation,\n",
    "we have the corresponding accelerations"
   ]
  },
  {
   "cell_type": "markdown",
   "metadata": {},
   "source": [
    "$$\n",
    "\\ddot{\\boldsymbol{r}}_{S_0}=\\ddot{\\boldsymbol{r}}_{S}+\\boldsymbol{a}_{S_0}.\n",
    "$$"
   ]
  },
  {
   "cell_type": "markdown",
   "metadata": {},
   "source": [
    "Multiplying with the mass of a given object, we can rewrite Newton's\n",
    "law in the accelerating frame as"
   ]
  },
  {
   "cell_type": "markdown",
   "metadata": {},
   "source": [
    "$$\n",
    "m\\ddot{\\boldsymbol{r}}_{S}=\\boldsymbol{F}-\\boldsymbol{a}_{S_0}.\n",
    "$$"
   ]
  },
  {
   "cell_type": "markdown",
   "metadata": {},
   "source": [
    "We see that we have again Newton's second law except that we added a\n",
    "correction which defines an effective acceleration compared to the\n",
    "equation seen in the inertial frame. We can thus continue to use\n",
    "Newton's law in the accelerating frame provided we correct the\n",
    "equation of motion with what is often called a fictitious force. This\n",
    "often also called an inertial force or an effective force.\n",
    "\n",
    "**Add example about pendulum in train car**\n",
    "\n",
    "## Rotating Frames\n",
    "\n",
    "\n",
    "If you are on Earth's surface and if your reference frame is fixed\n",
    "with the surface, this is an example of an accelerating frame, where\n",
    "the acceleration, as we will show below,  is $\\Omega^2 r$, where\n",
    "$r\\equiv\\sqrt{x^2+y^2}$, and $\\Omega$ is the angular velocity\n",
    "of Earth's rotation. The acceleration is inward toward the axis of\n",
    "rotation, so the additional contribution to the apparent acceleration\n",
    "of gravity is outward in the $x-y$ plane. In contrast the usual\n",
    "acceleration $\\boldsymbol{g}$ is radially inward pointing toward the origin.\n",
    "\n",
    "We will now deal with motion in a rotating fram and relate this to an\n",
    "inertial frame. The outcome of our derivations will be effective\n",
    "forces (or inertial forces) like the abovementioned acceleration (from\n",
    "the centrifugal force) and the Coriolis force term.\n",
    "\n",
    "For a reference frame that rotates with respect to an inertial frame,\n",
    "**Euler's theorem** is central here. It states that the most general\n",
    "displacement (motion) of a rigid body with a one point fixed (we\n",
    "normally approximate a rigid body with a mass center) is a rotation\n",
    "about some fixed axis. In different words, the most general motion of\n",
    "any body relative to a fixed point $O$ is a rotation abotu some axis\n",
    "through the same point $O$. This means that for a specific rotation\n",
    "about a given point $O$ we only to specify the direction of the axis\n",
    "about which the rotation occurs with the corresponding angle of\n",
    "rotation. As we will see below, the direction of the angle of rotation\n",
    "can be specified by a unit vector $\\boldsymbol{e}$ in the rotating frame and\n",
    "the rate of rotation per unit time. The latter defines the angular\n",
    "velocity $\\Omega$. We will define these quantities more rigorously below.\n",
    "At the end of this section we will also prove Euler's theorem.\n",
    "\n",
    "What we will show here is that Newton's laws for an object in the rotating frame is given by"
   ]
  },
  {
   "cell_type": "markdown",
   "metadata": {},
   "source": [
    "$$\n",
    "m\\ddot{\\boldsymbol{r}}_{S}=\\boldsymbol{F}+m\\boldsymbol{r}\\times\\dot{\\boldsymbol{\\Omega}}+2m\\boldsymbol{v}_S\\times\\boldsymbol{\\Omega}+m\\left(\\boldsymbol{\\Omega}\\times\\boldsymbol{r}\\right)\\times\\boldsymbol{\\Omega}.\n",
    "$$"
   ]
  },
  {
   "cell_type": "markdown",
   "metadata": {},
   "source": [
    "The first term to the right is the force we defined in the inertial\n",
    "system, that is $m\\ddot{\\boldsymbol{r}}_{S_0}=\\boldsymbol{F}$. The second term is the\n",
    "angular acceleration of the rotating reference frame, a quantity which\n",
    "in many cases is set to zero since we assume that the angular velocity\n",
    "is constant as function of time. The third terms is the Coriolis force, that\n",
    "is"
   ]
  },
  {
   "cell_type": "markdown",
   "metadata": {},
   "source": [
    "$$\n",
    "\\boldsymbol{F}_{\\mathrm{Coriolis}}=2m\\boldsymbol{v}_S\\times\\boldsymbol{\\Omega},\n",
    "$$"
   ]
  },
  {
   "cell_type": "markdown",
   "metadata": {},
   "source": [
    "while the last term is going to give us the standard centrifugal force"
   ]
  },
  {
   "cell_type": "markdown",
   "metadata": {},
   "source": [
    "$$\n",
    "\\boldsymbol{F}_{\\mathrm{Centrifugal}}=m\\left(\\boldsymbol{\\Omega}\\times\\boldsymbol{r}\\right)\\times\\boldsymbol{\\Omega}.\n",
    "$$"
   ]
  },
  {
   "cell_type": "markdown",
   "metadata": {},
   "source": [
    "Let us derive these terms, following much of the same procedure as we\n",
    "did for an accelerating reference frame. The figure here (to come)\n",
    "shows the two reference systems $S$ and $S_0$.\n",
    "\n",
    "\n",
    "We define a general vector $\\boldsymbol{A}$. It could represent the position,\n",
    "a given force, the velocity and other quantities of interest for\n",
    "studies of the equations of motion.\n",
    "\n",
    "We let this vector to be defined by three orthogonal (we assume motion\n",
    "in three dimensions) unit vectors $\\boldsymbol{e}_i$, that is we have"
   ]
  },
  {
   "cell_type": "markdown",
   "metadata": {},
   "source": [
    "$$\n",
    "\\boldsymbol{A}=A_1\\boldsymbol{e}_1+A_2\\boldsymbol{e}_2+A_3\\boldsymbol{e}_3=\\sum_iA_i\\boldsymbol{e}_i.\n",
    "$$"
   ]
  },
  {
   "cell_type": "markdown",
   "metadata": {},
   "source": [
    "These unit vectors are fixed in the rotating frame, that is their time\n",
    "derivatives are zero. However, for an observer in the inertial frame\n",
    "$S_0$, however these unit vectors are rotating and may thus have an\n",
    "explicit time dependence.\n",
    "\n",
    "Since we want to find an expression for the equations of motion in the\n",
    "inertial frame and the rotating frame, we need expressions for the\n",
    "time derivative of a vector $\\boldsymbol{A}$ in these two frames. Since the\n",
    "unit vectors are assumed to be fixed in $S$, we have"
   ]
  },
  {
   "cell_type": "markdown",
   "metadata": {},
   "source": [
    "$$\n",
    "\\dot{\\boldsymbol{A}}_S=\\sum_i\\frac{dA_i}{dt}\\boldsymbol{e}_i=\\sum_i\\dot{dA_i}\\boldsymbol{e}_i.\n",
    "$$"
   ]
  },
  {
   "cell_type": "markdown",
   "metadata": {},
   "source": [
    "In the inertial frame $S_0$ we have"
   ]
  },
  {
   "cell_type": "markdown",
   "metadata": {},
   "source": [
    "$$\n",
    "\\dot{\\boldsymbol{A}}_{S_0}=\\sum_i\\dot{dA_i}\\boldsymbol{e}_i+\\sum_i A_i\\left(\\dot{\\boldsymbol{e}}_i\\right)_{S_0}.\n",
    "$$"
   ]
  },
  {
   "cell_type": "markdown",
   "metadata": {},
   "source": [
    "We will show below that"
   ]
  },
  {
   "cell_type": "markdown",
   "metadata": {},
   "source": [
    "$$\n",
    "\\left(\\dot{\\boldsymbol{e}}_i\\right)_{S_0}=\\Omega\\times\\boldsymbol{e}_i,\n",
    "$$"
   ]
  },
  {
   "cell_type": "markdown",
   "metadata": {},
   "source": [
    "where $\\Omega$ is the angular velocity (to be derived below).  This\n",
    "means we can write the derivative of an arbitrary vector $\\boldsymbol{A}$ in\n",
    "the inertial frame $S_0$ as (the vector is defined in the rotating\n",
    "frame),"
   ]
  },
  {
   "cell_type": "markdown",
   "metadata": {},
   "source": [
    "$$\n",
    "\\dot{\\boldsymbol{A}}_{S_0}=\\sum_i\\dot{dA_i}\\boldsymbol{e}_i+\\sum_i A_i\\left(\\dot{\\boldsymbol{e}}_i\\right)_{S_0}=\\dot{\\boldsymbol{A}}_S+\\sum_i A_i(\\Omega\\times\\boldsymbol{e}_i)=\\dot{\\boldsymbol{A}}_S+\\boldsymbol{\\Omega}\\times\\boldsymbol{A}.\n",
    "$$"
   ]
  },
  {
   "cell_type": "markdown",
   "metadata": {},
   "source": [
    "This is a very useful relation which relates the derivative of any\n",
    "vector $\\boldsymbol{A}$ measured in the inertial frame $S_0$ to the\n",
    "correspoding derivative in a rotating frame $S$.\n",
    "\n",
    "If we now let $\\boldsymbol{A}$ be the position and the velocity vectors, we\n",
    "can derive the equations of motion in the rotating frame in terms of\n",
    "the same equations of motion in the inertial frame $S_0$.\n",
    "\n",
    "Let us start with the position $\\boldsymbol{r}$. \n",
    "\n",
    "We have"
   ]
  },
  {
   "cell_type": "markdown",
   "metadata": {},
   "source": [
    "$$\n",
    "\\dot{\\boldsymbol{r}}_{S_0}=\\dot{\\boldsymbol{r}}_S+\\boldsymbol{\\Omega}\\times\\boldsymbol{r}.\n",
    "$$"
   ]
  },
  {
   "cell_type": "markdown",
   "metadata": {},
   "source": [
    "If we define the velocities in the two  frames as"
   ]
  },
  {
   "cell_type": "markdown",
   "metadata": {},
   "source": [
    "$$\n",
    "\\boldsymbol{v}_{S_0}=\\dot{\\boldsymbol{r}}_{S_0},\n",
    "$$"
   ]
  },
  {
   "cell_type": "markdown",
   "metadata": {},
   "source": [
    "and"
   ]
  },
  {
   "cell_type": "markdown",
   "metadata": {},
   "source": [
    "$$\n",
    "\\boldsymbol{v}_{S}=\\dot{\\boldsymbol{r}}_{S},\n",
    "$$"
   ]
  },
  {
   "cell_type": "markdown",
   "metadata": {},
   "source": [
    "we have then"
   ]
  },
  {
   "cell_type": "markdown",
   "metadata": {},
   "source": [
    "$$\n",
    "\\dot{\\boldsymbol{r}}_{S_0}=\\boldsymbol{v}_{S_0}=\\boldsymbol{v}_{S}+\\boldsymbol{\\Omega}\\times\\boldsymbol{r}.\n",
    "$$"
   ]
  },
  {
   "cell_type": "markdown",
   "metadata": {},
   "source": [
    "In order to find the equations of motion, we need the acceleration and\n",
    "thereby the time derivative of the last equation. The derivative of\n",
    "the angular velocity $\\Omega$ will turn in handy in these derivations\n",
    "(repeated applications of the chain rule again).\n",
    "The latter derivative is"
   ]
  },
  {
   "cell_type": "markdown",
   "metadata": {},
   "source": [
    "$$\n",
    "\\dot{\\boldsymbol{\\Omega}}_{S_0}=\\dot{\\boldsymbol{\\Omega}}_S+\\boldsymbol{\\Omega}\\times\\boldsymbol{\\Omega},\n",
    "$$"
   ]
  },
  {
   "cell_type": "markdown",
   "metadata": {},
   "source": [
    "which leads to (an expected result, why?)"
   ]
  },
  {
   "cell_type": "markdown",
   "metadata": {},
   "source": [
    "$$\n",
    "\\dot{\\boldsymbol{\\Omega}}_{S_0}=\\dot{\\boldsymbol{\\Omega}}_S,\n",
    "$$"
   ]
  },
  {
   "cell_type": "markdown",
   "metadata": {},
   "source": [
    "since $\\boldsymbol{\\Omega}\\times\\boldsymbol{\\Omega}=0$. \n",
    "\n",
    "Let us now take the second derivative with respect to time.\n",
    "\n",
    "Using"
   ]
  },
  {
   "cell_type": "markdown",
   "metadata": {},
   "source": [
    "$$\n",
    "\\left[\\frac{d^2\\boldsymbol{r}}{dt^2}\\right]_{S_0}=\\ddot{\\boldsymbol{r}}_{S_0}=\\left[\\frac{d}{dt}\\right]_{S_0}\\left[\\frac{d\\boldsymbol{r}}{dt}\\right]_{S_0},\n",
    "$$"
   ]
  },
  {
   "cell_type": "markdown",
   "metadata": {},
   "source": [
    "we have"
   ]
  },
  {
   "cell_type": "markdown",
   "metadata": {},
   "source": [
    "$$\n",
    "\\ddot{\\boldsymbol{r}}_{S_0}=\\left[\\frac{d}{dt}\\right]_{S_0}\\left[\\boldsymbol{v}_{S}+\\boldsymbol{\\Omega}\\times\\boldsymbol{r}\\right]=\\left[\\frac{d}{dt}\\right]_{S_0}\\boldsymbol{v}_{S_0},\n",
    "$$"
   ]
  },
  {
   "cell_type": "markdown",
   "metadata": {},
   "source": [
    "which gives"
   ]
  },
  {
   "cell_type": "markdown",
   "metadata": {},
   "source": [
    "$$\n",
    "\\ddot{\\boldsymbol{r}}_{S_0}=\\left[\\frac{d\\boldsymbol{v}_S}{dt}\\right]_{S}+\\dot{\\boldsymbol{\\Omega}}\\times \\boldsymbol{r}+2\\boldsymbol{\\Omega}\\times\\boldsymbol{v}_S+\\boldsymbol{\\Omega}\\times(\\boldsymbol{\\Omega}\\times\\boldsymbol{r}).\n",
    "$$"
   ]
  },
  {
   "cell_type": "markdown",
   "metadata": {},
   "source": [
    "Defining the accelerations $\\boldsymbol{a}_{S_0}=\\ddot{\\boldsymbol{r}}_{S_0}=\\dot{\\boldsymbol{v}}_{S_0}$ and $\\boldsymbol{a}_{S}=\\dot{\\boldsymbol{v}}_{S}$, we have"
   ]
  },
  {
   "cell_type": "markdown",
   "metadata": {},
   "source": [
    "$$\n",
    "\\boldsymbol{a}_{S_0}=\\boldsymbol{a}_{S}+\\dot{\\boldsymbol{\\Omega}}\\times \\boldsymbol{r}+2\\boldsymbol{\\Omega}\\times\\boldsymbol{v}_S+\\boldsymbol{\\Omega}\\times(\\boldsymbol{\\Omega}\\times\\boldsymbol{r}).\n",
    "$$"
   ]
  },
  {
   "cell_type": "markdown",
   "metadata": {},
   "source": [
    "If we now use Newton's law in the inertial frame $\\boldsymbol{F}=m\\boldsymbol{a}_{S_0}$, we get the effective force in the rotating frame (multiplying by the mass $m$)"
   ]
  },
  {
   "cell_type": "markdown",
   "metadata": {},
   "source": [
    "$$\n",
    "m\\boldsymbol{a}_{S}=\\boldsymbol{F}+m\\dot{\\boldsymbol{r}\\times\\boldsymbol{\\Omega}}+2\\boldsymbol{v}_S\\times\\boldsymbol{\\Omega}+m(\\boldsymbol{\\Omega}\\times\\boldsymbol{r})\\times\\boldsymbol{\\Omega},\n",
    "$$"
   ]
  },
  {
   "cell_type": "markdown",
   "metadata": {},
   "source": [
    "which is what we wanted to demostrate. We have the Coriolis force"
   ]
  },
  {
   "cell_type": "markdown",
   "metadata": {},
   "source": [
    "$$\n",
    "\\boldsymbol{F}_{\\mathrm{Coriolis}}=2m\\boldsymbol{v}_S\\times\\boldsymbol{\\Omega},\n",
    "$$"
   ]
  },
  {
   "cell_type": "markdown",
   "metadata": {},
   "source": [
    "while the last term is the standard centrifugal force"
   ]
  },
  {
   "cell_type": "markdown",
   "metadata": {},
   "source": [
    "$$\n",
    "\\boldsymbol{F}_{\\mathrm{Centrifugal}}=m\\left(\\boldsymbol{\\Omega}\\times\\boldsymbol{r}\\right)\\times\\boldsymbol{\\Omega}.\n",
    "$$"
   ]
  },
  {
   "cell_type": "markdown",
   "metadata": {},
   "source": [
    "In our discussions below we will assume that the angular acceleration of the rotating frame is zero and focus only on the Coriolis force and the centrifugal force.\n",
    "\n",
    "\n",
    "\n",
    "### Effective potential and Centrifugal force\n",
    "\n",
    "Suppose we can ignore the Coriolis force. If we focus only on the\n",
    "centrifugal force we have an additional force"
   ]
  },
  {
   "cell_type": "markdown",
   "metadata": {},
   "source": [
    "$$\n",
    "\\boldsymbol{F}_{\\mathrm{Centrifugal}}=m\\left(\\boldsymbol{\\Omega}\\times\\boldsymbol{r}\\right)\\times\\boldsymbol{\\Omega},\n",
    "$$"
   ]
  },
  {
   "cell_type": "markdown",
   "metadata": {},
   "source": [
    "where the term $\\boldsymbol{\\Omega}\\times\\boldsymbol{r}$ is the radial velocity.\n",
    "If we define a rotating frame which makes an angle $\\theta$ with the inertial frame and define the distance to an object in this frame from the origin as $\\boldsymbol{r}$, then the centrifugal force (which points outward) has as magnitude $\\Omega^2r\\sin{\\theta}$. Defining $\\rho=r\\sin{\\theta}$ and the unit vector $\\hat{\\boldsymbol{\\rho}}$ (see figure here)\n",
    "<!-- dom:FIGURE: [figslides/centrifugal.png, width=600 frac=0.6] -->\n",
    "<!-- begin figure -->\n",
    "\n",
    "<p></p>\n",
    "<img src=\"figslides/centrifugal.png\" width=600>\n",
    "\n",
    "<!-- end figure -->\n",
    "\n",
    "we have the wellknown expression for the centrifugal force"
   ]
  },
  {
   "cell_type": "markdown",
   "metadata": {},
   "source": [
    "$$\n",
    "\\boldsymbol{F}_{\\mathrm{Centrifugal}}=m\\Omega^2\\rho\\hat{\\boldsymbol{\\rho}},\n",
    "$$"
   ]
  },
  {
   "cell_type": "markdown",
   "metadata": {},
   "source": [
    "and with the velocity given by its magnitude $v=\\Omega\\rho$ we obtain the well-known expression for the centrifugal force"
   ]
  },
  {
   "cell_type": "markdown",
   "metadata": {},
   "source": [
    "$$\n",
    "\\boldsymbol{F}_{\\mathrm{Centrifugal}}=m\\frac{v^2}{\\rho}{\\boldsymbol{\\rho}}.\n",
    "$$"
   ]
  },
  {
   "cell_type": "markdown",
   "metadata": {},
   "source": [
    "If we now go back again to our falling object discussed in the\n",
    "beginning of these lectures, we need to modify for the fact that Earth\n",
    "is rotating with respect to the falling object.\n",
    "\n",
    "Seen from a a rotating coordinate system we have now that the forces acting on the falling object are"
   ]
  },
  {
   "cell_type": "markdown",
   "metadata": {},
   "source": [
    "$$\n",
    "m\\ddot{\\boldsymbol{r}}=\\boldsymbol{F}_{\\mathrm{gravity}}+\\boldsymbol{F}_{\\mathrm{Centrifugal}}.\n",
    "$$"
   ]
  },
  {
   "cell_type": "markdown",
   "metadata": {},
   "source": [
    "If we define the mass of Earth as $M$ and its radius as $R$ and assuming that the object is close to the Earth, the gravitational force takes then well-known expression"
   ]
  },
  {
   "cell_type": "markdown",
   "metadata": {},
   "source": [
    "$$\n",
    "\\boldsymbol{F}_{\\mathrm{gravity}}=-\\frac{GMm}{R^2}\\hat{\\boldsymbol{r}}=m\\boldsymbol{g}_0.\n",
    "$$"
   ]
  },
  {
   "cell_type": "markdown",
   "metadata": {},
   "source": [
    "Inserting the expression for the centrifugal force, we can then define an effective force"
   ]
  },
  {
   "cell_type": "markdown",
   "metadata": {},
   "source": [
    "$$\n",
    "\\boldsymbol{F}_{\\mathrm{eff}}=\\boldsymbol{F}_{\\mathrm{gravity}}+\\boldsymbol{F}_{\\mathrm{Centrifugal}}=m\\boldsymbol{g}_0+m\\Omega^2R\\sin{(\\theta)}\\hat{\\boldsymbol{\\rho}},\n",
    "$$"
   ]
  },
  {
   "cell_type": "markdown",
   "metadata": {},
   "source": [
    "and with"
   ]
  },
  {
   "cell_type": "markdown",
   "metadata": {},
   "source": [
    "$$\n",
    "\\boldsymbol{g}_{\\mathrm{eff}}=\\boldsymbol{g}_0+\\Omega^2R\\sin{(\\theta)}\\hat{\\boldsymbol{\\rho}},\n",
    "$$"
   ]
  },
  {
   "cell_type": "markdown",
   "metadata": {},
   "source": [
    "we have"
   ]
  },
  {
   "cell_type": "markdown",
   "metadata": {},
   "source": [
    "$$\n",
    "\\boldsymbol{F}_{\\mathrm{eff}}=m\\boldsymbol{g}_{\\mathrm{eff}}.\n",
    "$$"
   ]
  },
  {
   "cell_type": "markdown",
   "metadata": {},
   "source": [
    "In the rotating coordinate system (not an inertial frame), motion is\n",
    "thus determined by an apparent force and one can define effective\n",
    "potentials. In addition to the normal gravitational potential energy,\n",
    "there is a contribution to the effective potential,"
   ]
  },
  {
   "cell_type": "markdown",
   "metadata": {},
   "source": [
    "<!-- Equation labels as ordinary links -->\n",
    "<div id=\"_auto2\"></div>\n",
    "\n",
    "$$\n",
    "\\begin{equation}\n",
    "\\delta V_{\\rm eff}(r)=-\\frac{m}{2}\\omega^2r_\\perp^2=-\\frac{m}{2}r^2\\omega^2\\sin^2\\theta,\n",
    "\\label{_auto2} \\tag{2}\n",
    "\\end{equation}\n",
    "$$"
   ]
  },
  {
   "cell_type": "markdown",
   "metadata": {},
   "source": [
    "where $\\theta$ is the polar angle, measured from say the north\n",
    "pole. If the true gravitational force can be considered as originating\n",
    "from a point in Earth's center, the net effective potential for a mass\n",
    "$m$ near Earth's surface could be"
   ]
  },
  {
   "cell_type": "markdown",
   "metadata": {},
   "source": [
    "<!-- Equation labels as ordinary links -->\n",
    "<div id=\"_auto3\"></div>\n",
    "\n",
    "$$\n",
    "\\begin{equation}\n",
    "V_{\\rm eff}=mgh-m\\frac{1}{2}\\omega^2(R+h)^2\\sin^2\\theta.\n",
    "\\label{_auto3} \\tag{3}\n",
    "\\end{equation}\n",
    "$$"
   ]
  },
  {
   "cell_type": "markdown",
   "metadata": {},
   "source": [
    "As an example, let us ask ourselves how much wider is Earth at the\n",
    "equator than the north-south distance between the poles assuming that\n",
    "the gravitational field above the surface can be approximated by that\n",
    "of a point mass at Earth's center.\n",
    "\n",
    "\n",
    "The surface of the ocean must be at constant effective potential for a\n",
    "sample mass $m$. This means that if $h$ now refers to the height of\n",
    "the water"
   ]
  },
  {
   "cell_type": "markdown",
   "metadata": {},
   "source": [
    "$$\n",
    "m g[h(\\theta=\\pi/2)-h(\\theta=0)]=\\frac{m}{2}\\omega^2(R+h)^2.\n",
    "$$"
   ]
  },
  {
   "cell_type": "markdown",
   "metadata": {},
   "source": [
    "Because $R>>h$, one can approximate $R+h\\rightarrow R$ on the right-hand side, thus"
   ]
  },
  {
   "cell_type": "markdown",
   "metadata": {},
   "source": [
    "$$\n",
    "h(\\theta=\\pi)-h(\\theta=0)=\\frac{\\omega^2R^2}{2g}.\n",
    "$$"
   ]
  },
  {
   "cell_type": "markdown",
   "metadata": {},
   "source": [
    "This come out a bit less than 11 km, or a difference of near 22 km for\n",
    "the diameter of the Earth in the equatorial plane compared to a\n",
    "diameter between the poles. In reality, the difference is\n",
    "approximately 41 km. The discrepancy comes from the assumption that\n",
    "the true gravitational force can be treated as if it came from a point\n",
    "at Earth's center. This would be true if the distribution of mass was\n",
    "radially symmetric. However, Earth's center is molten and the rotation\n",
    "distorts the mass distribution. Remarkably this effect nearly doubles\n",
    "the elliptic distortion of Earth's shape. Due to this distortion, the\n",
    "top of Mount Everest is not the furthest point from the center of the\n",
    "Earth. That belongs to the top of a volcano, Chimborazo, in Equador,\n",
    "which is one degree in latitude below the Equator. Chimborazo is about\n",
    "8500 ft lower than Everest when measured relative to sea level, but is\n",
    "7700 feet further from the center of the Earth.\n",
    "\n",
    "\n",
    "\n",
    "\n",
    "\n",
    "## Coriolis Force\n",
    "\n",
    "Consider some vector $\\boldsymbol{A}$ according to an observer in a frame\n",
    "rotating about the $z$ axis with angular velocity\n",
    "$\\boldsymbol{\\omega}=\\omega\\hat{z}$. To an observer in the laboratory frame\n",
    "(the primed frame) the vector will change even if the vector appears\n",
    "fixed to the rotating observer. For a rotation of\n",
    "$\\Delta\\theta=\\omega\\Delta t$, the change of the vector due to the\n",
    "rotation is"
   ]
  },
  {
   "cell_type": "markdown",
   "metadata": {},
   "source": [
    "$$\n",
    "\\begin{eqnarray}\n",
    "\\Delta\\boldsymbol{A}'=\\boldsymbol{\\omega}\\times\\boldsymbol{A}\\Delta t.\n",
    "\\end{eqnarray}\n",
    "$$"
   ]
  },
  {
   "cell_type": "markdown",
   "metadata": {},
   "source": [
    "If one includes the fact that $A$, the vector measured in the rotating\n",
    "frame, might be changing as a function of time,"
   ]
  },
  {
   "cell_type": "markdown",
   "metadata": {},
   "source": [
    "$$\n",
    "\\begin{eqnarray}\n",
    "\\Delta\\boldsymbol{A}'&=&\\Delta\\boldsymbol{A}+\\boldsymbol{\\omega}\\times\\boldsymbol{A}\\Delta t,\\\\\n",
    "\\nonumber\n",
    "\\frac{d}{dt}\\boldsymbol{A}'&=&\\frac{d}{dt}\\boldsymbol{A}+\\boldsymbol{\\omega}\\times\\boldsymbol{A}.\n",
    "\\end{eqnarray}\n",
    "$$"
   ]
  },
  {
   "cell_type": "markdown",
   "metadata": {},
   "source": [
    "If the vector happens to be the position $\\boldsymbol{r}$,"
   ]
  },
  {
   "cell_type": "markdown",
   "metadata": {},
   "source": [
    "$$\n",
    "\\begin{eqnarray}\n",
    "\\dot{\\boldsymbol{r}}'&=&\\boldsymbol{v}'=\\boldsymbol{v}+\\boldsymbol{\\omega}\\times\\boldsymbol{r}.\n",
    "\\end{eqnarray}\n",
    "$$"
   ]
  },
  {
   "cell_type": "markdown",
   "metadata": {},
   "source": [
    "Here, the first term on the r.h.s. corresponds to the vector $\\boldsymbol{r}$\n",
    "not being fixed, but changing with time, $\\dot{\\boldsymbol{r}}=\\boldsymbol{v}$. One\n",
    "can now use $\\boldsymbol{v}'=\\boldsymbol{v}+\\boldsymbol{\\omega}\\times\\boldsymbol{r}$ in place of\n",
    "$\\boldsymbol{A}$, and see"
   ]
  },
  {
   "cell_type": "markdown",
   "metadata": {},
   "source": [
    "$$\n",
    "\\begin{eqnarray}\n",
    "\\dot{\\boldsymbol{v}}'&=&\\frac{d}{dt}(\\boldsymbol{v}+\\boldsymbol{\\omega}\\times\\boldsymbol{r})+\\boldsymbol{\\omega}\\times(\\boldsymbol{v}+\\boldsymbol{\\omega}\\times\\boldsymbol{r})\\\\\n",
    "\\nonumber\n",
    "&=&\\dot{\\boldsymbol{v}}+\\boldsymbol{\\omega}\\times\\dot{\\boldsymbol{r}}+\\boldsymbol{\\omega}\\times\\left(\\boldsymbol{v}+\\boldsymbol{\\omega}\\times\\boldsymbol{r}\\right)\\\\\n",
    "\\nonumber\n",
    "&=&\\dot{\\boldsymbol{v}}+2\\boldsymbol{\\omega}\\times\\boldsymbol{v}+\\boldsymbol{\\omega}\\times(\\boldsymbol{\\omega}\\times\\boldsymbol{r}).\n",
    "\\end{eqnarray}\n",
    "$$"
   ]
  },
  {
   "cell_type": "markdown",
   "metadata": {},
   "source": [
    "Because $\\dot{\\boldsymbol{v}}'$ is $\\boldsymbol{F}/m$,"
   ]
  },
  {
   "cell_type": "markdown",
   "metadata": {},
   "source": [
    "<!-- Equation labels as ordinary links -->\n",
    "<div id=\"eq:FmaRotatingFrame\"></div>\n",
    "\n",
    "$$\n",
    "\\begin{eqnarray}\n",
    "\\label{eq:FmaRotatingFrame} \\tag{4}\n",
    "\\boldsymbol{F}&=&m\\left\\{\\boldsymbol{a}+2\\boldsymbol{\\omega}\\times\\boldsymbol{v}+\\boldsymbol{\\omega}\\times(\\boldsymbol{\\omega}\\times\\boldsymbol{r})\\right\\},\\\\\n",
    "\\nonumber\n",
    "m\\boldsymbol{a}&=&\\boldsymbol{F}-2m\\boldsymbol{\\omega}\\times\\boldsymbol{v}-m\\boldsymbol{\\omega}\\times(\\boldsymbol{\\omega}\\times\\boldsymbol{r}).\n",
    "\\end{eqnarray}\n",
    "$$"
   ]
  },
  {
   "cell_type": "markdown",
   "metadata": {},
   "source": [
    "The extra terms on the right behave like additional forces. Like\n",
    "gravitational forces, they are proportional to the mass, so the mass\n",
    "cancels for many problems.\n",
    "\n",
    "The last term, $-m\\boldsymbol{\\omega}\\times(\\boldsymbol{\\omega}\\times\\boldsymbol{r})$,\n",
    "represents the centrifugal force. Using the vector identity,\n",
    "$\\boldsymbol{A}\\times(\\boldsymbol{B}\\times\\boldsymbol{C})=\\boldsymbol{B}(\\boldsymbol{A}\\cdot{\\boldsymbol{C}})-\\boldsymbol{C}(\\boldsymbol{A}\\cdot\\boldsymbol{B})$,"
   ]
  },
  {
   "cell_type": "markdown",
   "metadata": {},
   "source": [
    "<!-- Equation labels as ordinary links -->\n",
    "<div id=\"_auto4\"></div>\n",
    "\n",
    "$$\n",
    "\\begin{equation}\n",
    "-\\boldsymbol{\\omega}\\times(\\boldsymbol{\\omega}\\times\\boldsymbol{r})=\\omega^2\\boldsymbol{r}+(\\omega\\cdot\\boldsymbol{r})\\boldsymbol{\\omega}.\n",
    "\\label{_auto4} \\tag{5}\n",
    "\\end{equation}\n",
    "$$"
   ]
  },
  {
   "cell_type": "markdown",
   "metadata": {},
   "source": [
    "If $\\boldsymbol{\\omega}$ is in the $z$ direction,"
   ]
  },
  {
   "cell_type": "markdown",
   "metadata": {},
   "source": [
    "<!-- Equation labels as ordinary links -->\n",
    "<div id=\"_auto5\"></div>\n",
    "\n",
    "$$\n",
    "\\begin{equation}\n",
    "-\\boldsymbol{\\omega}\\times(\\boldsymbol{\\omega}\\times\\boldsymbol{r})=\\omega^2(x\\hat{x}+y\\hat{y}).\n",
    "\\label{_auto5} \\tag{6}\n",
    "\\end{equation}\n",
    "$$"
   ]
  },
  {
   "cell_type": "markdown",
   "metadata": {},
   "source": [
    "The centrifugal force points outward in the $x-y$ plane, and its\n",
    "magnitude is $m\\omega^2r_{\\rm\\perp}$, where\n",
    "$r_{\\rm\\perp}=\\sqrt{x^2+y^2}$.\n",
    "\n",
    "The second term is Eq. ([4](#eq:FmaRotatingFrame)) represents the\n",
    "Coriolis force. It does not enter problems like the shape of the Earth\n",
    "above because in that case the water was not moving relative to the\n",
    "rotating frame. Once an object is moving in a rotating frame, the\n",
    "particle is no longer being described in a single accelerating frame\n",
    "because at each point the acceleration is $-\\omega^2\\boldsymbol{r}$.\n",
    "\n",
    "### Coriolis and falling Objects\n",
    "\n",
    "A ball is dropped from a height $h=500$m above Minneapolis. Due to the\n",
    "Coriolis force, it is deflected by an amount $\\delta x$ and $\\delta\n",
    "y$. Find the deflection. Ignore the centrifugal terms.\n",
    "\n",
    "The equations of motion are:"
   ]
  },
  {
   "cell_type": "markdown",
   "metadata": {},
   "source": [
    "$$\n",
    "\\begin{eqnarray*}\n",
    "\\frac{dv_x}{dt}&=&-2(\\omega_yv_z-\\omega_zv_y),\\\\\n",
    "\\frac{dv_y}{dt}&=&-2(\\omega_zv_x-\\omega_xv_z),\\\\\n",
    "\\frac{dv_z}{dt}&=&-g-2(\\omega_xv_y-\\omega_yv_x),\\\\\n",
    "\\omega_z&=&\\omega\\cos\\theta,~~~\\omega_y=\\omega\\sin\\theta,~~~\\omega_x=0.\n",
    "\\end{eqnarray*}\n",
    "$$"
   ]
  },
  {
   "cell_type": "markdown",
   "metadata": {},
   "source": [
    "Here the coordinate system is $\\hat{x}$ points east, $\\hat{y}$ points\n",
    "north and $\\hat{z}$ points upward.\n",
    "\n",
    "One can now ignore all the Coriolis terms on the right-hand sides\n",
    "except for those with $v_z$. The other terms will all be doubly\n",
    "small. One can also throw out terms with $\\omega_x$. This gives"
   ]
  },
  {
   "cell_type": "markdown",
   "metadata": {},
   "source": [
    "$$\n",
    "\\begin{eqnarray*}\n",
    "\\frac{dv_x}{dt}&\\approx& -2\\omega v_z\\sin\\theta,\\\\\n",
    "\\frac{dv_y}{dt}&\\approx& 0,\\\\\n",
    "\\frac{dv_z}{dt}&\\approx& -g.\n",
    "\\end{eqnarray*}\n",
    "$$"
   ]
  },
  {
   "cell_type": "markdown",
   "metadata": {},
   "source": [
    "There will be no significant deflection in the $y$ direction, $\\delta\n",
    "y=0$, but in the $x$ direction one can substitute $v_z=-gt$ above,"
   ]
  },
  {
   "cell_type": "markdown",
   "metadata": {},
   "source": [
    "$$\n",
    "\\begin{eqnarray*}\n",
    "v_x&\\approx&\\int_0^t dt'~2\\omega gt'\\sin\\theta=\\omega gt^2\\sin\\theta,\\\\\n",
    "\\delta x&\\approx& \\int_0^t dt'~v_x(t')=\\frac{g\\omega\\sin\\theta t^3}{3}.\n",
    "\\end{eqnarray*}\n",
    "$$"
   ]
  },
  {
   "cell_type": "markdown",
   "metadata": {},
   "source": [
    "One can find the deflections by using $h=\\frac{1}{2}gt^2$, to find the\n",
    "time, and using the all-knowing internet to see that the latitude of\n",
    "Minneapolis is $44.6^\\circ$ or $\\theta=45.4^\\circ$."
   ]
  },
  {
   "cell_type": "markdown",
   "metadata": {},
   "source": [
    "$$\n",
    "\\begin{eqnarray*}\n",
    "t&=&\\sqrt{2h/g}=10.1~{\\rm s},\\\\\n",
    "\\omega&=&\\frac{2\\pi}{3600\\cdot 24~{\\rm s}}=7.27\\times 10^{-5}~{\\rm s}^{-1},\\\\\n",
    "\\delta x&=&17.4~{\\rm cm}~~{\\rm(east)}.\n",
    "\\end{eqnarray*}\n",
    "$$"
   ]
  },
  {
   "cell_type": "markdown",
   "metadata": {},
   "source": [
    "## Accelerating and Rotating Frames\n",
    "\n",
    "We can now bring together an accelerating frame with a rotational frame.\n",
    "\n",
    "### The Foucault Pendulum\n",
    "\n",
    "The Foucault Pendulum is simply a regular pendulum moving in both\n",
    "horizontal directions, and with the Coriolis force included. In this\n",
    "case,"
   ]
  },
  {
   "cell_type": "markdown",
   "metadata": {},
   "source": [
    "$$\n",
    "\\begin{eqnarray*}\n",
    "m\\ddot{\\boldsymbol{r}}&=&\\boldsymbol{T}+m\\boldsymbol{g}-2m\\boldsymbol{\\Omega}\\times\\boldsymbol{v},\n",
    "\\end{eqnarray*}\n",
    "$$"
   ]
  },
  {
   "cell_type": "markdown",
   "metadata": {},
   "source": [
    "as the centrifugal force term is absorbed into the definition of\n",
    "$\\boldsymbol{g}$. The magnitude of the tension, $\\boldsymbol{T}$, is considered\n",
    "constant because we consider only small oscillations. Then $T\\approx\n",
    "mg$, and the components, using $\\hat{x},\\hat{y}$ to correspond to east\n",
    "and north respectively, are"
   ]
  },
  {
   "cell_type": "markdown",
   "metadata": {},
   "source": [
    "$$\n",
    "\\begin{eqnarray*}\n",
    "T_x=-mgx/L,~~~T_y=-mgy/L. \n",
    "\\end{eqnarray*}\n",
    "$$"
   ]
  },
  {
   "cell_type": "markdown",
   "metadata": {},
   "source": [
    "If $\\Omega$ is the rotation of the earth, and if $\\theta$ is the polar angle, $\\pi-$lattitude,"
   ]
  },
  {
   "cell_type": "markdown",
   "metadata": {},
   "source": [
    "$$\n",
    "\\begin{eqnarray*}\n",
    "\\ddot{x}&=&-gx/L+2\\dot{y}\\Omega_z,\\\\\n",
    "\\ddot{y}&=&-gy/L-2\\dot{x}\\Omega_z.\n",
    "\\end{eqnarray*}\n",
    "$$"
   ]
  },
  {
   "cell_type": "markdown",
   "metadata": {},
   "source": [
    "Here we have used the fact that the oscillations are sufficiently\n",
    "small so we can ignore $v_z$. Using $\\omega_0\\equiv\\sqrt{k/m}$,"
   ]
  },
  {
   "cell_type": "markdown",
   "metadata": {},
   "source": [
    "$$\n",
    "\\begin{eqnarray*}\n",
    "\\ddot{x}-2\\Omega_z\\dot{y}+\\omega_0^2x&=&0\\\\\n",
    "\\ddot{y}+2\\Omega_z\\dot{x}+\\omega_0^2y&=&0,\n",
    "\\end{eqnarray*}\n",
    "$$"
   ]
  },
  {
   "cell_type": "markdown",
   "metadata": {},
   "source": [
    "where $\\Omega_z=|\\boldsymbol{\\Omega}|\\cos\\theta$, with $\\theta$ being the\n",
    "polar angle (zero at the north pole). The terms linear in time\n",
    "derivatives are what make life difficult. This will be solved with a\n",
    "trick. We will incorporate both differential equations into a single\n",
    "complex equation where the first/second are the real/imaginary parts."
   ]
  },
  {
   "cell_type": "markdown",
   "metadata": {},
   "source": [
    "$$\n",
    "\\begin{eqnarray*}\n",
    "\\eta\\equiv x+iy,\\\\\n",
    "\\ddot{\\eta}+2i\\Omega_z\\dot{\\eta}+\\omega_0^2\\eta&=&0. \n",
    "\\end{eqnarray*}\n",
    "$$"
   ]
  },
  {
   "cell_type": "markdown",
   "metadata": {},
   "source": [
    "Now, we guess at a form for the solutions, $\\eta(t)=e^{-i\\alpha t}$,\n",
    "which turns the differential equation into"
   ]
  },
  {
   "cell_type": "markdown",
   "metadata": {},
   "source": [
    "$$\n",
    "\\begin{eqnarray*}\n",
    "-\\alpha^2+2\\Omega_z\\alpha+\\omega_0^2&=&0,\\\\\n",
    "\\alpha&=&\\Omega_z\\pm \\sqrt{\\Omega_z^2+\\omega_0^2},\\\\\n",
    "&\\approx&\\Omega_z\\pm \\omega_0.\n",
    "\\end{eqnarray*}\n",
    "$$"
   ]
  },
  {
   "cell_type": "markdown",
   "metadata": {},
   "source": [
    "The solution with two arbitrary constants is then"
   ]
  },
  {
   "cell_type": "markdown",
   "metadata": {},
   "source": [
    "$$\n",
    "\\begin{eqnarray*}\n",
    "\\eta&=&e^{-i\\Omega_zt}\\left[C_1e^{i\\omega_0t}+C_2e^{-i\\omega_0t}\\right].\n",
    "\\end{eqnarray*}\n",
    "$$"
   ]
  },
  {
   "cell_type": "markdown",
   "metadata": {},
   "source": [
    "Here, $C_1$ and $C_2$ are complex, so they actually represent four\n",
    "arbitrary numbers. These four numbers should be fixed by the four\n",
    "initial conditions, i.e. $x(t=0), \\dot{x}(t=0), y(t=0)$ and\n",
    "$\\dot{y}(t=0)$. With some lengthy algebra, one can rewrite the\n",
    "expression as"
   ]
  },
  {
   "cell_type": "markdown",
   "metadata": {},
   "source": [
    "<!-- Equation labels as ordinary links -->\n",
    "<div id=\"eq:precmess\"></div>\n",
    "\n",
    "$$\n",
    "\\begin{eqnarray*}\n",
    "\\label{eq:precmess} \\tag{7}\n",
    "\\eta&=&e^{-i\\Omega_zt}\\left[A\\cos(\\omega_0t+\\phi_A)+iB\\cos(\\omega_0t+\\phi_B)\\right].\n",
    "\\end{eqnarray*}\n",
    "$$"
   ]
  },
  {
   "cell_type": "markdown",
   "metadata": {},
   "source": [
    "Here, the four coefficients are represented by the two real arbitrary\n",
    "real amplitudes, $A$ and $B$, and two arbitrary phases, $\\phi_A$ and\n",
    "$\\phi_B$. For an initial condition where $y=0$ at $t=0$, one can see\n",
    "that $B=0$. This then gives"
   ]
  },
  {
   "cell_type": "markdown",
   "metadata": {},
   "source": [
    "$$\n",
    "\\begin{eqnarray*}\n",
    "\\eta(t)&=&Ae^{-i\\Omega_zt}\\cos(\\omega_0t+\\gamma)\\\\\n",
    "\\nonumber\n",
    "&=&A\\cos\\Omega_zt\\cos(\\omega_0t+\\gamma)+iA\\sin\\Omega_zt\\cos(\\omega_0t+\\gamma).\n",
    "\\end{eqnarray*}\n",
    "$$"
   ]
  },
  {
   "cell_type": "markdown",
   "metadata": {},
   "source": [
    "Translating into $x$ and $y$,"
   ]
  },
  {
   "cell_type": "markdown",
   "metadata": {},
   "source": [
    "$$\n",
    "\\begin{eqnarray}\n",
    "x&=&A\\cos\\Omega_zt\\cos(\\omega_0t+\\gamma),\\\\\n",
    "\\nonumber\n",
    "y&=&A\\sin\\Omega_zt\\cos(\\omega_0t+\\gamma).\n",
    "\\end{eqnarray}\n",
    "$$"
   ]
  },
  {
   "cell_type": "markdown",
   "metadata": {},
   "source": [
    "Assuming the pendulum's frequency is much higher than Earth's\n",
    "rotational frequency, $\\omega_0>>\\Omega_z$, one can see that the plane\n",
    "of the pendulum simply precesses with angular velocity\n",
    "$\\Omega_z$. This means that in this limit the pendulum oscillates only\n",
    "in the $x$-direction with frequency many times before the phase\n",
    "$\\Omega_zt$ becomes noticeable. Eventually, when $\\Omega_zt=\\pi/2$,\n",
    "the motion is along the $y$-direction. If you were at the north pole,\n",
    "the motion would switch from the $x$-direction to the $y$ direction\n",
    "every 6 hours. Away from the north pole, $\\Omega_z\\ne|\\boldsymbol{\\Omega}|$\n",
    "and the precession frequency is less.  At the equator it does not\n",
    "precess at all. If one were to repeat for the solutions where $A=0$\n",
    "and $B\\ne 0$ in Eq. ([7](#eq:precmess)), one would look at motions\n",
    "that started in the $y$-direction, then precessed toward the $-x$\n",
    "direction. Linear combinations of the two sets of solutions give\n",
    "pendulum motions that resemble ellipses rather than simple\n",
    "back-and-forth motion."
   ]
  }
 ],
 "metadata": {},
 "nbformat": 4,
 "nbformat_minor": 2
}
