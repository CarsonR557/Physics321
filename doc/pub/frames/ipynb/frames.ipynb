{
 "cells": [
  {
   "cell_type": "markdown",
   "metadata": {},
   "source": [
    "<!-- dom:TITLE: Rotating Coordinate Systems -->\n",
    "# Rotating Coordinate Systems\n",
    "<!-- dom:AUTHOR: [Morten Hjorth-Jensen](http://mhjgit.github.io/info/doc/web/) at Department of Physics and Astronomy and National Superconducting Cyclotron Laboratory, Michigan State University, USA & Department of Physics, University of Oslo, Norway -->\n",
    "<!-- Author: -->  \n",
    "**[Morten Hjorth-Jensen](http://mhjgit.github.io/info/doc/web/)**, Department of Physics and Astronomy and National Superconducting Cyclotron Laboratory, Michigan State University, USA and Department of Physics, University of Oslo, Norway  \n",
    "<!-- dom:AUTHOR: [Scott Pratt](https://pa.msu.edu/profile/pratts/) at Department of Physics and Astronomy and National Superconducting Cyclotron Laboratory, Michigan State University, USA -->\n",
    "<!-- Author: --> **[Scott Pratt](https://pa.msu.edu/profile/pratts/)**, Department of Physics and Astronomy and National Superconducting Cyclotron Laboratory, Michigan State University, USA  \n",
    "<!-- dom:AUTHOR: [Carl Schmidt](https://pa.msu.edu/profile/schmidt/) at Department of Physics and Astronomy, Michigan State University, USA -->\n",
    "<!-- Author: --> **[Carl Schmidt](https://pa.msu.edu/profile/schmidt/)**, Department of Physics and Astronomy, Michigan State University, USA\n",
    "\n",
    "Date: **Mar 24, 2020**\n",
    "\n",
    "Copyright 1999-2020, [Morten Hjorth-Jensen](http://mhjgit.github.io/info/doc/web/). Released under CC Attribution-NonCommercial 4.0 license\n",
    "\n",
    "\n",
    "\n",
    "\n",
    "\n",
    "## Accelerating Frames\n",
    "\n",
    "Here we again consider the effect of uniformly accelerating reference\n",
    "frames. If a particle is observed in an inertial reference frame,\n",
    "which we will denote with a prime, Newton's third law applies"
   ]
  },
  {
   "cell_type": "markdown",
   "metadata": {},
   "source": [
    "<!-- Equation labels as ordinary links -->\n",
    "<div id=\"_auto1\"></div>\n",
    "\n",
    "$$\n",
    "\\begin{equation}\n",
    "m\\frac{d^2\\boldsymbol{r}'}{dt^2}=\\boldsymbol{F}.\n",
    "\\label{_auto1} \\tag{1}\n",
    "\\end{equation}\n",
    "$$"
   ]
  },
  {
   "cell_type": "markdown",
   "metadata": {},
   "source": [
    "Now, if we have a second coordinate system,"
   ]
  },
  {
   "cell_type": "markdown",
   "metadata": {},
   "source": [
    "<!-- Equation labels as ordinary links -->\n",
    "<div id=\"_auto2\"></div>\n",
    "\n",
    "$$\n",
    "\\begin{equation}\n",
    "\\boldsymbol{r}=\\boldsymbol{r}'-\\boldsymbol{r}_0,~~~~\\boldsymbol{r_0}=\\frac{1}{2}\\boldsymbol{a}_0t^2.\n",
    "\\label{_auto2} \\tag{2}\n",
    "\\end{equation}\n",
    "$$"
   ]
  },
  {
   "cell_type": "markdown",
   "metadata": {},
   "source": [
    "We would see that"
   ]
  },
  {
   "cell_type": "markdown",
   "metadata": {},
   "source": [
    "<!-- Equation labels as ordinary links -->\n",
    "<div id=\"_auto3\"></div>\n",
    "\n",
    "$$\n",
    "\\begin{equation}\n",
    "m\\frac{d^2\\boldsymbol{r}}{dt^2}=\\boldsymbol{F}-m\\boldsymbol{a}_0.\n",
    "\\label{_auto3} \\tag{3}\n",
    "\\end{equation}\n",
    "$$"
   ]
  },
  {
   "cell_type": "markdown",
   "metadata": {},
   "source": [
    "Here $\\boldsymbol{a}_0$ is the acceleration of the coordinate system. The\n",
    "last term acts like an additional apparent force. In fact, it acts\n",
    "like a contribution to the gravitational force which alters the\n",
    "acceleration of gravity by $\\delta\\boldsymbol{g}=-\\boldsymbol{a}_0$.\n",
    "\n",
    "## Rotating Frames\n",
    "\n",
    "If you are on Earth's surface and if your reference frame is fixed\n",
    "with the surface, this is an example of an accelerating frame, where\n",
    "the acceleration is $\\omega^2 r_{\\perp}$, where\n",
    "$r_{\\perp}\\equiv\\sqrt{x^2+y^2}$, and $\\omega$ is the angular velocity\n",
    "of Earth's rotation. The acceleration is inward toward the axis of\n",
    "rotation, so the additional contribution to the apparent acceleration\n",
    "of gravity is outward in the $x-y$ plane. In contrast the usual\n",
    "$\\boldsymbol{g}$ is radially inward pointing toward the origin.\n",
    "\n",
    "In the rotating coordinate system (not an inertial frame), motion is\n",
    "determined by the apparent force and one can define effective\n",
    "potentials. In addition to the normal gravitational potential energy,\n",
    "there is a contribution to the effective potential,"
   ]
  },
  {
   "cell_type": "markdown",
   "metadata": {},
   "source": [
    "<!-- Equation labels as ordinary links -->\n",
    "<div id=\"_auto4\"></div>\n",
    "\n",
    "$$\n",
    "\\begin{equation}\n",
    "\\delta U_{\\rm eff}=-\\frac{m}{2}\\omega^2r_\\perp^2=-\\frac{m}{2}r^2\\omega^2\\sin^2\\theta,\n",
    "\\label{_auto4} \\tag{4}\n",
    "\\end{equation}\n",
    "$$"
   ]
  },
  {
   "cell_type": "markdown",
   "metadata": {},
   "source": [
    "where $\\theta$ is the polar angle, measured from the north pole. If the true gravitational force can be considered as originating from a point in Earth's center, the net effective potential for a mass $m$ near Earth's surface could be"
   ]
  },
  {
   "cell_type": "markdown",
   "metadata": {},
   "source": [
    "<!-- Equation labels as ordinary links -->\n",
    "<div id=\"_auto5\"></div>\n",
    "\n",
    "$$\n",
    "\\begin{equation}\n",
    "U_{\\rm eff}=mgh-m\\frac{1}{2}\\omega^2(R+h)^2\\sin^2\\theta.\n",
    "\\label{_auto5} \\tag{5}\n",
    "\\end{equation}\n",
    "$$"
   ]
  },
  {
   "cell_type": "markdown",
   "metadata": {},
   "source": [
    "As an example, let us ask ourselves how much wider is Earth at the\n",
    "equator than the north-south distance between the poles assuming that\n",
    "the gravitational field above the surface can be approximated by that\n",
    "of a point mass at Earth's center.\n",
    "\n",
    "\n",
    "The surface of the ocean must be at constant effective potential for a\n",
    "sample mass $m$. This means that if $h$ now refers to the height of\n",
    "the water"
   ]
  },
  {
   "cell_type": "markdown",
   "metadata": {},
   "source": [
    "$$\n",
    "m g[h(\\theta=\\pi/2)-h(\\theta=0)]=\\frac{m}{2}\\omega^2(R+h)^2.\n",
    "$$"
   ]
  },
  {
   "cell_type": "markdown",
   "metadata": {},
   "source": [
    "Because $R>>h$, one can approximate $R+h\\rightarrow R$ on the right-hand side, thus"
   ]
  },
  {
   "cell_type": "markdown",
   "metadata": {},
   "source": [
    "$$\n",
    "h(\\theta=\\pi)-h(\\theta=0)=\\frac{\\omega^2R^2}{2g}.\n",
    "$$"
   ]
  },
  {
   "cell_type": "markdown",
   "metadata": {},
   "source": [
    "This come out a bit less than 11 km, or a difference of near 22 km for\n",
    "the diameter of the Earth in the equatorial plane compared to a\n",
    "diameter between the poles. In reality, the difference is\n",
    "approximately 41 km. The discrepancy comes from the assumption that\n",
    "the true gravitational force can be treated as if it came from a point\n",
    "at Earth's center. This would be true if the distribution of mass was\n",
    "radially symmetric. However, Earth's center is molten and the rotation\n",
    "distorts the mass distribution. Remarkably this effect nearly doubles\n",
    "the elliptic distortion of Earth's shape. Due to this distortion, the\n",
    "top of Mount Everest is not the furthest point from the center of the\n",
    "Earth. That belongs to the top of a volcano, Chimborazo, in Equador,\n",
    "which is one degree in latitude below the Equator. Chimborazo is about\n",
    "8500 ft lower than Everest when measured relative to sea level, but is\n",
    "7700 feet further from the center of the Earth.\n",
    "\n",
    "## Coriolis Force\n",
    "\n",
    "Consider some vector $\\boldsymbol{A}$ according to an observer in a frame\n",
    "rotating about the $z$ axis with angular velocity\n",
    "$\\boldsymbol{\\omega}=\\omega\\hat{z}$. To an observer in the laboratory frame\n",
    "(the primed frame) the vector will change even if the vector appears\n",
    "fixed to the rotating observer. For a rotation of\n",
    "$\\Delta\\theta=\\omega\\Delta t$, the change of the vector due to the\n",
    "rotation is"
   ]
  },
  {
   "cell_type": "markdown",
   "metadata": {},
   "source": [
    "$$\n",
    "\\begin{eqnarray}\n",
    "\\Delta\\boldsymbol{A}'=\\boldsymbol{\\omega}\\times\\boldsymbol{A}\\Delta t.\n",
    "\\end{eqnarray}\n",
    "$$"
   ]
  },
  {
   "cell_type": "markdown",
   "metadata": {},
   "source": [
    "If one includes the fact that $A$, the vector measured in the rotating\n",
    "frame, might be changing as a function of time,"
   ]
  },
  {
   "cell_type": "markdown",
   "metadata": {},
   "source": [
    "<!-- Equation labels as ordinary links -->\n",
    "<div id=\"eq:dAdtrot\"></div>\n",
    "\n",
    "$$\n",
    "\\begin{eqnarray}\n",
    "\\label{eq:dAdtrot} \\tag{6}\n",
    "\\Delta\\boldsymbol{A}'&=&\\Delta\\boldsymbol{A}+\\boldsymbol{\\omega}\\times\\boldsymbol{A}\\Delta t,\\\\\n",
    "\\nonumber\n",
    "\\frac{d}{dt}\\boldsymbol{A}'&=&\\frac{d}{dt}\\boldsymbol{A}+\\boldsymbol{\\omega}\\times\\boldsymbol{A}.\n",
    "\\end{eqnarray}\n",
    "$$"
   ]
  },
  {
   "cell_type": "markdown",
   "metadata": {},
   "source": [
    "If the vector happens to be the position $\\boldsymbol{r}$,"
   ]
  },
  {
   "cell_type": "markdown",
   "metadata": {},
   "source": [
    "$$\n",
    "\\begin{eqnarray}\n",
    "\\dot{\\boldsymbol{r}}'&=&\\boldsymbol{v}'=\\boldsymbol{v}+\\boldsymbol{\\omega}\\times\\boldsymbol{r}.\n",
    "\\end{eqnarray}\n",
    "$$"
   ]
  },
  {
   "cell_type": "markdown",
   "metadata": {},
   "source": [
    "Here, the first term on the r.h.s. corresponds to the vector $\\boldsymbol{r}$\n",
    "not being fixed, but changing with time, $\\dot{\\boldsymbol{r}}=\\boldsymbol{v}$. One\n",
    "can now use $\\boldsymbol{v}'=\\boldsymbol{v}+\\boldsymbol{\\omega}\\times\\boldsymbol{r}$ in place of\n",
    "$\\boldsymbol{A}$ in Eq. ([6](#eq:dAdtrot)), and see"
   ]
  },
  {
   "cell_type": "markdown",
   "metadata": {},
   "source": [
    "$$\n",
    "\\begin{eqnarray}\n",
    "\\dot{\\boldsymbol{v}}'&=&\\frac{d}{dt}(\\boldsymbol{v}+\\boldsymbol{\\omega}\\times\\boldsymbol{r})+\\boldsymbol{\\omega}\\times(\\boldsymbol{v}+\\boldsymbol{\\omega}\\times\\boldsymbol{r})\\\\\n",
    "\\nonumber\n",
    "&=&\\dot{\\boldsymbol{v}}+\\boldsymbol{\\omega}\\times\\dot\\boldsymbol{r}+\\boldsymbol{\\omega}\\times\\left(\\boldsymbol{v}+\\boldsymbol{\\omega}\\times\\boldsymbol{r}\\right)\\\\\n",
    "\\nonumber\n",
    "&=&\\dot{\\boldsymbol{v}}+2\\boldsymbol{\\omega}\\times\\boldsymbol{v}+\\boldsymbol{\\omega}\\times(\\boldsymbol{\\omega}\\times\\boldsymbol{r}).\n",
    "\\end{eqnarray}\n",
    "$$"
   ]
  },
  {
   "cell_type": "markdown",
   "metadata": {},
   "source": [
    "Because $\\dot{\\boldsymbol{v}}'$ is $\\boldsymbol{F}/m$,"
   ]
  },
  {
   "cell_type": "markdown",
   "metadata": {},
   "source": [
    "<!-- Equation labels as ordinary links -->\n",
    "<div id=\"eq:FmaRotatingFrame\"></div>\n",
    "\n",
    "$$\n",
    "\\begin{eqnarray}\n",
    "\\label{eq:FmaRotatingFrame} \\tag{7}\n",
    "\\boldsymbol{F}&=&m\\left\\{\\boldsymbol{a}+2\\boldsymbol{\\omega}\\times\\boldsymbol{v}+\\boldsymbol{\\omega}\\times(\\boldsymbol{\\omega}\\times\\boldsymbol{r})\\right\\},\\\\\n",
    "\\nonumber\n",
    "m\\boldsymbol{a}&=&\\boldsymbol{F}-2m\\boldsymbol{\\omega}\\times\\boldsymbol{v}-m\\boldsymbol{\\omega}\\times(\\boldsymbol{\\omega}\\times\\boldsymbol{r}).\n",
    "\\end{eqnarray}\n",
    "$$"
   ]
  },
  {
   "cell_type": "markdown",
   "metadata": {},
   "source": [
    "The extra terms on the right behave like additional forces. Like\n",
    "gravitational forces, they are proportional to the mass, so the mass\n",
    "cancels for many problems.\n",
    "\n",
    "The last term, $-m\\boldsymbol{\\omega}\\times(\\boldsymbol{\\omega}\\times\\boldsymbol{r})$,\n",
    "represents the centrifugal force. Using the vector identity,\n",
    "$\\boldsymbol{A}\\times(\\boldsymbol{B}\\times\\boldsymbol{C})=\\boldsymbol{B}(\\boldsymbol{A}\\cdot{\\boldsymbol{C}})-\\boldsymbol{C}(\\boldsymbol{A}\\cdot\\boldsymbol{B})$,"
   ]
  },
  {
   "cell_type": "markdown",
   "metadata": {},
   "source": [
    "<!-- Equation labels as ordinary links -->\n",
    "<div id=\"_auto6\"></div>\n",
    "\n",
    "$$\n",
    "\\begin{equation}\n",
    "-\\boldsymbol{\\omega}\\times(\\boldsymbol{\\omega}\\times\\boldsymbol{r})=\\omega^2\\boldsymbol{r}+(\\omega\\cdot\\boldsymbol{r})\\boldsymbol{\\omega}.\n",
    "\\label{_auto6} \\tag{8}\n",
    "\\end{equation}\n",
    "$$"
   ]
  },
  {
   "cell_type": "markdown",
   "metadata": {},
   "source": [
    "If $\\boldsymbol{\\omega}$ is in the $z$ direction,"
   ]
  },
  {
   "cell_type": "markdown",
   "metadata": {},
   "source": [
    "<!-- Equation labels as ordinary links -->\n",
    "<div id=\"_auto7\"></div>\n",
    "\n",
    "$$\n",
    "\\begin{equation}\n",
    "-\\boldsymbol{\\omega}\\times(\\boldsymbol{\\omega}\\times\\boldsymbol{r})=\\omega^2(x\\hat{x}+y\\hat{y}).\n",
    "\\label{_auto7} \\tag{9}\n",
    "\\end{equation}\n",
    "$$"
   ]
  },
  {
   "cell_type": "markdown",
   "metadata": {},
   "source": [
    "The centrifugal force points outward in the $x-y$ plane, and its\n",
    "magnitude is $m\\omega^2r_{\\rm\\perp}$, where\n",
    "$r_{\\rm\\perp}=\\sqrt{x^2+y^2}$.\n",
    "\n",
    "The second term is Eq. ([7](#eq:FmaRotatingFrame)) represents the\n",
    "Coriolis force. It does not enter problems like the shape of the Earth\n",
    "above because in that case the water was not moving relative to the\n",
    "rotating frame. Once an object is moving in a rotating frame, the\n",
    "particle is no longer being described in a single accelerating frame\n",
    "because at each point the acceleration is $-\\omega^2\\boldsymbol{r}$.\n",
    "\n",
    "### Coriolis and falling Objects\n",
    "\n",
    "A ball is dropped from a height $h=500$m above Minneapolis. Due to the\n",
    "Coriolis force, it is deflected by an amount $\\delta x$ and $\\delta\n",
    "y$. Find the deflection. Ignore the centrifugal terms.\n",
    "\n",
    "The equations of motion are:"
   ]
  },
  {
   "cell_type": "markdown",
   "metadata": {},
   "source": [
    "$$\n",
    "\\begin{eqnarray*}\n",
    "\\frac{dv_x}{dt}&=&-2(\\omega_yv_z-\\omega_zv_y),\\\\\n",
    "\\frac{dv_y}{dt}&=&-2(\\omega_zv_x-\\omega_xv_z),\\\\\n",
    "\\frac{dv_z}{dt}&=&-g-2(\\omega_xv_y-\\omega_yv_x),\\\\\n",
    "\\omega_z&=&\\omega\\cos\\theta,~~~\\omega_y=\\omega\\sin\\theta,~~~\\omega_x=0.\n",
    "\\end{eqnarray*}\n",
    "$$"
   ]
  },
  {
   "cell_type": "markdown",
   "metadata": {},
   "source": [
    "Here the coordinate system is $\\hat{x}$ points east, $\\hat{y}$ points\n",
    "north and $\\hat{z}$ points upward.\n",
    "\n",
    "One can now ignore all the Coriolis terms on the right-hand sides\n",
    "except for those with $v_z$. The other terms will all be doubly\n",
    "small. One can also throw out terms with $\\omega_x$. This gives"
   ]
  },
  {
   "cell_type": "markdown",
   "metadata": {},
   "source": [
    "$$\n",
    "\\begin{eqnarray*}\n",
    "\\frac{dv_x}{dt}&\\approx& -2\\omega v_z\\sin\\theta,\\\\\n",
    "\\frac{dv_y}{dt}&\\approx& 0,\\\\\n",
    "\\frac{dv_z}{dt}&\\approx& -g.\n",
    "\\end{eqnarray*}\n",
    "$$"
   ]
  },
  {
   "cell_type": "markdown",
   "metadata": {},
   "source": [
    "There will be no significant deflection in the $y$ direction, $\\delta\n",
    "y=0$, but in the $x$ direction one can substitute $v_z=-gt$ above,"
   ]
  },
  {
   "cell_type": "markdown",
   "metadata": {},
   "source": [
    "$$\n",
    "\\begin{eqnarray*}\n",
    "v_x&\\approx&\\int_0^t dt'~2\\omega gt'\\sin\\theta=\\omega gt^2\\sin\\theta,\\\\\n",
    "\\delta x&\\approx& \\int_0^t dt'~v_x(t')=\\frac{g\\omega\\sin\\theta t^3}{3}.\n",
    "\\end{eqnarray*}\n",
    "$$"
   ]
  },
  {
   "cell_type": "markdown",
   "metadata": {},
   "source": [
    "One can find the deflections by using $h=\\frac{1}{2}gt^2$, to find the\n",
    "time, and using the all-knowing internet to see that the latitude of\n",
    "Minneapolis is $44.6^\\circ$ or $\\theta=45.4^\\circ$."
   ]
  },
  {
   "cell_type": "markdown",
   "metadata": {},
   "source": [
    "$$\n",
    "\\begin{eqnarray*}\n",
    "t&=&\\sqrt{2h/g}=10.1~{\\rm s},\\\\\n",
    "\\omega&=&\\frac{2\\pi}{3600\\cdot 24~{\\rm s}}=7.27\\times 10^{-5}~{\\rm s}^{-1},\\\\\n",
    "\\delta x&=&17.4~{\\rm cm}~~{\\rm(east)}.\n",
    "\\end{eqnarray*}\n",
    "$$"
   ]
  },
  {
   "cell_type": "markdown",
   "metadata": {},
   "source": [
    "## The Foucault Pendulum\n",
    "\n",
    "The Foucault Pendulum is simply a regular pendulum moving in both\n",
    "horizontal directions, and with the Coriolis force included. In this\n",
    "case,"
   ]
  },
  {
   "cell_type": "markdown",
   "metadata": {},
   "source": [
    "$$\n",
    "\\begin{eqnarray*}\n",
    "m\\ddot{\\boldsymbol{r}}&=&\\boldsymbol{T}+m\\boldsymbol{g}-2m\\boldsymbol{\\Omega}\\times\\boldsymbol{v},\n",
    "\\end{eqnarray*}\n",
    "$$"
   ]
  },
  {
   "cell_type": "markdown",
   "metadata": {},
   "source": [
    "as the centrifugal force term is absorbed into the definition of\n",
    "$\\boldsymbol{g}$. The magnitude of the tension, $\\boldsymbol{T}$, is considered\n",
    "constant because we consider only small oscillations. Then $T\\approx\n",
    "mg$, and the components, using $\\hat{x},\\hat{y}$ to correspond to east\n",
    "and north respectively, are"
   ]
  },
  {
   "cell_type": "markdown",
   "metadata": {},
   "source": [
    "$$\n",
    "\\begin{eqnarray*}\n",
    "T_x=-mgx/L,~~~T_y=-mgy/L. \n",
    "\\end{eqnarray*}\n",
    "$$"
   ]
  },
  {
   "cell_type": "markdown",
   "metadata": {},
   "source": [
    "If $\\Omega$ is the rotation of the earth, and if $\\theta$ is the polar angle, $\\pi-$lattitude,"
   ]
  },
  {
   "cell_type": "markdown",
   "metadata": {},
   "source": [
    "$$\n",
    "\\begin{eqnarray*}\n",
    "\\ddot{x}&=&-gx/L+2\\dot{y}\\Omega_z,\\\\\n",
    "\\ddot{y}&=&-gy/L-2\\dot{x}\\Omega_z.\n",
    "\\end{eqnarray*}\n",
    "$$"
   ]
  },
  {
   "cell_type": "markdown",
   "metadata": {},
   "source": [
    "Here we have used the fact that the oscillations are sufficiently\n",
    "small so we can ignore $v_z$. Using $\\omega_0\\equiv\\sqrt{k/m}$,"
   ]
  },
  {
   "cell_type": "markdown",
   "metadata": {},
   "source": [
    "$$\n",
    "\\begin{eqnarray*}\n",
    "\\ddot{x}-2\\Omega_z\\dot{y}+\\omega_0^2x&=&0\\\\\n",
    "\\ddot{y}+2\\Omega_z\\dot{x}+\\omega_0^2y&=&0,\n",
    "\\end{eqnarray*}\n",
    "$$"
   ]
  },
  {
   "cell_type": "markdown",
   "metadata": {},
   "source": [
    "where $\\Omega_z=|\\boldsymbol{\\Omega}|\\cos\\theta$, with $\\theta$ being the\n",
    "polar angle (zero at the north pole). The terms linear in time\n",
    "derivatives are what make life difficult. This will be solved with a\n",
    "trick. We will incorporate both differential equations into a single\n",
    "complex equation where the first/second are the real/imaginary parts."
   ]
  },
  {
   "cell_type": "markdown",
   "metadata": {},
   "source": [
    "$$\n",
    "\\begin{eqnarray*}\n",
    "\\eta\\equiv x+iy,\\\\\n",
    "\\ddot{\\eta}+2i\\Omega_z\\dot{\\eta}+\\omega_0^2\\eta&=&0. \n",
    "\\end{eqnarray*}\n",
    "$$"
   ]
  },
  {
   "cell_type": "markdown",
   "metadata": {},
   "source": [
    "Now, we guess at a form for the solutions, $\\eta(t)=e^{-i\\alpha t}$,\n",
    "which turns the differential equation into"
   ]
  },
  {
   "cell_type": "markdown",
   "metadata": {},
   "source": [
    "$$\n",
    "\\begin{eqnarray*}\n",
    "-\\alpha^2+2\\Omega_z\\alpha+\\omega_0^2&=&0,\\\\\n",
    "\\alpha&=&\\Omega_z\\pm \\sqrt{\\Omega_z^2+\\omega_0^2},\\\\\n",
    "&\\approx&\\Omega_z\\pm \\omega_0.\n",
    "\\end{eqnarray*}\n",
    "$$"
   ]
  },
  {
   "cell_type": "markdown",
   "metadata": {},
   "source": [
    "The solution with two arbitrary constants is then"
   ]
  },
  {
   "cell_type": "markdown",
   "metadata": {},
   "source": [
    "$$\n",
    "\\begin{eqnarray*}\n",
    "\\eta&=&e^{-i\\Omega_zt}\\left[C_1e^{i\\omega_0t}+C_2e^{-i\\omega_0t}\\right].\n",
    "\\end{eqnarray*}\n",
    "$$"
   ]
  },
  {
   "cell_type": "markdown",
   "metadata": {},
   "source": [
    "Here, $C_1$ and $C_2$ are complex, so they actually represent four\n",
    "arbitrary numbers. These four numbers should be fixed by the four\n",
    "initial conditions, i.e. $x(t=0), \\dot{x}(t=0), y(t=0)$ and\n",
    "$\\dot{y}(t=0)$. With some lengthy algebra, one can rewrite the\n",
    "expression as"
   ]
  },
  {
   "cell_type": "markdown",
   "metadata": {},
   "source": [
    "<!-- Equation labels as ordinary links -->\n",
    "<div id=\"eq:precmess\"></div>\n",
    "\n",
    "$$\n",
    "\\begin{eqnarray*}\n",
    "\\label{eq:precmess} \\tag{10}\n",
    "\\eta&=&e^{-i\\Omega_zt}\\left[A\\cos(\\omega_0t+\\phi_A)+iB\\cos(\\omega_0t+\\phi_B)\\right].\n",
    "\\end{eqnarray*}\n",
    "$$"
   ]
  },
  {
   "cell_type": "markdown",
   "metadata": {},
   "source": [
    "Here, the four coefficients are represented by the two real arbitrary\n",
    "real amplitudes, $A$ and $B$, and two arbitrary phases, $\\phi_A$ and\n",
    "$\\phi_B$. For an initial condition where $y=0$ at $t=0$, one can see\n",
    "that $B=0$. This then gives"
   ]
  },
  {
   "cell_type": "markdown",
   "metadata": {},
   "source": [
    "$$\n",
    "\\begin{eqnarray*}\n",
    "\\eta(t)&=&Ae^{-i\\Omega_zt}\\cos(\\omega_0t+\\gamma)\\\\\n",
    "\\nonumber\n",
    "&=&A\\cos\\Omega_zt\\cos(\\omega_0t+\\gamma)+iA\\sin\\Omega_zt\\cos(\\omega_0t+\\gamma).\n",
    "\\end{eqnarray*}\n",
    "$$"
   ]
  },
  {
   "cell_type": "markdown",
   "metadata": {},
   "source": [
    "Translating into $x$ and $y$,"
   ]
  },
  {
   "cell_type": "markdown",
   "metadata": {},
   "source": [
    "$$\n",
    "\\begin{eqnarray}\n",
    "x&=&A\\cos\\Omega_zt\\cos(\\omega_0t+\\gamma),\\\\\n",
    "\\nonumber\n",
    "y&=&A\\sin\\Omega_zt\\cos(\\omega_0t+\\gamma).\n",
    "\\end{eqnarray}\n",
    "$$"
   ]
  },
  {
   "cell_type": "markdown",
   "metadata": {},
   "source": [
    "Assuming the pendulum's frequency is much higher than Earth's\n",
    "rotational frequency, $\\omega_0>>\\Omega_z$, one can see that the plane\n",
    "of the pendulum simply precesses with angular velocity\n",
    "$\\Omega_z$. This means that in this limit the pendulum oscillates only\n",
    "in the $x$-direction with frequency many times before the phase\n",
    "$\\Omega_zt$ becomes noticeable. Eventually, when $\\Omega_zt=\\pi/2$,\n",
    "the motion is along the $y$-direction. If you were at the north pole,\n",
    "the motion would switch from the $x$-direction to the $y$ direction\n",
    "every 6 hours. Away from the north pole, $\\Omega_z\\ne|\\boldsymbol{\\Omega}|$\n",
    "and the precession frequency is less.  At the equator it does not\n",
    "precess at all. If one were to repeat for the solutions where $A=0$\n",
    "and $B\\ne 0$ in Eq. ([10](#eq:precmess)), one would look at motions\n",
    "that started in the $y$-direction, then precessed toward the $-x$\n",
    "direction. Linear combinations of the two sets of solutions give\n",
    "pendulum motions that resemble ellipses rather than simple\n",
    "back-and-forth motion."
   ]
  }
 ],
 "metadata": {},
 "nbformat": 4,
 "nbformat_minor": 2
}
