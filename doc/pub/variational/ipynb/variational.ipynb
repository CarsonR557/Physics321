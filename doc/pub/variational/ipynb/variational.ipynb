{
 "cells": [
  {
   "cell_type": "markdown",
   "metadata": {},
   "source": [
    "<!-- dom:TITLE: Variational Calculus -->\n",
    "# Variational Calculus\n",
    "<!-- dom:AUTHOR: [Morten Hjorth-Jensen](http://mhjgit.github.io/info/doc/web/) at Department of Physics and Astronomy and National Superconducting Cyclotron Laboratory, Michigan State University, USA & Department of Physics, University of Oslo, Norway -->\n",
    "<!-- Author: -->  \n",
    "**[Morten Hjorth-Jensen](http://mhjgit.github.io/info/doc/web/)**, Department of Physics and Astronomy and National Superconducting Cyclotron Laboratory, Michigan State University, USA and Department of Physics, University of Oslo, Norway  \n",
    "<!-- dom:AUTHOR: [Scott Pratt](https://pa.msu.edu/profile/pratts/) at Department of Physics and Astronomy and National Superconducting Cyclotron Laboratory, Michigan State University, USA -->\n",
    "<!-- Author: --> **[Scott Pratt](https://pa.msu.edu/profile/pratts/)**, Department of Physics and Astronomy and National Superconducting Cyclotron Laboratory, Michigan State University, USA  \n",
    "<!-- dom:AUTHOR: [Carl Schmidt](https://pa.msu.edu/profile/schmidt/) at Department of Physics and Astronomy, Michigan State University, USA -->\n",
    "<!-- Author: --> **[Carl Schmidt](https://pa.msu.edu/profile/schmidt/)**, Department of Physics and Astronomy, Michigan State University, USA\n",
    "\n",
    "Date: **Jun 6, 2019**\n",
    "\n",
    "Copyright 1999-2019, [Morten Hjorth-Jensen](http://mhjgit.github.io/info/doc/web/). Released under CC Attribution-NonCommercial 4.0 license\n",
    "\n",
    "\n",
    "\n",
    "\n",
    "\n",
    "## Introduction\n",
    "\n",
    "The calculus of variations involves \n",
    "problems where the quantity to be minimized or maximized is an integral. \n",
    "\n",
    "In the general case we have an integral of the type"
   ]
  },
  {
   "cell_type": "markdown",
   "metadata": {},
   "source": [
    "$$\n",
    "E[\\Phi]= \\int_a^b f(\\Phi(x),\\frac{\\partial \\Phi}{\\partial x},x)dx,\n",
    "$$"
   ]
  },
  {
   "cell_type": "markdown",
   "metadata": {},
   "source": [
    "where $E$ is the quantity which is sought minimized or maximized.\n",
    "The problem is that although $f$ is a function of the variables $\\Phi$, $\\partial \\Phi/\\partial x$ and $x$, the exact dependence of\n",
    "$\\Phi$ on $x$ is not known.  This means again that even though the integral has fixed limits $a$ and $b$, the path of integration is\n",
    "not known. In our case the unknown quantities are the single-particle wave functions and we wish to choose an integration path which makes\n",
    "the functional $E[\\Phi]$ stationary. This means that we want to find minima, or maxima or saddle points. In physics we search normally for minima.\n",
    "Our task is therefore to find the minimum of $E[\\Phi]$ so that its variation $\\delta E$ is zero  subject to specific\n",
    "constraints. In our case the constraints appear as the integral which expresses the orthogonality of the  single-particle wave functions.\n",
    "The constraints can be treated via the technique of Lagrangian multipliers"
   ]
  }
 ],
 "metadata": {},
 "nbformat": 4,
 "nbformat_minor": 2
}
