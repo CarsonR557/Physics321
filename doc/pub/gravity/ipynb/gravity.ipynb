{
 "cells": [
  {
   "cell_type": "markdown",
   "metadata": {},
   "source": [
    "<!-- dom:TITLE: Gravity and Central Forces -->\n",
    "# Gravity and Central Forces\n",
    "<!-- dom:AUTHOR: [Morten Hjorth-Jensen](http://mhjgit.github.io/info/doc/web/) at Department of Physics and Astronomy and National Superconducting Cyclotron Laboratory, Michigan State University, USA & Department of Physics, University of Oslo, Norway -->\n",
    "<!-- Author: -->  \n",
    "**[Morten Hjorth-Jensen](http://mhjgit.github.io/info/doc/web/)**, Department of Physics and Astronomy and National Superconducting Cyclotron Laboratory, Michigan State University, USA and Department of Physics, University of Oslo, Norway  \n",
    "<!-- dom:AUTHOR: [Scott Pratt](https://pa.msu.edu/profile/pratts/) at Department of Physics and Astronomy and National Superconducting Cyclotron Laboratory, Michigan State University, USA -->\n",
    "<!-- Author: --> **[Scott Pratt](https://pa.msu.edu/profile/pratts/)**, Department of Physics and Astronomy and National Superconducting Cyclotron Laboratory, Michigan State University, USA  \n",
    "<!-- dom:AUTHOR: [Carl Schmidt](https://pa.msu.edu/profile/schmidt/) at Department of Physics and Astronomy, Michigan State University, USA -->\n",
    "<!-- Author: --> **[Carl Schmidt](https://pa.msu.edu/profile/schmidt/)**, Department of Physics and Astronomy, Michigan State University, USA\n",
    "\n",
    "Date: **Mar 20, 2020**\n",
    "\n",
    "Copyright 1999-2020, [Morten Hjorth-Jensen](http://mhjgit.github.io/info/doc/web/). Released under CC Attribution-NonCommercial 4.0 license\n",
    "\n",
    "\n",
    "\n",
    "\n",
    "\n",
    "## Introduction\n",
    "\n",
    "\n",
    "The gravitational potential energy and forces involving two masses $a$ and $b$ are"
   ]
  },
  {
   "cell_type": "markdown",
   "metadata": {},
   "source": [
    "$$\n",
    "\\begin{eqnarray}\n",
    "U_{ab}&=&-\\frac{Gm_am_b}{|\\boldsymbol{r}_a-\\boldsymbol{r}_b|},\\\\\n",
    "\\nonumber\n",
    "F_{ba}&=&-\\frac{Gm_am_b}{|\\boldsymbol{r}_a-\\boldsymbol{r}_b|^2}\\hat{r}_{ab},\\\\\n",
    "\\nonumber\n",
    "\\hat{r}_{ab}&=&\\frac{\\boldsymbol{r}_b-\\boldsymbol{r}_a}{|\\boldsymbol{r}_a-\\boldsymbol{r}_b|}.\n",
    "\\end{eqnarray}\n",
    "$$"
   ]
  },
  {
   "cell_type": "markdown",
   "metadata": {},
   "source": [
    "Here $G=6.67\\times 10^{-11}$ Nm$^2$/kg$^2$, and $F_{ba}$ is the force\n",
    "on $b$ due to $a$. By inspection, one can see that the force on $b$\n",
    "due to $a$ and the force on $a$ due to $b$ are equal and opposite. The\n",
    "net potential energy for a large number of masses would be"
   ]
  },
  {
   "cell_type": "markdown",
   "metadata": {},
   "source": [
    "<!-- Equation labels as ordinary links -->\n",
    "<div id=\"_auto1\"></div>\n",
    "\n",
    "$$\n",
    "\\begin{equation}\n",
    "U=\\sum_{a<b}U_{ab}=\\frac{1}{2}\\sum_{a\\ne b}U_{ab}.\n",
    "\\label{_auto1} \\tag{1}\n",
    "\\end{equation}\n",
    "$$"
   ]
  },
  {
   "cell_type": "markdown",
   "metadata": {},
   "source": [
    "## Relative and Center of Mass Motion\n",
    "\n",
    "\n",
    "\n",
    "\n",
    "## Deriving Elliptical Orbits\n",
    "\n",
    "Kepler's laws state that a gravitational orbit should be an ellipse\n",
    "with the source of the gravitational field at one focus. Deriving this\n",
    "is surprisingly messy. To do this, we first use angular momentum\n",
    "conservation to transform the equations of motion so that it is in\n",
    "terms of $r$ and $\\theta$ instead of $r$ and $t$. The overall strategy\n",
    "is to\n",
    "\n",
    "\n",
    "1. Find equations of motion for $r$ and $t$ with no angle ($\\theta$) mentioned, i.e. $d^2r/dt^2=\\cdots$. Angular momentum conservation will be used, and the equation will involve the angular momentum $L$.\n",
    "\n",
    "2. Use angular momentum conservation to find an expression for $\\dot{\\theta}$ in terms of $r$.\n",
    "\n",
    "3. Use the chain rule to convert the equations of motions for $r$, an expression involving $r,\\dot{r}$ and $\\ddot{r}$, to one involving $r,dr/d\\theta$ and $d^2r/d\\theta^2$. This is quitecomplicated because the expressions will also involve a substitution $u=1/r$ so that one finds an expression in terms of $u$ and $\\theta$.\n",
    "\n",
    "4. Once $u(\\theta)$ is found, you need to show that this can be converted to the familiar form for an ellipse.\n",
    "\n",
    "The equations of motion give"
   ]
  },
  {
   "cell_type": "markdown",
   "metadata": {},
   "source": [
    "<!-- Equation labels as ordinary links -->\n",
    "<div id=\"eq:radialeqofmotion\"></div>\n",
    "\n",
    "$$\n",
    "\\begin{eqnarray}\n",
    "\\label{eq:radialeqofmotion} \\tag{2}\n",
    "\\frac{d}{dt}r^2&=&\\frac{d}{dt}(x^2+y^2)=2x\\dot{x}+2y\\dot{y}=2r\\dot{r},\\\\\n",
    "\\nonumber\n",
    "\\dot{r}&=&\\frac{x}{r}\\dot{x}+\\frac{y}{r}\\dot{y},\\\\\n",
    "\\nonumber\n",
    "\\ddot{r}&=&\\frac{x}{r}\\ddot{x}+\\frac{y}{r}\\ddot{y}\n",
    "+\\frac{\\dot{x}^2+\\dot{y}^2}{r}\n",
    "-\\frac{\\dot{r}^2}{r}.\n",
    "\\end{eqnarray}\n",
    "$$"
   ]
  },
  {
   "cell_type": "markdown",
   "metadata": {},
   "source": [
    "Recognizing that the numerator of the third term is the velocity squared, and that it can be written in polar coordinates,"
   ]
  },
  {
   "cell_type": "markdown",
   "metadata": {},
   "source": [
    "<!-- Equation labels as ordinary links -->\n",
    "<div id=\"_auto2\"></div>\n",
    "\n",
    "$$\n",
    "\\begin{equation}\n",
    "v^2=\\dot{x}^2+\\dot{y}^2=\\dot{r}^2+r^2\\dot{\\theta}^2,\n",
    "\\label{_auto2} \\tag{3}\n",
    "\\end{equation}\n",
    "$$"
   ]
  },
  {
   "cell_type": "markdown",
   "metadata": {},
   "source": [
    "one can write $\\ddot{r}$ as"
   ]
  },
  {
   "cell_type": "markdown",
   "metadata": {},
   "source": [
    "<!-- Equation labels as ordinary links -->\n",
    "<div id=\"eq:radialeqofmotion2\"></div>\n",
    "\n",
    "$$\n",
    "\\begin{eqnarray}\n",
    "\\label{eq:radialeqofmotion2} \\tag{4}\n",
    "\\ddot{r}&=&\\frac{F_x\\cos\\theta+F_y\\sin\\theta}{m}+\\frac{\\dot{r}^2+r^2\\dot{\\theta}^2}{r}-\\frac{\\dot{r}^2}{r}\\\\\n",
    "\\nonumber\n",
    "&=&\\frac{F}{m}+\\frac{r^2\\dot{\\theta}^2}{r}\\\\\n",
    "\\nonumber\n",
    "m\\ddot{r}&=&F+\\frac{L^2}{mr^3}.\n",
    "\\end{eqnarray}\n",
    "$$"
   ]
  },
  {
   "cell_type": "markdown",
   "metadata": {},
   "source": [
    "This derivation used the fact that the force was radial,\n",
    "$F=F_r=F_x\\cos\\theta+F_y\\sin\\theta$, and that angular momentum is\n",
    "$L=mrv_{\\theta}=mr^2\\dot{\\theta}$. The term $L^2/mr^3=mv^2/r$ behaves\n",
    "like an additional force. Sometimes this is referred to as a\n",
    "centrifugal force, but it is not a force. Instead, it is the\n",
    "consequence of considering the motion in a rotating (and therefore\n",
    "accelerating) frame.\n",
    "\n",
    "Now, we switch to the particular case of an attractive inverse square\n",
    "force, $F=-\\alpha/r^2$, and show that the trajectory, $r(\\theta)$, is\n",
    "an ellipse. To do this we transform derivatives w.r.t. time to\n",
    "derivatives w.r.t. $\\theta$ using the chain rule combined with angular\n",
    "momentum conservation, $\\dot{\\theta}=L/mr^2$."
   ]
  },
  {
   "cell_type": "markdown",
   "metadata": {},
   "source": [
    "<!-- Equation labels as ordinary links -->\n",
    "<div id=\"eq:rtotheta\"></div>\n",
    "\n",
    "$$\n",
    "\\begin{eqnarray}\n",
    "\\label{eq:rtotheta} \\tag{5}\n",
    "\\dot{r}&=&\\frac{dr}{d\\theta}\\dot{\\theta}=\\frac{dr}{d\\theta}\\frac{L}{mr^2},\\\\\n",
    "\\nonumber\n",
    "\\ddot{r}&=&\\frac{d^2r}{d\\theta^2}\\dot{\\theta}^2\n",
    "+\\frac{dr}{d\\theta}\\left(\\frac{d}{dr}\\frac{L}{mr^2}\\right)\\dot{r}\\\\\n",
    "\\nonumber\n",
    "&=&\\frac{d^2r}{d\\theta^2}\\left(\\frac{L}{mr^2}\\right)^2\n",
    "-2\\frac{dr}{d\\theta}\\frac{L}{mr^3}\\dot{r}\\\\\n",
    "\\nonumber\n",
    "&=&\\frac{d^2r}{d\\theta^2}\\left(\\frac{L}{mr^2}\\right)^2\n",
    "-\\frac{2}{r}\\left(\\frac{dr}{d\\theta}\\right)^2\\left(\\frac{L}{mr^2}\\right)^2\n",
    "\\end{eqnarray}\n",
    "$$"
   ]
  },
  {
   "cell_type": "markdown",
   "metadata": {},
   "source": [
    "Equating the two expressions for $\\ddot{r}$ in Eq.s ([4](#eq:radialeqofmotion2)) and ([5](#eq:rtotheta)) eliminates all the derivatives w.r.t. time, and provides a differential equation with only derivatives w.r.t. $\\theta$,"
   ]
  },
  {
   "cell_type": "markdown",
   "metadata": {},
   "source": [
    "<!-- Equation labels as ordinary links -->\n",
    "<div id=\"eq:rdotdot\"></div>\n",
    "\n",
    "$$\n",
    "\\begin{equation}\n",
    "\\label{eq:rdotdot} \\tag{6}\n",
    "\\frac{d^2r}{d\\theta^2}\\left(\\frac{L}{mr^2}\\right)^2\n",
    "-\\frac{2}{r}\\left(\\frac{dr}{d\\theta}\\right)^2\\left(\\frac{L}{mr^2}\\right)^2\n",
    "=\\frac{F}{m}+\\frac{L^2}{m^2r^3},\n",
    "\\end{equation}\n",
    "$$"
   ]
  },
  {
   "cell_type": "markdown",
   "metadata": {},
   "source": [
    "that when solved yields the trajectory, i.e. $r(\\theta)$. Up to this\n",
    "point the expressions work for any radial force, not just forces that\n",
    "fall as $1/r^2$.\n",
    "\n",
    "The trick to simplifying this differential equation for the inverse\n",
    "square problems is to make a substitution, $u\\equiv 1/r$, and rewrite\n",
    "the differential equation for $u(\\theta)$."
   ]
  },
  {
   "cell_type": "markdown",
   "metadata": {},
   "source": [
    "$$\n",
    "\\begin{eqnarray}\n",
    "r&=&1/u,\\\\\n",
    "\\nonumber\n",
    "\\frac{dr}{d\\theta}&=&-\\frac{1}{u^2}\\frac{du}{d\\theta},\\\\\n",
    "\\nonumber\n",
    "\\frac{d^2r}{d\\theta^2}&=&\\frac{2}{u^3}\\left(\\frac{du}{d\\theta}\\right)^2-\\frac{1}{u^2}\\frac{d^2u}{d\\theta^2}.\n",
    "\\end{eqnarray}\n",
    "$$"
   ]
  },
  {
   "cell_type": "markdown",
   "metadata": {},
   "source": [
    "Plugging these expressions into Eq. ([6](#eq:rdotdot)) gives an\n",
    "expression in terms of $u$, $du/d\\theta$, and $d^2u/d\\theta^2$. After\n",
    "some tedious algebra,"
   ]
  },
  {
   "cell_type": "markdown",
   "metadata": {},
   "source": [
    "<!-- Equation labels as ordinary links -->\n",
    "<div id=\"_auto3\"></div>\n",
    "\n",
    "$$\n",
    "\\begin{equation}\n",
    "\\frac{d^2u}{d\\theta^2}=-u-\\frac{F m}{L^2u^2}.\n",
    "\\label{_auto3} \\tag{7}\n",
    "\\end{equation}\n",
    "$$"
   ]
  },
  {
   "cell_type": "markdown",
   "metadata": {},
   "source": [
    "For the attractive inverse square law force, $F=-\\alpha u^2$,"
   ]
  },
  {
   "cell_type": "markdown",
   "metadata": {},
   "source": [
    "<!-- Equation labels as ordinary links -->\n",
    "<div id=\"_auto4\"></div>\n",
    "\n",
    "$$\n",
    "\\begin{equation}\n",
    "\\frac{d^2u}{d\\theta^2}=-u+\\frac{m\\alpha}{L^2}.\n",
    "\\label{_auto4} \\tag{8}\n",
    "\\end{equation}\n",
    "$$"
   ]
  },
  {
   "cell_type": "markdown",
   "metadata": {},
   "source": [
    "The solution has two arbitrary constants, $A$ and $\\theta_0$,"
   ]
  },
  {
   "cell_type": "markdown",
   "metadata": {},
   "source": [
    "<!-- Equation labels as ordinary links -->\n",
    "<div id=\"eq:Ctrajectory\"></div>\n",
    "\n",
    "$$\n",
    "\\begin{eqnarray}\n",
    "\\label{eq:Ctrajectory} \\tag{9}\n",
    "u&=&\\frac{m\\alpha}{L^2}+A\\cos(\\theta-\\theta_0),\\\\\n",
    "\\nonumber\n",
    "r&=&\\frac{1}{(m\\alpha/L^2)+A\\cos(\\theta-\\theta_0)}.\n",
    "\\end{eqnarray}\n",
    "$$"
   ]
  },
  {
   "cell_type": "markdown",
   "metadata": {},
   "source": [
    "The radius will be at a minimum when $\\theta=\\theta_0$ and at a\n",
    "maximum when $\\theta=\\theta_0+\\pi$. The constant $A$ is related to the\n",
    "eccentricity of the orbit. When $A=0$ the radius is a constant\n",
    "$r=L^2/(m\\alpha)$, and the motion is circular. If one solved the\n",
    "expression $mv^2/r=-\\alpha/r^2$ for a circular orbit, using the\n",
    "substitution $v=L/(mr)$, one would reproduce the expression\n",
    "$r=L^2/(m\\alpha)$.\n",
    "\n",
    "The form describing the elliptical trajectory in\n",
    "Eq. ([9](#eq:Ctrajectory)) can be identified as an ellipse with one\n",
    "focus being the center of the ellipse by considering the definition of\n",
    "an ellipse as being the points such that the sum of the two distances\n",
    "between the two foci are a constant. Making that distance $2D$, the\n",
    "distance between the two foci as $2a$, and putting one focus at the\n",
    "origin,"
   ]
  },
  {
   "cell_type": "markdown",
   "metadata": {},
   "source": [
    "$$\n",
    "\\begin{eqnarray}\n",
    "2D&=&r+\\sqrt{(r\\cos\\theta-2a)^2+r^2\\sin^2\\theta},\\\\\n",
    "\\nonumber\n",
    "4D^2+r^2-4Dr&=&r^2+4a^2-4ar\\cos\\theta,\\\\\n",
    "\\nonumber\n",
    "r&=&\\frac{D^2-a^2}{D+a\\cos\\theta}=\\frac{1}{D/(D^2-a^2)-a\\cos\\theta/(D^2-a^2)}.\n",
    "\\end{eqnarray}\n",
    "$$"
   ]
  },
  {
   "cell_type": "markdown",
   "metadata": {},
   "source": [
    "By inspection, this is the same form as Eq. ([9](#eq:Ctrajectory)) with $D/(D^2-a^2)=m\\alpha/L^2$ and $a/(D^2-a^2)=A$.\n",
    "\n",
    "\n",
    "Let us remind ourselves about what an ellipse is before we proceed."
   ]
  },
  {
   "cell_type": "code",
   "execution_count": 1,
   "metadata": {},
   "outputs": [],
   "source": [
    "%matplotlib inline\n",
    "\n",
    "import numpy as np\n",
    "from matplotlib import pyplot as plt\n",
    "from math import pi\n",
    "\n",
    "u=1.     #x-position of the center\n",
    "v=0.5    #y-position of the center\n",
    "a=2.     #radius on the x-axis\n",
    "b=1.5    #radius on the y-axis\n",
    "\n",
    "t = np.linspace(0, 2*pi, 100)\n",
    "plt.plot( u+a*np.cos(t) , v+b*np.sin(t) )\n",
    "plt.grid(color='lightgray',linestyle='--')\n",
    "plt.show()"
   ]
  },
  {
   "cell_type": "markdown",
   "metadata": {},
   "source": [
    "## Effective or Centrifugal Potential\n",
    "\n",
    "The total energy of a particle is"
   ]
  },
  {
   "cell_type": "markdown",
   "metadata": {},
   "source": [
    "$$\n",
    "\\begin{eqnarray}\n",
    "E&=&U(r)+\\frac{1}{2}mv_\\theta^2+\\frac{1}{2}m\\dot{r}^2\\\\\n",
    "\\nonumber\n",
    "&=&U(r)+\\frac{1}{2}mr^2\\dot{\\theta}^2+\\frac{1}{2}m\\dot{r}^2\\\\\n",
    "\\nonumber\n",
    "&=&U(r)+\\frac{L^2}{2mr^2}+\\frac{1}{2}m\\dot{r}^2.\n",
    "\\end{eqnarray}\n",
    "$$"
   ]
  },
  {
   "cell_type": "markdown",
   "metadata": {},
   "source": [
    "The second term then contributes to the energy like an additional\n",
    "repulsive potential. The term is sometimes referred to as the\n",
    "\"centrifugal\" potential, even though it is actually the kinetic energy\n",
    "of the angular motion. Combined with $U(r)$, it is sometimes referred\n",
    "to as the \"effective\" potential,"
   ]
  },
  {
   "cell_type": "markdown",
   "metadata": {},
   "source": [
    "$$\n",
    "\\begin{eqnarray}\n",
    "U_{\\rm eff}(r)&=&U(r)+\\frac{L^2}{2mr^2}.\n",
    "\\end{eqnarray}\n",
    "$$"
   ]
  },
  {
   "cell_type": "markdown",
   "metadata": {},
   "source": [
    "Note that if one treats the effective potential like a real potential, one would expect to be able to generate an effective force,"
   ]
  },
  {
   "cell_type": "markdown",
   "metadata": {},
   "source": [
    "$$\n",
    "\\begin{eqnarray}\n",
    "F_{\\rm eff}&=&-\\frac{d}{dr}U(r) -\\frac{d}{dr}\\frac{L^2}{2mr^2}\\\\\n",
    "\\nonumber\n",
    "&=&F(r)+\\frac{L^2}{mr^3}=F(r)+m\\frac{v_\\perp^2}{r},\n",
    "\\end{eqnarray}\n",
    "$$"
   ]
  },
  {
   "cell_type": "markdown",
   "metadata": {},
   "source": [
    "which is indeed matches the form for $m\\ddot{r}$ in Eq. ([4](#eq:radialeqofmotion2)), which included the **centrifugal** force.\n",
    "\n",
    "The following code plots this effective potential for a simple choice of parameters, with a standard gravitational potential $-\\alpha/r$. Here we have chosen $L=m=\\alpha=1$."
   ]
  },
  {
   "cell_type": "code",
   "execution_count": 6,
   "metadata": {},
   "outputs": [
    {
     "data": {
      "image/png": "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\n",
      "text/plain": [
       "<Figure size 432x288 with 1 Axes>"
      ]
     },
     "metadata": {},
     "output_type": "display_data"
    }
   ],
   "source": [
    "# Common imports\n",
    "import numpy as np\n",
    "from math import *\n",
    "import matplotlib.pyplot as plt\n",
    "\n",
    "Deltax = 0.01\n",
    "#set up arrays\n",
    "xinitial = 0.3\n",
    "xfinal = 5.0\n",
    "alpha = 1.0   # spring constant\n",
    "m = 1.0   # mass, you can change these\n",
    "AngMom = 1.0  #  The angular momentum\n",
    "n = ceil((xfinal-xinitial)/Deltax)\n",
    "x = np.zeros(n)\n",
    "for i in range(n):\n",
    "    x[i] = xinitial+i*Deltax\n",
    "V = np.zeros(n)\n",
    "V = -alpha/x+0.5*AngMom*AngMom/(m*x*x)\n",
    "# Plot potential\n",
    "fig, ax = plt.subplots()\n",
    "ax.set_xlabel('r[m]')\n",
    "ax.set_ylabel('V[J]')\n",
    "ax.plot(x, V)\n",
    "fig.tight_layout()\n",
    "plt.show()"
   ]
  },
  {
   "cell_type": "markdown",
   "metadata": {},
   "source": [
    "### Gravitational force example\n",
    "\n",
    "Using the above parameters, we can now study the evolution of the system using for example the velocity Verlet method.\n",
    "This is done in the code here for an initial radius equal to the minimum of the potential well.  We seen then that the radius is always the same and corresponds to a circle (the radius is always constant)."
   ]
  },
  {
   "cell_type": "code",
<<<<<<< HEAD
   "execution_count": 3,
=======
   "execution_count": 1,
>>>>>>> 866231753e0ac580476be51bc8c5bbe2f2729c95
   "metadata": {},
   "outputs": [
    {
     "ename": "ModuleNotFoundError",
     "evalue": "No module named 'pandas'",
     "output_type": "error",
     "traceback": [
      "\u001b[0;31m---------------------------------------------------------------------------\u001b[0m",
      "\u001b[0;31mModuleNotFoundError\u001b[0m                       Traceback (most recent call last)",
      "\u001b[0;32m<ipython-input-1-6980d83b4397>\u001b[0m in \u001b[0;36m<module>\u001b[0;34m\u001b[0m\n\u001b[1;32m      1\u001b[0m \u001b[0;31m# Common imports\u001b[0m\u001b[0;34m\u001b[0m\u001b[0;34m\u001b[0m\u001b[0;34m\u001b[0m\u001b[0m\n\u001b[1;32m      2\u001b[0m \u001b[0;32mimport\u001b[0m \u001b[0mnumpy\u001b[0m \u001b[0;32mas\u001b[0m \u001b[0mnp\u001b[0m\u001b[0;34m\u001b[0m\u001b[0;34m\u001b[0m\u001b[0m\n\u001b[0;32m----> 3\u001b[0;31m \u001b[0;32mimport\u001b[0m \u001b[0mpandas\u001b[0m \u001b[0;32mas\u001b[0m \u001b[0mpd\u001b[0m\u001b[0;34m\u001b[0m\u001b[0;34m\u001b[0m\u001b[0m\n\u001b[0m\u001b[1;32m      4\u001b[0m \u001b[0;32mfrom\u001b[0m \u001b[0mmath\u001b[0m \u001b[0;32mimport\u001b[0m \u001b[0;34m*\u001b[0m\u001b[0;34m\u001b[0m\u001b[0;34m\u001b[0m\u001b[0m\n\u001b[1;32m      5\u001b[0m \u001b[0;32mimport\u001b[0m \u001b[0mmatplotlib\u001b[0m\u001b[0;34m.\u001b[0m\u001b[0mpyplot\u001b[0m \u001b[0;32mas\u001b[0m \u001b[0mplt\u001b[0m\u001b[0;34m\u001b[0m\u001b[0;34m\u001b[0m\u001b[0m\n",
      "\u001b[0;31mModuleNotFoundError\u001b[0m: No module named 'pandas'"
     ]
    }
   ],
   "source": [
    "# Common imports\n",
    "import numpy as np\n",
    "import pandas as pd\n",
    "from math import *\n",
    "import matplotlib.pyplot as plt\n",
    "import os\n",
    "\n",
    "# Where to save the figures and data files\n",
    "PROJECT_ROOT_DIR = \"Results\"\n",
    "FIGURE_ID = \"Results/FigureFiles\"\n",
    "DATA_ID = \"DataFiles/\"\n",
    "\n",
    "if not os.path.exists(PROJECT_ROOT_DIR):\n",
    "    os.mkdir(PROJECT_ROOT_DIR)\n",
    "\n",
    "if not os.path.exists(FIGURE_ID):\n",
    "    os.makedirs(FIGURE_ID)\n",
    "\n",
    "if not os.path.exists(DATA_ID):\n",
    "    os.makedirs(DATA_ID)\n",
    "\n",
    "def image_path(fig_id):\n",
    "    return os.path.join(FIGURE_ID, fig_id)\n",
    "\n",
    "def data_path(dat_id):\n",
    "    return os.path.join(DATA_ID, dat_id)\n",
    "\n",
    "def save_fig(fig_id):\n",
    "    plt.savefig(image_path(fig_id) + \".png\", format='png')\n",
    "\n",
    "\n",
    "# Simple Gravitational Force   -alpha/r\n",
    "    \n",
    "DeltaT = 0.01\n",
    "#set up arrays \n",
    "tfinal = 100.0\n",
    "n = ceil(tfinal/DeltaT)\n",
    "# set up arrays for t, v and r\n",
    "t = np.zeros(n)\n",
    "v = np.zeros(n)\n",
    "r = np.zeros(n)\n",
    "# Constants of the model, setting all variables to one for simplicity\n",
    "alpha = 1.0\n",
    "AngMom = 1.0  #  The angular momentum\n",
    "m = 1.0  # scale mass to one\n",
    "c1 = AngMom*AngMom/(m*m)\n",
    "c2 = AngMom*AngMom/m\n",
    "rmin = 0.4#(AngMom*AngMom/m/alpha)\n",
    "# Initial conditions\n",
    "r0 = 0.5\n",
    "v0 = 0.0\n",
    "r[0] = r0\n",
    "v[0] = v0\n",
    "# Start integrating using the Velocity-Verlet  method\n",
    "for i in range(n-1):\n",
    "    # Set up acceleration\n",
    "    a = -alpha/(r[i]**2)+c1/(r[i]**3)\n",
    "    # update velocity, time and position using the Velocity-Verlet method\n",
    "    r[i+1] = r[i] + DeltaT*v[i]+0.5*(DeltaT**2)*a\n",
    "    anew = -alpha/(r[i+1]**2)+c1/(r[i+1]**3)\n",
    "    v[i+1] = v[i] + 0.5*DeltaT*(a+anew)\n",
    "    t[i+1] = t[i] + DeltaT\n",
    "    # Plot position as function of time\n",
    "fig, ax = plt.subplots(2,1)\n",
    "ax[0].set_xlabel('time')\n",
    "ax[0].set_ylabel('radius')\n",
    "ax[0].plot(t,r)\n",
    "ax[1].set_xlabel('time')\n",
    "ax[1].set_ylabel('Velocity')\n",
    "ax[1].plot(t,v)\n",
    "save_fig(\"RadialGVV\")\n",
    "plt.show()"
   ]
  },
  {
   "cell_type": "markdown",
   "metadata": {},
   "source": [
    "Changing the value of the initial position to a value where the energy is positive, leads to an increasing radius with time, a so-called unbound orbit. Choosing on the other hand an initial radius that corresponds to a negative energy and different from the minimum value leads to a radius that oscillates back and forth between two values. \n",
    "\n",
    "### Harmonic Oscillator in two dimensions\n",
    "\n",
    "Consider a particle of mass $m$ in a 2-dimensional harmonic oscillator with potential"
   ]
  },
  {
   "cell_type": "markdown",
   "metadata": {},
   "source": [
    "$$\n",
    "U=\\frac{1}{2}kr^2=\\frac{1}{2}k(x^2+y^2).\n",
    "$$"
   ]
  },
  {
   "cell_type": "markdown",
   "metadata": {},
   "source": [
    "If the orbit has angular momentum $L$, we can find the radius and angular velocity of the circular orbit as well as the b) the angular frequency of small radial perturbations.\n",
    "\n",
    "We consider the effective potential. The radius of a circular orbit is at the minimum of the potential (where the effective force is zero).\n",
    "The potential is plotted here with the parameters $k=m=0.1$ and $L=1.0$."
   ]
  },
  {
   "cell_type": "code",
   "execution_count": 2,
   "metadata": {},
   "outputs": [
    {
     "data": {
      "image/png": "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\n",
      "text/plain": [
       "<Figure size 432x288 with 1 Axes>"
      ]
     },
     "metadata": {
      "needs_background": "light"
     },
     "output_type": "display_data"
    }
   ],
   "source": [
    "# Common imports\n",
    "import numpy as np\n",
    "from math import *\n",
    "import matplotlib.pyplot as plt\n",
    "\n",
    "Deltax = 0.01\n",
    "#set up arrays\n",
    "xinitial = 1.0\n",
    "xfinal = 5.0\n",
    "k = 0.1   # spring constant\n",
    "m = 0.1   # mass, you can change these\n",
    "AngMom = 1.0  #  The angular momentum\n",
    "n = ceil((xfinal-xinitial)/Deltax)\n",
    "x = np.zeros(n)\n",
    "for i in range(n):\n",
    "    x[i] = xinitial+i*Deltax\n",
    "V = np.zeros(n)\n",
    "V = 0.5*k*x*x+0.5*AngMom*AngMom/(m*x*x)\n",
    "# Plot potential\n",
    "fig, ax = plt.subplots()\n",
    "ax.set_xlabel('r[m]')\n",
    "ax.set_ylabel('V[J]')\n",
    "ax.plot(x, V)\n",
    "fig.tight_layout()\n",
    "plt.show()"
   ]
  },
  {
   "cell_type": "markdown",
   "metadata": {},
   "source": [
    "$$\n",
    "\\begin{eqnarray*}\n",
    "U_{\\rm eff}&=&\\frac{1}{2}kr^2+\\frac{L^2}{2mr^2}\n",
    "\\end{eqnarray*}\n",
    "$$"
   ]
  },
  {
   "cell_type": "markdown",
   "metadata": {},
   "source": [
    "The effective potential looks like that of a harmonic oscillator for\n",
    "large $r$, but for small $r$, the centrifugal potential repels the\n",
    "particle from the origin. The combination of the two potentials has a\n",
    "minimum for at some radius $r_{\\rm min}$."
   ]
  },
  {
   "cell_type": "markdown",
   "metadata": {},
   "source": [
    "$$\n",
    "\\begin{eqnarray*}\n",
    "0&=&kr_{\\rm min}-\\frac{L^2}{mr_{\\rm min}^3},\\\\\n",
    "r_{\\rm min}&=&\\left(\\frac{L^2}{mk}\\right)^{1/4},\\\\\n",
    "\\dot{\\theta}&=&\\frac{L}{mr_{\\rm min}^2}=\\sqrt{k/m}.\n",
    "\\end{eqnarray*}\n",
    "$$"
   ]
  },
  {
   "cell_type": "markdown",
   "metadata": {},
   "source": [
    "For particles at $r_{\\rm min}$ with $\\dot{r}=0$, the particle does not\n",
    "accelerate and $r$ stays constant, i.e. a circular orbit. The radius\n",
    "of the circular orbit can be adjusted by changing the angular momentum\n",
    "$L$.\n",
    "\n",
    "For the above parameters this minimum is at $r_{\\rm min}=1$.\n",
    "\n",
    " Now consider small vibrations about $r_{\\rm min}$. The effective spring constant is the curvature of the effective potential."
   ]
  },
  {
   "cell_type": "markdown",
   "metadata": {},
   "source": [
    "$$\n",
    "\\begin{eqnarray*}\n",
    "k_{\\rm eff}&=&\\left.\\frac{d^2}{dr^2}U_{\\rm eff}(r)\\right|_{r=r_{\\rm min}}=k+\\frac{3L^2}{mr_{\\rm min}^4}\\\\\n",
    "&=&4k,\\\\\n",
    "\\omega&=&\\sqrt{k_{\\rm eff}/m}=2\\sqrt{k/m}=2\\dot{\\theta}.\n",
    "\\end{eqnarray*}\n",
    "$$"
   ]
  },
  {
   "cell_type": "markdown",
   "metadata": {},
   "source": [
    "Here, the second step used the result of the last step from part\n",
    "(a). Because the radius oscillates with twice the angular frequency,\n",
    "the orbit has two places where $r$ reaches a minimum in one\n",
    "cycle. This differs from the inverse-square force where there is one\n",
    "minimum in an orbit. One can show that the orbit for the harmonic\n",
    "oscillator is also elliptical, but in this case the center of the\n",
    "potential is at the center of the ellipse, not at one of the foci.\n",
    "\n",
    "The solution is also simple to write down exactly in Cartesian coordinates. The $x$ and $y$ equations of motion separate,"
   ]
  },
  {
   "cell_type": "markdown",
   "metadata": {},
   "source": [
    "$$\n",
    "\\begin{eqnarray*}\n",
    "\\ddot{x}&=&-kx,\\\\\n",
    "\\ddot{y}&=&-ky.\n",
    "\\end{eqnarray*}\n",
    "$$"
   ]
  },
  {
   "cell_type": "markdown",
   "metadata": {},
   "source": [
    "So the general solution can be expressed as"
   ]
  },
  {
   "cell_type": "markdown",
   "metadata": {},
   "source": [
    "$$\n",
    "\\begin{eqnarray*}\n",
    "x&=&A\\cos\\omega_0 t+B\\sin\\omega_0 t,\\\\\n",
    "y&=&C\\cos\\omega_0 t+D\\sin\\omega_0 t.\n",
    "\\end{eqnarray*}\n",
    "$$"
   ]
  },
  {
   "cell_type": "markdown",
   "metadata": {},
   "source": [
    "The code here finds the solution for $x$ and $y$ using the code we developed in homework 4."
   ]
  },
  {
   "cell_type": "code",
<<<<<<< HEAD
   "execution_count": 6,
=======
   "execution_count": 9,
>>>>>>> 866231753e0ac580476be51bc8c5bbe2f2729c95
   "metadata": {},
   "outputs": [
    {
     "data": {
<<<<<<< HEAD
      "image/png": "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\n",
=======
      "image/png": "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\n",
>>>>>>> 866231753e0ac580476be51bc8c5bbe2f2729c95
      "text/plain": [
       "<Figure size 432x288 with 3 Axes>"
      ]
     },
     "metadata": {
      "needs_background": "light"
     },
     "output_type": "display_data"
    }
   ],
   "source": [
    "\n",
    "DeltaT = 0.01\n",
    "#set up arrays \n",
    "tfinal = 10.0\n",
    "n = ceil(tfinal/DeltaT)\n",
    "# set up arrays\n",
    "t = np.zeros(n)\n",
    "v = np.zeros((n,2))\n",
    "r = np.zeros((n,2))\n",
    "radius = np.zeros(n)\n",
    "# Constants of the model\n",
    "k = 0.1   # spring constant\n",
    "m = 0.1   # mass, you can change these\n",
    "omega02 = sqrt(k/m)  # Frequency\n",
    "AngMom = 1.0  #  The angular momentum\n",
    "rmin = (AngMom*AngMom/k/m)**0.25\n",
    "# Initial conditions as compact 2-dimensional arrays\n",
    "#x0 =rmin*0.5; y0 = sqrt(rmin*rmin-x0*x0)\n",
<<<<<<< HEAD
    "x0 = rmin; y0= 0.0\n",
=======
    "x0 = 1.0; y0= 0.0\n",
>>>>>>> 866231753e0ac580476be51bc8c5bbe2f2729c95
    "r0 = np.array([x0,y0]) \n",
    "v0 = np.array([0.0,0.0])\n",
    "r[0] = r0\n",
    "v[0] = v0\n",
    "# Start integrating using the Velocity-Verlet  method\n",
    "for i in range(n-1):\n",
    "    # Set up the acceleration\n",
    "    a =  -r[i]*omega02  \n",
    "    # update velocity, time and position using the Velocity-Verlet method\n",
    "    r[i+1] = r[i] + DeltaT*v[i]+0.5*(DeltaT**2)*a\n",
    "    anew = -r[i+1]*omega02  \n",
    "    v[i+1] = v[i] + 0.5*DeltaT*(a+anew)\n",
    "    t[i+1] = t[i] + DeltaT\n",
    "# Plot position as function of time\n",
    "radius = np.sqrt(r[:,0]**2+r[:,1]**2)\n",
    "fig, ax = plt.subplots(3,1)\n",
    "ax[0].set_xlabel('time')\n",
    "ax[0].set_ylabel('radius squared')\n",
    "ax[0].plot(t,r[:,0]**2+r[:,1]**2)\n",
    "ax[1].set_xlabel('time')\n",
    "ax[1].set_ylabel('x position')\n",
    "ax[1].plot(t,r[:,0])\n",
    "ax[2].set_xlabel('time')\n",
    "ax[2].set_ylabel('y position')\n",
    "ax[2].plot(t,r[:,1])\n",
    "\n",
    "fig.tight_layout()\n",
    "#save_fig(\"2DimHOVV\")\n",
    "plt.show()"
   ]
  },
  {
   "cell_type": "markdown",
   "metadata": {},
   "source": [
    "With some work using double angle formulas, one can calculate"
   ]
  },
  {
   "cell_type": "markdown",
   "metadata": {},
   "source": [
    "$$\n",
    "\\begin{eqnarray*}\n",
    "r^2&=&x^2+y^2\\\\\n",
    "\\nonumber\n",
    "&=&(A^2+C^2)\\cos^2(\\omega_0t)+(B^2+D^2)\\sin^2\\omega_0t+(AB+CD)\\cos(\\omega_0t)\\sin(\\omega_0t)\\\\\n",
    "\\nonumber\n",
    "&=&\\alpha+\\beta\\cos 2\\omega_0 t+\\gamma\\sin 2\\omega_0 t,\\\\\n",
    "\\alpha&=&\\frac{A^2+B^2+C^2+D^2}{2},~~\\beta=\\frac{A^2-B^2+C^2-D^2}{2},~~\\gamma=AB+CD,\\\\\n",
    "r^2&=&\\alpha+(\\beta^2+\\gamma^2)^{1/2}\\cos(2\\omega_0 t-\\delta),~~~\\delta=\\arctan(\\gamma/\\beta),\n",
    "\\end{eqnarray*}\n",
    "$$"
   ]
  },
  {
   "cell_type": "markdown",
   "metadata": {},
   "source": [
    "and see that radius oscillates with frequency $2\\omega_0$. The\n",
    "factor of two comes because the oscillation $x=A\\cos\\omega_0t$ has two\n",
    "maxima for $x^2$, one at $t=0$ and one a half period later.\n",
    "\n",
    "The following code shows first how we can solve this problem using the radial degrees of freedom only."
   ]
  },
  {
   "cell_type": "code",
   "execution_count": 7,
   "metadata": {},
   "outputs": [
    {
     "data": {
      "image/png": "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\n",
      "text/plain": [
       "<Figure size 432x288 with 2 Axes>"
      ]
     },
     "metadata": {
      "needs_background": "light"
     },
     "output_type": "display_data"
    }
   ],
   "source": [
    "DeltaT = 0.01\n",
    "#set up arrays \n",
    "tfinal = 10.0\n",
    "n = ceil(tfinal/DeltaT)\n",
    "# set up arrays for t, v and r\n",
    "t = np.zeros(n)\n",
    "v = np.zeros(n)\n",
    "r = np.zeros(n)\n",
    "E = np.zeros(n)\n",
    "# Constants of the model\n",
    "AngMom = 1.0  #  The angular momentum\n",
    "m = 0.1\n",
    "k = 0.1\n",
    "omega02 = k/m\n",
    "c1 = AngMom*AngMom/(m*m)\n",
    "c2 = AngMom*AngMom/m\n",
    "rmin = (AngMom*AngMom/k/m)**0.25\n",
    "# Initial conditions\n",
    "r0 = 2.5#rmin\n",
    "v0 = 0.0\n",
    "r[0] = r0\n",
    "v[0] = v0\n",
    "E[0] = 0.5*m*v0*v0+0.5*k*r0*r0+0.5*c2/(r0*r0)\n",
    "# Start integrating using the Velocity-Verlet  method\n",
    "for i in range(n-1):\n",
    "    # Set up acceleration\n",
    "    a = -r[i]*omega02+c1/(r[i]**3)    \n",
    "    # update velocity, time and position using the Velocity-Verlet method\n",
    "    r[i+1] = r[i] + DeltaT*v[i]+0.5*(DeltaT**2)*a\n",
    "    anew = -r[i+1]*omega02+c1/(r[i+1]**3)\n",
    "    v[i+1] = v[i] + 0.5*DeltaT*(a+anew)\n",
    "    t[i+1] = t[i] + DeltaT\n",
    "    E[i+1] = 0.5*m*v[i+1]*v[i+1]+0.5*k*r[i+1]*r[i+1]+0.5*c2/(r[i+1]*r[i+1])\n",
    "    # Plot position as function of time\n",
    "fig, ax = plt.subplots(2,1)\n",
    "ax[0].set_xlabel('time')\n",
    "ax[0].set_ylabel('radius')\n",
    "ax[0].plot(t,r)\n",
    "ax[1].set_xlabel('time')\n",
    "ax[1].set_ylabel('Energy')\n",
    "ax[1].plot(t,E)\n",
    "#ave_fig(\"RadialHOVV\")\n",
    "plt.show()"
   ]
  },
  {
   "cell_type": "markdown",
   "metadata": {},
   "source": [
    "## Stability of Orbits\n",
    "\n",
    "The effective force can be extracted from the effective potential, $U_{\\rm eff}$. Beginning from the equations of motion, Eq. ([2](#eq:radialeqofmotion)), for $r$,"
   ]
  },
  {
   "cell_type": "markdown",
   "metadata": {},
   "source": [
    "$$\n",
    "\\begin{eqnarray}\n",
    "m\\ddot{r}&=&F+\\frac{L^2}{mr^3}\\\\\n",
    "\\nonumber\n",
    "&=&F_{\\rm eff}\\\\\n",
    "\\nonumber\n",
    "&=&-\\partial_rU_{\\rm eff},\\\\\n",
    "\\nonumber\n",
    "F_{\\rm eff}&=&-\\partial_r\\left[U(r)+(L^2/2mr^2)\\right].\n",
    "\\end{eqnarray}\n",
    "$$"
   ]
  },
  {
   "cell_type": "markdown",
   "metadata": {},
   "source": [
    "For a circular orbit, the radius must be fixed as a function of time,\n",
    "so one must be at a maximum or a minimum of the effective\n",
    "potential. However, if one is at a maximum of the effective potential\n",
    "the radius will be unstable. For the attractive Coulomb force the\n",
    "effective potential will be dominated by the $-\\alpha/r$ term for\n",
    "large $r$ because the centrifugal part falls off more quickly, $\\sim\n",
    "1/r^2$. At low $r$ the centrifugal piece wins and the effective\n",
    "potential is repulsive. Thus, the potential must have a minimum\n",
    "somewhere with negative potential. The circular orbits are then stable\n",
    "to perturbation.\n",
    "\n",
    "\n",
    "The effective potential is sketched for two cases, a $1/r$ attractive\n",
    "potential and a $1/r^3$ attractive potential. The $1/r$ case has a\n",
    "stable minimum, whereas the circular orbit in the $1/r^3$ case is\n",
    "unstable.\n",
    "\n",
    "\n",
    "If one considers a potential that falls as $1/r^3$, the situation is\n",
    "reversed and the point where $\\partial_rU$ disappears will be a local\n",
    "maximum rather than a local minimum. **Fig to come here with code**\n",
    "\n",
    "The repulsive centrifugal piece dominates at large $r$ and the attractive\n",
    "Coulomb piece wins out at small $r$. The circular orbit is then at a\n",
    "maximum of the effective potential and the orbits are unstable. It is\n",
    "the clear that for potentials that fall as $r^n$, that one must have\n",
    "$n>-2$ for the orbits to be stable.\n",
    "\n",
    "\n",
    "Consider a potential $U(r)=\\beta r$. For a particle of mass $m$ with\n",
    "angular momentum $L$, find the angular frequency of a circular\n",
    "orbit. Then find the angular frequency for small radial perturbations.\n",
    "\n",
    "\n",
    "For the circular orbit you search for the position $r_{\\rm min}$ where the effective potential is minimized,"
   ]
  },
  {
   "cell_type": "markdown",
   "metadata": {},
   "source": [
    "$$\n",
    "\\begin{eqnarray*}\n",
    "\\partial_r\\left\\{\\beta r+\\frac{L^2}{2mr^2}\\right\\}&=&0,\\\\\n",
    "\\beta&=&\\frac{L^2}{mr_{\\rm min}^3},\\\\\n",
    "r_{\\rm min}&=&\\left(\\frac{L^2}{\\beta m}\\right)^{1/3},\\\\\n",
    "\\dot{\\theta}&=&\\frac{L}{mr_{\\rm min}^2}=\\frac{\\beta^{2/3}}{(mL)^{1/3}}\n",
    "\\end{eqnarray*}\n",
    "$$"
   ]
  },
  {
   "cell_type": "markdown",
   "metadata": {},
   "source": [
    "Now, we can find the angular frequency of small perturbations about the circular orbit. To do this we find the effective spring constant for the effective potential,"
   ]
  },
  {
   "cell_type": "markdown",
   "metadata": {},
   "source": [
    "$$\n",
    "\\begin{eqnarray*}\n",
    "k_{\\rm eff}&=&\\partial_r^2 \\left.U_{\\rm eff}\\right|_{r_{\\rm min}}\\\\\n",
    "&=&\\frac{3L^2}{mr_{\\rm min}^4},\\\\\n",
    "\\omega&=&\\sqrt{\\frac{k_{\\rm eff}}{m}}\\\\\n",
    "&=&\\frac{\\beta^{2/3}}{(mL)^{1/3}}\\sqrt{3}.\n",
    "\\end{eqnarray*}\n",
    "$$"
   ]
  },
  {
   "cell_type": "markdown",
   "metadata": {},
   "source": [
    "If the two frequencies, $\\dot{\\theta}$ and $\\omega$, differ by an\n",
    "integer factor, the orbit's trajectory will repeat itself each time\n",
    "around. This is the case for the inverse-square force,\n",
    "$\\omega=\\dot{\\theta}$, and for the harmonic oscillator,\n",
    "$\\omega=2\\dot{\\theta}$. In this case, $\\omega=\\sqrt{3}\\dot{\\theta}$,\n",
    "and the angles at which the maxima and minima occur change with each\n",
    "orbit.\n",
    "\n",
    "\n",
    "\n",
    "## Scattering and Cross Sections\n",
    "\n",
    "Scattering experiments don't measure entire trajectories. For elastic\n",
    "collisions, they measure the distribution of final scattering angles\n",
    "at best. Most experiments use targets thin enough so that the number\n",
    "of scatterings is typically zero or one. The cross section, $\\sigma$,\n",
    "describes the cross-sectional area for particles to scatter with an\n",
    "individual target atom or nucleus. Cross section measurements form the\n",
    "basis for MANY fields of physics. BThe cross section, and the\n",
    "differential cross section, encapsulates everything measurable for a\n",
    "collision where all that is measured is the final state, e.g. the\n",
    "outgoing particle had momentum $\\boldsymbol{p}_f$. y studying cross sections,\n",
    "one can infer information about the potential interaction between the\n",
    "two particles. Inferring, or constraining, the potential from the\n",
    "cross section is a classic {\\it inverse} problem. Collisions are\n",
    "either elastic or inelastic. Elastic collisions are those for which\n",
    "the two bodies are in the same internal state before and after the\n",
    "collision. If the collision excites one of the participants into a\n",
    "higher state, or transforms the particles into different species, or\n",
    "creates additional particles, the collision is inelastic. Here, we\n",
    "consider only elastic collisions.\n",
    "\n",
    "For Coulomb forces, the cross section is infinite because the range of\n",
    "the Coulomb force is infinite, but for interactions such as the strong\n",
    "interaction in nuclear or particle physics, there is no long-range\n",
    "force and cross-sections are finite. Even for Coulomb forces, the part\n",
    "of the cross section that corresponds to a specific scattering angle,\n",
    "$d\\sigma/d\\Omega$, which is a function of the scattering angle\n",
    "$\\theta_s$ is still finite.\n",
    "\n",
    "If a particle travels through a thin target, the chance the particle\n",
    "scatters is $P_{\\rm scatt}=\\sigma dN/dA$, where $dN/dA$ is the number\n",
    "of scattering centers per area the particle encounters. If the density\n",
    "of the target is $\\rho$ particles per volume, and if the thickness of\n",
    "the target is $t$, the areal density (number of target scatterers per\n",
    "area) is $dN/dA=\\rho t$. Because one wishes to quantify the collisions\n",
    "independently of the target, experimentalists measure scattering\n",
    "probabilities, then divide by the areal density to obtain\n",
    "cross-sections,"
   ]
  },
  {
   "cell_type": "markdown",
   "metadata": {},
   "source": [
    "$$\n",
    "\\begin{eqnarray}\n",
    "\\sigma=\\frac{P_{\\rm scatt}}{dN/dA}.\n",
    "\\end{eqnarray}\n",
    "$$"
   ]
  },
  {
   "cell_type": "markdown",
   "metadata": {},
   "source": [
    "Instead of merely stating that a particle collided, one can measure\n",
    "the probability the particle scattered by a given angle. The\n",
    "scattering angle $\\theta_s$ is defined so that at zero the particle is\n",
    "unscattered and at $\\theta_s=\\pi$ the particle is scattered directly\n",
    "backward. Scattering angles are often described in the center-of-mass\n",
    "frame, but that is a detail we will neglect for this first discussion,\n",
    "where we will consider the scattering of particles moving classically\n",
    "under the influence of fixed potentials $U(\\boldsymbol{r})$. Because the\n",
    "distribution of scattering angles can be measured, one expresses the\n",
    "differential cross section,"
   ]
  },
  {
   "cell_type": "markdown",
   "metadata": {},
   "source": [
    "<!-- Equation labels as ordinary links -->\n",
    "<div id=\"_auto5\"></div>\n",
    "\n",
    "$$\n",
    "\\begin{equation}\n",
    "\\frac{d^2\\sigma}{d\\cos\\theta_s~d\\phi}.\n",
    "\\label{_auto5} \\tag{10}\n",
    "\\end{equation}\n",
    "$$"
   ]
  },
  {
   "cell_type": "markdown",
   "metadata": {},
   "source": [
    "Usually, the literature expresses differential cross sections as"
   ]
  },
  {
   "cell_type": "markdown",
   "metadata": {},
   "source": [
    "<!-- Equation labels as ordinary links -->\n",
    "<div id=\"_auto6\"></div>\n",
    "\n",
    "$$\n",
    "\\begin{equation}\n",
    "d\\sigma/d\\Omega=\\frac{d\\sigma}{d\\cos\\theta d\\phi}=\\frac{1}{2\\pi}\\frac{d\\sigma}{d\\cos\\theta},\n",
    "\\label{_auto6} \\tag{11}\n",
    "\\end{equation}\n",
    "$$"
   ]
  },
  {
   "cell_type": "markdown",
   "metadata": {},
   "source": [
    "where the last equivalency is true when the scattering does not depend\n",
    "on the azimuthal angle $\\phi$, as is the case for spherically\n",
    "symmetric potentials.\n",
    "\n",
    "The differential solid angle $d\\Omega$ can be thought of as the area\n",
    "subtended by a measurement, $dA_d$, divided by $r^2$, where $r$ is the\n",
    "distance to the detector,"
   ]
  },
  {
   "cell_type": "markdown",
   "metadata": {},
   "source": [
    "$$\n",
    "\\begin{eqnarray}\n",
    "dA_d=r^2 d\\Omega.\n",
    "\\end{eqnarray}\n",
    "$$"
   ]
  },
  {
   "cell_type": "markdown",
   "metadata": {},
   "source": [
    "With this definition $d\\sigma/d\\Omega$ is independent of the distance\n",
    "from which one places the detector, or the size of the detector (as\n",
    "long as it is small).\n",
    "\n",
    "Differential scattering cross sections are calculated by assuming a\n",
    "random distribution of impact parameters $b$. These represent the\n",
    "distance in the $xy$ plane for particles moving in the $z$ direction\n",
    "relative to the scattering center. An impact parameter $b=0$ refers to\n",
    "being aimed directly at the target's center. The impact parameter\n",
    "describes the transverse distance from the $z=0$ axis for the\n",
    "trajectory when it is still far away from the scattering center and\n",
    "has not yet passed it. The differential cross section can be expressed\n",
    "in terms of the impact parameter,"
   ]
  },
  {
   "cell_type": "markdown",
   "metadata": {},
   "source": [
    "<!-- Equation labels as ordinary links -->\n",
    "<div id=\"_auto7\"></div>\n",
    "\n",
    "$$\n",
    "\\begin{equation}\n",
    "d\\sigma=2\\pi bdb,\n",
    "\\label{_auto7} \\tag{12}\n",
    "\\end{equation}\n",
    "$$"
   ]
  },
  {
   "cell_type": "markdown",
   "metadata": {},
   "source": [
    "which is the area of a thin ring of radius $b$ and thickness $db$. In\n",
    "classical physics, one can calculate the trajectory given the incoming\n",
    "kinetic energy $E$ and the impact parameter if one knows the mass and\n",
    "potential. From the trajectory, one then finds the scattering angle\n",
    "$\\theta_s(b)$. The differential cross section is then"
   ]
  },
  {
   "cell_type": "markdown",
   "metadata": {},
   "source": [
    "<!-- Equation labels as ordinary links -->\n",
    "<div id=\"_auto8\"></div>\n",
    "\n",
    "$$\n",
    "\\begin{equation}\n",
    "\\frac{d\\sigma}{d\\Omega}=\\frac{1}{2\\pi}\\frac{d\\sigma}{d\\cos\\theta_s}=b\\frac{db}{d\\cos\\theta_s}=\\frac{b}{(d/db)\\cos\\theta_s(b)}.\n",
    "\\label{_auto8} \\tag{13}\n",
    "\\end{equation}\n",
    "$$"
   ]
  },
  {
   "cell_type": "markdown",
   "metadata": {},
   "source": [
    "Typically, one would calculate $\\cos\\theta_s$ and $(d/db)\\cos\\theta_s$\n",
    "as functions of $b$. This is sufficient to plot the differential cross\n",
    "section as a function of $\\theta_s$.\n",
    "\n",
    "The total cross section is"
   ]
  },
  {
   "cell_type": "markdown",
   "metadata": {},
   "source": [
    "<!-- Equation labels as ordinary links -->\n",
    "<div id=\"_auto9\"></div>\n",
    "\n",
    "$$\n",
    "\\begin{equation}\n",
    "\\sigma_{\\rm tot}=\\int d\\Omega\\frac{d\\sigma}{d\\Omega}=2\\pi\\int d\\cos\\theta_s~\\frac{d\\sigma}{d\\Omega}. \n",
    "\\label{_auto9} \\tag{14}\n",
    "\\end{equation}\n",
    "$$"
   ]
  },
  {
   "cell_type": "markdown",
   "metadata": {},
   "source": [
    "Even if the total cross section is infinite, e.g. Coulomb forces, one\n",
    "can still have a finite differential cross section as we will see\n",
    "later on.\n",
    "\n",
    "\n",
    "An asteroid of mass $m$ and kinetic energy $E$ approaches a planet of\n",
    "radius $R$ and mass $M$. What is the cross section for the asteroid to\n",
    "impact the planet?\n",
    "\n",
    "### Solution\n",
    "\n",
    "Calculate the maximum impact parameter, $b_{\\rm max}$, for which the asteroid will hit the planet. The total cross  section for impact is $\\sigma_{\\rm impact}=\\pi b_{\\rm max}^2$. The maximum cross-section can be found with the help of angular momentum conservation. The asteroid's incoming momentum is $p_0=\\sqrt{2mE}$ and the angular momentum is $L=p_0b$. If the asteroid just grazes the planet, it is moving with zero radial kinetic energy at impact. Combining energy and angular momentum conservation and having $p_f$ refer to the momentum of the asteroid at a distance $R$,"
   ]
  },
  {
   "cell_type": "markdown",
   "metadata": {},
   "source": [
    "$$\n",
    "\\begin{eqnarray*}\n",
    "\\frac{p_f^2}{2m}-\\frac{GMm}{R}&=&E,\\\\\n",
    "p_fR&=&p_0b_{\\rm max},\n",
    "\\end{eqnarray*}\n",
    "$$"
   ]
  },
  {
   "cell_type": "markdown",
   "metadata": {},
   "source": [
    "allows one to solve for $b_{\\rm max}$,"
   ]
  },
  {
   "cell_type": "markdown",
   "metadata": {},
   "source": [
    "$$\n",
    "\\begin{eqnarray*}\n",
    "b_{\\rm max}&=&R\\frac{p_f}{p_0}\\\\\n",
    "&=&R\\frac{\\sqrt{2m(E+GMm/R)}}{\\sqrt{2mE}}\\\\\n",
    "\\sigma_{\\rm impact}&=&\\pi R^2\\frac{E+GMm/R}{E}.\n",
    "\\end{eqnarray*}\n",
    "$$"
   ]
  },
  {
   "cell_type": "markdown",
   "metadata": {},
   "source": [
    "## Center-of-Mass Coordinates\n",
    "\n",
    "Thus far, we have considered the trajectory as if the force is\n",
    "centered around a fixed point. For two bodies interacting only with\n",
    "one another, both masses circulate around the center of mass. One\n",
    "might think that solutions would become more complex when both\n",
    "particles move, but we will see here that the problem can be reduced\n",
    "to one with a single body moving according to a fixed force by\n",
    "expressing the trajectories for $\\boldsymbol{r}_1$ and $\\boldsymbol{r}_2$ into the\n",
    "center-of-mass coordinate $\\boldsymbol{R}_{\\rm cm}$ and the relative\n",
    "coordinate $\\boldsymbol{r}$,"
   ]
  },
  {
   "cell_type": "markdown",
   "metadata": {},
   "source": [
    "$$\n",
    "\\begin{eqnarray}\n",
    "\\boldsymbol{R}_{\\rm cm}&\\equiv&\\frac{m_1\\boldsymbol{r}_1+m_2\\boldsymbol{r}_2}{m_1+m_2},\\\\\n",
    "\\nonumber\n",
    "\\boldsymbol{r}&\\equiv&\\boldsymbol{r}_1-\\boldsymbol{r_2}.\n",
    "\\end{eqnarray}\n",
    "$$"
   ]
  },
  {
   "cell_type": "markdown",
   "metadata": {},
   "source": [
    "Here, we assume the two particles interact only with one another, so\n",
    "$\\boldsymbol{F}_{12}=-\\boldsymbol{F}_{21}$ (where $\\boldsymbol{F}_{ij}$ is the force on $i$\n",
    "due to $j$. The equations of motion then become"
   ]
  },
  {
   "cell_type": "markdown",
   "metadata": {},
   "source": [
    "$$\n",
    "\\begin{eqnarray}\n",
    "\\ddot{\\boldsymbol{R}}_{\\rm cm}&=&\\frac{1}{m_1+m_2}\\left\\{m_1\\ddot{\\boldsymbol{r}}_1+m_2\\ddot{\\boldsymbol{r}}_2\\right\\}\\\\\n",
    "\\nonumber\n",
    "&=&\\frac{1}{m_1+m_2}\\left\\{\\boldsymbol{F}_{12}+\\boldsymbol{F}_{21}\\right\\}=0.\\\\\n",
    "\\ddot{\\boldsymbol{r}}&=&\\ddot{\\boldsymbol{r}}_1-\\ddot{\\boldsymbol{r}}_2=\\left(\\frac{\\boldsymbol{F}_{12}}{m_1}-\\frac{\\boldsymbol{F}_{21}}{m_2}\\right)\\\\\n",
    "\\nonumber\n",
    "&=&\\left(\\frac{1}{m_1}+\\frac{1}{m_2}\\right)\\boldsymbol{F}_{12}.\n",
    "\\end{eqnarray}\n",
    "$$"
   ]
  },
  {
   "cell_type": "markdown",
   "metadata": {},
   "source": [
    "The first expression simply states that the center of mass coordinate\n",
    "$\\boldsymbol{R}_{\\rm cm}$ moves at a fixed velocity. The second expression\n",
    "can be rewritten in terms of the reduced mass $\\mu$."
   ]
  },
  {
   "cell_type": "markdown",
   "metadata": {},
   "source": [
    "$$\n",
    "\\begin{eqnarray}\n",
    "\\mu \\ddot{\\boldsymbol{r}}&=&\\boldsymbol{F}_{12},\\\\\n",
    "\\frac{1}{\\mu}&=&\\frac{1}{m_1}+\\frac{1}{m_2},~~~~\\mu=\\frac{m_1m_2}{m_1+m_2}.\n",
    "\\end{eqnarray}\n",
    "$$"
   ]
  },
  {
   "cell_type": "markdown",
   "metadata": {},
   "source": [
    "Thus, one can treat the trajectory as a one-body problem where the\n",
    "reduced mass is $\\mu$, and a second trivial problem for the center of\n",
    "mass. The reduced mass is especially convenient when one is\n",
    "considering gravitational problems because then"
   ]
  },
  {
   "cell_type": "markdown",
   "metadata": {},
   "source": [
    "$$\n",
    "\\begin{eqnarray}\n",
    "\\mu \\ddot{r}&=&-\\frac{Gm_1m_2}{r^2}\\hat{r}\\\\\n",
    "\\nonumber\n",
    "&=&-\\frac{GM\\mu}{r^2}\\hat{r},~~~M\\equiv m_1+m_2.\n",
    "\\end{eqnarray}\n",
    "$$"
   ]
  },
  {
   "cell_type": "markdown",
   "metadata": {},
   "source": [
    "For the gravitational problem, the reduced mass then falls out and the\n",
    "trajectory depends only on the total mass $M$.\n",
    "\n",
    "The kinetic energy and momenta also have analogues in center-of-mass\n",
    "coordinates. The total and relative momenta are"
   ]
  },
  {
   "cell_type": "markdown",
   "metadata": {},
   "source": [
    "$$\n",
    "\\begin{eqnarray}\n",
    "\\boldsymbol{P}&\\equiv&\\boldsymbol{p}_1+\\boldsymbol{p}_2=M\\dot{\\boldsymbol{R}}_{\\rm cm},\\\\\n",
    "\\nonumber\n",
    "\\boldsymbol{q}&\\equiv&\\mu\\dot{\\boldsymbol{r}}.\n",
    "\\end{eqnarray}\n",
    "$$"
   ]
  },
  {
   "cell_type": "markdown",
   "metadata": {},
   "source": [
    "With these definitions, a little algebra shows that the kinetic energy becomes"
   ]
  },
  {
   "cell_type": "markdown",
   "metadata": {},
   "source": [
    "$$\n",
    "\\begin{eqnarray}\n",
    "T&=&\\frac{1}{2}m_1|\\boldsymbol{v}_1|^2+\\frac{1}{2}m_2|\\boldsymbol{v}_2|^2\\\\\n",
    "\\nonumber\n",
    "&=&\\frac{1}{2}M|\\dot{\\boldsymbol{R}}_{\\rm cm}|^2\n",
    "+\\frac{1}{2}\\mu|\\dot{\\boldsymbol{r}}|^2\\\\\n",
    "\\nonumber\n",
    "&=&\\frac{P^2}{2M}+\\frac{q^2}{2\\mu}.\n",
    "\\end{eqnarray}\n",
    "$$"
   ]
  },
  {
   "cell_type": "markdown",
   "metadata": {},
   "source": [
    "The standard strategy is to transform into the center of mass frame,\n",
    "then treat the problem as one of a single particle of mass $\\mu$\n",
    "undergoing a force $\\boldsymbol{F}_{12}$. Scattering angles can also be\n",
    "expressed in this frame, then transformed into the lab frame. In\n",
    "practice, one sees examples in the literature where $d\\sigma/d\\Omega$\n",
    "expressed in both the \"center-of-mass\" and in the \"laboratory\"\n",
    "frame.\n",
    "\n",
    "## Rutherford Scattering\n",
    "\n",
    "This refers to the calculation of $d\\sigma/d\\Omega$ due to an inverse\n",
    "square force, $F_{12}=\\pm\\alpha/r^2$ for repulsive/attractive\n",
    "interaction. Rutherford compared the scattering of $\\alpha$ particles\n",
    "($^4$He nuclei) off of a nucleus and found the scattering angle at\n",
    "which the formula began to fail. This corresponded to the impact\n",
    "parameter for which the trajectories would strike the nucleus. This\n",
    "provided the first measure of the size of the atomic nucleus. At the\n",
    "time, the distribution of the positive charge (the protons) was\n",
    "considered to be just as spread out amongst the atomic volume as the\n",
    "electrons. After Rutherford's experiment, it was clear that the radius\n",
    "of the nucleus tended to be roughly 4 orders of magnitude smaller than\n",
    "that of the atom, which is less than the size of a football relative\n",
    "to Spartan Stadium.\n",
    "\n",
    "\n",
    "\n",
    "The incoming and outgoing angles of the trajectory are at\n",
    "$\\pm\\theta'$. They are related to the scattering angle by\n",
    "$2\\theta'=\\pi+\\theta_s$.\n",
    "\n",
    "In order to calculate differential cross section, we must find how the\n",
    "impact parameter is related to the scattering angle. This requires\n",
    "analysis of the trajectory. We consider our previous expression for\n",
    "the trajectory where we derived the elliptic form for the trajectory,\n",
    "Eq. ([9](#eq:Ctrajectory)). For that case we considered an attractive\n",
    "force with the particle's energy being negative, i.e. it was\n",
    "bound. However, the same form will work for positive energy, and\n",
    "repulsive forces can be considered by simple flipping the sign of\n",
    "$\\alpha$. For positive energies, the trajectories will be hyperbolas,\n",
    "rather than ellipses, with the asymptotes of the trajectories\n",
    "representing the directions of the incoming and outgoing\n",
    "tracks. Rewriting Eq. ([9](#eq:Ctrajectory)),"
   ]
  },
  {
   "cell_type": "markdown",
   "metadata": {},
   "source": [
    "<!-- Equation labels as ordinary links -->\n",
    "<div id=\"eq:ruthtraj\"></div>\n",
    "\n",
    "$$\n",
    "\\begin{equation}\\label{eq:ruthtraj} \\tag{15}\n",
    "r=\\frac{1}{\\frac{m\\alpha}{L^2}+A\\cos\\theta}.\n",
    "\\end{equation}\n",
    "$$"
   ]
  },
  {
   "cell_type": "markdown",
   "metadata": {},
   "source": [
    "Once $A$ is large enough, which will happen when the energy is\n",
    "positive, the denominator will become negative for a range of\n",
    "$\\theta$. This is because the scattered particle will never reach\n",
    "certain angles. The asymptotic angles $\\theta'$ are those for which\n",
    "the denominator goes to zero,"
   ]
  },
  {
   "cell_type": "markdown",
   "metadata": {},
   "source": [
    "<!-- Equation labels as ordinary links -->\n",
    "<div id=\"_auto10\"></div>\n",
    "\n",
    "$$\n",
    "\\begin{equation}\n",
    "\\cos\\theta'=-\\frac{m\\alpha}{AL^2}.\n",
    "\\label{_auto10} \\tag{16}\n",
    "\\end{equation}\n",
    "$$"
   ]
  },
  {
   "cell_type": "markdown",
   "metadata": {},
   "source": [
    "The trajectory's point of closest approach is at $\\theta=0$ and the\n",
    "two angles $\\theta'$, which have this value of $\\cos\\theta'$, are the\n",
    "angles of the incoming and outgoing particles. From\n",
    "Fig (**to come**), one can see that the scattering angle\n",
    "$\\theta_s$ is given by,"
   ]
  },
  {
   "cell_type": "markdown",
   "metadata": {},
   "source": [
    "<!-- Equation labels as ordinary links -->\n",
    "<div id=\"eq:sthetover2\"></div>\n",
    "\n",
    "$$\n",
    "\\begin{eqnarray}\n",
    "\\label{eq:sthetover2} \\tag{17}\n",
    "2\\theta'-\\pi&=&\\theta_s,~~~\\theta'=\\frac{\\pi}{2}+\\frac{\\theta_s}{2},\\\\\n",
    "\\nonumber\n",
    "\\sin(\\theta_s/2)&=&-\\cos\\theta'\\\\\n",
    "\\nonumber\n",
    "&=&\\frac{m\\alpha}{AL^2}.\n",
    "\\end{eqnarray}\n",
    "$$"
   ]
  },
  {
   "cell_type": "markdown",
   "metadata": {},
   "source": [
    "Now that we have $\\theta_s$ in terms of $m,\\alpha,L$ and $A$, we wish\n",
    "to re-express $L$ and $A$ in terms of the impact parameter $b$ and the\n",
    "energy $E$. This will set us up to calculate the differential cross\n",
    "section, which requires knowing $db/d\\theta_s$. It is easy to write\n",
    "the angular momentum as"
   ]
  },
  {
   "cell_type": "markdown",
   "metadata": {},
   "source": [
    "<!-- Equation labels as ordinary links -->\n",
    "<div id=\"_auto11\"></div>\n",
    "\n",
    "$$\n",
    "\\begin{equation}\n",
    "L^2=p_0^2b^2=2mEb^2.\n",
    "\\label{_auto11} \\tag{18}\n",
    "\\end{equation}\n",
    "$$"
   ]
  },
  {
   "cell_type": "markdown",
   "metadata": {},
   "source": [
    "Finding $A$ is more complicated. To accomplish this we realize that\n",
    "the point of closest approach occurs at $\\theta=0$, so from\n",
    "Eq. ([15](#eq:ruthtraj))"
   ]
  },
  {
   "cell_type": "markdown",
   "metadata": {},
   "source": [
    "<!-- Equation labels as ordinary links -->\n",
    "<div id=\"eq:rminofA\"></div>\n",
    "\n",
    "$$\n",
    "\\begin{eqnarray}\n",
    "\\label{eq:rminofA} \\tag{19}\n",
    "\\frac{1}{r_{\\rm min}}&=&\\frac{m\\alpha}{L^2}+A,\\\\\n",
    "\\nonumber\n",
    "A&=&\\frac{1}{r_{\\rm min}}-\\frac{m\\alpha}{L^2}.\n",
    "\\end{eqnarray}\n",
    "$$"
   ]
  },
  {
   "cell_type": "markdown",
   "metadata": {},
   "source": [
    "Next, $r_{\\rm min}$ can be found in terms of the energy because at the\n",
    "point of closest approach the kinetic energy is due purely to the\n",
    "motion perpendicular to $\\hat{r}$ and"
   ]
  },
  {
   "cell_type": "markdown",
   "metadata": {},
   "source": [
    "<!-- Equation labels as ordinary links -->\n",
    "<div id=\"_auto12\"></div>\n",
    "\n",
    "$$\n",
    "\\begin{equation}\n",
    "E=-\\frac{\\alpha}{r_{\\rm min}}+\\frac{L^2}{2mr_{\\rm min}^2}.\n",
    "\\label{_auto12} \\tag{20}\n",
    "\\end{equation}\n",
    "$$"
   ]
  },
  {
   "cell_type": "markdown",
   "metadata": {},
   "source": [
    "One can solve the quadratic equation for $1/r_{\\rm min}$,"
   ]
  },
  {
   "cell_type": "markdown",
   "metadata": {},
   "source": [
    "<!-- Equation labels as ordinary links -->\n",
    "<div id=\"_auto13\"></div>\n",
    "\n",
    "$$\n",
    "\\begin{equation}\n",
    "\\frac{1}{r_{\\rm min}}=\\frac{m\\alpha}{L^2}+\\sqrt{(m\\alpha/L^2)^2+2mE/L^2}.\n",
    "\\label{_auto13} \\tag{21}\n",
    "\\end{equation}\n",
    "$$"
   ]
  },
  {
   "cell_type": "markdown",
   "metadata": {},
   "source": [
    "We can plug the expression for $r_{\\rm min}$ into the expression for $A$, Eq. ([19](#eq:rminofA)),"
   ]
  },
  {
   "cell_type": "markdown",
   "metadata": {},
   "source": [
    "<!-- Equation labels as ordinary links -->\n",
    "<div id=\"_auto14\"></div>\n",
    "\n",
    "$$\n",
    "\\begin{equation}\n",
    "A=\\sqrt{(m\\alpha/L^2)^2+2mE/L^2}=\\sqrt{(\\alpha^2/(4E^2b^4)+1/b^2}\n",
    "\\label{_auto14} \\tag{22}\n",
    "\\end{equation}\n",
    "$$"
   ]
  },
  {
   "cell_type": "markdown",
   "metadata": {},
   "source": [
    "Finally, we insert the expression for $A$ into that for the scattering angle, Eq. ([17](#eq:sthetover2)),"
   ]
  },
  {
   "cell_type": "markdown",
   "metadata": {},
   "source": [
    "<!-- Equation labels as ordinary links -->\n",
    "<div id=\"eq:scattangle\"></div>\n",
    "\n",
    "$$\n",
    "\\begin{eqnarray}\n",
    "\\label{eq:scattangle} \\tag{23}\n",
    "\\sin(\\theta_s/2)&=&\\frac{m\\alpha}{AL^2}\\\\\n",
    "\\nonumber\n",
    "&=&\\frac{a}{\\sqrt{a^2+b^2}}, ~~a\\equiv \\frac{\\alpha}{2E}\n",
    "\\end{eqnarray}\n",
    "$$"
   ]
  },
  {
   "cell_type": "markdown",
   "metadata": {},
   "source": [
    "The differential cross section can now be found by differentiating the\n",
    "expression for $\\theta_s$ with $b$,"
   ]
  },
  {
   "cell_type": "markdown",
   "metadata": {},
   "source": [
    "<!-- Equation labels as ordinary links -->\n",
    "<div id=\"eq:rutherford\"></div>\n",
    "\n",
    "$$\n",
    "\\begin{eqnarray}\n",
    "\\label{eq:rutherford} \\tag{24}\n",
    "\\frac{1}{2}\\cos(\\theta_s/2)d\\theta_s&=&\\frac{ab~db}{(a^2+b^2)^{3/2}}=\\frac{bdb}{a^2}\\sin^3(\\theta_s/2),\\\\\n",
    "\\nonumber\n",
    "d\\sigma&=&2\\pi bdb=\\frac{\\pi a^2}{\\sin^3(\\theta_s/2)}\\cos(\\theta_s/2)d\\theta_s\\\\\n",
    "\\nonumber\n",
    "&=&\\frac{\\pi a^2}{2\\sin^4(\\theta_s/2)}\\sin\\theta_s d\\theta_s\\\\\n",
    "\\nonumber\n",
    "\\frac{d\\sigma}{d\\cos\\theta_s}&=&\\frac{\\pi a^2}{2\\sin^4(\\theta_s/2)},\\\\\n",
    "\\nonumber\n",
    "\\frac{d\\sigma}{d\\Omega}&=&\\frac{a^2}{4\\sin^4(\\theta_s/2)}.\n",
    "\\end{eqnarray}\n",
    "$$"
   ]
  },
  {
   "cell_type": "markdown",
   "metadata": {},
   "source": [
    "where $a= \\alpha/2E$. This the Rutherford formula for the differential\n",
    "cross section. It diverges as $\\theta_s\\rightarrow 0$ because\n",
    "scatterings with arbitrarily large impact parameters still scatter to\n",
    "arbitrarily small scattering angles. The expression for\n",
    "$d\\sigma/d\\Omega$ is the same whether the interaction is positive or\n",
    "negative.\n",
    "\n",
    "\n",
    "Consider a particle of mass $m$ and charge $z$ with kinetic energy $E$\n",
    "(Let it be the center-of-mass energy) incident on a heavy nucleus of\n",
    "mass $M$ and charge $Z$ and radius $R$. Find the angle at which the\n",
    "Rutherford scattering formula breaks down.\n",
    "\n",
    "### Solution\n",
    "\n",
    "Let $\\alpha=Zze^2/(4\\pi\\epsilon_0)$. The scattering angle in Eq. ([23](#eq:scattangle)) is"
   ]
  },
  {
   "cell_type": "markdown",
   "metadata": {},
   "source": [
    "$$\n",
    "\\sin(\\theta_s/2)=\\frac{a}{\\sqrt{a^2+b^2}}, ~~a\\equiv \\frac{\\alpha}{2E}.\n",
    "$$"
   ]
  },
  {
   "cell_type": "markdown",
   "metadata": {},
   "source": [
    "The impact parameter $b$ for which the point of closest approach\n",
    "equals $R$ can be found by using angular momentum conservation,"
   ]
  },
  {
   "cell_type": "markdown",
   "metadata": {},
   "source": [
    "$$\n",
    "\\begin{eqnarray*}\n",
    "p_0b&=&b\\sqrt{2mE}=Rp_f=R\\sqrt{2m(E-\\alpha/R)},\\\\\n",
    "b&=&R\\frac{\\sqrt{2m(E-\\alpha/R)}}{\\sqrt{2mE}}\\\\\n",
    "&=&R\\sqrt{1-\\frac{\\alpha}{ER}}.\n",
    "\\end{eqnarray*}\n",
    "$$"
   ]
  },
  {
   "cell_type": "markdown",
   "metadata": {},
   "source": [
    "Putting these together"
   ]
  },
  {
   "cell_type": "markdown",
   "metadata": {},
   "source": [
    "$$\n",
    "\\theta_s=2\\sin^{-1}\\left\\{\n",
    "\\frac{a}{\\sqrt{a^2+R^2(1-\\alpha/(RE))}}\n",
    "\\right\\},~~~a=\\frac{\\alpha}{2E}.\n",
    "$$"
   ]
  },
  {
   "cell_type": "markdown",
   "metadata": {},
   "source": [
    "It was from this departure of the experimentally measured\n",
    "$d\\sigma/d\\Omega$ from the Rutherford formula that allowed Rutherford\n",
    "to infer the radius of the gold nucleus, $R$.\n",
    "\n",
    "\n",
    "\n",
    "Just like electrodynamics, one can define \"fields\", which for a small\n",
    "additional mass $m$ are the force per mass and the additional\n",
    "potential energy per mass. The {\\it gravitational field} related to\n",
    "the force has dimensions of force per mass, or acceleration, and can\n",
    "be labeled $\\boldsymbol{g}(\\boldsymbol{r})$. The potential energy per mass has\n",
    "dimensions of energy per mass. This is analogous to the\n",
    "electromagnetic potential, which is the potential energy per charge,\n",
    "and the electric field which is the force per charge.\n",
    "\n",
    "Because the field $\\boldsymbol{g}$ obeys the same inverse square law for a\n",
    "point mass as the electric field does for a point charge, the\n",
    "gravitational field also satisfies a version of Gauss's law,"
   ]
  },
  {
   "cell_type": "markdown",
   "metadata": {},
   "source": [
    "<!-- Equation labels as ordinary links -->\n",
    "<div id=\"eq:GravGauss\"></div>\n",
    "\n",
    "$$\n",
    "\\begin{equation}\n",
    "\\label{eq:GravGauss} \\tag{25}\n",
    "\\oint d\\boldsymbol{A}\\cdot\\boldsymbol{g}=-4\\pi GM_{\\rm inside}.\n",
    "\\end{equation}\n",
    "$$"
   ]
  },
  {
   "cell_type": "markdown",
   "metadata": {},
   "source": [
    "Here, $M_{\\rm inside}$ is the net mass inside a closed area.\n",
    "\n",
    "Gauss's law can be understood by considering a nozzle that sprays\n",
    "paint in all directions uniformly from a point source. Let $B$ be the\n",
    "number of gallons per minute of paint leaving the nozzle. If the\n",
    "nozzle is at the center of a sphere of radius $r$, the paint per\n",
    "square meter per minute that is deposited on some part of the sphere\n",
    "is"
   ]
  },
  {
   "cell_type": "markdown",
   "metadata": {},
   "source": [
    "$$\n",
    "\\begin{eqnarray}\n",
    "F(r)&=&\\frac{B}{4\\pi r^2}.\n",
    "\\end{eqnarray}\n",
    "$$"
   ]
  },
  {
   "cell_type": "markdown",
   "metadata": {},
   "source": [
    "Now, let $F$ also be assigned a direction, so that it becomes a vector\n",
    "pointing along the direction of the flying paint. For any surface that\n",
    "surrounds the nozzle, not necessarily a sphere, one can state that"
   ]
  },
  {
   "cell_type": "markdown",
   "metadata": {},
   "source": [
    "<!-- Equation labels as ordinary links -->\n",
    "<div id=\"eq:paint\"></div>\n",
    "\n",
    "$$\n",
    "\\begin{eqnarray}\n",
    "\\label{eq:paint} \\tag{26}\n",
    "\\oint \\boldsymbol{dA}\\cdot\\boldsymbol{F}&=&B,\n",
    "\\end{eqnarray}\n",
    "$$"
   ]
  },
  {
   "cell_type": "markdown",
   "metadata": {},
   "source": [
    "regardless of the shape of the surface. This follows because the rate\n",
    "at which paint is deposited on the surface should equal the rate at\n",
    "which it leaves the nozzle. The dot product ensures that only the\n",
    "component of $\\boldsymbol{F}$ into the surface contributes to the deposition\n",
    "of paint. Similarly, if $\\boldsymbol{F}$ is any radial inverse-square forces,\n",
    "that falls as $B/(4\\pi r^2)$, then one can apply\n",
    "Eq. ([26](#eq:paint)). For gravitational fields, $B/(4\\pi)$ is replaced\n",
    "by $GM$, and one quickly \"derives\" Gauss's law for gravity,\n",
    "Eq. ([25](#eq:GravGauss)).\n",
    "\n",
    "\n",
    "Consider Earth to have its mass $M$ uniformly distributed in a sphere\n",
    "of radius $R$. Find the magnitude of the gravitational acceleration as\n",
    "a function of the radius $r$ in terms of the acceleration of gravity\n",
    "at the surface $g(R)$. Assume $r<R$, i.e. you are inside the surface.\n",
    "\n",
    "{\\bf Solution}: Take the ratio of Eq. ([25](#eq:GravGauss)) for two radii, $R$ and $r<R$,"
   ]
  },
  {
   "cell_type": "markdown",
   "metadata": {},
   "source": [
    "$$\n",
    "\\begin{eqnarray*}\n",
    "\\frac{4\\pi r^2 g(r)}{4\\pi R^2 g(R)}&=&\\frac{4\\pi GM_{\\rm inside~r}}{4\\pi GM_{\\rm inside~R}}\\\\\n",
    "\\nonumber\n",
    "&=&\\frac{r^3}{R^3}\\\\\n",
    "\\nonumber\n",
    "g(r)&=&g(R)\\frac{r}{R}~.\n",
    "\\end{eqnarray*}\n",
    "$$"
   ]
  },
  {
   "cell_type": "markdown",
   "metadata": {},
   "source": [
    "The potential energy per mass is similar conceptually to the voltage, or electric potential energy per charge, that was studied in electromagnetism, if $V\\equiv U/m$, $\\boldsymbol{g}=-\\nabla V$.\n",
    "\n",
    "## Tidal Forces\n",
    "\n",
    "\n",
    "Consider a spherical planet of radius $r$ a distance $D$ from another\n",
    "body of mass $M$. The magnitude of the force due to $M$ on an small\n",
    "object of mass $\\delta m$ on surface of the planet can be calculated\n",
    "by performing a Taylor expansion about the center of the spherical\n",
    "planet."
   ]
  },
  {
   "cell_type": "markdown",
   "metadata": {},
   "source": [
    "<!-- Equation labels as ordinary links -->\n",
    "<div id=\"_auto15\"></div>\n",
    "\n",
    "$$\n",
    "\\begin{equation}\n",
    "F=-\\frac{GM\\delta m}{D^2}+2\\frac{GM\\delta m}{D^3}\\Delta D+\\cdots\n",
    "\\label{_auto15} \\tag{27}\n",
    "\\end{equation}\n",
    "$$"
   ]
  },
  {
   "cell_type": "markdown",
   "metadata": {},
   "source": [
    "If the $z$ direction points toward the large object, $\\Delta D$ can be\n",
    "referred to as $z$. In the accelerating frame of an observer at the\n",
    "center of the planet,"
   ]
  },
  {
   "cell_type": "markdown",
   "metadata": {},
   "source": [
    "<!-- Equation labels as ordinary links -->\n",
    "<div id=\"_auto16\"></div>\n",
    "\n",
    "$$\n",
    "\\begin{equation}\n",
    "\\delta m\\frac{d^2 z}{dt^2}=F-\\delta ma'+{\\rm other~forces~acting~on~} \\delta m,\n",
    "\\label{_auto16} \\tag{28}\n",
    "\\end{equation}\n",
    "$$"
   ]
  },
  {
   "cell_type": "markdown",
   "metadata": {},
   "source": [
    "where $a'$ is the acceleration of the observer. Because $\\delta ma'$\n",
    "equals the gravitational force on $\\delta m$ if it were located at the\n",
    "planet's center, one can write"
   ]
  },
  {
   "cell_type": "markdown",
   "metadata": {},
   "source": [
    "<!-- Equation labels as ordinary links -->\n",
    "<div id=\"_auto17\"></div>\n",
    "\n",
    "$$\n",
    "\\begin{equation}\n",
    "m\\frac{d^2z}{dt^2}=2\\frac{GM\\delta m}{D^3}z+{\\rm other~forces~acting~on~}\\delta m.\n",
    "\\label{_auto17} \\tag{29}\n",
    "\\end{equation}\n",
    "$$"
   ]
  },
  {
   "cell_type": "markdown",
   "metadata": {},
   "source": [
    "Here the other forces could represent the forces acting on $\\delta m$\n",
    "from the spherical planet such as the gravitational force or the\n",
    "contact force with the surface. If $\\theta$ is the angle w.r.t. the\n",
    "$z$ axis, the effective force acting on $\\delta m$ is"
   ]
  },
  {
   "cell_type": "markdown",
   "metadata": {},
   "source": [
    "<!-- Equation labels as ordinary links -->\n",
    "<div id=\"_auto18\"></div>\n",
    "\n",
    "$$\n",
    "\\begin{equation}\n",
    "F_{\\rm eff}\\approx 2\\frac{GM\\delta m}{D^3}r\\cos\\theta\\hat{z}+{\\rm other~forces~acting~on~}\\delta m.\n",
    "\\label{_auto18} \\tag{30}\n",
    "\\end{equation}\n",
    "$$"
   ]
  },
  {
   "cell_type": "markdown",
   "metadata": {},
   "source": [
    "This first force is the \"tidal\" force. It pulls objects outward from the center of the object. If the object were covered with water, it would distort the objects shape so that the shape would be elliptical, stretched out along the axis pointing toward the large mass $M$. The force is always along (either parallel or antiparallel to) the $\\hat{z}$ direction.\n",
    "\n",
    "\n",
    "Consider the Earth to be a sphere of radius $R$ covered with water,\n",
    "with the gravitational acceleration at the surface noted by $g$. Now\n",
    "assume that a distant body provides an additional constant\n",
    "gravitational acceleration $\\boldsymbol{a}$ pointed along the $z$ axis. Find\n",
    "the distortion of the radius as a function of $\\theta$. Ignore\n",
    "planetary rotation and assume $a<<g$.\n",
    "\n",
    "{\\bf Solution}: Because Earth would then accelerate with $a$, the\n",
    "field $a$ would seem invisible in the accelerating frame. A tidal\n",
    "force would only appear if $a$ depended on position, i.e. $\\nabla\n",
    "\\boldsymbol{a}\\ne 0$.\n",
    "\n",
    "\n",
    "\n",
    "Now consider that the field is no longer constant, but that instead $a=-kz$ with $|kR|<<g$.\n",
    "\n",
    "{\\bf Solution}: The surface of the planet needs to be at constant\n",
    "potential (if the planet is not accelerating). The force per mass,\n",
    "$-kz$ is like a spring, and the potential per mass is\n",
    "$kz^2/2$. Otherwise water would move to a point of lower\n",
    "potential. Thus, the potential energy for a sample mass $\\delta m$ is"
   ]
  },
  {
   "cell_type": "markdown",
   "metadata": {},
   "source": [
    "$$\n",
    "\\begin{eqnarray*}\n",
    "V(R)+\\delta m gh(\\theta)-\\frac{\\delta m}{2}kr^2\\cos^2\\theta={\\rm Constant}\\\\\n",
    "V(R)+\\delta mgh(\\theta)-\\frac{\\delta m}{2}kR^2\\cos^2\\theta-\\delta m kRh(\\theta)\\cos^2\\theta-\\frac{\\delta m}{2}kh^2(\\theta)\\cos^2\\theta={\\rm Constant}.\n",
    "\\end{eqnarray*}\n",
    "$$"
   ]
  },
  {
   "cell_type": "markdown",
   "metadata": {},
   "source": [
    "Here, the potential due to the external field is $(1/2)kz^2$ so that $-\\nabla U=-kz$. One now needs to solve for $h(\\theta)$. Absorbing all the constant terms from both sides of the equation into one constant $C$, and because both $h$ and $kR$ are small, we can through away terms of order $h^2$ or $kRh$. This gives"
   ]
  },
  {
   "cell_type": "markdown",
   "metadata": {},
   "source": [
    "$$\n",
    "\\begin{eqnarray*}\n",
    "gh(\\theta)-\\frac{1}{2}kR^2\\cos^2\\theta&=&C,\\\\\n",
    "h(\\theta)&=&\\frac{C}{g}+\\frac{1}{2g}kR^2\\cos^2\\theta,\\\\\n",
    "h(\\theta)&=&\\frac{1}{2g}kR^2(\\cos^2\\theta-1/3).\n",
    "\\end{eqnarray*}\n",
    "$$"
   ]
  },
  {
   "cell_type": "markdown",
   "metadata": {},
   "source": [
    "The term with the factor of $1/3$ replaced the constant and was chosen so that the average height of the water would be zero.\n",
    "\n",
    "The Sun's mass is $27\\times 10^6$ the Moon's mass, but the Sun is 390 times further away from Earth as the Sun. What is ratio of the tidal force of the Sun to that of the Moon.\n",
    "\n",
    "{\\bf Solution}: The gravitational force due to an object $M$ a distance $D$ away goes as $M/D^2$, but the tidal force is only the difference of that force over a distance $R$,"
   ]
  },
  {
   "cell_type": "markdown",
   "metadata": {},
   "source": [
    "$$\n",
    "F_{\\rm tidal}\\propto \\frac{M}{D^3}R.\n",
    "$$"
   ]
  },
  {
   "cell_type": "markdown",
   "metadata": {},
   "source": [
    "Therefore the ratio of force is"
   ]
  },
  {
   "cell_type": "markdown",
   "metadata": {},
   "source": [
    "$$\n",
    "\\begin{eqnarray*}\n",
    "\\frac{F_{\\rm Sun's~tidal~force}}{F_{\\rm Moon's~tidal~force}}\n",
    "&=&\\frac{M_{\\rm sun}/D_{\\rm sun}^3}{M_{\\rm moon}/D_{\\rm moon}^3}\\\\\n",
    "&=&\\frac{27\\times 10^6}{390^3}=0.46.\n",
    "\\end{eqnarray*}\n",
    "$$"
   ]
  },
  {
   "cell_type": "markdown",
   "metadata": {},
   "source": [
    "The Moon more strongly affects tides than the Sun."
   ]
  }
 ],
 "metadata": {
  "kernelspec": {
   "display_name": "Python 3",
   "language": "python",
   "name": "python3"
  },
  "language_info": {
   "codemirror_mode": {
    "name": "ipython",
    "version": 3
   },
   "file_extension": ".py",
   "mimetype": "text/x-python",
   "name": "python",
   "nbconvert_exporter": "python",
   "pygments_lexer": "ipython3",
   "version": "3.6.8"
  }
 },
 "nbformat": 4,
 "nbformat_minor": 2
}
