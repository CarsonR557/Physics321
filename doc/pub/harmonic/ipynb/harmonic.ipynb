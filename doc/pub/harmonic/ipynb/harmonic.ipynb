{
 "cells": [
  {
   "cell_type": "markdown",
   "metadata": {},
   "source": [
    "<!-- dom:TITLE: Oscillations -->\n",
    "# Oscillations\n",
    "<!-- dom:AUTHOR: [Morten Hjorth-Jensen](http://mhjgit.github.io/info/doc/web/) at Department of Physics and Astronomy and National Superconducting Cyclotron Laboratory, Michigan State University, USA & Department of Physics, University of Oslo, Norway -->\n",
    "<!-- Author: -->  \n",
    "**[Morten Hjorth-Jensen](http://mhjgit.github.io/info/doc/web/)**, Department of Physics and Astronomy and National Superconducting Cyclotron Laboratory, Michigan State University, USA and Department of Physics, University of Oslo, Norway  \n",
    "<!-- dom:AUTHOR: [Scott Pratt](https://pa.msu.edu/profile/pratts/) at Department of Physics and Astronomy and National Superconducting Cyclotron Laboratory, Michigan State University, USA -->\n",
    "<!-- Author: --> **[Scott Pratt](https://pa.msu.edu/profile/pratts/)**, Department of Physics and Astronomy and National Superconducting Cyclotron Laboratory, Michigan State University, USA  \n",
    "<!-- dom:AUTHOR: [Carl Schmidt](https://pa.msu.edu/profile/schmidt/) at Department of Physics and Astronomy, Michigan State University, USA -->\n",
    "<!-- Author: --> **[Carl Schmidt](https://pa.msu.edu/profile/schmidt/)**, Department of Physics and Astronomy, Michigan State University, USA\n",
    "\n",
    "Date: **Jan 18, 2020**\n",
    "\n",
    "Copyright 1999-2020, [Morten Hjorth-Jensen](http://mhjgit.github.io/info/doc/web/). Released under CC Attribution-NonCommercial 4.0 license\n",
    "\n",
    "\n",
    "\n",
    "\n",
    "\n",
    "\n",
    "## Harmonic Oscillator\n",
    "\n",
    "The harmonic oscillator is omnipresent in physics. Although students\n",
    "think of this as being related to springs, it, or an equivalent\n",
    "mathematical representation, appears in just about any problem where a\n",
    "mode is sitting near its potential energy minimum. At that point,\n",
    "$\\partial_x V(x)=0$, and the first non-zero term (aside from a\n",
    "constant) in the potential energy is that of a harmonic oscillator. In\n",
    "a solid, sound modes (phonons) are built on a picture of coupled\n",
    "harmonic oscillators, and in relativistic field theory the fundamental\n",
    "interactions are also built on coupled oscillators positioned\n",
    "infinitesimally close to one another in space. The phenomena of a\n",
    "resonance of an oscillator driven at a fixed frequency plays out\n",
    "repeatedly in atomic, nuclear and high-energy physics, when quantum\n",
    "mechanically the evolution of a state oscillates according to\n",
    "$e^{-iEt}$ and exciting discrete quantum states has very similar\n",
    "mathematics as exciting discrete states of an oscillator.\n",
    "\n",
    "The potential energy for a single particle as a function of its position $x$ can be written as a Taylor expansion about some point $x_0$"
   ]
  },
  {
   "cell_type": "markdown",
   "metadata": {},
   "source": [
    "<!-- Equation labels as ordinary links -->\n",
    "<div id=\"_auto1\"></div>\n",
    "\n",
    "$$\n",
    "\\begin{equation}\n",
    "V(x)=V(x_0)+(x-x_0)\\left.\\partial_xV(x)\\right|_{x_0}+\\frac{1}{2}(x-x_0)^2\\left.\\partial_x^2V(x)\\right|_{x_0}\n",
    "+\\frac{1}{3!}\\left.\\partial_x^3V(x)\\right|_{x_0}+\\cdots\n",
    "\\label{_auto1} \\tag{1}\n",
    "\\end{equation}\n",
    "$$"
   ]
  },
  {
   "cell_type": "markdown",
   "metadata": {},
   "source": [
    "If the position $x_0$ is at the minimum of the resonance, the first two non-zero terms of the potential are"
   ]
  },
  {
   "cell_type": "markdown",
   "metadata": {},
   "source": [
    "$$\n",
    "\\begin{eqnarray}\n",
    "V(x)&\\approx& V(x_0)+\\frac{1}{2}(x-x_0)^2\\left.\\partial_x^2V(x)\\right|_{x_0},\\\\\n",
    "\\nonumber\n",
    "&=&V(x_0)+\\frac{1}{2}k(x-x_0)^2,~~~~k\\equiv \\left.\\partial_x^2V(x)\\right|_{x_0},\\\\\n",
    "\\nonumber\n",
    "F&=&-\\partial_xV(x)=-k(x-x_0).\n",
    "\\end{eqnarray}\n",
    "$$"
   ]
  },
  {
   "cell_type": "markdown",
   "metadata": {},
   "source": [
    "Put into Newton's 2nd law (assuming $x_0=0$),"
   ]
  },
  {
   "cell_type": "markdown",
   "metadata": {},
   "source": [
    "$$\n",
    "\\begin{eqnarray}\n",
    "m\\ddot{x}&=&-kx,\\\\\n",
    "x&=&A\\cos(\\omega_0 t-\\phi),~~~\\omega_0=\\sqrt{k/m}.\n",
    "\\end{eqnarray}\n",
    "$$"
   ]
  },
  {
   "cell_type": "markdown",
   "metadata": {},
   "source": [
    "Here $A$ and $\\phi$ are arbitrary. Equivalently, one could have\n",
    "written this as $A\\cos(\\omega_0 t)+B\\sin(\\omega_0 t)$, or as the real\n",
    "part of $Ae^{i\\omega_0 t}$. In this last case $A$ could be an\n",
    "arbitrary complex constant. Thus, there are 2 arbitrary constants\n",
    "(either $A$ and $B$ or $A$ and $\\phi$, or the real and imaginary part\n",
    "of one complex constant. This is the expectation for a second order\n",
    "differential equation, and also agrees with the physical expectation\n",
    "that if you know a particle's initial velocity and position you should\n",
    "be able to define its future motion, and that those two arbitrary\n",
    "conditions should translate to two arbitrary constants.\n",
    "\n",
    "A key feature of harmonic motion is that the system repeats itself\n",
    "after a time $T=1/f$, where $f$ is the frequency, and $\\omega=2\\pi f$\n",
    "is the angular frequency. The period of the motion is independent of\n",
    "the amplitude. However, this independence is only exact when one can\n",
    "neglect higher terms of the potential, $x^3, x^4\\cdots$. Once can\n",
    "neglect these terms for sufficiently small amplitudes, and for larger\n",
    "amplitudes the motion is no longer purely sinusoidal, and even though\n",
    "the motion repeats itself, the time for repeating the motion is no\n",
    "longer independent of the amplitude.\n",
    "\n",
    "One can also calculate the velocity and the kinetic energy as a function of time,"
   ]
  },
  {
   "cell_type": "markdown",
   "metadata": {},
   "source": [
    "$$\n",
    "\\begin{eqnarray}\n",
    "\\dot{x}&=&-\\omega_0A\\sin(\\omega_0 t-\\phi),\\\\\n",
    "\\nonumber\n",
    "K&=&\\frac{1}{2}m\\dot{x}^2=\\frac{m\\omega_0^2A^2}{2}\\sin^2(\\omega_0t-\\phi),\\\\\n",
    "\\nonumber\n",
    "&=&\\frac{k}{2}A^2\\sin^2(\\omega_0t-\\phi).\n",
    "\\end{eqnarray}\n",
    "$$"
   ]
  },
  {
   "cell_type": "markdown",
   "metadata": {},
   "source": [
    "The total energy is then"
   ]
  },
  {
   "cell_type": "markdown",
   "metadata": {},
   "source": [
    "<!-- Equation labels as ordinary links -->\n",
    "<div id=\"_auto2\"></div>\n",
    "\n",
    "$$\n",
    "\\begin{equation}\n",
    "E=K+V=\\frac{1}{2}m\\dot{x}^2+\\frac{1}{2}kx^2=\\frac{1}{2}kA^2.\n",
    "\\label{_auto2} \\tag{2}\n",
    "\\end{equation}\n",
    "$$"
   ]
  },
  {
   "cell_type": "markdown",
   "metadata": {},
   "source": [
    "The total energy then goes as the square of the amplitude.\n",
    "\n",
    "\n",
    "A pendulum is an example of a harmonic oscillator. By expanding the\n",
    "kinetic and potential energies for small angles find the frequency for\n",
    "a pendulum of length $L$ with all the mass $m$ centered at the end by\n",
    "writing the eq.s of motion in the form of a harmonic oscillator.\n",
    "\n",
    "The potential energy and kinetic energies are (for $x$ being the displacement)"
   ]
  },
  {
   "cell_type": "markdown",
   "metadata": {},
   "source": [
    "$$\n",
    "\\begin{eqnarray*}\n",
    "V&=&mgL(1-\\cos\\theta)\\approx mgL\\frac{x^2}{2L^2},\\\\\n",
    "K&=&\\frac{1}{2}mL^2\\dot{\\theta}^2\\approx \\frac{m}{2}\\dot{x}^2.\n",
    "\\end{eqnarray*}\n",
    "$$"
   ]
  },
  {
   "cell_type": "markdown",
   "metadata": {},
   "source": [
    "For small $x$ Newton's 2nd law becomes"
   ]
  },
  {
   "cell_type": "markdown",
   "metadata": {},
   "source": [
    "$$\n",
    "m\\ddot{x}=-\\frac{mg}{L}x,\n",
    "$$"
   ]
  },
  {
   "cell_type": "markdown",
   "metadata": {},
   "source": [
    "and the spring constant would appear to be $k=mg/L$, which makes the\n",
    "frequency equal to $\\omega_0=\\sqrt{g/L}$. Note that the frequency is\n",
    "independent of the mass.\n",
    "\n",
    "\n",
    "## Damped Oscillators\n",
    "\n",
    "We consider only the case where the damping force is proportional to\n",
    "the velocity. This is counter to dragging friction, where the force is\n",
    "proportional in strength to the normal force and independent of\n",
    "velocity, and is also inconsistent with wind resistance, where the\n",
    "magnitude of the drag force is proportional the square of the\n",
    "velocity. Rolling resistance does seem to be mainly proportional to\n",
    "the velocity. However, the main motivation for considering damping\n",
    "forces proportional to the velocity is that the math is more\n",
    "friendly. This is because the differential equation is linear,\n",
    "i.e. each term is of order $x$, $\\dot{x}$, $\\ddot{x}\\cdots$, or even\n",
    "terms with no mention of $x$, and there are no terms such as $x^2$ or\n",
    "$x\\ddot{x}$. The equations of motion for a spring with damping force\n",
    "$-b\\dot{x}$ are"
   ]
  },
  {
   "cell_type": "markdown",
   "metadata": {},
   "source": [
    "<!-- Equation labels as ordinary links -->\n",
    "<div id=\"_auto3\"></div>\n",
    "\n",
    "$$\n",
    "\\begin{equation}\n",
    "m\\ddot{x}+b\\dot{x}+kx=0.\n",
    "\\label{_auto3} \\tag{3}\n",
    "\\end{equation}\n",
    "$$"
   ]
  },
  {
   "cell_type": "markdown",
   "metadata": {},
   "source": [
    "Just to make the solution a bit less messy, we rewrite this equation as"
   ]
  },
  {
   "cell_type": "markdown",
   "metadata": {},
   "source": [
    "<!-- Equation labels as ordinary links -->\n",
    "<div id=\"eq:dampeddiffyq\"></div>\n",
    "\n",
    "$$\n",
    "\\begin{equation}\n",
    "\\label{eq:dampeddiffyq} \\tag{4}\n",
    "\\ddot{x}+2\\beta\\dot{x}+\\omega_0^2x=0,~~~~\\beta\\equiv b/2m,~\\omega_0\\equiv\\sqrt{k/m}.\n",
    "\\end{equation}\n",
    "$$"
   ]
  },
  {
   "cell_type": "markdown",
   "metadata": {},
   "source": [
    "Both $\\beta$ and $\\omega$ have dimensions of inverse time. To find solutions (see appendix C in the text) you must make an educated guess at the form of the solution. To do this, first realize that the solution will need an arbitrary normalization $A$ because the equation is linear. Secondly, realize that if the form is"
   ]
  },
  {
   "cell_type": "markdown",
   "metadata": {},
   "source": [
    "<!-- Equation labels as ordinary links -->\n",
    "<div id=\"_auto4\"></div>\n",
    "\n",
    "$$\n",
    "\\begin{equation}\n",
    "x=Ae^{rt}\n",
    "\\label{_auto4} \\tag{5}\n",
    "\\end{equation}\n",
    "$$"
   ]
  },
  {
   "cell_type": "markdown",
   "metadata": {},
   "source": [
    "that each derivative simply brings out an extra power of $r$. This\n",
    "means that the $Ae^{rt}$ factors out and one can simply solve for an\n",
    "equation for $r$. Plugging this form into Eq. ([4](#eq:dampeddiffyq)),"
   ]
  },
  {
   "cell_type": "markdown",
   "metadata": {},
   "source": [
    "<!-- Equation labels as ordinary links -->\n",
    "<div id=\"_auto5\"></div>\n",
    "\n",
    "$$\n",
    "\\begin{equation}\n",
    "r^2+2\\beta r+\\omega_0^2=0.\n",
    "\\label{_auto5} \\tag{6}\n",
    "\\end{equation}\n",
    "$$"
   ]
  },
  {
   "cell_type": "markdown",
   "metadata": {},
   "source": [
    "Because this is a quadratic equation there will be two solutions,"
   ]
  },
  {
   "cell_type": "markdown",
   "metadata": {},
   "source": [
    "<!-- Equation labels as ordinary links -->\n",
    "<div id=\"_auto6\"></div>\n",
    "\n",
    "$$\n",
    "\\begin{equation}\n",
    "r=-\\beta\\pm\\sqrt{\\beta^2-\\omega_0^2}.\n",
    "\\label{_auto6} \\tag{7}\n",
    "\\end{equation}\n",
    "$$"
   ]
  },
  {
   "cell_type": "markdown",
   "metadata": {},
   "source": [
    "We refer to the two solutions as $r_1$ and $r_2$ corresponding to the\n",
    "$+$ and $-$ roots. As expected, there should be two arbitrary\n",
    "constants involved in the solution,"
   ]
  },
  {
   "cell_type": "markdown",
   "metadata": {},
   "source": [
    "<!-- Equation labels as ordinary links -->\n",
    "<div id=\"_auto7\"></div>\n",
    "\n",
    "$$\n",
    "\\begin{equation}\n",
    "x=A_1e^{r_1t}+A_2e^{r_2t},\n",
    "\\label{_auto7} \\tag{8}\n",
    "\\end{equation}\n",
    "$$"
   ]
  },
  {
   "cell_type": "markdown",
   "metadata": {},
   "source": [
    "where the coefficients $A_1$ and $A_2$ are determined by initial\n",
    "conditions.\n",
    "\n",
    "The roots listed above, $\\sqrt{\\omega_0^2-\\beta_0^2}$, will be\n",
    "imaginary if the damping is small and $\\beta<\\omega_0$. In that case,\n",
    "$r$ is complex and the factor $e{rt}$ will have some oscillatory\n",
    "behavior. If the roots are real, there will only be exponentially\n",
    "decaying solutions. There are three cases:\n",
    "\n",
    "\n",
    "\n",
    "### Underdamped: $\\beta<\\omega_0$"
   ]
  },
  {
   "cell_type": "markdown",
   "metadata": {},
   "source": [
    "$$\n",
    "\\begin{eqnarray}\n",
    "x&=&A_1e^{-\\beta t}e^{i\\omega't}+A_2e^{-\\beta t}e^{-i\\omega't},~~\\omega'\\equiv\\sqrt{\\omega_0^2-\\beta^2}\\\\\n",
    "\\nonumber\n",
    "&=&(A_1+A_2)e^{-\\beta t}\\cos\\omega't+i(A_1-A_2)e^{-\\beta t}\\sin\\omega't.\n",
    "\\end{eqnarray}\n",
    "$$"
   ]
  },
  {
   "cell_type": "markdown",
   "metadata": {},
   "source": [
    "Here we have made use of the identity\n",
    "$e^{i\\omega't}=\\cos\\omega't+i\\sin\\omega't$. Because the constants are\n",
    "arbitrary, and because the real and imaginary parts are both solutions\n",
    "individually, we can simply consider the real part of the solution\n",
    "alone:"
   ]
  },
  {
   "cell_type": "markdown",
   "metadata": {},
   "source": [
    "<!-- Equation labels as ordinary links -->\n",
    "<div id=\"eq:homogsolution\"></div>\n",
    "\n",
    "$$\n",
    "\\begin{eqnarray}\n",
    "\\label{eq:homogsolution} \\tag{9}\n",
    "x&=&B_1e^{-\\beta t}\\cos\\omega't+B_2e^{-\\beta t}\\sin\\omega't,\\\\\n",
    "\\nonumber \n",
    "\\omega'&\\equiv&\\sqrt{\\omega_0^2-\\beta^2}.\n",
    "\\end{eqnarray}\n",
    "$$"
   ]
  },
  {
   "cell_type": "markdown",
   "metadata": {},
   "source": [
    "### Critical dampling: $\\beta=\\omega_0$\n",
    "\n",
    "In this case the two terms involving $r_1$ and $r_2$ are identical\n",
    "because $\\omega'=0$. Because we need to arbitrary constants, there\n",
    "needs to be another solution. This is found by simply guessing, or by\n",
    "taking the limit of $\\omega'\\rightarrow 0$ from the underdamped\n",
    "solution. The solution is then"
   ]
  },
  {
   "cell_type": "markdown",
   "metadata": {},
   "source": [
    "<!-- Equation labels as ordinary links -->\n",
    "<div id=\"eq:criticallydamped\"></div>\n",
    "\n",
    "$$\n",
    "\\begin{equation}\n",
    "\\label{eq:criticallydamped} \\tag{10}\n",
    "x=Ae^{-\\beta t}+Bte^{-\\beta t}.\n",
    "\\end{equation}\n",
    "$$"
   ]
  },
  {
   "cell_type": "markdown",
   "metadata": {},
   "source": [
    "The critically damped solution is interesting because the solution\n",
    "approaches zero quickly, but does not oscillate. For a problem with\n",
    "zero initial velocity, the solution never crosses zero. This is a good\n",
    "choice for designing shock absorbers or swinging doors.\n",
    "\n",
    "### Overdamped: $\\beta>\\omega_0$"
   ]
  },
  {
   "cell_type": "markdown",
   "metadata": {},
   "source": [
    "$$\n",
    "\\begin{eqnarray}\n",
    "x&=&A_1e^{-(\\beta+\\sqrt{\\beta^2-\\omega_0^2})t}+A_2e^{-(\\beta-\\sqrt{\\beta^2-\\omega_0^2})t}\n",
    "\\end{eqnarray\n",
    "$$"
   ]
  },
  {
   "cell_type": "markdown",
   "metadata": {},
   "source": [
    "This solution will also never pass the origin more than once, and then\n",
    "only if the initial velocity is strong and initially toward zero.\n",
    "\n",
    "\n",
    "\n",
    "\n",
    "Given $b$, $m$ and $\\omega_0$, find $x(t)$ for a particle whose\n",
    "initial position is $x=0$ and has initial velocity $v_0$ (assuming an\n",
    "underdamped solution).\n",
    "\n",
    "The solution is of the form,"
   ]
  },
  {
   "cell_type": "markdown",
   "metadata": {},
   "source": [
    "$$\n",
    "\\begin{eqnarray*}\n",
    "x&=&e^{-\\beta t}\\left[A_1\\cos(\\omega' t)+A_2\\sin\\omega't\\right],\\\\\n",
    "\\dot{x}&=&-\\beta x+\\omega'e^{-\\beta t}\\left[-A_1\\sin\\omega't+A_2\\cos\\omega't\\right].\\\\\n",
    "\\omega'&\\equiv&\\sqrt{\\omega_0^2-\\beta^2},~~~\\beta\\equiv b/2m.\n",
    "\\end{eqnarray*}\n",
    "$$"
   ]
  },
  {
   "cell_type": "markdown",
   "metadata": {},
   "source": [
    "From the initial conditions, $A_1=0$ because $x(0)=0$ and $\\omega'A_2=v_0$. So"
   ]
  },
  {
   "cell_type": "markdown",
   "metadata": {},
   "source": [
    "$$\n",
    "x=\\frac{v_0}{\\omega'}e^{-\\beta t}\\sin\\omega't.\n",
    "$$"
   ]
  },
  {
   "cell_type": "markdown",
   "metadata": {},
   "source": [
    "## Sinusoidally Driven Oscillators\n",
    "\n",
    "Here, we consider the force"
   ]
  },
  {
   "cell_type": "markdown",
   "metadata": {},
   "source": [
    "<!-- Equation labels as ordinary links -->\n",
    "<div id=\"_auto8\"></div>\n",
    "\n",
    "$$\n",
    "\\begin{equation}\n",
    "F=-kx-b\\dot{x}+F_0\\cos\\omega t,\n",
    "\\label{_auto8} \\tag{11}\n",
    "\\end{equation}\n",
    "$$"
   ]
  },
  {
   "cell_type": "markdown",
   "metadata": {},
   "source": [
    "which leads to the differential equation"
   ]
  },
  {
   "cell_type": "markdown",
   "metadata": {},
   "source": [
    "<!-- Equation labels as ordinary links -->\n",
    "<div id=\"eq:drivenosc\"></div>\n",
    "\n",
    "$$\n",
    "\\begin{equation}\n",
    "\\label{eq:drivenosc} \\tag{12}\n",
    "\\ddot{x}+2\\beta\\dot{x}+\\omega_0^2x=(F_0/m)\\cos\\omega t.\n",
    "\\end{equation}\n",
    "$$"
   ]
  },
  {
   "cell_type": "markdown",
   "metadata": {},
   "source": [
    "Consider a single solution with no arbitrary constants, which we will\n",
    "call a {\\it particular solution}, $x_p(t)$. It should be emphasized\n",
    "that this is {\\bf A} particular solution, because there exists an\n",
    "infinite number of such solutions because the general solution should\n",
    "have two arbitrary constants. Now consider solutions to the same\n",
    "equation without the driving term, which include two arbitrary\n",
    "constants. These are called either {\\it homogenous solutions} or {\\it\n",
    "complementary solutions}, and were given in the previous section,\n",
    "e.g. Eq. ([9](#eq:homogsolution)) for the underdamped case. The\n",
    "homogenous solution already incorporates the two arbitrary constants,\n",
    "so any sum of a homogenous solution and a particular solution will\n",
    "represent the {\\it general solution} of the equation. The general\n",
    "solution incorporates the two arbitrary constants $A$ and $B$ to\n",
    "accommodate the two initial conditions. One could have picked a\n",
    "different particular solution, i.e. the original particular solution\n",
    "plus any homogenous solution with the arbitrary constants $A_p$ and\n",
    "$B_p$ chosen at will. When one adds in the homogenous solution, which\n",
    "has adjustable constants with arbitrary constants $A'$ and $B'$, to\n",
    "the new particular solution, one can get the same general solution by\n",
    "simply adjusting the new constants such that $A'+A_p=A$ and\n",
    "$B'+B_p=B$. Thus, the choice of $A_p$ and $B_p$ are irrelevant, and\n",
    "when choosing the particular solution it is best to make the simplest\n",
    "choice possible.\n",
    "\n",
    "To find a particular solution, one first guesses at the form,"
   ]
  },
  {
   "cell_type": "markdown",
   "metadata": {},
   "source": [
    "<!-- Equation labels as ordinary links -->\n",
    "<div id=\"eq:partform\"></div>\n",
    "\n",
    "$$\n",
    "\\begin{equation}\n",
    "\\label{eq:partform} \\tag{13}\n",
    "x_p(t)=D\\cos(\\omega t-\\delta),\n",
    "\\end{equation}\n",
    "$$"
   ]
  },
  {
   "cell_type": "markdown",
   "metadata": {},
   "source": [
    "and rewrite the differential equation as"
   ]
  },
  {
   "cell_type": "markdown",
   "metadata": {},
   "source": [
    "<!-- Equation labels as ordinary links -->\n",
    "<div id=\"_auto9\"></div>\n",
    "\n",
    "$$\n",
    "\\begin{equation}\n",
    "D\\left\\{-\\omega^2\\cos(\\omega t-\\delta)-2\\beta\\omega\\sin(\\omega t-\\delta)+\\omega_0^2\\cos(\\omega t-\\delta)\\right\\}=\\frac{F_0}{m}\\cos(\\omega t).\n",
    "\\label{_auto9} \\tag{14}\n",
    "\\end{equation}\n",
    "$$"
   ]
  },
  {
   "cell_type": "markdown",
   "metadata": {},
   "source": [
    "One can now use angle addition formulas to get"
   ]
  },
  {
   "cell_type": "markdown",
   "metadata": {},
   "source": [
    "$$\n",
    "\\begin{eqnarray}\n",
    "D\\left\\{(-\\omega^2\\cos\\delta+2\\beta\\omega\\sin\\delta+\\omega_0^2\\cos\\delta)\\cos(\\omega t)\\right.\\hspace*{36pt}&&\\\\\n",
    "\\nonumber\n",
    "\\left.+(-\\omega^2\\sin\\delta-2\\beta\\omega\\cos\\delta+\\omega_0^2\\sin\\delta)\\sin(\\omega t)\\right\\}\n",
    "&=&\\frac{F_0}{m}\\cos(\\omega t).\n",
    "\\end{eqnarray}\n",
    "$$"
   ]
  },
  {
   "cell_type": "markdown",
   "metadata": {},
   "source": [
    "Both the $\\cos$ and $\\sin$ terms need to equate if the expression is to hold at all times. Thus, this becomes two equations"
   ]
  },
  {
   "cell_type": "markdown",
   "metadata": {},
   "source": [
    "$$\n",
    "\\begin{eqnarray}\n",
    "D\\left\\{-\\omega^2\\cos\\delta+2\\beta\\omega\\sin\\delta+\\omega_0^2\\cos\\delta\\right\\}&=&\\frac{F_0}{m}\\\\\n",
    "\\nonumber\n",
    "-\\omega^2\\sin\\delta-2\\beta\\omega\\cos\\delta+\\omega_0^2\\sin\\delta&=&0.\n",
    "\\end{eqnarray}\n",
    "$$"
   ]
  },
  {
   "cell_type": "markdown",
   "metadata": {},
   "source": [
    "After dividing by $\\cos\\delta$, the lower expression leads to"
   ]
  },
  {
   "cell_type": "markdown",
   "metadata": {},
   "source": [
    "<!-- Equation labels as ordinary links -->\n",
    "<div id=\"_auto10\"></div>\n",
    "\n",
    "$$\n",
    "\\begin{equation}\n",
    "\\tan\\delta=\\frac{2\\beta\\omega}{\\omega_0^2-\\omega^2}.\n",
    "\\label{_auto10} \\tag{15}\n",
    "\\end{equation}\n",
    "$$"
   ]
  },
  {
   "cell_type": "markdown",
   "metadata": {},
   "source": [
    "Using the identities $\\tan^2+1=\\csc^2$ and $\\sin^2+\\cos\\^2=1$, one can also express $\\sin\\delta$ and $\\cos\\delta$,"
   ]
  },
  {
   "cell_type": "markdown",
   "metadata": {},
   "source": [
    "$$\n",
    "\\begin{eqnarray}\n",
    "\\sin\\delta&=&\\frac{2\\beta\\omega}{\\sqrt{(\\omega_0^2-\\omega^2)^2+4\\omega^2\\beta^2}},\\\\\n",
    "\\nonumber\n",
    "\\cos\\delta&=&\\frac{(\\omega_0^2-\\omega^2)}{\\sqrt{(\\omega_0^2-\\omega^2)^2+4\\omega^2\\beta^2}}\n",
    "\\end{eqnarray}\n",
    "$$"
   ]
  },
  {
   "cell_type": "markdown",
   "metadata": {},
   "source": [
    "Inserting the expressions for $\\cos\\delta$ and $\\sin\\delta$ into the expression for $D$,"
   ]
  },
  {
   "cell_type": "markdown",
   "metadata": {},
   "source": [
    "<!-- Equation labels as ordinary links -->\n",
    "<div id=\"eq:Ddrive\"></div>\n",
    "\n",
    "$$\n",
    "\\begin{equation}\n",
    "\\label{eq:Ddrive} \\tag{16}\n",
    "D=\\frac{F_0/m}{\\sqrt{(\\omega_0^2-\\omega^2)^2+4\\omega^2\\beta^2}}.\n",
    "\\end{equation}\n",
    "$$"
   ]
  },
  {
   "cell_type": "markdown",
   "metadata": {},
   "source": [
    "For a given initial condition, e.g. initial displacement and velocity,\n",
    "one must add the homogenous solution then solve for the two arbitrary\n",
    "constants. However, because the homogenous solutions decay with time\n",
    "as $e^{-\\beta t}$, the particular solution is all that remains at\n",
    "large times, and is therefore the steady state solution. Because the\n",
    "arbitrary constants are all in the homogenous solution, all memory of\n",
    "the initial conditions are lost at large times, $t>>1/\\beta$.\n",
    "\n",
    "The amplitude of the motion, $D$, is linearly proportional to the\n",
    "driving force ($F_0/m$), but also depends on the driving frequency\n",
    "$\\omega$. For small $\\beta$ the maximum will occur at\n",
    "$\\omega=\\omega_0$. This is referred to as a resonance. In the limit\n",
    "$\\beta\\rightarrow 0$ the amplitude at resonance approaches infinity.\n",
    "\n",
    "## Alternative Derivation for Driven Oscillators\n",
    "\n",
    "Here, we derive the same expressions as in Equations ([13](#eq:partform)) and ([16](#eq:Ddrive)) but express the driving forces as"
   ]
  },
  {
   "cell_type": "markdown",
   "metadata": {},
   "source": [
    "$$\n",
    "\\begin{eqnarray}\n",
    "F(t)&=&F_0e^{i\\omega t},\n",
    "\\end{eqnarray}\n",
    "$$"
   ]
  },
  {
   "cell_type": "markdown",
   "metadata": {},
   "source": [
    "rather than as $F_0\\cos\\omega t$. The real part of $F$ is the same as before. For the differential equation,"
   ]
  },
  {
   "cell_type": "markdown",
   "metadata": {},
   "source": [
    "<!-- Equation labels as ordinary links -->\n",
    "<div id=\"eq:compdrive\"></div>\n",
    "\n",
    "$$\n",
    "\\begin{eqnarray}\n",
    "\\label{eq:compdrive} \\tag{17}\n",
    "\\ddot{x}+2\\beta\\dot{x}+\\omega_0^2x&=&\\frac{F_0}{m}e^{i\\omega t},\n",
    "\\end{eqnarray}\n",
    "$$"
   ]
  },
  {
   "cell_type": "markdown",
   "metadata": {},
   "source": [
    "one can treat $x(t)$ as an imaginary function. Because the operations\n",
    "$d^2/dt^2$ and $d/dt$ are real and thus do not mix the real and\n",
    "imaginary parts of $x(t)$, Eq. ([17](#eq:compdrive)) is effectively 2\n",
    "equations. Because $e^{\\omega t}=\\cos\\omega t+i\\sin\\omega t$, the real\n",
    "part of the solution for $x(t)$ gives the solution for a driving force\n",
    "$F_0\\cos\\omega t$, and the imaginary part of $x$ corresponds to the\n",
    "case where the driving force is $F_0\\sin\\omega t$. It is rather easy\n",
    "to solve for the complex $x$ in this case, and by taking the real part\n",
    "of the solution, one finds the answer for the $\\cos\\omega t$ driving\n",
    "force.\n",
    "\n",
    "We assume a simple form for the particular solution"
   ]
  },
  {
   "cell_type": "markdown",
   "metadata": {},
   "source": [
    "<!-- Equation labels as ordinary links -->\n",
    "<div id=\"_auto11\"></div>\n",
    "\n",
    "$$\n",
    "\\begin{equation}\n",
    "x_p=De^{i\\omega t},\n",
    "\\label{_auto11} \\tag{18}\n",
    "\\end{equation}\n",
    "$$"
   ]
  },
  {
   "cell_type": "markdown",
   "metadata": {},
   "source": [
    "where $D$ is a complex constant.\n",
    "\n",
    "From Eq. ([17](#eq:compdrive)) one inserts the form for $x_p$ above to get"
   ]
  },
  {
   "cell_type": "markdown",
   "metadata": {},
   "source": [
    "$$\n",
    "\\begin{eqnarray}\n",
    "D\\left\\{-\\omega^2+2i\\beta\\omega+\\omega_0^2\\right\\}e^{i\\omega t}=(F_0/m)e^{i\\omega t},\\\\\n",
    "\\nonumber\n",
    "D=\\frac{F_0/m}{(\\omega_0^2-\\omega^2)+2i\\beta\\omega}.\n",
    "\\end{eqnarray}\n",
    "$$"
   ]
  },
  {
   "cell_type": "markdown",
   "metadata": {},
   "source": [
    "The norm and phase for $D=|D|e^{-i\\delta}$ can be read by inspection,"
   ]
  },
  {
   "cell_type": "markdown",
   "metadata": {},
   "source": [
    "<!-- Equation labels as ordinary links -->\n",
    "<div id=\"_auto12\"></div>\n",
    "\n",
    "$$\n",
    "\\begin{equation}\n",
    "|D|=\\frac{F_0/m}{\\sqrt{(\\omega_0^2-\\omega^2)^2+4\\beta^2\\omega^2}},~~~~\\tan\\delta=\\frac{2\\beta\\omega}{\\omega_0^2-\\omega^2}.\n",
    "\\label{_auto12} \\tag{19}\n",
    "\\end{equation}\n",
    "$$"
   ]
  },
  {
   "cell_type": "markdown",
   "metadata": {},
   "source": [
    "This is the same expression for $\\delta$ as before. One then finds $x_p(t)$,"
   ]
  },
  {
   "cell_type": "markdown",
   "metadata": {},
   "source": [
    "<!-- Equation labels as ordinary links -->\n",
    "<div id=\"eq:fastdriven1\"></div>\n",
    "\n",
    "$$\n",
    "\\begin{eqnarray}\n",
    "\\label{eq:fastdriven1} \\tag{20}\n",
    "x_p(t)&=&\\Re\\frac{(F_0/m)e^{i\\omega t-i\\delta}}{\\sqrt{(\\omega_0^2-\\omega^2)^2+4\\beta^2\\omega^2}}\\\\\n",
    "\\nonumber\n",
    "&=&\\frac{(F_0/m)\\cos(\\omega t-\\delta)}{\\sqrt{(\\omega_0^2-\\omega^2)^2+4\\beta^2\\omega^2}}.\n",
    "\\end{eqnarray}\n",
    "$$"
   ]
  },
  {
   "cell_type": "markdown",
   "metadata": {},
   "source": [
    "This is the same answer as before.\n",
    "If one wished to solve for the case where $F(t)= F_0\\sin\\omega t$, the imaginary part of the solution would work"
   ]
  },
  {
   "cell_type": "markdown",
   "metadata": {},
   "source": [
    "<!-- Equation labels as ordinary links -->\n",
    "<div id=\"eq:fastdriven2\"></div>\n",
    "\n",
    "$$\n",
    "\\begin{eqnarray}\n",
    "\\label{eq:fastdriven2} \\tag{21}\n",
    "x_p(t)&=&\\Im\\frac{(F_0/m)e^{i\\omega t-i\\delta}}{\\sqrt{(\\omega_0^2-\\omega^2)^2+4\\beta^2\\omega^2}}\\\\\n",
    "\\nonumber\n",
    "&=&\\frac{(F_0/m)\\sin(\\omega t-\\delta)}{\\sqrt{(\\omega_0^2-\\omega^2)^2+4\\beta^2\\omega^2}}.\n",
    "\\end{eqnarray}\n",
    "$$"
   ]
  },
  {
   "cell_type": "markdown",
   "metadata": {},
   "source": [
    "Consider the damped and driven harmonic oscillator worked out above. Given $F_0, m,\\beta$ and $\\omega_0$, solve for the complete solution $x(t)$ for the case where $F=F_0\\sin\\omega t$ with initial conditions $x(t=0)=0$ and $v(t=0)=0$. Assume the underdamped case.\n",
    "\n",
    "The general solution including the arbitrary constants includes both the homogenous and particular solutions,"
   ]
  },
  {
   "cell_type": "markdown",
   "metadata": {},
   "source": [
    "$$\n",
    "\\begin{eqnarray*}\n",
    "x(t)&=&\\frac{F_0}{m}\\frac{\\sin(\\omega t-\\delta)}{\\sqrt{(\\omega_0^2-\\omega^2)^2+4\\beta^2\\omega^2}}\n",
    "+A\\cos\\omega't e^{-\\beta t}+B\\sin\\omega't e^{-\\beta t}.\n",
    "\\end{eqnarray*}\n",
    "$$"
   ]
  },
  {
   "cell_type": "markdown",
   "metadata": {},
   "source": [
    "The quantities $\\delta$ and $\\omega'$ are given earlier in the\n",
    "section, $\\omega'=\\sqrt{\\omega_0^2-\\beta^2},\n",
    "\\delta=\\tan^{-1}(2\\beta\\omega/(\\omega_0^2-\\omega^2)$. Here, solving\n",
    "the problem means finding the arbitrary constants $A$ and\n",
    "$B$. Satisfying the initial conditions for the initial position and\n",
    "velocity:"
   ]
  },
  {
   "cell_type": "markdown",
   "metadata": {},
   "source": [
    "$$\n",
    "\\begin{eqnarray*}\n",
    "x(t=0)=0&=&-\\eta\\sin\\delta+A,\\\\\n",
    "v(t=0)=0&=&\\omega\\eta\\cos\\delta-\\beta A+\\omega'B,\\\\\n",
    "\\eta&\\equiv&\\frac{F_0}{m}\\frac{1}{\\sqrt{(\\omega_0^2-\\omega^2)^2+4\\beta^2\\omega^2}}.\n",
    "\\end{eqnarray*}\n",
    "$$"
   ]
  },
  {
   "cell_type": "markdown",
   "metadata": {},
   "source": [
    "The problem is now reduced to 2 equations and 2 unknowns, $A$ and $B$. The solution is"
   ]
  },
  {
   "cell_type": "markdown",
   "metadata": {},
   "source": [
    "$$\n",
    "\\begin{eqnarray}\n",
    "A&=& \\eta\\sin\\delta ,~~~B=\\frac{-\\omega\\eta\\cos\\delta+\\beta\\eta\\sin\\delta}{\\omega'}.\n",
    "\\end{eqnarray}\n",
    "$$"
   ]
  },
  {
   "cell_type": "markdown",
   "metadata": {},
   "source": [
    "## Resonance Widths; the $Q$ factor\n",
    "\n",
    "From the previous two sections, the particular solution for a driving force, $F=F_0\\cos\\omega t$, is"
   ]
  },
  {
   "cell_type": "markdown",
   "metadata": {},
   "source": [
    "$$\n",
    "\\begin{eqnarray}\n",
    "x_p(t)&=&\\frac{F_0/m}{\\sqrt{(\\omega_0^2-\\omega^2)^2+4\\omega^2\\beta^2}}\\cos(\\omega_t-\\delta),\\\\\n",
    "\\nonumber\n",
    "\\delta&=&\\tan^{-1}\\left(\\frac{2\\beta\\omega}{\\omega_0^2-\\omega^2}\\right).\n",
    "\\end{eqnarray}\n",
    "$$"
   ]
  },
  {
   "cell_type": "markdown",
   "metadata": {},
   "source": [
    "If one fixes the driving frequency $\\omega$ and adjusts the\n",
    "fundamental frequency $\\omega_0=\\sqrt{k/m}$, the maximum amplitude\n",
    "occurs when $\\omega_0=\\omega$ because that is when the term from the\n",
    "denominator $(\\omega_0^2-\\omega^2)^2+4\\omega^2\\beta^2$ is at a\n",
    "minimum. This is akin to dialing into a radio station. However, if one\n",
    "fixes $\\omega_0$ and adjusts the driving frequency one minimize with\n",
    "respect to $\\omega$, e.g. set"
   ]
  },
  {
   "cell_type": "markdown",
   "metadata": {},
   "source": [
    "<!-- Equation labels as ordinary links -->\n",
    "<div id=\"_auto13\"></div>\n",
    "\n",
    "$$\n",
    "\\begin{equation}\n",
    "\\frac{d}{d\\omega}\\left[(\\omega_0^2-\\omega^2)^2+4\\omega^2\\beta^2\\right]=0,\n",
    "\\label{_auto13} \\tag{22}\n",
    "\\end{equation}\n",
    "$$"
   ]
  },
  {
   "cell_type": "markdown",
   "metadata": {},
   "source": [
    "and one finds that the maximum amplitude occurs when\n",
    "$\\omega=\\sqrt{\\omega_0^2-2\\beta^2}$. If $\\beta$ is small relative to\n",
    "$\\omega_0$, one can simply state that the maximum amplitude is"
   ]
  },
  {
   "cell_type": "markdown",
   "metadata": {},
   "source": [
    "<!-- Equation labels as ordinary links -->\n",
    "<div id=\"_auto14\"></div>\n",
    "\n",
    "$$\n",
    "\\begin{equation}\n",
    "x_{\\rm max}\\approx\\frac{F_0}{2m\\beta \\omega_0}.\n",
    "\\label{_auto14} \\tag{23}\n",
    "\\end{equation}\n",
    "$$"
   ]
  },
  {
   "cell_type": "markdown",
   "metadata": {},
   "source": [
    "$$\n",
    "\\begin{eqnarray}\n",
    "\\frac{4\\omega^2\\beta^2}{(\\omega_0^2-\\omega^2)^2+4\\omega^2\\beta^2}=\\frac{1}{2}.\n",
    "\\end{eqnarray}\n",
    "$$"
   ]
  },
  {
   "cell_type": "markdown",
   "metadata": {},
   "source": [
    "For small damping this occurs when $\\omega=\\omega_0\\pm \\beta$, so the $FWHM\\approx 2\\beta$. For the purposes of tuning to a specific frequency, one wants the width to be as small as possible. The ratio of $\\omega_0$ to $FWHM$ is known as the {\\it quality} factor, or $Q$ factor,"
   ]
  },
  {
   "cell_type": "markdown",
   "metadata": {},
   "source": [
    "<!-- Equation labels as ordinary links -->\n",
    "<div id=\"_auto15\"></div>\n",
    "\n",
    "$$\n",
    "\\begin{equation}\n",
    "Q\\equiv \\frac{\\omega_0}{2\\beta}.\n",
    "\\label{_auto15} \\tag{24}\n",
    "\\end{equation}\n",
    "$$"
   ]
  },
  {
   "cell_type": "markdown",
   "metadata": {},
   "source": [
    "<!-- !split  -->\n",
    "## Principle of Superposition and Periodic Forces (Fourier Transforms)\n",
    "\n",
    "If one has several driving forces, $F(t)=\\sum_n F_n(t)$, one can find\n",
    "the particular solution to each $F_n$, $x_{pn}(t)$, and the particular\n",
    "solution for the entire driving force is"
   ]
  },
  {
   "cell_type": "markdown",
   "metadata": {},
   "source": [
    "<!-- Equation labels as ordinary links -->\n",
    "<div id=\"_auto16\"></div>\n",
    "\n",
    "$$\n",
    "\\begin{equation}\n",
    "x_p(t)=\\sum_nx_{pn}(t).\n",
    "\\label{_auto16} \\tag{25}\n",
    "\\end{equation}\n",
    "$$"
   ]
  },
  {
   "cell_type": "markdown",
   "metadata": {},
   "source": [
    "This is known as the principal of superposition. It only applies when\n",
    "the homogenous equation is linear. If there were an anharmonic term\n",
    "such as $x^3$ in the homogenous equation, then when one summed various\n",
    "solutions, $x=(\\sum_n x_n)^2$, one would get cross\n",
    "terms. Superposition is especially useful when $F(t)$ can be written\n",
    "as a sum of sinusoidal terms, because the solutions for each\n",
    "sinusoidal term is analytic, and are given in the previous two\n",
    "subsections.\n",
    "\n",
    "Driving forces are often periodic, even when they are not\n",
    "sinusoidal. Periodicity implies that for some time $\\tau$"
   ]
  },
  {
   "cell_type": "markdown",
   "metadata": {},
   "source": [
    "$$\n",
    "\\begin{eqnarray}\n",
    "F(t+\\tau)=F(t). \n",
    "\\end{eqnarray}\n",
    "$$"
   ]
  },
  {
   "cell_type": "markdown",
   "metadata": {},
   "source": [
    "One example of a non-sinusoidal periodic force is a square wave. Many\n",
    "components in electric circuits are non-linear, e.g. diodes, which\n",
    "makes many wave forms non-sinusoidal even when the circuits are being\n",
    "driven by purely sinusoidal sources.\n",
    "\n",
    "For the sinusoidal example studied in the previous subsections the\n",
    "period is $\\tau=2\\pi/\\omega$. However, higher harmonics can also\n",
    "satisfy the periodicity requirement. In general, any force that\n",
    "satisfies the periodicity requirement can be expressed as a sum over\n",
    "harmonics,"
   ]
  },
  {
   "cell_type": "markdown",
   "metadata": {},
   "source": [
    "<!-- Equation labels as ordinary links -->\n",
    "<div id=\"_auto17\"></div>\n",
    "\n",
    "$$\n",
    "\\begin{equation}\n",
    "F(t)=\\frac{f_0}{2}+\\sum_{n>0} f_n\\cos(2n\\pi t/\\tau)+g_n\\sin(2n\\pi t/\\tau).\n",
    "\\label{_auto17} \\tag{26}\n",
    "\\end{equation}\n",
    "$$"
   ]
  },
  {
   "cell_type": "markdown",
   "metadata": {},
   "source": [
    "From the previous subsection, one can write down the answer for\n",
    "$x_{pn}(t)$, by substituting $f_n/m$ or $g_n/m$ for $F_0/m$ into Eq.s\n",
    "([20](#eq:fastdriven1)) or ([21](#eq:fastdriven2)) respectively. By\n",
    "writing each factor $2n\\pi t/\\tau$ as $n\\omega t$, with $\\omega\\equiv\n",
    "2\\pi/\\tau$,"
   ]
  },
  {
   "cell_type": "markdown",
   "metadata": {},
   "source": [
    "<!-- Equation labels as ordinary links -->\n",
    "<div id=\"eq:fourierdef1\"></div>\n",
    "\n",
    "$$\n",
    "\\begin{equation}\n",
    "\\label{eq:fourierdef1} \\tag{27}\n",
    "F(t)=\\frac{f_0}{2}+\\sum_{n>0}f_n\\cos(n\\omega t)+g_n\\sin(n\\omega t).\n",
    "\\end{equation}\n",
    "$$"
   ]
  },
  {
   "cell_type": "markdown",
   "metadata": {},
   "source": [
    "The solutions for $x(t)$ then come from replacing $\\omega$ with\n",
    "$n\\omega$ for each term in the particular solution in Equations\n",
    "([13](#eq:partform)) and ([16](#eq:Ddrive)),"
   ]
  },
  {
   "cell_type": "markdown",
   "metadata": {},
   "source": [
    "$$\n",
    "\\begin{eqnarray}\n",
    "x_p(t)&=&\\frac{f_0}{2k}+\\sum_{n>0} \\alpha_n\\cos(n\\omega t-\\delta_n)+\\beta_n\\sin(n\\omega t-\\delta_n),\\\\\n",
    "\\nonumber\n",
    "\\alpha_n&=&\\frac{f_n/m}{\\sqrt{((n\\omega)^2-\\omega_0^2)+4\\beta^2n^2\\omega^2}},\\\\\n",
    "\\nonumber\n",
    "\\beta_n&=&\\frac{g_n/m}{\\sqrt{((n\\omega)^2-\\omega_0^2)+4\\beta^2n^2\\omega^2}},\\\\\n",
    "\\nonumber\n",
    "\\delta_n&=&\\tan^{-1}\\left(\\frac{2\\beta n\\omega}{\\omega_0^2-n^2\\omega^2}\\right).\n",
    "\\end{eqnarray}\n",
    "$$"
   ]
  },
  {
   "cell_type": "markdown",
   "metadata": {},
   "source": [
    "Because the forces have been applied for a long time, any non-zero\n",
    "damping eliminates the homogenous parts of the solution, so one need\n",
    "only consider the particular solution for each $n$.\n",
    "\n",
    "The problem will considered solved if one can find expressions for the\n",
    "coefficients $f_n$ and $g_n$, even though the solutions are expressed\n",
    "as an infinite sum. The coefficients can be extracted from the\n",
    "function $F(t)$ by"
   ]
  },
  {
   "cell_type": "markdown",
   "metadata": {},
   "source": [
    "<!-- Equation labels as ordinary links -->\n",
    "<div id=\"eq:fourierdef2\"></div>\n",
    "\n",
    "$$\n",
    "\\begin{eqnarray}\n",
    "\\label{eq:fourierdef2} \\tag{28}\n",
    "f_n&=&\\frac{2}{\\tau}\\int_{-\\tau/2}^{\\tau/2} dt~F(t)\\cos(2n\\pi t/\\tau),\\\\\n",
    "\\nonumber\n",
    "g_n&=&\\frac{2}{\\tau}\\int_{-\\tau/2}^{\\tau/2} dt~F(t)\\sin(2n\\pi t/\\tau).\n",
    "\\end{eqnarray}\n",
    "$$"
   ]
  },
  {
   "cell_type": "markdown",
   "metadata": {},
   "source": [
    "To check the consistency of these expressions and to verify\n",
    "Eq. ([28](#eq:fourierdef2)), one can insert the expansion of $F(t)$ in\n",
    "Eq. ([27](#eq:fourierdef1)) into the expression for the coefficients in\n",
    "Eq. ([28](#eq:fourierdef2)) and see whether"
   ]
  },
  {
   "cell_type": "markdown",
   "metadata": {},
   "source": [
    "$$\n",
    "\\begin{eqnarray}\n",
    "f_n&=?&\\frac{2}{\\tau}\\int_{-\\tau/2}^{\\tau/2} dt~\\left\\{\n",
    "\\frac{f_0}{2}+\\sum_{m>0}f_m\\cos(m\\omega t)+g_m\\sin(m\\omega t)\n",
    "\\right\\}\\cos(n\\omega t).\n",
    "\\end{eqnarray}\n",
    "$$"
   ]
  },
  {
   "cell_type": "markdown",
   "metadata": {},
   "source": [
    "Immediately, one can throw away all the terms with $g_m$ because they\n",
    "convolute an even and an odd function. The term with $f_0/2$\n",
    "disappears because $\\cos(n\\omega t)$ is equally positive and negative\n",
    "over the interval and will integrate to zero. For all the terms\n",
    "$f_m\\cos(m\\omega t)$ appearing in the sum, one can use angle addition\n",
    "formulas to see that $\\cos(m\\omega t)\\cos(n\\omega\n",
    "t)=(1/2)(\\cos[(m+n)\\omega t]+\\cos[(m-n)\\omega t]$. This will integrate\n",
    "to zero unless $m=n$. In that case the $m=n$ term gives"
   ]
  },
  {
   "cell_type": "markdown",
   "metadata": {},
   "source": [
    "<!-- Equation labels as ordinary links -->\n",
    "<div id=\"_auto18\"></div>\n",
    "\n",
    "$$\n",
    "\\begin{equation}\n",
    "\\int_{-\\tau/2}^{\\tau/2}dt~\\cos^2(m\\omega t)=\\frac{\\tau}{2},\n",
    "\\label{_auto18} \\tag{29}\n",
    "\\end{equation}\n",
    "$$"
   ]
  },
  {
   "cell_type": "markdown",
   "metadata": {},
   "source": [
    "and"
   ]
  },
  {
   "cell_type": "markdown",
   "metadata": {},
   "source": [
    "$$\n",
    "\\begin{eqnarray}\n",
    "f_n&=?&\\frac{2}{\\tau}\\int_{-\\tau/2}^{\\tau/2} dt~f_n/2\\\\\n",
    "\\nonumber\n",
    "&=&f_n~\\checkmark.\n",
    "\\end{eqnarray}\n",
    "$$"
   ]
  },
  {
   "cell_type": "markdown",
   "metadata": {},
   "source": [
    "The same method can be used to check for the consistency of $g_n$.\n",
    "\n",
    "\n",
    "Consider the driving force:"
   ]
  },
  {
   "cell_type": "markdown",
   "metadata": {},
   "source": [
    "<!-- Equation labels as ordinary links -->\n",
    "<div id=\"_auto19\"></div>\n",
    "\n",
    "$$\n",
    "\\begin{equation}\n",
    "F(t)=At/\\tau,~~-\\tau/2<t<\\tau/2,~~~F(t+\\tau)=F(t).\n",
    "\\label{_auto19} \\tag{30}\n",
    "\\end{equation}\n",
    "$$"
   ]
  },
  {
   "cell_type": "markdown",
   "metadata": {},
   "source": [
    "Find the Fourier coefficients $f_n$ and $g_n$ for all $n$ using Eq. ([28](#eq:fourierdef2)).\n",
    "\n",
    "Only the odd coefficients enter by symmetry, i.e. $f_n=0$. One can find $g_n$ integrating by parts,"
   ]
  },
  {
   "cell_type": "markdown",
   "metadata": {},
   "source": [
    "<!-- Equation labels as ordinary links -->\n",
    "<div id=\"eq:fouriersolution\"></div>\n",
    "\n",
    "$$\n",
    "\\begin{eqnarray}\n",
    "\\label{eq:fouriersolution} \\tag{31}\n",
    "g_n&=&\\frac{2}{\\tau}\\int_{-\\tau/2}^{\\tau/2}dt~\\sin(n\\omega t) \\frac{At}{\\tau}\\\\\n",
    "\\nonumber\n",
    "u&=&t,~dv=\\sin(n\\omega t)dt,~v=-\\cos(n\\omega t)/(n\\omega),\\\\\n",
    "\\nonumber\n",
    "g_n&=&\\frac{-2A}{n\\omega \\tau^2}\\int_{-\\tau/2}^{\\tau/2}dt~\\cos(n\\omega t)\n",
    "+\\left.2A\\frac{-t\\cos(n\\omega t)}{n\\omega\\tau^2}\\right|_{-\\tau/2}^{\\tau/2}.\n",
    "\\end{eqnarray}\n",
    "$$"
   ]
  },
  {
   "cell_type": "markdown",
   "metadata": {},
   "source": [
    "The first term is zero because $\\cos(n\\omega t)$ will be equally\n",
    "positive and negative over the interval. Using the fact that\n",
    "$\\omega\\tau=2\\pi$,"
   ]
  },
  {
   "cell_type": "markdown",
   "metadata": {},
   "source": [
    "$$\n",
    "\\begin{eqnarray}\n",
    "g_n&=&-\\frac{2A}{2n\\pi}\\cos(n\\omega\\tau/2)\\\\\n",
    "\\nonumber\n",
    "&=&-\\frac{A}{n\\pi}\\cos(n\\pi)\\\\\n",
    "\\nonumber\n",
    "&=&\\frac{A}{n\\pi}(-1)^{n+1}.\n",
    "\\end{eqnarray}\n",
    "$$"
   ]
  },
  {
   "cell_type": "markdown",
   "metadata": {},
   "source": [
    "## Response to Transient Force\n",
    "\n",
    "Consider a particle at rest in the bottom of an underdamped harmonic\n",
    "oscillator, that then feels a sudden impulse, or change in momentum,\n",
    "$I=F\\Delta t$ at $t=0$. This increases the velocity immediately by an\n",
    "amount $v_0=I/m$ while not changing the position. One can then solve\n",
    "the trajectory by solving Eq. ([9](#eq:homogsolution)) with initial\n",
    "conditions $v_0=I/m$ and $x_0=0$. This gives"
   ]
  },
  {
   "cell_type": "markdown",
   "metadata": {},
   "source": [
    "<!-- Equation labels as ordinary links -->\n",
    "<div id=\"_auto20\"></div>\n",
    "\n",
    "$$\n",
    "\\begin{equation}\n",
    "x(t)=\\frac{I}{m\\omega'}e^{-\\beta t}\\sin\\omega't, ~~t>0.\n",
    "\\label{_auto20} \\tag{32}\n",
    "\\end{equation}\n",
    "$$"
   ]
  },
  {
   "cell_type": "markdown",
   "metadata": {},
   "source": [
    "Here, $\\omega'=\\sqrt{\\omega_0^2-\\beta^2}$. For an impulse $I_i$ that\n",
    "occurs at time $t_i$ the trajectory would be"
   ]
  },
  {
   "cell_type": "markdown",
   "metadata": {},
   "source": [
    "<!-- Equation labels as ordinary links -->\n",
    "<div id=\"_auto21\"></div>\n",
    "\n",
    "$$\n",
    "\\begin{equation}\n",
    "x(t)=\\frac{I_i}{m\\omega'}e^{-\\beta (t-t_i)}\\sin[\\omega'(t-t_i)] \\Theta(t-t_i),\n",
    "\\label{_auto21} \\tag{33}\n",
    "\\end{equation}\n",
    "$$"
   ]
  },
  {
   "cell_type": "markdown",
   "metadata": {},
   "source": [
    "where $\\Theta(t-t_i)$ is a step function, i.e. $\\Theta(x)$ is zero for\n",
    "$x<0$ and unity for $x>0$. If there were several impulses linear\n",
    "superposition tells us that we can sum over each contribution,"
   ]
  },
  {
   "cell_type": "markdown",
   "metadata": {},
   "source": [
    "<!-- Equation labels as ordinary links -->\n",
    "<div id=\"_auto22\"></div>\n",
    "\n",
    "$$\n",
    "\\begin{equation}\n",
    "x(t)=\\sum_i\\frac{I_i}{m\\omega'}e^{-\\beta(t-t_i)}\\sin[\\omega'(t-t_i)]\\Theta(t-t_i)\n",
    "\\label{_auto22} \\tag{34}\n",
    "\\end{equation}\n",
    "$$"
   ]
  },
  {
   "cell_type": "markdown",
   "metadata": {},
   "source": [
    "Now one can consider a series of impulses at times separated by\n",
    "$\\Delta t$, where each impulse is given by $F_i\\Delta t$. The sum\n",
    "above now becomes an integral,"
   ]
  },
  {
   "cell_type": "markdown",
   "metadata": {},
   "source": [
    "<!-- Equation labels as ordinary links -->\n",
    "<div id=\"eq:Greeny\"></div>\n",
    "\n",
    "$$\n",
    "\\begin{eqnarray}\\label{eq:Greeny} \\tag{35}\n",
    "x(t)&=&\\int_{-\\infty}^\\infty dt'~F(t')\\frac{e^{-\\beta(t-t')}\\sin[\\omega'(t-t')]}{m\\omega'}\\Theta(t-t')\\\\\n",
    "\\nonumber\n",
    "&=&\\int_{-\\infty}^\\infty dt'~F(t')G(t-t'),\\\\\n",
    "\\nonumber\n",
    "G(\\Delta t)&=&\\frac{e^{-\\beta\\Delta t}\\sin[\\omega' \\Delta t]}{m\\omega'}\\Theta(\\Delta t)\n",
    "\\end{eqnarray}\n",
    "$$"
   ]
  },
  {
   "cell_type": "markdown",
   "metadata": {},
   "source": [
    "The quantity\n",
    "$e^{-\\beta(t-t')}\\sin[\\omega'(t-t')]/m\\omega'\\Theta(t-t')$ is called a\n",
    "Green's function, $G(t-t')$. It describes the response at $t$ due to a\n",
    "force applied at a time $t'$, and is a function of $t-t'$. The step\n",
    "function ensures that the response does not occur before the force is\n",
    "applied. One should remember that the form for $G$ would change if the\n",
    "oscillator were either critically- or over-damped.\n",
    "\n",
    "When performing the integral in Eq. ([35](#eq:Greeny)) one can use\n",
    "angle addition formulas to factor out the part with the $t'$\n",
    "dependence in the integrand,"
   ]
  },
  {
   "cell_type": "markdown",
   "metadata": {},
   "source": [
    "<!-- Equation labels as ordinary links -->\n",
    "<div id=\"eq:Greeny2\"></div>\n",
    "\n",
    "$$\n",
    "\\begin{eqnarray}\n",
    "\\label{eq:Greeny2} \\tag{36}\n",
    "x(t)&=&\\frac{1}{m\\omega'}e^{-\\beta t}\\left[I_c(t)\\sin(\\omega't)-I_s(t)\\cos(\\omega't)\\right],\\\\\n",
    "\\nonumber\n",
    "I_c(t)&\\equiv&\\int_{-\\infty}^t dt'~F(t')e^{\\beta t'}\\cos(\\omega't'),\\\\\n",
    "\\nonumber\n",
    "I_s(t)&\\equiv&\\int_{-\\infty}^t dt'~F(t')e^{\\beta t'}\\sin(\\omega't').\n",
    "\\end{eqnarray}\n",
    "$$"
   ]
  },
  {
   "cell_type": "markdown",
   "metadata": {},
   "source": [
    "If the time $t$ is beyond any time at which the force acts,\n",
    "$F(t'>t)=0$, the coefficients $I_c$ and $I_s$ become independent of\n",
    "$t$.\n",
    "\n",
    "\n",
    "Consider an undamped oscillator ($\\beta\\rightarrow 0$), with\n",
    "characteristic frequency $\\omega_0$ and mass $m$, that is at rest\n",
    "until it feels a force described by a Gaussian form,"
   ]
  },
  {
   "cell_type": "markdown",
   "metadata": {},
   "source": [
    "$$\n",
    "\\begin{eqnarray*}\n",
    "F(t)&=&F_0 \\exp\\left\\{\\frac{-t^2}{2\\tau^2}\\right\\}.\n",
    "\\end{eqnarray*}\n",
    "$$"
   ]
  },
  {
   "cell_type": "markdown",
   "metadata": {},
   "source": [
    "For large times ($t>>\\tau$), where the force has died off, find\n",
    "$x(t)$.\\\\ Solve for the coefficients $I_c$ and $I_s$ in\n",
    "Eq. ([36](#eq:Greeny2)). Because the Gaussian is an even function,\n",
    "$I_s=0$, and one need only solve for $I_c$,"
   ]
  },
  {
   "cell_type": "markdown",
   "metadata": {},
   "source": [
    "$$\n",
    "\\begin{eqnarray*}\n",
    "I_c&=&F_0\\int_{-\\infty}^\\infty dt'~e^{-t^{\\prime 2}/(2\\tau^2)}\\cos(\\omega_0 t')\\\\\n",
    "&=&\\Re F_0 \\int_{-\\infty}^\\infty dt'~e^{-t^{\\prime 2}/(2\\tau^2)}e^{i\\omega_0 t'}\\\\\n",
    "&=&\\Re F_0 \\int_{-\\infty}^\\infty dt'~e^{-(t'-i\\omega_0\\tau^2)^2/(2\\tau^2)}e^{-\\omega_0^2\\tau^2/2}\\\\\n",
    "&=&F_0\\tau \\sqrt{2\\pi} e^{-\\omega_0^2\\tau^2/2}.\n",
    "\\end{eqnarray*}\n",
    "$$"
   ]
  },
  {
   "cell_type": "markdown",
   "metadata": {},
   "source": [
    "The third step involved completing the square, and the final step used the fact that the integral"
   ]
  },
  {
   "cell_type": "markdown",
   "metadata": {},
   "source": [
    "$$\n",
    "\\begin{eqnarray*}\n",
    "\\int_{-\\infty}^\\infty dx~e^{-x^2/2}&=&\\sqrt{2\\pi}.\n",
    "\\end{eqnarray*}\n",
    "$$"
   ]
  },
  {
   "cell_type": "markdown",
   "metadata": {},
   "source": [
    "To see that this integral is true, consider the square of the integral, which you can change to polar coordinates,"
   ]
  },
  {
   "cell_type": "markdown",
   "metadata": {},
   "source": [
    "$$\n",
    "\\begin{eqnarray*}\n",
    "I&=&\\int_{-\\infty}^\\infty dx~e^{-x^2/2}\\\\\n",
    "I^2&=&\\int_{-\\infty}^\\infty dxdy~e^{-(x^2+y^2)/2}\\\\\n",
    "&=&2\\pi\\int_0^\\infty rdr~e^{-r^2/2}\\\\\n",
    "&=&2\\pi.\n",
    "\\end{eqnarray*}\n",
    "$$"
   ]
  },
  {
   "cell_type": "markdown",
   "metadata": {},
   "source": [
    "Finally, the expression for $x$ from Eq. ([36](#eq:Greeny2)) is"
   ]
  },
  {
   "cell_type": "markdown",
   "metadata": {},
   "source": [
    "$$\n",
    "\\begin{eqnarray*}\n",
    "x(t>>\\tau)&=&\\frac{F_0\\tau}{m\\omega_0} \\sqrt{2\\pi} e^{-\\omega_0^2\\tau^2/2}\\sin(\\omega_0t).\n",
    "\\end{eqnarray*}\n",
    "$$"
   ]
  },
  {
   "cell_type": "markdown",
   "metadata": {},
   "source": [
    "## Sliding Block tied to a Wall\n",
    "Another classical case is that of simple harmonic oscillations, here represented by a block sliding on a horizontal frictionless surface. The block is tied to a wall with a spring. If the spring is not compressed or stretched too far, the force on the block at a given position $x$ is"
   ]
  },
  {
   "cell_type": "markdown",
   "metadata": {},
   "source": [
    "$$\n",
    "F=-kx.\n",
    "$$"
   ]
  },
  {
   "cell_type": "markdown",
   "metadata": {},
   "source": [
    "The negative sign means that the force acts to restore the object to an equilibrium position. Newton's equation of motion for this idealized system is then"
   ]
  },
  {
   "cell_type": "markdown",
   "metadata": {},
   "source": [
    "$$\n",
    "m\\frac{d^2x}{dt^2}=-kx,\n",
    "$$"
   ]
  },
  {
   "cell_type": "markdown",
   "metadata": {},
   "source": [
    "or we could rephrase it as"
   ]
  },
  {
   "cell_type": "markdown",
   "metadata": {},
   "source": [
    "<!-- Equation labels as ordinary links -->\n",
    "<div id=\"eq:newton1\"></div>\n",
    "\n",
    "$$\n",
    "\\frac{d^2x}{dt^2}=-\\frac{k}{m}x=-\\omega_0^2x,\n",
    "\\label{eq:newton1} \\tag{37}\n",
    "$$"
   ]
  },
  {
   "cell_type": "markdown",
   "metadata": {},
   "source": [
    "with the angular frequency $\\omega_0^2=k/m$. \n",
    "\n",
    "The above differential equation has the advantage that it can be solved  analytically with solutions on the form"
   ]
  },
  {
   "cell_type": "markdown",
   "metadata": {},
   "source": [
    "$$\n",
    "x(t)=Acos(\\omega_0t+\\nu),\n",
    "$$"
   ]
  },
  {
   "cell_type": "markdown",
   "metadata": {},
   "source": [
    "where $A$ is the amplitude and $\\nu$ the phase constant.   This provides in turn an important test for the numerical\n",
    "solution and the development of a program for more complicated cases which cannot be solved analytically.\n",
    "\n",
    "\n",
    "\n",
    "\n",
    "## Simple Example, Block tied to a Wall\n",
    "\n",
    "With the position $x(t)$ and the velocity  $v(t)=dx/dt$ we can reformulate Newton's equation in the following way"
   ]
  },
  {
   "cell_type": "markdown",
   "metadata": {},
   "source": [
    "$$\n",
    "\\frac{dx(t)}{dt}=v(t),\n",
    "$$"
   ]
  },
  {
   "cell_type": "markdown",
   "metadata": {},
   "source": [
    "and"
   ]
  },
  {
   "cell_type": "markdown",
   "metadata": {},
   "source": [
    "$$\n",
    "\\frac{dv(t)}{dt}=-\\omega_0^2x(t).\n",
    "$$"
   ]
  },
  {
   "cell_type": "markdown",
   "metadata": {},
   "source": [
    "We are now going to solve these equations using first the standard forward Euler  method. Later we will try to improve upon this.\n",
    "\n",
    "\n",
    "## Simple Example, Block tied to a Wall\n",
    "\n",
    "Before proceeding however, it is important to note that in addition to the exact solution, we have at least two further tests which can be used to check our solution. \n",
    "\n",
    "Since functions like $cos$ are periodic with a period $2\\pi$, then the solution $x(t)$ has also to be periodic. This means that"
   ]
  },
  {
   "cell_type": "markdown",
   "metadata": {},
   "source": [
    "$$\n",
    "x(t+T)=x(t),\n",
    "$$"
   ]
  },
  {
   "cell_type": "markdown",
   "metadata": {},
   "source": [
    "with $T$ the period defined as"
   ]
  },
  {
   "cell_type": "markdown",
   "metadata": {},
   "source": [
    "$$\n",
    "T=\\frac{2\\pi}{\\omega_0}=\\frac{2\\pi}{\\sqrt{k/m}}.\n",
    "$$"
   ]
  },
  {
   "cell_type": "markdown",
   "metadata": {},
   "source": [
    "Observe that $T$ depends only on $k/m$ and not on the amplitude of the solution. \n",
    "\n",
    "\n",
    "## Simple Example, Block tied to a Wall\n",
    "\n",
    "In addition to the periodicity test, the total energy has also to be conserved. \n",
    "\n",
    "Suppose we choose the initial conditions"
   ]
  },
  {
   "cell_type": "markdown",
   "metadata": {},
   "source": [
    "$$\n",
    "x(t=0)=1\\hspace{0.1cm} \\mathrm{m}\\hspace{1cm} v(t=0)=0\\hspace{0.1cm}\\mathrm{m/s},\n",
    "$$"
   ]
  },
  {
   "cell_type": "markdown",
   "metadata": {},
   "source": [
    "meaning that block is at rest at $t=0$ but with a potential energy"
   ]
  },
  {
   "cell_type": "markdown",
   "metadata": {},
   "source": [
    "$$\n",
    "E_0=\\frac{1}{2}kx(t=0)^2=\\frac{1}{2}k.\n",
    "$$"
   ]
  },
  {
   "cell_type": "markdown",
   "metadata": {},
   "source": [
    "The total energy at any time $t$ has however to be conserved, meaning that our solution has to fulfil the condition"
   ]
  },
  {
   "cell_type": "markdown",
   "metadata": {},
   "source": [
    "$$\n",
    "E_0=\\frac{1}{2}kx(t)^2+\\frac{1}{2}mv(t)^2.\n",
    "$$"
   ]
  },
  {
   "cell_type": "markdown",
   "metadata": {},
   "source": [
    "## Simple Example, Block tied to a Wall\n",
    "\n",
    "An algorithm which implements these equations is included below.\n",
    " * Choose the initial position and speed, with the most common choice $v(t=0)=0$ and some fixed value for the position. \n",
    "\n",
    " * Choose the method you wish to employ in solving the problem.\n",
    "\n",
    " * Subdivide the time interval $[t_i,t_f] $ into a grid with step size"
   ]
  },
  {
   "cell_type": "markdown",
   "metadata": {},
   "source": [
    "$$\n",
    "h=\\frac{t_f-t_i}{N},\n",
    "$$"
   ]
  },
  {
   "cell_type": "markdown",
   "metadata": {},
   "source": [
    "where $N$ is the number of mesh points. \n",
    " * Calculate now the total energy given by"
   ]
  },
  {
   "cell_type": "markdown",
   "metadata": {},
   "source": [
    "$$\n",
    "E_0=\\frac{1}{2}kx(t=0)^2=\\frac{1}{2}k.\n",
    "$$"
   ]
  },
  {
   "cell_type": "markdown",
   "metadata": {},
   "source": [
    "* Choose ODE solver to obtain $x_{i+1}$ and $v_{i+1}$ starting from the previous values $x_i$ and $v_i$.\n",
    "\n",
    " * When we have computed $x(v)_{i+1}$ we upgrade  $t_{i+1}=t_i+h$.\n",
    "\n",
    " * This iterative  process continues till we reach the maximum time $t_f$.\n",
    "\n",
    " * The results are checked against the exact solution. Furthermore, one has to check the stability of the numerical solution against the chosen number of mesh points $N$.      \n",
    "\n",
    "## Simple Example, Block tied to a Wall, python code\n",
    "\n",
    "The following python program performs essentially the same calculations as the previous c++ code."
   ]
  },
  {
   "cell_type": "code",
   "execution_count": 1,
   "metadata": {
    "collapsed": false
   },
   "outputs": [],
   "source": [
    "#\n",
    "# This program solves Newtons equation for a block sliding on\n",
    "# an horizontal frictionless surface.\n",
    "# The block is tied to the wall with a spring, so N's eq takes the form:\n",
    "#\n",
    "#  m d^2x/dt^2 = - kx\n",
    "#\n",
    "# In order to make the solution dimless, we set k/m = 1.\n",
    "# This results in two coupled diff. eq's that may be written as:\n",
    "#\n",
    "#  dx/dt = v\n",
    "#  dv/dt = -x\n",
    "#\n",
    "# The user has to specify the initial velocity and position,\n",
    "# and the number of steps. The time interval is fixed to\n",
    "# t \\in [0, 4\\pi) (two periods)\n",
    "#\n",
    "# Note that this is a highly simplifyed rk4 code, intended\n",
    "# for conceptual understanding and experimentation.\n",
    "\n",
    "import sys\n",
    "import numpy, math\n",
    "\n",
    "#Global variables\n",
    "ofile = None;\n",
    "E0    = 0.0\n",
    "\n",
    "def sim(x_0, v_0, N):\n",
    "    ts = 0.0\n",
    "    te = 4*math.pi\n",
    "    h = (te-ts)/float(N)\n",
    "\n",
    "    t = ts;\n",
    "    x = x_0\n",
    "    v = v_0\n",
    "    while (t < te):\n",
    "        kv1 = -h*x\n",
    "        kx1 = h*v\n",
    "\n",
    "        kv2 = -h*(x+kx1/2)\n",
    "        kx2 =  h*(v+kv1/2)\n",
    "\n",
    "        kv3 = -h*(x+kx2/2)\n",
    "        kx3 =  h*(v+kv2/2)\n",
    "\n",
    "        kv4 = -h*(x+kx3/2)\n",
    "        kx4 =  h*(v+kv3/2)\n",
    "\n",
    "        #Write the old values to file\n",
    "        output(t,x,v)\n",
    "\n",
    "        #Update\n",
    "        x = x + (kx1 + 2*(kx2+kx3) + kx4)/6\n",
    "        v = v + (kv1 + 2*(kv2+kv3) + kv4)/6\n",
    "        t = t+h\n",
    "        \n",
    "def output(t,x,v):\n",
    "    de = 0.5*x**2+0.5*v**2 - E0;\n",
    "    ofile.write(\"%15.8E %15.8E %15.8E %15.8E %15.8E\\n\"\\\n",
    "                %(t, x, v, math.cos(t),de));\n",
    "\n",
    "\n",
    "#MAIN PROGRAM:\n",
    "\n",
    "#Get input\n",
    "if len(sys.argv) == 5:\n",
    "    ofilename =       sys.argv[1];\n",
    "    x_0       = float(sys.argv[2])\n",
    "    v_0       = float(sys.argv[3])\n",
    "    N         =   int(sys.argv[4])\n",
    "else:\n",
    "    print \"Usage:\", sys.argv[0], \"ofilename x0 v0 N\"\n",
    "    sys.exit(0)\n",
    "\n",
    "#Setup\n",
    "ofile = open(ofilename, 'w')\n",
    "E0    = 0.5*x_0**2+0.5*v_0**2\n",
    "\n",
    "#Run simulation\n",
    "sim(x_0,v_0,N)\n",
    "\n",
    "#Cleanup\n",
    "ofile.close()"
   ]
  },
  {
   "cell_type": "markdown",
   "metadata": {},
   "source": [
    "## The classical pendulum and scaling the equations\n",
    "\n",
    "The angular equation of motion of the pendulum is given by\n",
    "Newton's equation and with no external force it reads"
   ]
  },
  {
   "cell_type": "markdown",
   "metadata": {},
   "source": [
    "<!-- Equation labels as ordinary links -->\n",
    "<div id=\"_auto23\"></div>\n",
    "\n",
    "$$\n",
    "\\begin{equation}\n",
    "  ml\\frac{d^2\\theta}{dt^2}+mgsin(\\theta)=0,\n",
    "\\label{_auto23} \\tag{38}\n",
    "\\end{equation}\n",
    "$$"
   ]
  },
  {
   "cell_type": "markdown",
   "metadata": {},
   "source": [
    "with an angular velocity and acceleration given by"
   ]
  },
  {
   "cell_type": "markdown",
   "metadata": {},
   "source": [
    "<!-- Equation labels as ordinary links -->\n",
    "<div id=\"_auto24\"></div>\n",
    "\n",
    "$$\n",
    "\\begin{equation}\n",
    "     v=l\\frac{d\\theta}{dt},\n",
    "\\label{_auto24} \\tag{39}\n",
    "\\end{equation}\n",
    "$$"
   ]
  },
  {
   "cell_type": "markdown",
   "metadata": {},
   "source": [
    "and"
   ]
  },
  {
   "cell_type": "markdown",
   "metadata": {},
   "source": [
    "<!-- Equation labels as ordinary links -->\n",
    "<div id=\"_auto25\"></div>\n",
    "\n",
    "$$\n",
    "\\begin{equation}\n",
    "     a=l\\frac{d^2\\theta}{dt^2}.\n",
    "\\label{_auto25} \\tag{40}\n",
    "\\end{equation}\n",
    "$$"
   ]
  },
  {
   "cell_type": "markdown",
   "metadata": {},
   "source": [
    "## More on the Pendulum\n",
    "\n",
    "We do however expect that the motion will gradually come to an end due a viscous drag torque acting on the pendulum. \n",
    "In the presence of the drag, the above equation becomes"
   ]
  },
  {
   "cell_type": "markdown",
   "metadata": {},
   "source": [
    "<!-- Equation labels as ordinary links -->\n",
    "<div id=\"eq:pend1\"></div>\n",
    "\n",
    "$$\n",
    "\\begin{equation}\n",
    "   ml\\frac{d^2\\theta}{dt^2}+\\nu\\frac{d\\theta}{dt}  +mgsin(\\theta)=0, \\label{eq:pend1} \\tag{41}\n",
    "\\end{equation}\n",
    "$$"
   ]
  },
  {
   "cell_type": "markdown",
   "metadata": {},
   "source": [
    "where $\\nu$ is now a positive constant parameterizing the viscosity\n",
    "of the medium in question. In order to maintain the motion against\n",
    "viscosity, it is necessary to add some external driving force. \n",
    "We choose here a periodic driving force. The last equation becomes then"
   ]
  },
  {
   "cell_type": "markdown",
   "metadata": {},
   "source": [
    "<!-- Equation labels as ordinary links -->\n",
    "<div id=\"eq:pend2\"></div>\n",
    "\n",
    "$$\n",
    "\\begin{equation}\n",
    "   ml\\frac{d^2\\theta}{dt^2}+\\nu\\frac{d\\theta}{dt}  +mgsin(\\theta)=Asin(\\omega t), \\label{eq:pend2} \\tag{42}\n",
    "\\end{equation}\n",
    "$$"
   ]
  },
  {
   "cell_type": "markdown",
   "metadata": {},
   "source": [
    "with $A$ and $\\omega$ two constants representing the amplitude and \n",
    "the angular frequency respectively. The latter is called the driving frequency.\n",
    "\n",
    "\n",
    "\n",
    "\n",
    "## More on the Pendulum\n",
    "\n",
    "We define"
   ]
  },
  {
   "cell_type": "markdown",
   "metadata": {},
   "source": [
    "$$\n",
    "\\omega_0=\\sqrt{g/l},\n",
    "$$"
   ]
  },
  {
   "cell_type": "markdown",
   "metadata": {},
   "source": [
    "the so-called natural frequency and the new dimensionless quantities"
   ]
  },
  {
   "cell_type": "markdown",
   "metadata": {},
   "source": [
    "$$\n",
    "\\hat{t}=\\omega_0t,\n",
    "$$"
   ]
  },
  {
   "cell_type": "markdown",
   "metadata": {},
   "source": [
    "with the dimensionless driving frequency"
   ]
  },
  {
   "cell_type": "markdown",
   "metadata": {},
   "source": [
    "$$\n",
    "\\hat{\\omega}=\\frac{\\omega}{\\omega_0},\n",
    "$$"
   ]
  },
  {
   "cell_type": "markdown",
   "metadata": {},
   "source": [
    "and introducing the quantity $Q$, called the *quality factor*,"
   ]
  },
  {
   "cell_type": "markdown",
   "metadata": {},
   "source": [
    "$$\n",
    "Q=\\frac{mg}{\\omega_0\\nu},\n",
    "$$"
   ]
  },
  {
   "cell_type": "markdown",
   "metadata": {},
   "source": [
    "and the dimensionless amplitude"
   ]
  },
  {
   "cell_type": "markdown",
   "metadata": {},
   "source": [
    "$$\n",
    "\\hat{A}=\\frac{A}{mg}\n",
    "$$"
   ]
  },
  {
   "cell_type": "markdown",
   "metadata": {},
   "source": [
    "## More on the Pendulum\n",
    "\n",
    "We have"
   ]
  },
  {
   "cell_type": "markdown",
   "metadata": {},
   "source": [
    "$$\n",
    "\\frac{d^2\\theta}{d\\hat{t}^2}+\\frac{1}{Q}\\frac{d\\theta}{d\\hat{t}}  \n",
    "     +sin(\\theta)=\\hat{A}cos(\\hat{\\omega}\\hat{t}).\n",
    "$$"
   ]
  },
  {
   "cell_type": "markdown",
   "metadata": {},
   "source": [
    "This equation can in turn be recast in terms of two coupled first-order differential equations as follows"
   ]
  },
  {
   "cell_type": "markdown",
   "metadata": {},
   "source": [
    "$$\n",
    "\\frac{d\\theta}{d\\hat{t}}=\\hat{v},\n",
    "$$"
   ]
  },
  {
   "cell_type": "markdown",
   "metadata": {},
   "source": [
    "and"
   ]
  },
  {
   "cell_type": "markdown",
   "metadata": {},
   "source": [
    "$$\n",
    "\\frac{d\\hat{v}}{d\\hat{t}}=-\\frac{\\hat{v}}{Q}-sin(\\theta)+\\hat{A}cos(\\hat{\\omega}\\hat{t}).\n",
    "$$"
   ]
  },
  {
   "cell_type": "markdown",
   "metadata": {},
   "source": [
    "These are the equations to be solved.  The factor $Q$ represents the number of oscillations of the undriven system that must occur before  its energy is significantly reduced due to the viscous drag. The  amplitude $\\hat{A}$ is measured in units of the maximum possible  gravitational torque while $\\hat{\\omega}$ is the angular frequency of the external torque measured in units of the pendulum's natural frequency."
   ]
  }
 ],
 "metadata": {},
 "nbformat": 4,
 "nbformat_minor": 2
}
