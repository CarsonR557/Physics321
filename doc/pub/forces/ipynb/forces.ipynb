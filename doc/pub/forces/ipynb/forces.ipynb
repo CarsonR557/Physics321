{
 "cells": [
  {
   "cell_type": "markdown",
   "metadata": {},
   "source": [
    "<!-- dom:TITLE: PHY321: Forces, Newton's Laws and Motion Example -->\n",
    "# PHY321: Forces, Newton's Laws and Motion Example\n",
    "<!-- dom:AUTHOR: [Morten Hjorth-Jensen](http://mhjgit.github.io/info/doc/web/) at Department of Physics and Astronomy and National Superconducting Cyclotron Laboratory, Michigan State University, USA & Department of Physics, University of Oslo, Norway -->\n",
    "<!-- Author: -->  \n",
    "**[Morten Hjorth-Jensen](http://mhjgit.github.io/info/doc/web/)**, Department of Physics and Astronomy and National Superconducting Cyclotron Laboratory, Michigan State University, USA and Department of Physics, University of Oslo, Norway  \n",
    "<!-- dom:AUTHOR: [Scott Pratt](https://pa.msu.edu/profile/pratts/) at Department of Physics and Astronomy and National Superconducting Cyclotron Laboratory, Michigan State University, USA -->\n",
    "<!-- Author: --> **[Scott Pratt](https://pa.msu.edu/profile/pratts/)**, Department of Physics and Astronomy and National Superconducting Cyclotron Laboratory, Michigan State University, USA  \n",
    "<!-- dom:AUTHOR: [Carl Schmidt](https://pa.msu.edu/profile/schmidt/) at Department of Physics and Astronomy, Michigan State University, USA -->\n",
    "<!-- Author: --> **[Carl Schmidt](https://pa.msu.edu/profile/schmidt/)**, Department of Physics and Astronomy, Michigan State University, USA\n",
    "\n",
    "Date: **Jan 17, 2020**\n",
    "\n",
    "Copyright 1999-2020, [Morten Hjorth-Jensen](http://mhjgit.github.io/info/doc/web/). Released under CC Attribution-NonCommercial 4.0 license\n",
    "\n",
    "\n",
    "\n",
    "\n",
    "## Basic elements of Scientific investigations\n",
    "\n",
    "More text to come here\n",
    "## Newton's Laws\n",
    "\n",
    "When analyzing a physical system we normally start with distinguishing between the object we are studying (we will label this in more general terms as our **system**) and how this system interacts with the environment (which often means everything else!)\n",
    "\n",
    "In our investigations we will thus analyze a specific physics problem in terms of the system and the environment.\n",
    "In doing so we need to identify the forces that act on the system and assume that the\n",
    "forces acting on the system must have a source, an identifiable cause in\n",
    "the environment.\n",
    "\n",
    "A force acting on for example a falling object must be related to an interaction with something in the environment.\n",
    "This also means that we do not consider internal forces. The latter are forces between\n",
    "one part of the object and another part. In this course we will mainly focus on external forces.\n",
    "\n",
    "Forces are either contact forces or long-range forces.\n",
    "\n",
    "Contact forces, as evident from the name, are forces that occur at the contact between\n",
    "the system and the environment. Well-known long-range forces are the gravitional force and the electromagnetic force.\n",
    "\n",
    "\n",
    "## Setting up a model for forces acting on an object\n",
    "\n",
    "In order to set up the forces which act on an object, the following steps may be useful\n",
    "1. Divide the problem into system and environment.\n",
    "\n",
    "2. Draw a figure of the object and everything in contact with the object.\n",
    "\n",
    "3. Draw a closed curve around the system.\n",
    "\n",
    "4. Find contact points—these are the points where contact forces may act.\n",
    "\n",
    "5. Give names and symbols to all the contact forces.\n",
    "\n",
    "6. Identify the long-range forces.\n",
    "\n",
    "7. Make a drawing of the object. Draw the forces as arrows, vectors, starting from where the force is acting. The direction of the vector indicates the\n",
    "\n",
    "(positive) direction of the force. Try to make the length of the arrow indicate the relative magnitude of the forces.\n",
    "1. Draw in the axes of the coordinate system. It is often convenient to make one axis parallel to the direction of motion. When you choose direction of the axis you also choose the positive direction for the axis.\n",
    "\n",
    "## Newton's Laws, the Second one first\n",
    "\n",
    "\n",
    "Newton’s second law of motion: The force $\\boldsymbol{F}$ on an object of inertial mass $m$\n",
    "is related to the acceleration a of the object through"
   ]
  },
  {
   "cell_type": "markdown",
   "metadata": {},
   "source": [
    "$$\n",
    "\\boldsymbol{F} = m\\boldsymbol{a},\n",
    "$$"
   ]
  },
  {
   "cell_type": "markdown",
   "metadata": {},
   "source": [
    "where $\\boldsymbol{a}$ is the acceleration.\n",
    "\n",
    "Newton’s laws of motion are laws of nature that have been found by experimental\n",
    "investigations and have been shown to hold up to continued experimental investigations.\n",
    "Newton’s laws are valid over a wide range of length- and time-scales. We\n",
    "use Newton’s laws of motion to describe everything from the motion of atoms to the\n",
    "motion of galaxies.\n",
    "\n",
    "The second law is a vector equation with the acceleration having the same\n",
    "direction as the force. The acceleration is proportional to the force via the mass $m$ of the system under study.\n",
    "\n",
    "\n",
    "Newton’s second law introduces a new property of an object, the so-called \n",
    "inertial mass $m$. We determine the inertial mass of an object by measuring the\n",
    "acceleration for a given applied force.\n",
    "\n",
    "\n",
    "## Then the First Law\n",
    "\n",
    "\n",
    "What happens if the net external force on a body is zero? Applying Newton’s second\n",
    "law, we find:"
   ]
  },
  {
   "cell_type": "markdown",
   "metadata": {},
   "source": [
    "$$\n",
    "\\boldsymbol{F} = 0 = m\\boldsymbol{a},\n",
    "$$"
   ]
  },
  {
   "cell_type": "markdown",
   "metadata": {},
   "source": [
    "which gives using the definition of the acceleration"
   ]
  },
  {
   "cell_type": "markdown",
   "metadata": {},
   "source": [
    "$$\n",
    "\\boldsymbol{a} = \\frac{d\\boldsymbol{v}}{dt}=0.\n",
    "$$"
   ]
  },
  {
   "cell_type": "markdown",
   "metadata": {},
   "source": [
    "The acceleration is zero, which means that the velocity of the object is constant. This\n",
    "is often referred to as Newton’s first law. An object in a state of uniform motion tends to remain in\n",
    "that state unless an external force changes its state of motion.\n",
    "Why do we need a separate law for this? Is it not simply a special case of Newton’s\n",
    "second law? Yes, Newton’s first law can be deduced from the second law as we have\n",
    "illustrated. However, the first law is often used for a different purpose: Newton’s\n",
    "First Law tells us about the limit of applicability of Newton’s Second law. Newton’s\n",
    "Second law can only be used in reference systems where the First law is obeyed. But\n",
    "is not the First law always valid? No! The First law is only valid in reference systems\n",
    "that are not accelerated. If you observe the motion of a ball from an accelerating\n",
    "car, the ball will appear to accelerate even if there are no forces acting on it. We call\n",
    "systems that are not accelerating inertial systems, and Newton’s first law is often\n",
    "called the law of inertia. Newton’s first and second laws of motion are only valid in\n",
    "inertial systems. \n",
    "\n",
    "A system is an inertial system if it is not accelerated. It means that the reference system\n",
    "must not be accelerating linearly or rotating. Unfortunately, this means that most\n",
    "systems we know are not really inertial systems. For example, the surface of the\n",
    "Earth is clearly not an inertial system, because the Earth is rotating. The Earth is also\n",
    "not an inertial system, because it ismoving in a curved path around the Sun. However,\n",
    "even if the surface of the Earth is not strictly an inertial system, it may be considered\n",
    "to be approximately an inertial system for many laboratory-size experiments.\n",
    "\n",
    "## And finally the Third Law\n",
    "\n",
    "\n",
    "If there is a force from object A on object B, there is also a force from object B on object A.\n",
    "This fundamental principle of interactions is called Newton’s third law. We do not\n",
    "know of any force that do not obey this law: All forces appear in pairs. Newton’s\n",
    "third law is usually formulated as: For every action there is an equal and opposite\n",
    "reaction.\n",
    "\n",
    "\n",
    "## Motion of a Single Object\n",
    "\n",
    "Here we consider the motion of a single particle moving under\n",
    "the influence of some set of forces.  We will consider some problems where\n",
    "the force does not depend on the position. In that case Newton's law\n",
    "$m\\dot{\\boldsymbol{v}}=\\boldsymbol{F}(\\boldsymbol{v})$ is a first-order differential\n",
    "equation and one solves for $\\boldsymbol{v}(t)$, then moves on to integrate\n",
    "$\\boldsymbol{v}$ to get the position. In essentially all of these cases we cna find an analytical solution.\n",
    "\n",
    "\n",
    "## Air Resistance in One Dimension\n",
    "\n",
    "Air resistance tends to scale as the square of the velocity. This is\n",
    "in contrast to many problems chosen for textbooks, where it is linear\n",
    "in the velocity. The choice of a linear dependence is motivated by\n",
    "mathematical simplicity (it keeps the differential equation linear)\n",
    "rather than by physics. One can see that the force should be quadratic\n",
    "in velocity by considering the momentum imparted on the air\n",
    "molecules. If an object sweeps through a volume $dV$ of air in time\n",
    "$dt$, the momentum imparted on the air is"
   ]
  },
  {
   "cell_type": "markdown",
   "metadata": {},
   "source": [
    "<!-- Equation labels as ordinary links -->\n",
    "<div id=\"_auto1\"></div>\n",
    "\n",
    "$$\n",
    "\\begin{equation}\n",
    "dP=\\rho_m dV v,\n",
    "\\label{_auto1} \\tag{1}\n",
    "\\end{equation}\n",
    "$$"
   ]
  },
  {
   "cell_type": "markdown",
   "metadata": {},
   "source": [
    "where $v$ is the velocity of the object and $\\rho_m$ is the mass\n",
    "density of the air. If the molecules bounce back as opposed to stop\n",
    "you would double the size of the term. The opposite value of the\n",
    "momentum is imparted onto the object itself. Geometrically, the\n",
    "differential volume is"
   ]
  },
  {
   "cell_type": "markdown",
   "metadata": {},
   "source": [
    "<!-- Equation labels as ordinary links -->\n",
    "<div id=\"_auto2\"></div>\n",
    "\n",
    "$$\n",
    "\\begin{equation}\n",
    "dV=Avdt,\n",
    "\\label{_auto2} \\tag{2}\n",
    "\\end{equation}\n",
    "$$"
   ]
  },
  {
   "cell_type": "markdown",
   "metadata": {},
   "source": [
    "where $A$ is the cross-sectional area and $vdt$ is the distance the\n",
    "object moved in time $dt$.\n",
    "\n",
    "## Resulting Acceleration\n",
    "Plugging this into the expression above,"
   ]
  },
  {
   "cell_type": "markdown",
   "metadata": {},
   "source": [
    "<!-- Equation labels as ordinary links -->\n",
    "<div id=\"_auto3\"></div>\n",
    "\n",
    "$$\n",
    "\\begin{equation}\n",
    "\\frac{dP}{dt}=-\\rho_m A v^2.\n",
    "\\label{_auto3} \\tag{3}\n",
    "\\end{equation}\n",
    "$$"
   ]
  },
  {
   "cell_type": "markdown",
   "metadata": {},
   "source": [
    "This is the force felt by the particle, and is opposite to its\n",
    "direction of motion. Now, because air doesn't stop when it hits an\n",
    "object, but flows around the best it can, the actual force is reduced\n",
    "by a dimensionless factor $c_W$, called the drag coefficient."
   ]
  },
  {
   "cell_type": "markdown",
   "metadata": {},
   "source": [
    "<!-- Equation labels as ordinary links -->\n",
    "<div id=\"_auto4\"></div>\n",
    "\n",
    "$$\n",
    "\\begin{equation}\n",
    "F_{\\rm drag}=-c_W\\rho_m Av^2,\n",
    "\\label{_auto4} \\tag{4}\n",
    "\\end{equation}\n",
    "$$"
   ]
  },
  {
   "cell_type": "markdown",
   "metadata": {},
   "source": [
    "and the acceleration is"
   ]
  },
  {
   "cell_type": "markdown",
   "metadata": {},
   "source": [
    "$$\n",
    "\\begin{eqnarray}\n",
    "\\frac{dv}{dt}=-\\frac{c_W\\rho_mA}{m}v^2.\n",
    "\\end{eqnarray}\n",
    "$$"
   ]
  },
  {
   "cell_type": "markdown",
   "metadata": {},
   "source": [
    "For a particle with initial velocity $v_0$, one can separate the $dt$\n",
    "to one side of the equation, and move everything with $v$s to the\n",
    "other side. We did this in our discussion of simple motion and will not repeat it here.\n",
    "\n",
    "On more general terms,\n",
    "for many systems, e.g. an automobile, there are multiple sources of\n",
    "resistance. In addition to wind resistance, where the force is\n",
    "proportional to $v^2$, there are dissipative effects of the tires on\n",
    "the pavement, and in the axel and drive train. These other forces can\n",
    "have components that scale proportional to $v$, and components that\n",
    "are independent of $v$. Those independent of $v$, e.g. the usual\n",
    "$f=\\mu_K N$ frictional force you consider in your first Physics courses, only set in\n",
    "once the object is actually moving. As speeds become higher, the $v^2$\n",
    "components begin to dominate relative to the others. For automobiles\n",
    "at freeway speeds, the $v^2$ terms are largely responsible for the\n",
    "loss of efficiency. To travel a distance $L$ at fixed speed $v$, the\n",
    "energy/work required to overcome the dissipative forces are $fL$,\n",
    "which for a force of the form $f=\\alpha v^n$ becomes"
   ]
  },
  {
   "cell_type": "markdown",
   "metadata": {},
   "source": [
    "$$\n",
    "\\begin{eqnarray}\n",
    "W=\\int dx~f=\\alpha v^n L.\n",
    "\\end{eqnarray}\n",
    "$$"
   ]
  },
  {
   "cell_type": "markdown",
   "metadata": {},
   "source": [
    "For $n=0$ the work is\n",
    "independent of speed, but for the wind resistance, where $n=2$,\n",
    "slowing down is essential if one wishes to reduce fuel consumption. It\n",
    "is also important to consider that engines are designed to be most\n",
    "efficient at a chosen range of power output. Thus, some cars will get\n",
    "better mileage at higher speeds (They perform better at 50 mph than at\n",
    "5 mph) despite the considerations mentioned above.\n",
    "\n",
    "## Going Ballistic, Projectile Motion or a Softer Approach, Falling Raindrops\n",
    "\n",
    "\n",
    "As an example of Newton's Laws we consider projectile motion (or a\n",
    "falling raindrop) with a drag force. Even though air resistance is\n",
    "largely proportional to the square of the velocity, we will consider\n",
    "the drag force to be linear to the velocity, $\\boldsymbol{F}=-m\\gamma\\boldsymbol{v}$,\n",
    "for the purposes of this exercise. The acceleration,\n",
    "$\\boldsymbol{a}=\\boldsymbol{F}/m$, becomes"
   ]
  },
  {
   "cell_type": "markdown",
   "metadata": {},
   "source": [
    "$$\n",
    "\\begin{eqnarray}\n",
    "\\frac{dv_x}{dt}=-\\gamma v_x,\\\\\n",
    "\\nonumber\n",
    "\\frac{dv_y}{dt}=-\\gamma v_y-g,\n",
    "\\end{eqnarray}\n",
    "$$"
   ]
  },
  {
   "cell_type": "markdown",
   "metadata": {},
   "source": [
    "and $\\gamma$ has dimensions of inverse time.\n",
    "\n",
    "## Ways of solving these equations\n",
    "\n",
    "We will go over two different ways to solve this equation. The first\n",
    "by direct integration, and the second as a differential equation. To\n",
    "do this by direct integration, one simply multiplies both sides of the\n",
    "equations above by $dt$, then divide by the appropriate factors so\n",
    "that the $v$s are all on one side of the equation and the $dt$ is on\n",
    "the other. For the $x$ motion one finds an easily integrable equation,"
   ]
  },
  {
   "cell_type": "markdown",
   "metadata": {},
   "source": [
    "$$\n",
    "\\begin{eqnarray}\n",
    "\\frac{dv_x}{v_x}&=&-\\gamma dt,\\\\\n",
    "\\nonumber\n",
    "\\int_{v_{0x}}^{v_{fx}}\\frac{dv_x}{v_x}&=&-\\gamma\\int_0^{t_f}dt,\\\\\n",
    "\\nonumber\n",
    "\\ln\\left(\\frac{v_{fx}}{v_{0x}}\\right)&=&-\\gamma t_f,\\\\\n",
    "\\nonumber\n",
    "v_{fx}&=&v_{0x}e^{-\\gamma t}.\n",
    "\\end{eqnarray}\n",
    "$$"
   ]
  },
  {
   "cell_type": "markdown",
   "metadata": {},
   "source": [
    "Here, we leave the subscript off the final time in the last\n",
    "expression. This is very much the result you would have written down\n",
    "by inspection. For the $y$-component of the velocity,"
   ]
  },
  {
   "cell_type": "markdown",
   "metadata": {},
   "source": [
    "$$\n",
    "\\begin{eqnarray}\n",
    "\\frac{dv_y}{v_y+g/\\gamma}&=&-\\gamma dt\\\\\n",
    "\\nonumber\n",
    "\\ln\\left(\\frac{v_{fy}+g/\\gamma}{v_{0y}+g/\\gamma}\\right)&=&-\\gamma t_f,\\\\\n",
    "\\nonumber\n",
    "v_{fy}&=&-\\frac{g}{\\gamma}+\\left(v_{0y}+\\frac{g}{\\gamma}\\right)e^{-\\gamma t}.\n",
    "\\end{eqnarray}\n",
    "$$"
   ]
  },
  {
   "cell_type": "markdown",
   "metadata": {},
   "source": [
    "Whereas $v_x$ starts at some value and decays\n",
    "exponentially to zero, $v_y$ decays exponentially to the terminal\n",
    "velocity, $v_t=-g/\\gamma$.\n",
    "\n",
    "## Solving as differential equations\n",
    "\n",
    "Although this direct integration is simpler than the method we invoke\n",
    "below, the method below will come in useful for some slightly more\n",
    "difficult differential equations in the future. The differential\n",
    "equation for $v_x$ is straight-forward to solve. Because it is first\n",
    "order there is one arbitrary constant, $A$, and by inspection the\n",
    "solution is"
   ]
  },
  {
   "cell_type": "markdown",
   "metadata": {},
   "source": [
    "<!-- Equation labels as ordinary links -->\n",
    "<div id=\"_auto5\"></div>\n",
    "\n",
    "$$\n",
    "\\begin{equation}\n",
    "v_x=Ae^{-\\gamma t}.\n",
    "\\label{_auto5} \\tag{5}\n",
    "\\end{equation}\n",
    "$$"
   ]
  },
  {
   "cell_type": "markdown",
   "metadata": {},
   "source": [
    "The arbitrary constants for equations of motion are usually determined\n",
    "by the initial conditions, or more generally boundary conditions. By\n",
    "inspection $A=v_{0x}$, the initial $x$ component of the velocity.\n",
    "\n",
    "\n",
    "## Differential Equations, contn\n",
    "The differential equation for $v_y$ is a bit more complicated due to\n",
    "the presence of $g$. Differential equations where all the terms are\n",
    "linearly proportional to a function, in this case $v_y$, or to\n",
    "derivatives of the function, e.g., $v_y$, $dv_y/dt$,\n",
    "$d^2v_y/dt^2\\cdots$, are called linear differential equations. If\n",
    "there are terms proportional to $v^2$, as would happen if the drag\n",
    "force were proportional to the square of the velocity, the\n",
    "differential equation is not longer linear. Because this expression\n",
    "has only one derivative in $v$ it is a first-order linear differential\n",
    "equation. If a term were added proportional to $d^2v/dt^2$ it would be\n",
    "a second-order differential equation.  In this case we have a term\n",
    "completely independent of $v$, the gravitational acceleration $g$, and\n",
    "the usual strategy is to first rewrite the equation with all the\n",
    "linear terms on one side of the equal sign,"
   ]
  },
  {
   "cell_type": "markdown",
   "metadata": {},
   "source": [
    "<!-- Equation labels as ordinary links -->\n",
    "<div id=\"_auto6\"></div>\n",
    "\n",
    "$$\n",
    "\\begin{equation}\n",
    "\\frac{dv_y}{dt}+\\gamma v_y=-g.\n",
    "\\label{_auto6} \\tag{6}\n",
    "\\end{equation}\n",
    "$$"
   ]
  },
  {
   "cell_type": "markdown",
   "metadata": {},
   "source": [
    "## Splitting into two parts\n",
    "\n",
    "Now, the solution to the equation can be broken into two\n",
    "parts. Because this is a first-order differential equation we know\n",
    "that there will be one arbitrary constant. Physically, the arbitrary\n",
    "constant will be determined by setting the initial velocity, though it\n",
    "could be determined by setting the velocity at any given time. Like\n",
    "most differential equations, solutions are not \"solved\". Instead,\n",
    "one guesses at a form, then shows the guess is correct. For these\n",
    "types of equations, one first tries to find a single solution,\n",
    "i.e. one with no arbitrary constants. This is called the {\\it\n",
    "particular} solution, $y_p(t)$, though it should really be called\n",
    "\"a\" particular solution because there are an infinite number of such\n",
    "solutions. One then finds a solution to the {\\it homogenous} equation,\n",
    "which is the equation with zero on the right-hand side,"
   ]
  },
  {
   "cell_type": "markdown",
   "metadata": {},
   "source": [
    "<!-- Equation labels as ordinary links -->\n",
    "<div id=\"_auto7\"></div>\n",
    "\n",
    "$$\n",
    "\\begin{equation}\n",
    "\\frac{dv_{y,h}}{dt}+\\gamma v_{y,h}=0.\n",
    "\\label{_auto7} \\tag{7}\n",
    "\\end{equation}\n",
    "$$"
   ]
  },
  {
   "cell_type": "markdown",
   "metadata": {},
   "source": [
    "Homogenous solutions will have arbitrary constants. \n",
    "\n",
    "The particular solution will solve the same equation as the original\n",
    "general equation"
   ]
  },
  {
   "cell_type": "markdown",
   "metadata": {},
   "source": [
    "<!-- Equation labels as ordinary links -->\n",
    "<div id=\"_auto8\"></div>\n",
    "\n",
    "$$\n",
    "\\begin{equation}\n",
    "\\frac{dv_{y,p}}{dt}+\\gamma v_{y,p}=-g.\n",
    "\\label{_auto8} \\tag{8}\n",
    "\\end{equation}\n",
    "$$"
   ]
  },
  {
   "cell_type": "markdown",
   "metadata": {},
   "source": [
    "However, we don't need find one with arbitrary constants. Hence, it is\n",
    "called a **particular** solution.\n",
    "\n",
    "The sum of the two,"
   ]
  },
  {
   "cell_type": "markdown",
   "metadata": {},
   "source": [
    "<!-- Equation labels as ordinary links -->\n",
    "<div id=\"_auto9\"></div>\n",
    "\n",
    "$$\n",
    "\\begin{equation}\n",
    "v_y=v_{y,p}+v_{y,h},\n",
    "\\label{_auto9} \\tag{9}\n",
    "\\end{equation}\n",
    "$$"
   ]
  },
  {
   "cell_type": "markdown",
   "metadata": {},
   "source": [
    "is a solution of the total equation because of the linear nature of\n",
    "the differential equation. One has now found a *general* solution\n",
    "encompassing all solutions, because it both satisfies the general\n",
    "equation (like the particular solution), and has an arbitrary constant\n",
    "that can be adjusted to fit any initial condition (like the homogneous\n",
    "solution). If the equation were not linear, e.g if there were a term\n",
    "such as $v_y^2$ or $v_y\\dot{v}_y$, this technique would not work.\n",
    "\n",
    "## More details\n",
    "\n",
    "Returning to the example above, the homogenous solution is the same as\n",
    "that for $v_x$, because there was no gravitational acceleration in\n",
    "that case,"
   ]
  },
  {
   "cell_type": "markdown",
   "metadata": {},
   "source": [
    "<!-- Equation labels as ordinary links -->\n",
    "<div id=\"_auto10\"></div>\n",
    "\n",
    "$$\n",
    "\\begin{equation}\n",
    "v_{y,h}=Be^{-\\gamma t}.\n",
    "\\label{_auto10} \\tag{10}\n",
    "\\end{equation}\n",
    "$$"
   ]
  },
  {
   "cell_type": "markdown",
   "metadata": {},
   "source": [
    "In this case a particular solution is one with constant velocity,"
   ]
  },
  {
   "cell_type": "markdown",
   "metadata": {},
   "source": [
    "<!-- Equation labels as ordinary links -->\n",
    "<div id=\"_auto11\"></div>\n",
    "\n",
    "$$\n",
    "\\begin{equation}\n",
    "v_{y,p}=-g/\\gamma.\n",
    "\\label{_auto11} \\tag{11}\n",
    "\\end{equation}\n",
    "$$"
   ]
  },
  {
   "cell_type": "markdown",
   "metadata": {},
   "source": [
    "Note that this is the terminal velocity of a particle falling from a\n",
    "great height. The general solution is thus,"
   ]
  },
  {
   "cell_type": "markdown",
   "metadata": {},
   "source": [
    "<!-- Equation labels as ordinary links -->\n",
    "<div id=\"_auto12\"></div>\n",
    "\n",
    "$$\n",
    "\\begin{equation}\n",
    "v_y=Be^{-\\gamma t}-g/\\gamma,\n",
    "\\label{_auto12} \\tag{12}\n",
    "\\end{equation}\n",
    "$$"
   ]
  },
  {
   "cell_type": "markdown",
   "metadata": {},
   "source": [
    "and one can find $B$ from the initial velocity,"
   ]
  },
  {
   "cell_type": "markdown",
   "metadata": {},
   "source": [
    "<!-- Equation labels as ordinary links -->\n",
    "<div id=\"_auto13\"></div>\n",
    "\n",
    "$$\n",
    "\\begin{equation}\n",
    "v_{0y}=B-g/\\gamma,~~~B=v_{0y}+g/\\gamma.\n",
    "\\label{_auto13} \\tag{13}\n",
    "\\end{equation}\n",
    "$$"
   ]
  },
  {
   "cell_type": "markdown",
   "metadata": {},
   "source": [
    "Plugging in the expression for $B$ gives the $y$ motion given the initial velocity,"
   ]
  },
  {
   "cell_type": "markdown",
   "metadata": {},
   "source": [
    "<!-- Equation labels as ordinary links -->\n",
    "<div id=\"_auto14\"></div>\n",
    "\n",
    "$$\n",
    "\\begin{equation}\n",
    "v_y=(v_{0y}+g/\\gamma)e^{-\\gamma t}-g/\\gamma.\n",
    "\\label{_auto14} \\tag{14}\n",
    "\\end{equation}\n",
    "$$"
   ]
  },
  {
   "cell_type": "markdown",
   "metadata": {},
   "source": [
    "It is easy to see that this solution has $v_y=v_{0y}$ when $t=0$ and\n",
    "$v_y=-g/\\gamma$ when $t\\rightarrow\\infty$.\n",
    "\n",
    "One can also integrate the two equations to find the coordinates $x$\n",
    "and $y$ as functions of $t$,"
   ]
  },
  {
   "cell_type": "markdown",
   "metadata": {},
   "source": [
    "$$\n",
    "\\begin{eqnarray}\n",
    "x&=&\\int_0^t dt'~v_{0x}(t')=\\frac{v_{0x}}{\\gamma}\\left(1-e^{-\\gamma t}\\right),\\\\\n",
    "\\nonumber\n",
    "y&=&\\int_0^t dt'~v_{0y}(t')=-\\frac{gt}{\\gamma}+\\frac{v_{0y}+g/\\gamma}{\\gamma}\\left(1-e^{-\\gamma t}\\right).\n",
    "\\end{eqnarray}\n",
    "$$"
   ]
  },
  {
   "cell_type": "markdown",
   "metadata": {},
   "source": [
    "If the question was to find the position at a time $t$, we would be\n",
    "finished. However, the more common goal in a projectile equation\n",
    "problem is to find the range, i.e. the distance $x$ at which $y$\n",
    "returns to zero. For the case without a drag force this was much\n",
    "simpler. The solution for the $y$ coordinate would have been\n",
    "$y=v_{0y}t-gt^2/2$. One would solve for $t$ to make $y=0$, which would\n",
    "be $t=2v_{0y}/g$, then plug that value for $t$ into $x=v_{0x}t$ to\n",
    "find $x=2v_{0x}v_{0y}/g=v_0\\sin(2\\theta_0)/g$. One follows the same\n",
    "steps here, except that the expression for $y(t)$ is more\n",
    "complicated. Searching for the time where $y=0$, and we get"
   ]
  },
  {
   "cell_type": "markdown",
   "metadata": {},
   "source": [
    "<!-- Equation labels as ordinary links -->\n",
    "<div id=\"_auto15\"></div>\n",
    "\n",
    "$$\n",
    "\\begin{equation}\n",
    "0=-\\frac{gt}{\\gamma}+\\frac{v_{0y}+g/\\gamma}{\\gamma}\\left(1-e^{-\\gamma t}\\right).\n",
    "\\label{_auto15} \\tag{15}\n",
    "\\end{equation}\n",
    "$$"
   ]
  },
  {
   "cell_type": "markdown",
   "metadata": {},
   "source": [
    "This cannot be inverted into a simple expression $t=\\cdots$. Such\n",
    "expressions are known as \"transcendental equations\", and are not the\n",
    "rare instance, but are the norm. In the days before computers, one\n",
    "might plot the right-hand side of the above graphically as\n",
    "a function of time, then find the point where it crosses zero.\n",
    "\n",
    "Now, the most common way to solve for an equation of the above type\n",
    "would be to apply Newton's method numerically. This involves the\n",
    "following algorithm for finding solutions of some equation $F(t)=0$.\n",
    "\n",
    "1. First guess a value for the time, $t_{\\rm guess}$.\n",
    "\n",
    "2. Calculate $F$ and its derivative, $F(t_{\\rm guess})$ and $F'(t_{\\rm guess})$. \n",
    "\n",
    "3. Unless you guessed perfectly, $F\\ne 0$, and assuming that $\\Delta F\\approx F'\\Delta t$, one would choose \n",
    "\n",
    "4. $\\Delta t=-F(t_{\\rm guess})/F'(t_{\\rm guess})$.\n",
    "\n",
    "5. Now repeat step 1, but with $t_{\\rm guess}\\rightarrow t_{\\rm guess}+\\Delta t$.\n",
    "\n",
    "If the $F(t)$ were perfectly linear in $t$, one would find $t$ in one\n",
    "step. Instead, one typically finds a value of $t$ that is closer to\n",
    "the final answer than $t_{\\rm guess}$. One breaks the loop once one\n",
    "finds $F$ within some acceptable tolerance of zero. A program to do\n",
    "this might look like:\n",
    "\n",
    "## Motion in a Magnetic Field\n",
    "\n",
    "\n",
    "Another example of a velocity-dependent force is magnetism,"
   ]
  },
  {
   "cell_type": "markdown",
   "metadata": {},
   "source": [
    "$$\n",
    "\\begin{eqnarray}\n",
    "\\boldsymbol{F}&=&q\\boldsymbol{v}\\times\\boldsymbol{B},\\\\\n",
    "\\nonumber\n",
    "F_i&=&q\\sum_{jk}\\epsilon_{ijk}v_jB_k.\n",
    "\\end{eqnarray}\n",
    "$$"
   ]
  },
  {
   "cell_type": "markdown",
   "metadata": {},
   "source": [
    "For a uniform field in the $z$ direction $\\boldsymbol{B}=B\\hat{z}$, the force can only have $x$ and $y$ components,"
   ]
  },
  {
   "cell_type": "markdown",
   "metadata": {},
   "source": [
    "$$\n",
    "\\begin{eqnarray}\n",
    "F_x&=&qBv_y\\\\\n",
    "\\nonumber\n",
    "F_y&=&-qBv_x.\n",
    "\\end{eqnarray}\n",
    "$$"
   ]
  },
  {
   "cell_type": "markdown",
   "metadata": {},
   "source": [
    "The differential equations are"
   ]
  },
  {
   "cell_type": "markdown",
   "metadata": {},
   "source": [
    "$$\n",
    "\\begin{eqnarray}\n",
    "\\dot{v}_x&=&\\omega_c v_y,\\omega_c\\equiv qB/m\\\\\n",
    "\\nonumber\n",
    "\\dot{v}_y&=&-\\omega_c v_x.\n",
    "\\end{eqnarray}\n",
    "One can solve the equations by taking time derivatives of either equation, then substituting into the other equation,\n",
    "\\begin{eqnarray}\n",
    "\\ddot{v}_x=\\omega_c\\dot{v_y}=-\\omega_c^2v_x,\\\\\n",
    "\\nonumber\n",
    "\\ddot{v}_y&=&-\\omega_c\\dot{v}_x=-\\omega_cv_y.\n",
    "\\end{eqnarray}\n",
    "$$"
   ]
  },
  {
   "cell_type": "markdown",
   "metadata": {},
   "source": [
    "The solution to these equations can be seen by inspection,"
   ]
  },
  {
   "cell_type": "markdown",
   "metadata": {},
   "source": [
    "$$\n",
    "\\begin{eqnarray}\n",
    "v_x&=&A\\sin(\\omega_ct+\\phi),\\\\\n",
    "\\nonumber\n",
    "v_y&=&A\\cos(\\omega_ct+\\phi).\n",
    "\\end{eqnarray}\n",
    "$$"
   ]
  },
  {
   "cell_type": "markdown",
   "metadata": {},
   "source": [
    "One can integrate the equations to find the positions\\ as a function of time,"
   ]
  },
  {
   "cell_type": "markdown",
   "metadata": {},
   "source": [
    "$$\n",
    "\\begin{eqnarray}\n",
    "x-x_0&=&\\int_{x_0}^x dx=\\int_0^t dt v(t)\\\\\n",
    "\\nonumber\n",
    "&=&\\frac{-A}{\\omega_c}\\cos(\\omega_ct+\\phi),\\\\\n",
    "\\nonumber\n",
    "y-y_0&=&\\frac{A}{\\omega_c}\\sin(\\omega_ct+\\phi).\n",
    "\\end{eqnarray}\n",
    "$$"
   ]
  },
  {
   "cell_type": "markdown",
   "metadata": {},
   "source": [
    "The trajectory is a circle centered at $x_0,y_0$ with amplitude $A$ rotating in the clockwise direction.\n",
    "\n",
    "The equations of motion for the $z$ motion are"
   ]
  },
  {
   "cell_type": "markdown",
   "metadata": {},
   "source": [
    "<!-- Equation labels as ordinary links -->\n",
    "<div id=\"_auto16\"></div>\n",
    "\n",
    "$$\n",
    "\\begin{equation}\n",
    "\\dot{v_z}=0,\n",
    "\\label{_auto16} \\tag{16}\n",
    "\\end{equation}\n",
    "$$"
   ]
  },
  {
   "cell_type": "markdown",
   "metadata": {},
   "source": [
    "which leads to"
   ]
  },
  {
   "cell_type": "markdown",
   "metadata": {},
   "source": [
    "<!-- Equation labels as ordinary links -->\n",
    "<div id=\"_auto17\"></div>\n",
    "\n",
    "$$\n",
    "\\begin{equation}\n",
    "z-z_0=V_zt.\n",
    "\\label{_auto17} \\tag{17}\n",
    "\\end{equation}\n",
    "$$"
   ]
  },
  {
   "cell_type": "markdown",
   "metadata": {},
   "source": [
    "Added onto the circle, the motion is helical.\n",
    "\n",
    "Note that the kinetic energy,"
   ]
  },
  {
   "cell_type": "markdown",
   "metadata": {},
   "source": [
    "<!-- Equation labels as ordinary links -->\n",
    "<div id=\"_auto18\"></div>\n",
    "\n",
    "$$\n",
    "\\begin{equation}\n",
    "T=\\frac{1}{2}m(v_x^2+v_y^2+v_z^2)=\\frac{1}{2}m(\\omega_c^2A^2+V_z^2),\n",
    "\\label{_auto18} \\tag{18}\n",
    "\\end{equation}\n",
    "$$"
   ]
  },
  {
   "cell_type": "markdown",
   "metadata": {},
   "source": [
    "is constant. This is because the force is perpendicular to the\n",
    "velocity, so that in any differential time element $dt$ the work done\n",
    "on the particle $\\boldsymbol{F}\\cdot{dr}=dt\\boldsymbol{F}\\cdot{v}=0$.\n",
    "\n",
    "One should think about the implications of a velocity dependent\n",
    "force. Suppose one had a constant magnetic field in deep space. If a\n",
    "particle came through with velocity $v_0$, it would undergo cyclotron\n",
    "motion with radius $R=v_0/\\omega_c$. However, if it were still its\n",
    "motion would remain fixed. Now, suppose an observer looked at the\n",
    "particle in one reference frame where the particle was moving, then\n",
    "changed their velocity so that the particle's velocity appeared to be\n",
    "zero. The motion would change from circular to fixed. Is this\n",
    "possible?\n",
    "\n",
    "The solution to the puzzle above relies on understanding\n",
    "relativity. Imagine that the first observer believes $\\boldsymbol{B}\\ne 0$ and\n",
    "that the electric field $\\boldsymbol{E}=0$. If the observer then changes\n",
    "reference frames by accelerating to a velocity $\\boldsymbol{v}$, in the new\n",
    "frame $\\boldsymbol{B}$ and $\\boldsymbol{E}$ both change. If the observer moved to the\n",
    "frame where the charge, originally moving with a small velocity $v$,\n",
    "is now at rest, the new electric field is indeed $\\boldsymbol{v}\\times\\boldsymbol{B}$,\n",
    "which then leads to the same acceleration as one had before. If the\n",
    "velocity is not small compared to the speed of light, additional\n",
    "$\\gamma$ factors come into play,\n",
    "$\\gamma=1/\\sqrt{1-(v/c)^2}$. Relativistic motion will not be\n",
    "considered in this course."
   ]
  }
 ],
 "metadata": {},
 "nbformat": 4,
 "nbformat_minor": 2
}
