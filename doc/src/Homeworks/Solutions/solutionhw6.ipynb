{
 "cells": [
  {
   "cell_type": "markdown",
   "metadata": {},
   "source": [
    "<!-- dom:TITLE: PHY321: Classical Mechanics 1 -->\n",
    "# PHY321: Classical Mechanics 1\n",
    "<!-- dom:AUTHOR: Solution Homework 6, due Monday  February 24 -->\n",
    "<!-- Author: -->  \n",
    "**Solution Homework 6, due Monday  February 24**\n",
    "\n",
    "Date: **Mar 10, 2020**\n",
    "\n",
    "### Practicalities about  homeworks and projects\n",
    "\n",
    "1. You can work in groups (optimal groups are often 2-3 people) or by yourself. If you work as a group you can hand in one answer only if you wish. **Remember to write your name(s)**!\n",
    "\n",
    "2. Homeworks are available Wednesday/Thursday the week before the deadline. The deadline is at the Friday lecture.\n",
    "\n",
    "3. How do I(we)  hand in?  You can hand in the paper and pencil exercises as a hand-written document. For this homework this applies to exercises 1-5. Alternatively, you can hand in everyhting (if you are ok with typing mathematical formulae using say Latex) as a jupyter notebook at D2L. The numerical exercise(s) (exercise 6 here) should always be handed in as a jupyter notebook by the deadline at D2L. \n",
    "\n",
    "### Introduction to homework 6\n",
    "\n",
    "This week's sets of classical pen and paper and computational\n",
    "exercises are again a continuation of the topics from the previous homework sets. We keep\n",
    "discussing conservation laws, conservative forces, energy, momentum and angular momentum. These conservation laws are central in Physics and understanding them properly lays the foundation for understanding and analyzing more complicated physics problems.\n",
    "The relevant reading background is\n",
    "1. chapters 3 and 4 of Taylor (there are many good examples there) and\n",
    "\n",
    "2. chapters 10-14 of Malthe-Sørenssen.\n",
    "\n",
    "In both textbooks there are many nice worked out examples. Malthe-Sørenssen's text contains also several coding examples you may find useful. For the first three exercises here \n",
    "\n",
    "\n",
    "The numerical homework is based on what you did in homework 5, but includes now an added driving force. In your code this implies a simple extension. In exercise 4, you will need to set up the analytical solutions for this case as well. \n",
    "\n",
    "\n",
    "### Exercise 1 (6 pt), Conservative forces\n",
    "\n",
    "An additional requirement for a force to be conservative is that its **curl** is equal to zero (see Taylor section 4.5), that is"
   ]
  },
  {
   "cell_type": "markdown",
   "metadata": {},
   "source": [
    "$$\n",
    "\\boldsymbol{\\nabla}\\times \\boldsymbol{F} =0.\n",
    "$$"
   ]
  },
  {
   "cell_type": "markdown",
   "metadata": {},
   "source": [
    "Find the curl of the following forces\n",
    "* 1a (2pt) $\\boldsymbol{F}=k\\boldsymbol{r}$ where $k$ is a constant and $\\boldsymbol{r}=x\\boldsymbol{i}+y\\boldsymbol{j}+z\\boldsymbol{k}$ where $\\boldsymbol{i},\\boldsymbol{j}$ and $\\boldsymbol{k}$ are the unit vectors in the $x$, $y$ and $z$ directions respectively. Previously we used $\\boldsymbol{e}_x$ etc for these unit vector. We will stick with the notation in Taylor.\n",
    "\n",
    "Here the **curl** is just zero.\n",
    "* 1b (2pt) $\\boldsymbol{F}=Ax\\boldsymbol{i}+By^2\\boldsymbol{j}+Cz^2\\boldsymbol{k}$ where $A$, $B$ and $C$ are constants.\n",
    "\n",
    "Here the **curl** is just zero.\n",
    "* 1c (2pt) $\\boldsymbol{F}=Ay\\boldsymbol{i}+Bx\\boldsymbol{j}+Cz\\boldsymbol{k}$ where $A$, $B$ and $C$ are constants."
   ]
  },
  {
   "cell_type": "markdown",
   "metadata": {},
   "source": [
    "$$\n",
    "\\boldsymbol{\\nabla}\\times \\boldsymbol{F} =(0,0,B-A).\n",
    "$$"
   ]
  },
  {
   "cell_type": "markdown",
   "metadata": {},
   "source": [
    "### Exercise 2 (10 pt), More on conservative forces\n",
    "\n",
    "Which of the following force are conservative?  All three forces depend only on $\\boldsymbol{r}$ and satisfy the first condition for being conservative.\n",
    "* 2a (2pt) $\\boldsymbol{F}=k(x\\boldsymbol{i}+2y\\boldsymbol{j}+3z\\boldsymbol{k})$ where $k$ is a constant.\n",
    "\n",
    "The **curl** is zero and the force is conservative.  The potential energy is upon integration $V(x)=-k(1/2x^2+y^2+3/2z^2)$. Taking the derivative shows that this is indeed the case since it gives back the force.\n",
    "* 2b (2pt) $\\boldsymbol{F}=y\\boldsymbol{i}+x\\boldsymbol{j}+0\\boldsymbol{k}$. \n",
    "\n",
    "This force is also conservative since it depends only on the coordinates and its curl is zero. To find the potential energy, since the integral is path independent, we can choose to integrate along any direction. The simplest is start from $x=0$ as origin and follow a path along the $x$-axis (which gives zero) and then parallel to the $y$-axis, which results in $V(x,y) = -xy$. Taking the derivative with respect to $x$ and $y$ gives us back the expression for the force.\n",
    "\n",
    "* 2c (2pt) $\\boldsymbol{F}=k(-y\\boldsymbol{i}+x\\boldsymbol{j}+0\\boldsymbol{k})$ where $k$ is a constant.\n",
    "\n",
    "Here the **curl** is $(0,0,2)$ and the force is not conservative.\n",
    "\n",
    "* 2d (4pt) For those which are conservative, find the corresponding potential energy $V$ and verify that direct differentiation that $\\boldsymbol{F}=-\\boldsymbol{\\nabla} V$.\n",
    "\n",
    "See the answers to each exercise above.\n",
    "\n",
    "### Exercise 3 (10 pt), The Lennard-Jones potential\n",
    "\n",
    "[The Lennard-Jones potential](https://en.wikipedia.org/wiki/Lennard-Jones_potential) is often used to describe\n",
    "the interaction between two atoms or ions or molecules. If you end up doing materals science and molecular dynamics calculations, it is very likely that you will encounter this potential model.\n",
    "The expression for the potential energy is"
   ]
  },
  {
   "cell_type": "markdown",
   "metadata": {},
   "source": [
    "$$\n",
    "V(r) = V_0\\left((\\frac{a}{r})^{12}-(\\frac{b}{r})^{6}\\right),\n",
    "$$"
   ]
  },
  {
   "cell_type": "markdown",
   "metadata": {},
   "source": [
    "where $V_0$, $a$ and $b$ are constants and the potential depends only on the relative distance between two objects\n",
    "$i$ and $j$, that is $r=\\vert\\vert\\boldsymbol{r}_i-\\boldsymbol{r}_j\\vert\\vert=\\sqrt{(x_i-x_j)^2+(y_i-y_j)^2+(z_i-z_j)^2}$.\n",
    "\n",
    "* 3a (3pt) Sketch/plot the potential (choose some values for the constants in doing so).\n",
    "\n",
    "The following Python code plots the potential"
   ]
  },
  {
   "cell_type": "code",
   "execution_count": 1,
   "metadata": {},
   "outputs": [],
   "source": [
    "%matplotlib inline\n",
    "\n",
    "# Common imports\n",
    "import numpy as np\n",
    "from math import *\n",
    "import matplotlib.pyplot as plt\n",
    "\n",
    "Deltar = 0.01\n",
    "#set up arrays\n",
    "rinitial = 1.8\n",
    "rfinal = 3.\n",
    "n = ceil((rfinal-rinitial)/Deltar)\n",
    "r = np.zeros(n)\n",
    "for i in range(n):\n",
    "    r[i] = rinitial+i*Deltar\n",
    "V = np.zeros(n)\n",
    "# Initial conditions as compact 2-dimensional arrays\n",
    "a = 2.0\n",
    "b = 2.0\n",
    "V0 = 10.0\n",
    "V = V0*((a/r)**(12)-(b/r)**6)\n",
    "# Plot position as function of time    \n",
    "fig, ax = plt.subplots()\n",
    "#ax.set_xlim(0, tfinal)\n",
    "ax.set_ylabel('r')\n",
    "ax.set_xlabel('V')\n",
    "ax.plot(r, V)\n",
    "fig.tight_layout()\n",
    "plt.show()"
   ]
  },
  {
   "cell_type": "markdown",
   "metadata": {},
   "source": [
    "* 3b (3pt) Find and classify the equilibrium points.\n",
    "\n",
    "Here there is  only one equilibrium point when we take the derivative of the potential with respect to the relative distance.\n",
    "\n",
    "The derivative with respect to $r$, the relative distance, is"
   ]
  },
  {
   "cell_type": "markdown",
   "metadata": {},
   "source": [
    "$$\n",
    "\\frac{dV}{dr} = -6V_0\\left(2\\frac{a^{12}}{r^{13}}-\\frac{b^6}{r^7}\\right),\n",
    "$$"
   ]
  },
  {
   "cell_type": "markdown",
   "metadata": {},
   "source": [
    "and this is zero when"
   ]
  },
  {
   "cell_type": "markdown",
   "metadata": {},
   "source": [
    "$$\n",
    "r = 2^{1/6}\\frac{a^2}{b}.\n",
    "$$"
   ]
  },
  {
   "cell_type": "markdown",
   "metadata": {},
   "source": [
    "If we choose $a=2$ and $b=2$ then $r=2\\times 2^{1/6}$. Since the second derivative is positive for all $r$ for our choices of $a$ and $b$  (convince yourself about  this), then this value of $r$ has to correspond to a minimum of the potential. This agrees with our graph from the figure above (run the code to produce the figure). \n",
    "\n",
    "* 3c (4pt) What is the force acting on one of the objects (an atom for example) from the other object? Is this a conservative force?\n",
    "\n",
    "From the previous exercise we have"
   ]
  },
  {
   "cell_type": "markdown",
   "metadata": {},
   "source": [
    "$$\n",
    "\\frac{dV}{dr} = -6V_0\\left(2\\frac{a^{12}}{r^{13}}-\\frac{b^6}{r^7}\\right).\n",
    "$$"
   ]
  },
  {
   "cell_type": "markdown",
   "metadata": {},
   "source": [
    "We need the gradient and since the force on particle $i$ is given by $\\boldsymbol{F}_i=\\boldsymbol{\\nabla}_i V(\\boldsymbol{r}_i-\\boldsymbol{r}_j)$, we obtain"
   ]
  },
  {
   "cell_type": "markdown",
   "metadata": {},
   "source": [
    "$$\n",
    "\\boldsymbol{F}_i=6V_0\\left(2(\\frac{a}{\\vert\\vert\\boldsymbol{r}_i-\\boldsymbol{r}_j\\vert\\vert})^{12}-(\\frac{b}{\\vert\\vert\\boldsymbol{r}_i-\\boldsymbol{r}_j\\vert\\vert})^6\\right)\\frac{\\boldsymbol{r}_i-\\boldsymbol{r}_j}{\\vert\\vert\\boldsymbol{r}_i-\\boldsymbol{r}_j\\vert\\vert^2}.\n",
    "$$"
   ]
  },
  {
   "cell_type": "markdown",
   "metadata": {},
   "source": [
    "Here $r = \\vert\\vert \\boldsymbol{r}_i-\\boldsymbol{r}_j\\vert \\vert$.\n",
    "If we have more than two particles, we need to sum over all other particles $j$. We have thus to introduce a sum over all particles $N$. \n",
    "The force on particle $i$ at position $\\boldsymbol{r}_i$ from all particles  $j$ at their positions $\\boldsymbol{r}_j$ results in the equation of motion (note that we have divided by the mass $m$ here)"
   ]
  },
  {
   "cell_type": "markdown",
   "metadata": {},
   "source": [
    "$$\n",
    "\\boldsymbol{a}_i=\\frac{d^2\\boldsymbol{r}_i}{dt^2} = \\frac{6V_0}{m} \\sum_{j \\neq i}^{N}\\left(2(\\frac{a}{\\vert\\vert\\boldsymbol{r}_i-\\boldsymbol{r}_j\\vert\\vert})^{12}-(\\frac{b}{\\vert\\vert\\boldsymbol{r}_i-\\boldsymbol{r}_j\\vert\\vert})^6\\right)\\frac{\\boldsymbol{r}_i-\\boldsymbol{r}_j}{\\vert\\vert\\boldsymbol{r}_i-\\boldsymbol{r}_j\\vert\\vert^2}.\n",
    "$$"
   ]
  },
  {
   "cell_type": "markdown",
   "metadata": {},
   "source": [
    "This is also a conservative force, with zero **curl** as well. \n",
    "\n",
    "### Exercise 4 (20 pt), particle in a new potential\n",
    "\n",
    "Relevant reading here is Taylor chapter 5 and the lecture notes on oscilaltions. In particular, you will find useful  sections 5.1, 5.2, 5.4-5.6. They contain all material needed to solve this exercise.\n",
    "\n",
    "Consider a particle of mass $m$ moving in a one-dimensional potential,"
   ]
  },
  {
   "cell_type": "markdown",
   "metadata": {},
   "source": [
    "$$\n",
    "V(x)=-\\alpha\\frac{x^2}{2}+\\beta\\frac{x^4}{4}.\n",
    "$$"
   ]
  },
  {
   "cell_type": "markdown",
   "metadata": {},
   "source": [
    "* 4a (3pt) Plot the potential and discuss eventual equilibrium points. Is this a conservative force?\n",
    "\n",
    "The following Python code gives a plot of potential"
   ]
  },
  {
   "cell_type": "code",
   "execution_count": 2,
   "metadata": {},
   "outputs": [],
   "source": [
    "# Common imports\n",
    "import numpy as np\n",
    "from math import *\n",
    "import matplotlib.pyplot as plt\n",
    "\n",
    "Deltax = 0.01\n",
    "#set up arrays\n",
    "xinitial = -2.0\n",
    "xfinal = 2.0 \n",
    "n = ceil((xfinal-xinitial)/Deltax)\n",
    "x = np.zeros(n)\n",
    "for i in range(n):\n",
    "    x[i] = xinitial+i*Deltax\n",
    "V = np.zeros(n)\n",
    "# Initial conditions as compact 2-dimensional arrays\n",
    "alpha = 0.81\n",
    "beta = 0.5\n",
    "print(sqrt(alpha/beta))\n",
    "V = -alpha*x*x*0.5 + beta*(x**4)*0.25\n",
    "# Plot position as function of time    \n",
    "fig, ax = plt.subplots()\n",
    "#ax.set_xlim(0, tfinal)\n",
    "ax.set_ylabel('x[m]')\n",
    "ax.set_xlabel('V[s]')\n",
    "ax.plot(x, V)\n",
    "fig.tight_layout()\n",
    "plt.show()"
   ]
  },
  {
   "cell_type": "markdown",
   "metadata": {},
   "source": [
    "Here we have chosen $\\alpha=0.81$ and $\\beta=0.5$. Taking the derivative of $V$ with respect to $x$ gives two minima (and it is easy to see here that the second derivative is positive) at $x\\pm\\sqrt{\\alpha/\\beta}$ and a maximum at $x=0$. The derivative is"
   ]
  },
  {
   "cell_type": "markdown",
   "metadata": {},
   "source": [
    "$$\n",
    "\\frac{dV}{dx} = -\\alpha x + \\beta x^3,\n",
    "$$"
   ]
  },
  {
   "cell_type": "markdown",
   "metadata": {},
   "source": [
    "which gives when we require that it should equal zero the above values. As we can see from the plot (run the above Python code), we have two so-called stable equilibrium points (where the potential has its minima) and an unstable equilibrium point.\n",
    "\n",
    "The force is conservative since it depends only on $x$ and has a **curl** which is zero.\n",
    "\n",
    "* 4b (3pt) Compute the second derivative of the potential and find its miminum position(s). Using the Taylor expansion of the potential around its minimum (see Taylor section 5.1) to define a spring constant $k$. Use the spring constant to find the natural (angular) frequency $\\omega_0=\\sqrt{k/m}$. We call the new spring constant for  an effective spring constant.\n",
    "\n",
    "In the solution to the previous exercise we listed the values where the derivatives of the potential are zero.\n",
    "Taking the second derivatives we have that"
   ]
  },
  {
   "cell_type": "markdown",
   "metadata": {},
   "source": [
    "$$\n",
    "\\frac{d^2V}{dx^2} = -\\alpha  + 3\\beta x^2,\n",
    "$$"
   ]
  },
  {
   "cell_type": "markdown",
   "metadata": {},
   "source": [
    "and for $\\alpha,\\beta \\le 0$ (we assume they are positive constants) we see that when $x=0$ that the \n",
    "the second derivative is negative, which means this is a maximum. For $x=\\pm\\sqrt{\\alpha/\\beta}$ we see that the second derivative is positive. Thus these points correspond to two minima.\n",
    "\n",
    "Assume now we Taylor expand the potential around one of these minima, say $x_{\\mathrm{min}}=\\sqrt{\\alpha/\\beta}$. We have thus"
   ]
  },
  {
   "cell_type": "markdown",
   "metadata": {},
   "source": [
    "$$\n",
    "V(x) = V(x_{\\mathrm{min}})+(x-x_{\\mathrm{min}})\\frac{dV}{dx}\\vert_{x_{\\mathrm{min}}}+\\frac{1}{2}(x-x_{\\mathrm{min}})^2\\frac{d^2V}{dx^2}\\vert_{x_{\\mathrm{min}}}+\\dots\n",
    "$$"
   ]
  },
  {
   "cell_type": "markdown",
   "metadata": {},
   "source": [
    "Since we are at point where the first derivative is zero and inserting the value for the second derivative of $V$, keeping only terms up to the second derivative and finally taking the derivative with respect to $x$, we find the expression for the force"
   ]
  },
  {
   "cell_type": "markdown",
   "metadata": {},
   "source": [
    "$$\n",
    "F(x) = -(x-x_{\\mathrm{min}})\\frac{d^2V}{dx^2}\\vert_{x_{\\mathrm{min}}},\n",
    "$$"
   ]
  },
  {
   "cell_type": "markdown",
   "metadata": {},
   "source": [
    "and setting in the expression for the second derivative at the minimum we find"
   ]
  },
  {
   "cell_type": "markdown",
   "metadata": {},
   "source": [
    "$$\n",
    "F(x) = -2\\alpha(x-\\sqrt{\\frac{\\alpha}{\\beta}}).\n",
    "$$"
   ]
  },
  {
   "cell_type": "markdown",
   "metadata": {},
   "source": [
    "Thus our effective spring constant $k=2\\alpha$.\n",
    "\n",
    "* 4c (4pt) We ignore the second term in the potential energy and keep only the term proportional to the effective spring constant, that is a force $F\\propto kx$. Find the acceleration and set up the differential equation.  Find the general analytical solution for these harmonic oscillations.  You don't need to find the constants in the general solution.\n",
    "\n",
    "Here we simplify our force by rescaling our zeroth point so that we have a force (setting $x_{\\mathrm{min}}=0$)"
   ]
  },
  {
   "cell_type": "markdown",
   "metadata": {},
   "source": [
    "$$\n",
    "F(x) = -kx,\n",
    "$$"
   ]
  },
  {
   "cell_type": "markdown",
   "metadata": {},
   "source": [
    "with $k=2\\alpha$. Defining a natural frequency $\\omega_0 = \\sqrt{k/m}$, where $m$ is the mass of our particle, we have the following equation of motion"
   ]
  },
  {
   "cell_type": "markdown",
   "metadata": {},
   "source": [
    "$$\n",
    "\\frac{d^2x}{dt^2}=-\\omega_0^2x,\n",
    "$$"
   ]
  },
  {
   "cell_type": "markdown",
   "metadata": {},
   "source": [
    "which has as analytical solution $x(t)=A\\cos{(\\omega_0t)}+B\\sin{(\\omega_0t)}$ and velocity\n",
    "$x(t)=-\\omega_0A\\sin{(\\omega_0t)}+\\omega_0B\\cos{(\\omega_0t)}$. The initial conditions are used to define $A$ and $B$.\n",
    "\n",
    "\n",
    "\n",
    "\n",
    "\n",
    "\n",
    "* 4d (5pt) Assume we have no friction. If you add a small force $F=F_0\\cos{(\\omega t-\\delta)}$, and if the particle is initially at the minimum with zero initial velocity, find its position as a function of time. Note that here you need to add the particular solution. \n",
    "\n",
    "Let us simplify the force by setting the phase shift $\\delta=0$. The equation of motion is then"
   ]
  },
  {
   "cell_type": "markdown",
   "metadata": {},
   "source": [
    "$$\n",
    "\\frac{d^2x}{dt^2}+\\omega_0^2x=\\frac{F_0}{m}\\cos{(\\omega t)}.\n",
    "$$"
   ]
  },
  {
   "cell_type": "markdown",
   "metadata": {},
   "source": [
    "The particular solution is then"
   ]
  },
  {
   "cell_type": "markdown",
   "metadata": {},
   "source": [
    "$$\n",
    "x_p(t)=D\\cos{(\\omega t)}=\\frac{F_0}{m}\\frac{1}{\\omega_0^2-\\omega^2}\\cos{(\\omega t)},\n",
    "$$"
   ]
  },
  {
   "cell_type": "markdown",
   "metadata": {},
   "source": [
    "resulting in"
   ]
  },
  {
   "cell_type": "markdown",
   "metadata": {},
   "source": [
    "$$\n",
    "x(t)=A\\cos{(\\omega_0t)}+B\\sin{(\\omega_0t)}+\\frac{F_0}{m}\\frac{1}{\\omega_0^2-\\omega^2}\\cos{(\\omega t)},\n",
    "$$"
   ]
  },
  {
   "cell_type": "markdown",
   "metadata": {},
   "source": [
    "and"
   ]
  },
  {
   "cell_type": "markdown",
   "metadata": {},
   "source": [
    "$$\n",
    "v(t)=-\\omega_0A\\sin{(\\omega_0t)}+\\omega_0B\\cos{(\\omega_0t)}-\\frac{F_0}{m}\\frac{\\omega}{\\omega_0^2-\\omega^2}\\sin{(\\omega t)}.\n",
    "$$"
   ]
  },
  {
   "cell_type": "markdown",
   "metadata": {},
   "source": [
    "Again, the constants $A$ and $B$ are determined by the initial conditions. \n",
    "\n",
    "If we choose $x(t_0)=x_0$ and $v(t_0)=v_0$ we have"
   ]
  },
  {
   "cell_type": "markdown",
   "metadata": {},
   "source": [
    "$$\n",
    "x_0=A+\\frac{F_0}{m}\\frac{1}{\\omega_0^2-\\omega^2},\n",
    "$$"
   ]
  },
  {
   "cell_type": "markdown",
   "metadata": {},
   "source": [
    "resulting in"
   ]
  },
  {
   "cell_type": "markdown",
   "metadata": {},
   "source": [
    "$$\n",
    "A=x_0-\\frac{F_0}{m}\\frac{1}{\\omega_0^2-\\omega^2},\n",
    "$$"
   ]
  },
  {
   "cell_type": "markdown",
   "metadata": {},
   "source": [
    "and"
   ]
  },
  {
   "cell_type": "markdown",
   "metadata": {},
   "source": [
    "$$\n",
    "B=v_0.\n",
    "$$"
   ]
  },
  {
   "cell_type": "markdown",
   "metadata": {},
   "source": [
    "For numerical work it is useful to scale our equations by introducing a dimensionless time $\\tau = \\omega_0 t$.\n",
    "Our equation of motion becomes then"
   ]
  },
  {
   "cell_type": "markdown",
   "metadata": {},
   "source": [
    "$$\n",
    "\\frac{d^2x}{d\\tau^2}+x=\\frac{F_0}{m\\omega_0^2}\\cos{(\\tilde{\\omega} \\tau)},\n",
    "$$"
   ]
  },
  {
   "cell_type": "markdown",
   "metadata": {},
   "source": [
    "where we have defined $\\tilde{\\omega}=\\omega/\\omega_0$.\n",
    "Our general solution is then, introducing $\\tilde{F}_0=F_0/(m\\omega_0^2)$,"
   ]
  },
  {
   "cell_type": "markdown",
   "metadata": {},
   "source": [
    "$$\n",
    "x(\\tau)=A\\cos{(\\tau)}+B\\sin{(\\tau)}+\\frac{\\tilde{F}_0}{1-\\tilde{\\omega}^2}\\cos{(\\tilde{\\omega}\\tau)}.\n",
    "$$"
   ]
  },
  {
   "cell_type": "markdown",
   "metadata": {},
   "source": [
    "* 4e (5pt) We add now  a small drag force $-bv$ to the previous exercise (4d). Find the forces acting on the particle and the acceleration. Find also the analytical solutions with the same initial conditions as in the previous exercise.\n",
    "\n",
    "The equation of motion reads now"
   ]
  },
  {
   "cell_type": "markdown",
   "metadata": {},
   "source": [
    "$$\n",
    "\\frac{d^2x}{dt^2}+\\frac{b}{m}\\frac{dx}{dt}+\\omega_0^2x=\\frac{F_0}{m}\\cos{(\\omega t)}.\n",
    "$$"
   ]
  },
  {
   "cell_type": "markdown",
   "metadata": {},
   "source": [
    "We scale now the equations as we did in the previous exercise and have (see Taylor chapter 5) with the definition\n",
    "$\\gamma = b/(2m\\omega_0)$"
   ]
  },
  {
   "cell_type": "markdown",
   "metadata": {},
   "source": [
    "$$\n",
    "\\frac{d^2x}{d\\tau^2}+2\\gamma\\frac{dx}{d\\tau}+x=\\frac{F_0}{m\\omega_0^2}\\cos{(\\tilde{\\omega} \\tau)}.\n",
    "$$"
   ]
  },
  {
   "cell_type": "markdown",
   "metadata": {},
   "source": [
    "The analytical solution is then"
   ]
  },
  {
   "cell_type": "markdown",
   "metadata": {},
   "source": [
    "$$\n",
    "x(\\tau)=A\\cos{(\\tau)}+B\\sin{(\\tau)}+\\frac{\\tilde{F}_0}{\\sqrt{(1-\\tilde{\\omega}^2)^2+4\\gamma^2\\tilde{\\omega}^2}}\\cos{(\\tilde{\\omega}\\tau-\\delta)},\n",
    "$$"
   ]
  },
  {
   "cell_type": "markdown",
   "metadata": {},
   "source": [
    "with (see [Lecture notes](https://mhjensen.github.io/Physics321/doc/pub/harmonic/html/harmonic.html), equations 17-25)"
   ]
  },
  {
   "cell_type": "markdown",
   "metadata": {},
   "source": [
    "$$\n",
    "\\delta = \\tan^{-1}{(\\frac{2\\gamma\\tilde{\\omega}}{1-\\tilde{\\omega}^2})}.\n",
    "$$"
   ]
  },
  {
   "cell_type": "markdown",
   "metadata": {},
   "source": [
    "We can use either this analytical solutions or the one from 4d in the numerical part.\n",
    "\n",
    "\n",
    "### Exercise 5 (40pt), Sliding Block with driving force\n",
    "\n",
    "**This exercise should be handed in as a jupyter-notebook** at D2L. Remember to write your name(s). \n",
    "\n",
    "Last week we developed a code for the sliding block including a friction term. This week we will simply reuse this code and add a force to it. The only thing we need to do is simply to add an expression for the force we want to study.\n",
    "\n",
    "**We will use the Euler-Cromer method only here**.\n",
    "\n",
    "* 5a (20pt) Add the force from exercise 4d to your code from last week. If you have not done the bonus exercise from hw5, add also the friction term $-bv$ from the previous exercise. Scale your equations and study the solution as function of different values of $F_0$, $b$, $k$ and $\\omega$ and $\\omega_0$. Keep the initial conditions as in exercise 4d. Discuss your results. Is energy conserved? If not, why? \n",
    "\n",
    "* 5b (20 pt)  Compare your numerical results with the analytical ones from exercise 4. You can focus on either the results from 4d or 4e or both.  Discuss your results. \n",
    "\n",
    "The scaling of the equations was done in the previous exercise and we need to solve the following equation numerically"
   ]
  },
  {
   "cell_type": "markdown",
   "metadata": {},
   "source": [
    "$$\n",
    "\\frac{d^2x}{d\\tau^2}+2\\gamma\\frac{dx}{d\\tau}+x=\\frac{F_0}{m\\omega_0^2}\\cos{(\\tilde{\\omega} \\tau)},\n",
    "$$"
   ]
  },
  {
   "cell_type": "markdown",
   "metadata": {},
   "source": [
    "which we rewrite as"
   ]
  },
  {
   "cell_type": "markdown",
   "metadata": {},
   "source": [
    "$$\n",
    "\\frac{d^2x}{d\\tau^2}+2\\gamma\\frac{dx}{d\\tau}+x=\\tilde{F}_0\\cos{(\\tilde{\\omega} \\tau)}.\n",
    "$$"
   ]
  },
  {
   "cell_type": "code",
   "execution_count": 3,
   "metadata": {},
   "outputs": [],
   "source": [
    "# Common imports\n",
    "import numpy as np\n",
    "import pandas as pd\n",
    "from math import *\n",
    "import matplotlib.pyplot as plt\n",
    "import os\n",
    "\n",
    "# Where to save the figures and data files\n",
    "PROJECT_ROOT_DIR = \"Results\"\n",
    "FIGURE_ID = \"Results/FigureFiles\"\n",
    "DATA_ID = \"DataFiles/\"\n",
    "\n",
    "if not os.path.exists(PROJECT_ROOT_DIR):\n",
    "    os.mkdir(PROJECT_ROOT_DIR)\n",
    "\n",
    "if not os.path.exists(FIGURE_ID):\n",
    "    os.makedirs(FIGURE_ID)\n",
    "\n",
    "if not os.path.exists(DATA_ID):\n",
    "    os.makedirs(DATA_ID)\n",
    "\n",
    "def image_path(fig_id):\n",
    "    return os.path.join(FIGURE_ID, fig_id)\n",
    "\n",
    "def data_path(dat_id):\n",
    "    return os.path.join(DATA_ID, dat_id)\n",
    "\n",
    "def save_fig(fig_id):\n",
    "    plt.savefig(image_path(fig_id) + \".png\", format='png')\n",
    "\n",
    "\n",
    "from pylab import plt, mpl\n",
    "plt.style.use('seaborn')\n",
    "mpl.rcParams['font.family'] = 'serif'\n",
    "\n",
    "\n",
    "#  We define here a function for the forces acting on the object and\n",
    "#  functions to solve the ordinary differential equations. Here we use either\n",
    "#  the Euler-Cromer method or the Runge-Kutta to fourth order.\n",
    "\n",
    "def SpringForce(v,x,t):\n",
    "#   note here that we have divided by mass and we return the acceleration\n",
    "    return  -2*gamma*v-x+Ftilde*cos(t*Omegatilde)\n",
    "\n",
    "def ForwardEulerCromer(v,x,E,t,n,Force):\n",
    "    for i in range(n-1):\n",
    "        a = Force(v[i],x[i],t[i])\n",
    "        v[i+1] = v[i] + DeltaT*a\n",
    "        x[i+1] = x[i] + DeltaT*v[i+1]\n",
    "        t[i+1] = t[i] + DeltaT\n",
    "\t# Scaled energy\n",
    "        E[i+1] = 0.5*x[i+1]*x[i+1]+0.5*v[i+1]*v[i+1]\n",
    "def RK4(v,x,E,t,n,Force):\n",
    "    for i in range(n-1):\n",
    "# Setting up k1\n",
    "        k1x = DeltaT*v[i]\n",
    "        k1v = DeltaT*Force(v[i],x[i],t[i])\n",
    "# Setting up k2\n",
    "        vv = v[i]+k1v*0.5\n",
    "        xx = x[i]+k1x*0.5\n",
    "        k2x = DeltaT*vv\n",
    "        k2v = DeltaT*Force(vv,xx,t[i]+DeltaT*0.5)\n",
    "# Setting up k3\n",
    "        vv = v[i]+k2v*0.5\n",
    "        xx = x[i]+k2x*0.5\n",
    "        k3x = DeltaT*vv\n",
    "        k3v = DeltaT*Force(vv,xx,t[i]+DeltaT*0.5)\n",
    "# Setting up k4\n",
    "        vv = v[i]+k3v\n",
    "        xx = x[i]+k3x\n",
    "        k4x = DeltaT*vv\n",
    "        k4v = DeltaT*Force(vv,xx,t[i]+DeltaT)\n",
    "# Final result\n",
    "        x[i+1] = x[i]+(k1x+2*k2x+2*k3x+k4x)/6.\n",
    "        v[i+1] = v[i]+(k1v+2*k2v+2*k3v+k4v)/6.\n",
    "        t[i+1] = t[i] + DeltaT\n",
    "\t# Scaled energy\n",
    "        E[i+1] = 0.5*x[i+1]*x[i+1]+0.5*v[i+1]*v[i+1]\n",
    "\n",
    "DeltaT = 0.001\n",
    "#set up arrays \n",
    "tfinal = 20 \n",
    "n = ceil(tfinal/DeltaT)\n",
    "# set up arrays for t, v, and x\n",
    "t = np.zeros(n)\n",
    "v = np.zeros(n)\n",
    "x = np.zeros(n)\n",
    "E  = np.zeros(n)\n",
    "# Initial conditions\n",
    "x0 =  1.0 \n",
    "v0 = 0.0\n",
    "x[0] = x0\n",
    "v[0] = v0\n",
    "# Define parameters\n",
    "mass = 0.1  # mass of the object\n",
    "b = 0.08  # friction constant\n",
    "omega0 = 2.0  # natural frequency \n",
    "omega = 1.0  #  driving frequency\n",
    "F0 = 0.4   # driven force amplitude \n",
    "# define scaled parameters\n",
    "gamma = b*0.5/(omega0*mass)\n",
    "Omegatilde = omega/omega0\n",
    "Ftilde = F0/(mass*omega0*omega0)\n",
    "# Scaled initial energy\n",
    "E0 = 0.5*x0*x0+0.5*v0*v0\n",
    "E[0] = E0\n",
    "# Start integrating using the RK4 method\n",
    "RK4(v,x,E,t,n,SpringForce)\n",
    "\n",
    "# Plot position as function of time    \n",
    "fig, ax = plt.subplots()\n",
    "ax.set_ylabel('x[m]')\n",
    "ax.set_xlabel('t[s]')\n",
    "ax.plot(t, x)\n",
    "fig.tight_layout()\n",
    "save_fig(\"ForcedBlockRK4Position\")\n",
    "plt.show()"
   ]
  },
  {
   "cell_type": "markdown",
   "metadata": {},
   "source": [
    "Thereafter we plot the velocity"
   ]
  },
  {
   "cell_type": "code",
   "execution_count": 4,
   "metadata": {},
   "outputs": [],
   "source": [
    "# Plot velocity as function of time    \n",
    "fig, ax = plt.subplots()\n",
    "ax.set_ylabel('v[m]')\n",
    "ax.set_xlabel('t[s]')\n",
    "ax.plot(t, v)\n",
    "fig.tight_layout()\n",
    "save_fig(\"ForcedBlockRK4Velocity\")\n",
    "plt.show()"
   ]
  },
  {
   "cell_type": "markdown",
   "metadata": {},
   "source": [
    "and finally the energy"
   ]
  },
  {
   "cell_type": "code",
   "execution_count": 5,
   "metadata": {},
   "outputs": [],
   "source": [
    "# Plot energy conservation as function of time    \n",
    "fig, ax = plt.subplots()\n",
    "ax.set_ylabel('E[m*m]')\n",
    "ax.set_xlabel('t[s]')\n",
    "ax.plot(t, abs(E0-E))\n",
    "fig.tight_layout()\n",
    "save_fig(\"ForcedBlockRK4Energy\")\n",
    "plt.show()"
   ]
  },
  {
   "cell_type": "markdown",
   "metadata": {},
   "source": [
    "The code here shows an example of how easy it is to extend our orginal\n",
    "code in order to include a driving force. We have also rewritten the\n",
    "code in terms of functions that now include two different integration\n",
    "methods and an own code for the force which returns the acceleration.\n",
    "The code here is general and we have sinply included a version where\n",
    "we allow for different values of the parameters mentioned above. The\n",
    "code here includes also plots of the energy and the velocity. As\n",
    "expected, due to the friction term, energy is not conserved. This would also be the case if we don't include the friction term but keep the driving force. For the latter case, the energy difference between the initial and final energies will oscillate with the frequency of the driving force.\n",
    "\n",
    "We note also that after some time, the information about the initial conditions (it depends on the values of the initial conditions) is lost and the motion is governed by the particular solution and the driving frequency of the force.\n",
    "\n",
    "\n",
    "Finally, we revert back to exercise 4d and compare our numerically calculated position with the analytical solution"
   ]
  },
  {
   "cell_type": "markdown",
   "metadata": {},
   "source": [
    "$$\n",
    "x(t)=A\\cos{(\\omega_0t)}+B\\sin{(\\omega_0t)}+\\frac{F_0}{m}\\frac{1}{\\omega_0^2-\\omega^2}\\cos{(\\omega t)}.\n",
    "$$"
   ]
  },
  {
   "cell_type": "markdown",
   "metadata": {},
   "source": [
    "If we choose $x(t_0)=x_0$ and $v(t_0)=v_0$ we have"
   ]
  },
  {
   "cell_type": "markdown",
   "metadata": {},
   "source": [
    "$$\n",
    "x_0=A+\\frac{F_0}{m}\\frac{1}{\\omega_0^2-\\omega^2},\n",
    "$$"
   ]
  },
  {
   "cell_type": "markdown",
   "metadata": {},
   "source": [
    "resulting in"
   ]
  },
  {
   "cell_type": "markdown",
   "metadata": {},
   "source": [
    "$$\n",
    "A=x_0-\\frac{F_0}{m}\\frac{1}{\\omega_0^2-\\omega^2},\n",
    "$$"
   ]
  },
  {
   "cell_type": "markdown",
   "metadata": {},
   "source": [
    "and"
   ]
  },
  {
   "cell_type": "markdown",
   "metadata": {},
   "source": [
    "$$\n",
    "B=v_0.\n",
    "$$"
   ]
  },
  {
   "cell_type": "markdown",
   "metadata": {},
   "source": [
    "If we scale these equations we have"
   ]
  },
  {
   "cell_type": "markdown",
   "metadata": {},
   "source": [
    "$$\n",
    "x(\\tau)=A\\cos{(\\tau)}+B\\sin{(\\tau)}+\\tilde{F}_0\\frac{1}{1-\\tilde{\\omega}^2}\\cos{(\\tilde{\\omega} \\tau)}.\n",
    "$$"
   ]
  },
  {
   "cell_type": "markdown",
   "metadata": {},
   "source": [
    "with"
   ]
  },
  {
   "cell_type": "markdown",
   "metadata": {},
   "source": [
    "$$\n",
    "x_0=A+\\tilde{F}_0\\frac{1}{1-\\tilde{\\omega}^2},\n",
    "$$"
   ]
  },
  {
   "cell_type": "markdown",
   "metadata": {},
   "source": [
    "resulting in"
   ]
  },
  {
   "cell_type": "markdown",
   "metadata": {},
   "source": [
    "$$\n",
    "A=x_0-\\tilde{F}_0\\frac{1}{1-\\tilde{\\omega}^2},\n",
    "$$"
   ]
  },
  {
   "cell_type": "markdown",
   "metadata": {},
   "source": [
    "and"
   ]
  },
  {
   "cell_type": "markdown",
   "metadata": {},
   "source": [
    "$$\n",
    "B=v_0.\n",
    "$$"
   ]
  },
  {
   "cell_type": "code",
   "execution_count": 6,
   "metadata": {},
   "outputs": [],
   "source": [
    "DeltaT = 0.001\n",
    "#set up arrays \n",
    "tfinal = 20 \n",
    "n = ceil(tfinal/DeltaT)\n",
    "# set up arrays for t, v, and x\n",
    "t = np.zeros(n)\n",
    "v = np.zeros(n)\n",
    "x = np.zeros(n)\n",
    "xanalytic = np.zeros(n)\n",
    "E  = np.zeros(n)\n",
    "# Initial conditions\n",
    "x0 =  1.0 \n",
    "v0 = 0.0\n",
    "x[0] = x0\n",
    "v[0] = v0\n",
    "# Define parameters\n",
    "mass = 0.1  # mass of the object\n",
    "b = 0.0  # friction constant\n",
    "omega0 = 2.0  # natural frequency \n",
    "omega = 1.0  #  driving frequency\n",
    "F0 = 0.4   # driven force amplitude \n",
    "# define scaled parameters\n",
    "gamma = b*0.5/(omega0*mass)\n",
    "Omegatilde = omega/omega0\n",
    "Ftilde = F0/(mass*omega0*omega0)\n",
    "# Scaled initial energy\n",
    "E0 = 0.5*x0*x0+0.5*v0*v0\n",
    "E[0] = E0\n",
    "# Start integrating using the RK4 method\n",
    "RK4(v,x,E,t,n,SpringForce)\n",
    "# setting up analytical solution\n",
    "\n",
    "D = Ftilde/(1-Omegatilde*Omegatilde)\n",
    "A = x0-D\n",
    "xanalytic = A*np.cos(t)+B*np.sin(t)+D*np.cos(Omegatilde*t)\n",
    "# Plot numerical and analytical positions as function of time    \n",
    "fig, ax = plt.subplots()\n",
    "ax.set_ylabel('x[m]')\n",
    "ax.set_xlabel('t[s]')\n",
    "ax.plot(t, x)\n",
    "ax.plot(t, xanalytic)\n",
    "fig.tight_layout()\n",
    "save_fig(\"ForcedBlockRK4analyticPosition\")\n",
    "plt.show()"
   ]
  },
  {
   "cell_type": "markdown",
   "metadata": {},
   "source": [
    "We see that the results agree excellently.\n",
    "\n",
    "\n",
    "### Exercise 6 (30pt), Bonus exercise\n",
    "\n",
    "You don't need to do this exercise, but it gives you a bonus score of 30 points. Taylor's section 5.4 and the lecture notes on damped oscillations cover most of the theoretical background.\n",
    "\n",
    "Here we will explore resonances, using the full solution from exercise\n",
    "4e.  We recommend reading section 5.6 of Taylor before starting\n",
    "analyzing your results.  This exercise means that you will use your\n",
    "code from the previous exercise (5) and study the choice of physical\n",
    "parameters which will lead to a resonant behavior. As such, this bonus\n",
    "exercises is meant as an example where you use your numerical code to\n",
    "explore interesting physics.\n",
    "\n",
    "* 6a (30pt)  Find the value of $\\omega$ which results in a resonant behavior and study the numerical and analytical solutions for the resonant case. Discuss your results. \n",
    "\n",
    "The resonant behavior occurs when $\\omega_0=\\omega$ or with our scaled equations, it results when $\\tilde{\\omega}=1$.\n",
    "This can be done easily with the above codes by setting $\\tilde{\\omega}=1$. Running the code for the position here, \n",
    "shows an amplitude for $x$ which increases with time. We can play around with values near $1$ and we note that, running again the code that our results approach an amplitude which diverges over time. In the code here we have chosen to set the friction term equal zero since then the amplitude for the position is governed by the amplitude of the particular solution, namely"
   ]
  },
  {
   "cell_type": "markdown",
   "metadata": {},
   "source": [
    "$$\n",
    "\\frac{F_0}{m}\\frac{1}{\\omega_0^2-\\omega^2}.\n",
    "$$"
   ]
  },
  {
   "cell_type": "markdown",
   "metadata": {},
   "source": [
    "In the code here we have made $\\omega$ almost equal $\\omega_0$. Try out different values of $\\omega$. What do you see?"
   ]
  },
  {
   "cell_type": "code",
   "execution_count": 7,
   "metadata": {},
   "outputs": [],
   "source": [
    "DeltaT = 0.001\n",
    "#set up arrays \n",
    "tfinal = 100 \n",
    "n = ceil(tfinal/DeltaT)\n",
    "# set up arrays for t, v, and x\n",
    "t = np.zeros(n)\n",
    "v = np.zeros(n)\n",
    "x = np.zeros(n)\n",
    "E  = np.zeros(n)\n",
    "# Initial conditions\n",
    "x0 =  1.0 \n",
    "v0 = 0.0\n",
    "x[0] = x0\n",
    "v[0] = v0\n",
    "# Define parameters\n",
    "mass = 0.1  # mass of the object\n",
    "b = 0  # No friction \n",
    "omega0 = 2.0  # natural frequency \n",
    "omega = 2.0001  #  driving frequency\n",
    "F0 = 0.4   # driven force amplitude \n",
    "# define scaled parameters\n",
    "gamma = b*0.5/(omega0*mass)\n",
    "Omegatilde = omega/omega0\n",
    "Ftilde = F0/(mass*omega0*omega0)\n",
    "# Scaled initial energy\n",
    "E0 = 0.5*x0*x0+0.5*v0*v0\n",
    "E[0] = E0\n",
    "# Start integrating using the RK4 method\n",
    "RK4(v,x,E,t,n,SpringForce)\n",
    "\n",
    "# Plot position as function of time    \n",
    "fig, ax = plt.subplots()\n",
    "ax.set_ylabel('x[m]')\n",
    "ax.set_xlabel('t[s]')\n",
    "ax.plot(t, x)\n",
    "fig.tight_layout()\n",
    "save_fig(\"ForcedBlockRK4Resonance\")\n",
    "plt.show()"
   ]
  }
 ],
 "metadata": {
  "kernelspec": {
   "display_name": "Python 3",
   "language": "python",
   "name": "python3"
  },
  "language_info": {
   "codemirror_mode": {
    "name": "ipython",
    "version": 3
   },
   "file_extension": ".py",
   "mimetype": "text/x-python",
   "name": "python",
   "nbconvert_exporter": "python",
   "pygments_lexer": "ipython3",
   "version": "3.6.8"
  }
 },
 "nbformat": 4,
 "nbformat_minor": 2
}
