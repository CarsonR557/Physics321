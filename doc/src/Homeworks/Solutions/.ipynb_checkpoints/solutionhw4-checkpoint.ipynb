{
 "cells": [
  {
   "cell_type": "markdown",
   "metadata": {},
   "source": [
    "<!-- dom:TITLE: PHY321: Classical Mechanics 1 -->\n",
    "# PHY321: Classical Mechanics 1\n",
    "<!-- dom:AUTHOR: Homework 4, due Monday  February 10 -->\n",
    "<!-- Author: -->  \n",
    "**Homework 4, due Monday  February 10**\n",
    "\n",
    "Date: **Feb 12, 2020**\n",
    "\n",
    "### Practicalities about  homeworks and projects\n",
    "\n",
    "1. You can work in groups (optimal groups are often 2-3 people) or by yourself. If you work as a group you can hand in one answer only if you wish. **Remember to write your name(s)**!\n",
    "\n",
    "2. Homeworks are available Wednesday/Thursday the week before the deadline. The deadline is at the Friday lecture.\n",
    "\n",
    "3. How do I(we)  hand in?  You can hand in the paper and pencil exercises as a hand-written document. For this homework this applies to exercises 1-5. Alternatively, you can hand in everyhting (if you are ok with typing mathematical formulae using say Latex) as a jupyter notebook at D2L. The numerical exercise(s) (exercise 6 here) should always be handed in as a jupyter notebook by the deadline at D2L. \n",
    "\n",
    "### Introduction to homework 4\n",
    "\n",
    "This week's sets of classical pen and paper and computational\n",
    "exercises deal with simple motion problems and conservation laws; energy, momentum and angular momentum. These conservation laws are central in Physics and understanding them properly lays the foundation for understanding and analyzing more complicated physics problems.\n",
    "The relevant reading background is\n",
    "1. chapters 3, 4.1, 4.2 and 4.3 of Taylor (there are many good examples there) and\n",
    "\n",
    "2. chapters 10-13 of Malthe-Sørenssen.\n",
    "\n",
    "In both textbooks there are many nice worked out examples. Malthe-Sørenssen's text contains also several coding examples you may find useful. \n",
    "\n",
    "The numerical homework focuses on another motion problem where you can\n",
    "use the code you developed in homework 3, almost entirely. Please take\n",
    "a look at the posted solution (jupyter-notebook) for homework 3. You\n",
    "need only to change the forces at play. The problem at hand is a\n",
    "classic, the gravitational force acting between the Sun and the\n",
    "Earth. Here you will notice also that the standard Euler-integration\n",
    "algorithm is not the best choice and we will introduce the so-called\n",
    "Euler-Cromer method and the Velocity-Verlet method. These methods will\n",
    "give much more stable numerical results with only few additions to\n",
    "your code.\n",
    "\n",
    "The code you develop here will also be reused when we analyze energy\n",
    "conservation in homework set 5. And for those of you doing the honors project, it serves as a starting point for the solar system variant.\n",
    "\n",
    "### Exercise 1 (10 pt), Conservation laws, Energy and momentum\n",
    "\n",
    "* 1a (2pt) How do we define a conservative force?\n",
    "\n",
    "A conservative force leads to a path-independent work. This means that the work on an object under the influence of a conservative force, is independent on the path of the object \n",
    "which moves from a position $\\boldsymbol{r}_0$ to a new position $\\boldsymbol{r}_1$.\n",
    "\n",
    "* 1b (4pt) Use the work-energy theorem to show that energy is conserved with a conservative force.\n",
    "\n",
    "The work-energy theorem states that the work done $W$ by a force $\\boldsymbol{F}$ that moves an object from a position $\\boldsymbol{r}_0$ to a new position $\\boldsymbol{r}_1$"
   ]
  },
  {
   "cell_type": "markdown",
   "metadata": {},
   "source": [
    "$$\n",
    "W=\\int_{\\boldsymbol{r}_0{\\boldsymbol{r}_1}\\boldsymbol{F}\\boldsymbol{dr}=\\frac{1}{2}mv_1^2-\\frac{1}{2}mv_0^2,\n",
    "$$"
   ]
  },
  {
   "cell_type": "markdown",
   "metadata": {},
   "source": [
    "where $v_1^2$ is the velocity squared at a time $t_1$ and $v_0^2$ the corresponding quantity at a time $t_0$.\n",
    "The work done is thus the difference in kinetic energies. We can rewrite the above equation as"
   ]
  },
  {
   "cell_type": "markdown",
   "metadata": {},
   "source": [
    "$$\n",
    "\\frac{1}{2}mv_1^2=\\int_{\\boldsymbol{r}_0{\\boldsymbol{r}_1}\\boldsymbol{F}\\boldsymbol{dr}+\\frac{1}{2}mv_0^2,\n",
    "$$"
   ]
  },
  {
   "cell_type": "markdown",
   "metadata": {},
   "source": [
    "that is the final kinetic energy is equal to the initial kinetic energy plus the work done by the force over a given path from a  position $\\boldsymbol{r}_0$ at time $t_0$ to a final position position $\\boldsymbol{r}_1$ at a later time $t_1$.\n",
    "\n",
    "\n",
    "\n",
    "* 1c (4pt) Assume that you have only internal two-body forces acting on $N$ objects in an isolated system. The force from object $i$ on object $j$ is $\\boldsymbol{f}_{ij}$. Show that the linear momentum is conserved.\n",
    "\n",
    "Here we use Newton's third law and assume that our system is only\n",
    "affected by so-called internal forces.  This means that the force\n",
    "$\\boldsymbol{f}_{ij}$ from object $i$ acting on object $j$ is equal to the\n",
    "force acting on object $j$ from object $i$ but with opposite sign,\n",
    "that is $\\boldsymbol{f}_{ij}=-\\boldsymbol{f}_{ji}$.\n",
    "\n",
    "The total linear momentum is defined as"
   ]
  },
  {
   "cell_type": "markdown",
   "metadata": {},
   "source": [
    "$$\n",
    "\\boldsymbol{P}=\\sum_{i=1}^N\\boldsymbol{p}_i=\\sum_{i=1}^Nm_i\\boldsymbol{v}_i,\n",
    "$$"
   ]
  },
  {
   "cell_type": "markdown",
   "metadata": {},
   "source": [
    "where $i$ runs over all objects, $m_i$ is the mass of object $i$ and $\\boldsymbol{v}_i$ its corresponding velocity.\n",
    "\n",
    "The force acting on object $i$ from all the other objects is (lower\n",
    "case letters for individual objects and upper case letters for total\n",
    "quantities)"
   ]
  },
  {
   "cell_type": "markdown",
   "metadata": {},
   "source": [
    "$$\n",
    "\\boldsymbol{f}_i=\\sum_{j=1}^N\\boldsymbol{f}_{ji}.\n",
    "$$"
   ]
  },
  {
   "cell_type": "markdown",
   "metadata": {},
   "source": [
    "Summing over all objects the net force is"
   ]
  },
  {
   "cell_type": "markdown",
   "metadata": {},
   "source": [
    "$$\n",
    "\\sum_{i=1}^N\\boldsymbol{f}_i=\\sum_{i=1}^N\\sum_{j=1;j\\ne i}^N\\boldsymbol{f}_{ji}.\n",
    "$$"
   ]
  },
  {
   "cell_type": "markdown",
   "metadata": {},
   "source": [
    "We are summing freely over all objects with the constraint that $i\\ne j$ (no self-interactions). \n",
    "We can now manipulate the double sum as"
   ]
  },
  {
   "cell_type": "markdown",
   "metadata": {},
   "source": [
    "$$\n",
    "\\sum_{i=1}^N\\sum_{j=1;j\\ne i}^N\\boldsymbol{f}_{ji}=\\sum_{i=1}^N\\sum_{j>i}^N(\\boldsymbol{f}_{ji}+\\boldsymbol{f}_{ij}).\n",
    "$$"
   ]
  },
  {
   "cell_type": "markdown",
   "metadata": {},
   "source": [
    "Convince yourself about this by setting $N=2$ and $N=3$. Nweton's third law says\n",
    "$\\boldsymbol{f}_{ij}=-\\boldsymbol{f}_{ji}$, which means we have"
   ]
  },
  {
   "cell_type": "markdown",
   "metadata": {},
   "source": [
    "$$\n",
    "\\sum_{i=1}^N\\sum_{j=1;j\\ne i}^N\\boldsymbol{f}_{ji}=\\sum_{i=1}^N\\sum_{j>i}^N(\\boldsymbol{f}_{ji}-\\boldsymbol{f}_{ji})=0.\n",
    "$$"
   ]
  },
  {
   "cell_type": "markdown",
   "metadata": {},
   "source": [
    "The total force due to internal degrees of freedom only is thus $0$.\n",
    "If we then use the definition that"
   ]
  },
  {
   "cell_type": "markdown",
   "metadata": {},
   "source": [
    "$$\n",
    "\\sum_{i=1}^N\\boldsymbol{f}_i=\\sum_{i=1}^Nm_i\\frac{\\boldsymbol{v}_i}{dt}=\\sum_{i=1}^N\\frac{\\boldsymbol{p}_i}{dt}=frac{d\\boldsymbol{P}}{dt}=0,\n",
    "$$"
   ]
  },
  {
   "cell_type": "markdown",
   "metadata": {},
   "source": [
    "where we assumed that $m_i$ is independent of time, we see that time derivative of the total momentum is zero.\n",
    "We say then the linear momentum is a constant of the motion. It is conserved.\n",
    "\n",
    "\n",
    "\n",
    "\n",
    "\n",
    "\n",
    "### Exercise 2 (10 pt), Conservation of angular momentum\n",
    "\n",
    "* 2a (2pt) Define angular momentum and the torque for a single object with external forces only. \n",
    "\n",
    "The angular moment $\\boldsymbol{l}_i$ for a given object $i$ is defined as"
   ]
  },
  {
   "cell_type": "markdown",
   "metadata": {},
   "source": [
    "$$\n",
    "\\boldsymbol{l}_i = \\boldsymbol{r}_i \\times \\boldsymbol{p}_i,\n",
    "$$"
   ]
  },
  {
   "cell_type": "markdown",
   "metadata": {},
   "source": [
    "where $\\boldsymbol{p}_i=m_i\\boldsymbol{v}_i$. With external forces only defining the acceleration and the mass being time independent, the momentum is the integral over the external force as function of time, that is"
   ]
  },
  {
   "cell_type": "markdown",
   "metadata": {},
   "source": [
    "$$\n",
    "\\boldsymbol{p}_i(t)=\\boldsymbol{p}_i(t_0)+\\int_{t_0}^t \\boldsymbol{f}_i^{\\mathrm{ext}}(t')dt'.\n",
    "$$"
   ]
  },
  {
   "cell_type": "markdown",
   "metadata": {},
   "source": [
    "* 2b (4pt) Define angular momentum and the torque for a system with $N$ objects/particles  with external and internal forces. The force from object $i$ on object $j$ is $\\boldsymbol{F}_{ij}$.\n",
    "\n",
    "The total angular momentum $\\boldsymbol{L}$ is defined as"
   ]
  },
  {
   "cell_type": "markdown",
   "metadata": {},
   "source": [
    "$$\n",
    "\\boldsymbol{L}=\\sum_{i=1}^N\\boldsymbol{l}_i = \\sum_{i=1}^N\\boldsymbol{r}_i \\times \\boldsymbol{p}_i.\n",
    "$$"
   ]
  },
  {
   "cell_type": "markdown",
   "metadata": {},
   "source": [
    "The torque for one object is"
   ]
  },
  {
   "cell_type": "markdown",
   "metadata": {},
   "source": [
    "$$\n",
    "\\boldsymbol{\\tau}_i=\\frac{\\boldsymbol{l}_i}{dt} = \\frac{dt(\\boldsymbol{r}_i \\times \\boldsymbol{p}_i)}{dt}=\\boldsymbol{r}_i \\times \\frac{\\boldsymbol{p}_i)}{dt}=\\boldsymbol{r}_i \\times \\boldsymbol{f}_i,\n",
    "$$"
   ]
  },
  {
   "cell_type": "markdown",
   "metadata": {},
   "source": [
    "and the total torque is"
   ]
  },
  {
   "cell_type": "markdown",
   "metadata": {},
   "source": [
    "$$\n",
    "\\boldsymbol{\\tau}=\\sum_{i=1}^N\\frac{\\boldsymbol{l}_i}{dt} = \\sum_{i=1}^N\\boldsymbol{r}_i \\times \\boldsymbol{f}_i.\n",
    "$$"
   ]
  },
  {
   "cell_type": "markdown",
   "metadata": {},
   "source": [
    "The force is $\\boldsymbol{f}_i=\\boldsymbol{f}_i^{\\mathrm{ext}}+\\sum_{j=1}^N\\boldsymbol{f}_{ji}$.\n",
    "\n",
    "* 2c (4pt) With internal forces only, what is the mathematical form of the forces that allows for angular momentum to be conserved? \n",
    "\n",
    "Using the results from 1c, we can rewrite without external forces our torque as"
   ]
  },
  {
   "cell_type": "markdown",
   "metadata": {},
   "source": [
    "$$\n",
    "\\boldsymbol{\\tau}=\\sum_{i=1}^N\\frac{\\boldsymbol{l}_i}{dt} = \\sum_{i=1}^N\\boldsymbol{r}_i \\times \\boldsymbol{f}_i=\\sum_{i=1}^N(\\boldsymbol{r}_i \\times \\sum_{j=1}^N\\boldsymbol{f}_{ji}),\n",
    "$$"
   ]
  },
  {
   "cell_type": "markdown",
   "metadata": {},
   "source": [
    "which gives"
   ]
  },
  {
   "cell_type": "markdown",
   "metadata": {},
   "source": [
    "$$\n",
    "\\boldsymbol{\\tau}=\\sum_{i=1}^N\\sum_{j=1;j\\ne i}^N(\\boldsymbol{r}_i \\times \\boldsymbol{f}_{ji}).\n",
    "$$"
   ]
  },
  {
   "cell_type": "markdown",
   "metadata": {},
   "source": [
    "We can rewrite this as (convince yourself again about this)"
   ]
  },
  {
   "cell_type": "markdown",
   "metadata": {},
   "source": [
    "$$\n",
    "\\boldsymbol{\\tau}=\\sum_{i=1}^N\\sum_{j>i}^N(\\boldsymbol{r}_i \\times \\boldsymbol{f}_{ji}+\\boldsymbol{r}_j \\times \\boldsymbol{f}_{ij}),\n",
    "$$"
   ]
  },
  {
   "cell_type": "markdown",
   "metadata": {},
   "source": [
    "and using Newton's third law we have"
   ]
  },
  {
   "cell_type": "markdown",
   "metadata": {},
   "source": [
    "$$\n",
    "\\boldsymbol{\\tau}=\\sum_{i=1}^N\\sum_{j>i}^N(\\boldsymbol{r}_i -\\boldsymbol{r}_j) \\times \\boldsymbol{f}_{ji}).\n",
    "$$"
   ]
  },
  {
   "cell_type": "markdown",
   "metadata": {},
   "source": [
    "If the force is proportional to $\\boldsymbol{r}_i -\\boldsymbol{r}_j$ then angular momentum is conserved since the cross-product of a vector with itself is zero. We say thus that angular momentum is a constant of the motion.\n",
    "\n",
    "### Exsercise 3 (10pt), Example of potential\n",
    "\n",
    "Consider a particle of mass $m$ moving according to the potential"
   ]
  },
  {
   "cell_type": "markdown",
   "metadata": {},
   "source": [
    "$$\n",
    "V(x,y,z)=A\\exp\\left\\{-\\frac{x^2+z^2}{2a^2}\\right\\}.\n",
    "$$"
   ]
  },
  {
   "cell_type": "markdown",
   "metadata": {},
   "source": [
    "* 3a (2pt) Is energy conserved? If so, why? \n",
    "\n",
    "In this exercise $A$ and $a$ are constants. The force is given by the derivative of $V$ with respect to the spatial degrees of freedom and since the potential depends only of these degrees of freedom force is conservative and energy is conserved.\n",
    "\n",
    "* 3b (4pt) Which of  the quantities, $p_x,p_y,p_z$ are conserved?\n",
    "\n",
    "Taking the derivatives with respect to time shows that only $p_y$ is conserved.\n",
    "\n",
    "* 3c (4pt) Which of  the quantities, $L_x,L_y,L_z$ are conserved?\n",
    "\n",
    "Only $L_y$ is conserved. \n",
    "\n",
    "\n",
    "### Exercise 4 (10pt), Angular momentum case\n",
    "\n",
    "At $t=0$ we have a single object with position $\\boldsymbol{r}_0=x_0\\boldsymbol{e}_x+y_0\\boldsymbol{e}_y$.We add also a force in the $x$-direction at $t=0$. We assume that the object is at rest at $t=0$."
   ]
  },
  {
   "cell_type": "markdown",
   "metadata": {},
   "source": [
    "$$\n",
    "\\boldsymbol{F} = F\\boldsymbol{e}_x.\n",
    "$$"
   ]
  },
  {
   "cell_type": "markdown",
   "metadata": {},
   "source": [
    "* 4a (3pt) Find the velocity and momentum at a given time $t$ by integrating over time with the above initial conditions.\n",
    "\n",
    "* 4b (3pt) Find also the position at a time $t$. \n",
    "\n",
    "* 4c (4pt) Use the position and the momentum to find the angular momentum and the torque. Is angular momentum conserved?\n",
    "\n",
    "I will assume that $F$ (which I wrote as $C$ for ease of reading) is constant.\n",
    "\n",
    "The acceleration will be $a=\\frac{F}{m}=(\\frac{C}{m},0, 0)$.  The momentum will be\\\n",
    " $p=m\\frac{da}{dt}=m(\\frac{C}{m}t,0, 0)=(Ct,0, 0)$, if we start at rest at $t=0$.\n",
    "\n",
    "* 4b (3pt) Find also the position at a time $t$.\n",
    "\n",
    "The position will be $r=\\frac{dp}{dt}\\frac{1}{m}=(\\frac{C}{2m}t^2+x_0,y_0, 0)$.\n",
    "\n",
    "* 4c (4pt) Use the position and the momentum to find the angular momentum and the \\\n",
    "\n",
    "torque. Is angular momentum conserved?\n",
    "\n",
    "$L=r\\times p=(\\frac{C}{2m}t^2+x_0,y_0, 0)\\times(Ct,0, 0)=(0,0,-Cty_0)$\n",
    "\n",
    "$\\Gamma=r\\times F=(\\frac{C}{2m}t^2+x_0,y_0, 0)\\times(C,0,0)=(0,0,-Cy_0)$.\n",
    "\n",
    "As expected, $\\frac{dL}{dt}=\\Gamma$.  But because $\\Gamma\\neq 0$, angular momentum\\\n",
    " is not conserved\n",
    "\n",
    "\n",
    "### Exercise 5 (10pt), forces  and potentials\n",
    "\n",
    "A particle of mass $m$ has velocity $v=\\alpha/x$, where $x$ is its displacement.\n",
    "\n",
    "* 5a (3pt) Find the force $F(x)$ responsible for the motion.\n",
    "\n",
    "A particle is thereafter under the influence of a force $F=-kx+kx^3/\\alpha^2$, where $k$ and $\\alpha$ are constants and $k$ is positive.\n",
    "\n",
    "* 5b (3pt) Determine $U(x)$  and discuss the motion. It can be convenient here to make a sketch/plot of the potential as function of $x$.\n",
    "\n",
    "* 5c (4pt)  What happens when the energy of the particle is $E=(1/4)k\\alpha^2$? Hint: what is the maximum value of the potential energy?\n",
    "\n",
    "I will assume that we are dealing with a 1-dimensional system, and that I don't ha\\\n",
    "ve to worry about threespace or the like.  I will also assume $\\alpha$ is a consta\\\n",
    "nt.\n",
    "\n",
    "If $v=\\frac{\\alpha}{x}$, then $KE=\\frac{m\\alpha^2}{x^2}$, so the force necessary t\\\n",
    "1. obtain this velocity is $F(x)=\\frac{m\\alpha^2}{x^2}$.\n",
    "\n",
    "A particle is thereafter under the influence of a force $F=-kx+kx^3/\\alpha^2$, whe\\\n",
    "re $k$ and $\\alpha$ are constants and $k$ is positive\n",
    "\n",
    "* 5b (3pt) Determine $U(x)$  and discuss the motion. It can be convenient here to \\\n",
    "\n",
    "make a sketch/plot of the potential as function of $x$.\n",
    "\n",
    "Given that there needs to be some $x$ where $U(x)=0$. I will define this to be at \\\n",
    "$x=0$.  Therefore, $U(x)=-\\int_0^xF(x)dx=-\\int_0^x-kx+kx^3/\\alpha^2dx=k\\int_0^xx-x\\\n",
    "^3/\\alpha^2dx=\\frac{kx^2}{2}-\\frac{kx^4}{4\\alpha^2}$.\n",
    "\n",
    "The motion will be one of four things:\n",
    "\n",
    "1: The initial velocity will be able to overcome the potential energy barrier and \\\n",
    "thus go over the edge and accelerate off to infinity.\n",
    "\n",
    "2: The initial velocity will not be able to overcome the potential energy barrier \\\n",
    "and will thus reciprocate back and forth within the trough.\n",
    "\n",
    "3: The initial velocity will balance perfectly on the edge of the trough.\n",
    "\n",
    "4: The initial velocity and position will both be zero and so the particle will si\\\n",
    "t in the middle doing nothing.\n",
    "\n",
    "Let's find the maximum value that the potential energy reaches.   $U(x)=\\frac{kx^2\\\n",
    "}{2}-\\frac{kx^4}{4\\alpha^2}$, so the critical points happen at $U'(x)=0=kx-\\frac{k\\\n",
    "x^3}{\\alpha^2}$, so when $x=0$ or $1=\\frac{x^2}{\\alpha^2}$, so when $x=\\pm\\alpha$.\\\n",
    "  $U(0)=0$ and $U(\\pm\\alpha)=\\frac{k\\alpha^2}{2}-\\frac{k\\alpha^2}{4}=\\frac{k\\alpha\\\n",
    "^2}{4}$.  So if the energy of the particle is $E=(1/4)k\\alpha^2$, and if its start\\\n",
    "ing position is in $[-\\alpha,\\alpha]$, it will travel to one of the two maxima and\\\n",
    " balance there perfectly.  This is a type 3 scenerio.\n",
    "\n",
    "\n",
    "\n",
    "\n",
    "### Exercise 6 (10pt), Warming up for the Earth-Sun system, Scaling the Equations\n",
    "\n",
    "The aim of this exercise (as well as the next) is to study the motion\n",
    "of objects under the influence of the gravitational force.  We will\n",
    "limit ourselves to the Earth-Sun system. Here we will scale the\n",
    "equations and sketch our first algorithm for solving the equations,\n",
    "namely using Euler's method again, as we did in homework 3.  This part\n",
    "together with the numerical part forms also the entry point for the\n",
    "solar system honors project. Furthermore, we will reuse parts of these\n",
    "results when analyzing energy conservation in homework 5.\n",
    "\n",
    "We will limit ourselves (in order to test the algorithm) to a\n",
    "hypothetical solar system with the Earth only orbiting around the sun.\n",
    "The only force in the problem is gravity. Newton's law of gravitation\n",
    "is given by a force $F_G$"
   ]
  },
  {
   "cell_type": "markdown",
   "metadata": {},
   "source": [
    "$$\n",
    "F_G=\\frac{GM_{\\odot}M_{\\mathrm{Earth}}}{r^2},\n",
    "$$"
   ]
  },
  {
   "cell_type": "markdown",
   "metadata": {},
   "source": [
    "where $M_{\\odot}$ is the mass of the Sun and $M_{\\mathrm{Earth}}$ is\n",
    "the mass of the Earth. The gravitational constant is $G$ and $r$ is\n",
    "the distance between the Earth and the Sun.  The Sun\n",
    "has a mass which is much larger than that of the Earth. We can\n",
    "therefore safely neglect the motion of the Sun in this problem.\n",
    "\n",
    "\n",
    "We assume that the orbit of the Earth around the Sun \n",
    "is co-planar, and we take this to be the $xy$-plane.\n",
    "Using Newton's second law of motion we get the following equations"
   ]
  },
  {
   "cell_type": "markdown",
   "metadata": {},
   "source": [
    "$$\n",
    "\\frac{d^2x}{dt^2}=\\frac{F_{G,x}}{M_{\\mathrm{Earth}}},\n",
    "$$"
   ]
  },
  {
   "cell_type": "markdown",
   "metadata": {},
   "source": [
    "and"
   ]
  },
  {
   "cell_type": "markdown",
   "metadata": {},
   "source": [
    "$$\n",
    "\\frac{d^2y}{dt^2}=\\frac{F_{G,y}}{M_{\\mathrm{Earth}}},\n",
    "$$"
   ]
  },
  {
   "cell_type": "markdown",
   "metadata": {},
   "source": [
    "where $F_{G,x}$ and $F_{G,y}$ are the $x$ and $y$ components of the\n",
    "gravitational force.\n",
    "\n",
    "We will use so-called astronomical units when rewriting our equations.\n",
    "Using astronomical units (AU as abbreviation)it means that one\n",
    "astronomical unit of length, known as 1 AU, is the average distance\n",
    "between the Sun and Earth, that is $1$ AU = $1.5\\times 10^{11}$ m.  It\n",
    "can also be convenient to use years instead of seconds since years\n",
    "match better the time evolution of the solar system. The mass of the\n",
    "Sun is $M_{\\mathrm{sun}}=M_{\\odot}=2\\times 10^{30}$ kg. The masses of\n",
    "all relevant planets and their distances from the sun are listed in\n",
    "the table here in kg and AU.\n",
    "\n",
    "<table border=\"1\">\n",
    "<thead>\n",
    "<tr><th align=\"center\"> Planet</th> <th align=\"center\">                 Mass in kg                </th> <th align=\"center\">Distance to  sun in AU</th> </tr>\n",
    "</thead>\n",
    "<tbody>\n",
    "<tr><td align=\"center\">   Earth      </td> <td align=\"center\">   $M_{\\mathrm{Earth}}=6\\times 10^{24}$ kg        </td> <td align=\"center\">   1AU                       </td> </tr>\n",
    "<tr><td align=\"center\">   Jupiter    </td> <td align=\"center\">   $M_{\\mathrm{Jupiter}}=1.9\\times 10^{27}$ kg    </td> <td align=\"center\">   5.20 AU                   </td> </tr>\n",
    "<tr><td align=\"center\">   Mars       </td> <td align=\"center\">   $M_{\\mathrm{Mars}}=6.6\\times 10^{23}$ kg       </td> <td align=\"center\">   1.52 AU                   </td> </tr>\n",
    "<tr><td align=\"center\">   Venus      </td> <td align=\"center\">   $M_{\\mathrm{Venus}}=4.9\\times 10^{24}$ kg      </td> <td align=\"center\">   0.72 AU                   </td> </tr>\n",
    "<tr><td align=\"center\">   Saturn     </td> <td align=\"center\">   $M_{\\mathrm{Saturn}}=5.5\\times 10^{26}$ kg     </td> <td align=\"center\">   9.54 AU                   </td> </tr>\n",
    "<tr><td align=\"center\">   Mercury    </td> <td align=\"center\">   $M_{\\mathrm{Mercury}}=3.3\\times 10^{23}$ kg    </td> <td align=\"center\">   0.39 AU                   </td> </tr>\n",
    "<tr><td align=\"center\">   Uranus     </td> <td align=\"center\">   $M_{\\mathrm{Uranus}}=8.8\\times 10^{25}$ kg     </td> <td align=\"center\">   19.19 AU                  </td> </tr>\n",
    "<tr><td align=\"center\">   Neptun     </td> <td align=\"center\">   $M_{\\mathrm{Neptun}}=1.03\\times 10^{26}$ kg    </td> <td align=\"center\">   30.06 AU                  </td> </tr>\n",
    "<tr><td align=\"center\">   Pluto      </td> <td align=\"center\">   $M_{\\mathrm{Pluto}}=1.31\\times 10^{22}$ kg     </td> <td align=\"center\">   39.53 AU                  </td> </tr>\n",
    "</tbody>\n",
    "</table>\n",
    "\n",
    "In setting up the equations we limit ourselves to a co-planar\n",
    "motion and use only the $x$ and $y$ coordinates. But you should feel\n",
    "free to extend your equations to three dimensions, it is not very\n",
    "difficult and the data from NASA are all in three dimensions.\n",
    "\n",
    "[NASA](http://www.nasa.gov/index.html) has an excellent site at <http://ssd.jpl.nasa.gov/horizons.cgi#top>.\n",
    "From there you can extract initial conditions in order to start your differential equation solver.\n",
    "At the above website you need to change from **OBSERVER** to **VECTOR** and then write in the planet you are interested in.\n",
    "The generated data contain the $x$, $y$ and $z$ values as well as their corresponding velocities. The velocities are in units of AU per day.\n",
    "Alternatively they can be obtained in terms of km and km/s. \n",
    "\n",
    "For the system below involving only the Earth and the Sun, you\n",
    "could just initialize the position with say $x=1$ AU and $y=0$ AU.\n",
    "\n",
    "\n",
    "\n",
    "We assume that mass units can be obtained by using the fact that Earth's orbit is almost circular around the Sun.\n",
    "\n",
    "For circular motion we know that the force must obey the following relation"
   ]
  },
  {
   "cell_type": "markdown",
   "metadata": {},
   "source": [
    "$$\n",
    "F_G= \\frac{M_{\\mathrm{Earth}}v^2}{r}=\\frac{GM_{\\odot}M_{\\mathrm{Earth}}}{r^2},\n",
    "$$"
   ]
  },
  {
   "cell_type": "markdown",
   "metadata": {},
   "source": [
    "where $v$ is the velocity of Earth. \n",
    "The latter equation can be used to show that"
   ]
  },
  {
   "cell_type": "markdown",
   "metadata": {},
   "source": [
    "$$\n",
    "v^2r=GM_{\\odot}=4\\pi^2\\mathrm{AU}^3/\\mathrm{yr}^2.\n",
    "$$"
   ]
  },
  {
   "cell_type": "markdown",
   "metadata": {},
   "source": [
    "* 6a (5pt) Show how to derive the last equation and use this to scale the differential equations, getting thus rid of the constant $G$ and the two masses. Split the differential equations for the motion in the $x$ and $y$ directions in terms of four coupled differential equations.\n",
    "\n",
    "* 6b (5pt)  Discretize the above differential equations and set up an algorithm for solving these equations using Euler's forward algorithm and the so-called velocity Verlet method [discussed in the lecture notes](https://mhjensen.github.io/Physics321/doc/pub/energyconserv/html/energyconserv.html). Here you can reuse what you did in homework 3, exercises 6 and 7. \n",
    "\n",
    "### Exercise 7 (40pt), Numerical elements, solving exercise 6 numerically\n",
    "\n",
    "**This exercise should be handed in as a jupyter-notebook** at D2L. Remember to write your name(s). \n",
    "\n",
    "Last week we:\n",
    "1. Studied  Euler's Method to find the position and the velocity of a falling object, including air resistance and gravity\n",
    "\n",
    "2. Compared analytical and computational solutions \n",
    "\n",
    "3. Added additional forces to our model\n",
    "\n",
    "This week we will reuse our code from homework 3 (exercises 6 and 7,\n",
    "[see also the code examples at the course\n",
    "homepage](https://github.com/mhjensen/Physics321/tree/master/doc/src/motion/Programs))\n",
    "and replace the air resistance and force from the ground with the\n",
    "gravitational force. Then we will study the stability of the system as function of initial conditions and the time step length.\n",
    "\n",
    "We start by importing some standard packages"
   ]
  },
  {
   "cell_type": "code",
   "execution_count": 1,
   "metadata": {},
   "outputs": [],
   "source": [
    "%matplotlib inline\n",
    "\n",
    "# let's start by importing useful packages we are familiar with\n",
    "import numpy as np\n",
    "from math import *\n",
    "import matplotlib.pyplot as plt\n",
    "%matplotlib inline"
   ]
  },
  {
   "cell_type": "markdown",
   "metadata": {},
   "source": [
    "* 7a (20pt)  Write then a program which solves the above differential equations for the Earth-Sun system using Euler's  method and the velocity Verlet method.  Find out which initial value for the velocity that gives a circular orbit and test the stability of your algorithm as function of different time steps $\\Delta t$.  Make a plot of the results you obtain for the position of the Earth (plot the $x$ and $y$ values and/or if you prefer to use three dimensions the $z$-value as well) orbiting  the Sun. Discuss eventual differences between the Verlet algorithm and the Euler algorithm. \n",
    "\n",
    "* 7b (20pt) Consider then a planet which begins at a distance of 1 AU from the sun. Find out by trial and error what the initial velocity must be in order for the planet to escape from the sun.  Can you find an exact answer?  How does that match your numerical results?"
   ]
  }
 ],
 "metadata": {
  "kernelspec": {
   "display_name": "Python 3",
   "language": "python",
   "name": "python3"
  },
  "language_info": {
   "codemirror_mode": {
    "name": "ipython",
    "version": 3
   },
   "file_extension": ".py",
   "mimetype": "text/x-python",
   "name": "python",
   "nbconvert_exporter": "python",
   "pygments_lexer": "ipython3",
   "version": "3.7.5"
  }
 },
 "nbformat": 4,
 "nbformat_minor": 2
}
