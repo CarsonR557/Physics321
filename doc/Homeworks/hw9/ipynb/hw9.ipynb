{
 "cells": [
  {
   "cell_type": "markdown",
   "metadata": {},
   "source": [
    "<!-- dom:TITLE: PHY321: Classical Mechanics 1 -->\n",
    "# PHY321: Classical Mechanics 1\n",
    "<!-- dom:AUTHOR: Homework 9, due Monday  April 6 -->\n",
    "<!-- Author: -->  \n",
    "**Homework 9, due Monday  April 6**\n",
    "\n",
    "Date: **Mar 30, 2020**\n",
    "\n",
    "### Practicalities about  homeworks and projects\n",
    "\n",
    "1. You can work in groups (optimal groups are often 2-3 people) or by yourself. If you work as a group you can hand in one answer only if you wish. **Remember to write your name(s)**!\n",
    "\n",
    "2. Homeworks are available  the week before the deadline. \n",
    "\n",
    "3. How do I(we)  hand in?  Due to the corona virus and many of you not being on campus, we recommend that you scan your handwritten notes and upload them to D2L. If you are ok with typing mathematical formulae using say Latex, you can hand in everything as a single jupyter notebook at D2L. The numerical exercise(s) should always be handed in as a jupyter notebook by the deadline at D2L. \n",
    "\n",
    "### Introduction to homework 9\n",
    "\n",
    "This week's exercises are purely numerical and focus on solving\n",
    "gravitational problems. It is based on what you did in homework 4 as\n",
    "well as in the previous two sets. We will, based on the code for the\n",
    "Sun-Earth system in homework 4, add Jupyter and study a three-body\n",
    "problem.  We will play around with different masses for Jupyter.\n",
    "\n",
    "The bonus exercise in this homework is a study of the perihelion of\n",
    "Mercury by adding Einstein's relatistic effect (we will not derive it\n",
    "here). This correction to the equations of motion was the very first\n",
    "confirmation of Einstein's general theory of relativity.  The effect\n",
    "on the perihelion of Mercury can be measured. In your numerical\n",
    "simulations you will find this to be a very small effect compared to\n",
    "calculations without this relativistic correction.\n",
    "\n",
    "\n",
    "\n",
    "In homework 4 we limited ourselves (in order to test the algorithm) to\n",
    "a hypothetical solar system with the Earth only orbiting around the\n",
    "Sun. We assumed that the only force in the problem is\n",
    "gravity. Newton's law of gravitation is given by a force $F_G$"
   ]
  },
  {
   "cell_type": "markdown",
   "metadata": {},
   "source": [
    "$$\n",
    "F_G=\\frac{GM_{\\odot}M_{\\mathrm{Earth}}}{r^2},\n",
    "$$"
   ]
  },
  {
   "cell_type": "markdown",
   "metadata": {},
   "source": [
    "where $M_{\\odot}$ is the mass of the Sun and $M_{\\mathrm{Earth}}$ is\n",
    "the mass of the Earth. The gravitational constant is $G$ and $r$ is\n",
    "the distance between the Earth and the Sun.  We assumed that the Sun\n",
    "has a mass which is much larger than that of the Earth. We could\n",
    "therefore safely neglect the motion of the Sun.\n",
    "\n",
    "In homework 4 assumed that the orbit of the Earth around the Sun \n",
    "was co-planar, and we took this to be the $xy$-plane.\n",
    "Using Newton's second law of motion we got the following equations"
   ]
  },
  {
   "cell_type": "markdown",
   "metadata": {},
   "source": [
    "$$\n",
    "\\frac{d^2x}{dt^2}=\\frac{F_{G,x}}{M_{\\mathrm{Earth}}},\n",
    "$$"
   ]
  },
  {
   "cell_type": "markdown",
   "metadata": {},
   "source": [
    "and"
   ]
  },
  {
   "cell_type": "markdown",
   "metadata": {},
   "source": [
    "$$\n",
    "\\frac{d^2y}{dt^2}=\\frac{F_{G,y}}{M_{\\mathrm{Earth}}},\n",
    "$$"
   ]
  },
  {
   "cell_type": "markdown",
   "metadata": {},
   "source": [
    "where $F_{G,x}$ and $F_{G,y}$ are the $x$ and $y$ components of the\n",
    "gravitational force.\n",
    "\n",
    "We will again use so-called astronomical units when rewriting our\n",
    "equations.  Using astronomical units (AU as abbreviation)it means that\n",
    "one astronomical unit of length, known as 1 AU, is the average\n",
    "distance between the Sun and Earth, that is $1$ AU = $1.5\\times\n",
    "10^{11}$ m.  It can also be convenient to use years instead of seconds\n",
    "since years match better the time evolution of the solar system. The\n",
    "mass of the Sun is $M_{\\mathrm{sun}}=M_{\\odot}=2\\times 10^{30}$\n",
    "kg. The masses of all relevant planets and their distances from the\n",
    "sun are listed in the table here in kg and AU.\n",
    "\n",
    "<table border=\"1\">\n",
    "<thead>\n",
    "<tr><th align=\"center\"> Planet</th> <th align=\"center\">                 Mass in kg                </th> <th align=\"center\">Distance to  sun in AU</th> </tr>\n",
    "</thead>\n",
    "<tbody>\n",
    "<tr><td align=\"center\">   Earth      </td> <td align=\"center\">   $M_{\\mathrm{Earth}}=6\\times 10^{24}$ kg        </td> <td align=\"center\">   1AU                       </td> </tr>\n",
    "<tr><td align=\"center\">   Jupiter    </td> <td align=\"center\">   $M_{\\mathrm{Jupiter}}=1.9\\times 10^{27}$ kg    </td> <td align=\"center\">   5.20 AU                   </td> </tr>\n",
    "<tr><td align=\"center\">   Mars       </td> <td align=\"center\">   $M_{\\mathrm{Mars}}=6.6\\times 10^{23}$ kg       </td> <td align=\"center\">   1.52 AU                   </td> </tr>\n",
    "<tr><td align=\"center\">   Venus      </td> <td align=\"center\">   $M_{\\mathrm{Venus}}=4.9\\times 10^{24}$ kg      </td> <td align=\"center\">   0.72 AU                   </td> </tr>\n",
    "<tr><td align=\"center\">   Saturn     </td> <td align=\"center\">   $M_{\\mathrm{Saturn}}=5.5\\times 10^{26}$ kg     </td> <td align=\"center\">   9.54 AU                   </td> </tr>\n",
    "<tr><td align=\"center\">   Mercury    </td> <td align=\"center\">   $M_{\\mathrm{Mercury}}=3.3\\times 10^{23}$ kg    </td> <td align=\"center\">   0.39 AU                   </td> </tr>\n",
    "<tr><td align=\"center\">   Uranus     </td> <td align=\"center\">   $M_{\\mathrm{Uranus}}=8.8\\times 10^{25}$ kg     </td> <td align=\"center\">   19.19 AU                  </td> </tr>\n",
    "<tr><td align=\"center\">   Neptun     </td> <td align=\"center\">   $M_{\\mathrm{Neptun}}=1.03\\times 10^{26}$ kg    </td> <td align=\"center\">   30.06 AU                  </td> </tr>\n",
    "<tr><td align=\"center\">   Pluto      </td> <td align=\"center\">   $M_{\\mathrm{Pluto}}=1.31\\times 10^{22}$ kg     </td> <td align=\"center\">   39.53 AU                  </td> </tr>\n",
    "</tbody>\n",
    "</table>\n",
    "Pluto is no longer considered a planet, but we add it here for\n",
    "historical reasons. It is optional in this project to include Pluto\n",
    "and eventual moons.\n",
    "\n",
    "In setting up the equations we can limit ourselves to a co-planar\n",
    "motion and use only the $x$ and $y$ coordinates. But you should feel\n",
    "free to extend your equations to three dimensions, it is not very\n",
    "difficult and the data from NASA are all in three dimensions.\n",
    "\n",
    "[NASA](http://www.nasa.gov/index.html) has an excellent site at <http://ssd.jpl.nasa.gov/horizons.cgi#top>.\n",
    "From there you can extract initial conditions in order to start your differential equation solver.\n",
    "At the above website you need to change from **OBSERVER** to **VECTOR** and then write in the planet you are interested in.\n",
    "The generated data contain the $x$, $y$ and $z$ values as well as their corresponding velocities. The velocities are in units of AU per day.\n",
    "Alternatively they can be obtained in terms of km and km/s. \n",
    "\n",
    "\n",
    "Using our code from homework 4, we will now add Jupyter and play\n",
    "around with different masses for this planet and study numerically a\n",
    "three-body problem.  This is a well-studied problem in classical\n",
    "mechanics, [with many interesting results, from stable orbits to chaotic motion](https://en.wikipedia.org/wiki/Three-body_problem).\n",
    "\n",
    "### Exercise 1 The three-body problem (100pt)\n",
    "\n",
    "We will now study the three-body problem, still with the Sun kept\n",
    "fixed as the center of mass of the system but including Jupiter (the\n",
    "most massive planet in the solar system, having a mass that is\n",
    "approximately 1000 times smaller than that of the Sun) together with\n",
    "the Earth. This leads to a three-body problem. Without Jupiter, the\n",
    "Earth's motion is stable and unchanging with time. The aim here is to\n",
    "find out how much Jupiter alters the Earth's motion.\n",
    "\n",
    "The program you have developed in homework 4 can easily be modified by\n",
    "simply adding the magnitude of the force betweem the Earth and\n",
    "Jupiter.\n",
    "\n",
    "This force is given again by"
   ]
  },
  {
   "cell_type": "markdown",
   "metadata": {},
   "source": [
    "$$\n",
    "F_{\\mathrm{Earth-Jupiter}}=\\frac{GM_{\\mathrm{Jupiter}}M_{\\mathrm{Earth}}}{r_{\\mathrm{Earth-Jupiter}}^2},\n",
    "$$"
   ]
  },
  {
   "cell_type": "markdown",
   "metadata": {},
   "source": [
    "where $M_{\\mathrm{Jupiter}}$ is the mass of Jupyter and\n",
    "$M_{\\mathrm{Earth}}$ is the mass of the Earth.  The gravitational constant\n",
    "is $G$ and $r_{\\mathrm{Earth-Jupiter}}$ is the distance between Earth\n",
    "and Jupiter.\n",
    "\n",
    "We assume again that the orbits of the two planets are co-planar, and\n",
    "we take this to be the $xy$-plane (you can easily extend the equations\n",
    "to three dimensions).\n",
    "\n",
    "* 1a (20pt) Modify your coupled first-order differential equations from homework 4 in order to accomodate both the motion of the Earth and Jupiter by taking into account the distance in $x$ and $y$ between the Earth and Jupiter. Write out the differential equations for  Earth and Jupyter, keeping the Sun at rest (mass center of the system).\n",
    "\n",
    "* 1b (10pt) Scale these equations in terms of Astronomical Units.\n",
    "\n",
    "* 1c (30pt) Set up the algorithm and plot the positions of the Earth and Jupiter using the Velocity Verlet algorithm. Discuss the stability of the solutions using your Velocity Verlet solver.\n",
    "\n",
    "* 1c (40pt)  Repeat the calculations by increasing the mass of Jupiter by a factor of 10, 100 and 1000 and plot the position of the Earth.  Discuss your results and study again the stability of the Velocity Verlet solver. Is energy conserved? \n",
    "\n",
    "### Exercise 2, the bonus part (50pt).  The perihelion precession of Mercury\n",
    "\n",
    "This is the bonus exercise and gives an additional score of 50\n",
    "points. It is fully optional. **I would grade this as a more difficult\n",
    "exercise compared to previous ones**. [It requires also that you read\n",
    "some background literature about the perihelion of Mercury](https://en.wikipedia.org/wiki/Tests_of_general_relativity). You don't\n",
    "need to derive the relativistic correction here. This is something you\n",
    "will meet in a graduate course on General Relativity. The bonus here\n",
    "is that it allows you explore physics you could not have done without\n",
    "a numerical code.\n",
    "\n",
    "An important test of the general theory of relativity was to compare\n",
    "its prediction for the perihelion precession of Mercury to the\n",
    "observed value. The observed value of the perihelion precession, when\n",
    "all classical effects (such as the perturbation of the orbit due to\n",
    "gravitational attraction from the other planets) are subtracted, is\n",
    "$43''$ ($43$ arc seconds) per century.\n",
    "\n",
    "Closed elliptical orbits are a special feature of the Newtonian\n",
    "$1/r^2$ force. In general, any correction to the pure $1/r^2$\n",
    "behaviour will lead to an orbit which is not closed, i.e. after one\n",
    "complete orbit around the Sun, the planet will not be at exactly the\n",
    "same position as it started. If the correction is small, then each\n",
    "orbit around the Sun will be almost the same as the classical ellipse,\n",
    "and the orbit can be thought of as an ellipse whose orientation in\n",
    "space slowly rotates. In other words, the perihelion of the ellipse\n",
    "slowly precesses around the Sun.\n",
    "\n",
    "You will now study the orbit of Mercury around the Sun, adding a general relativistic correction to the Newtonian\n",
    "gravitational force, so that the force becomes"
   ]
  },
  {
   "cell_type": "markdown",
   "metadata": {},
   "source": [
    "$$\n",
    "F_G = \\frac{GM_\\mathrm{Sun}M_\\mathrm{Mercury}}{r^2}\\left[1 + \\frac{3l^2}{r^2c^2}\\right]\n",
    "$$"
   ]
  },
  {
   "cell_type": "markdown",
   "metadata": {},
   "source": [
    "where $M_\\mathrm{Mercury}$ is the mass of Mercury, $r$ is the distance\n",
    "between Mercury and the Sun, $l=|\\vec{r}\\times\\vec{v}|$ is the\n",
    "magnitude of Mercury's orbital angular momentum per unit mass, and $c$\n",
    "is the speed of light in vacuum. Run a simulation over one century of\n",
    "Mercury's orbit around the Sun with no other planets present, starting\n",
    "with Mercury at the perihelion on the $x$ axis.  Check then the value\n",
    "of the perihelion angle $\\theta_\\mathrm{p}$, using"
   ]
  },
  {
   "cell_type": "markdown",
   "metadata": {},
   "source": [
    "$$\n",
    "\\tan \\theta_\\mathrm{p} = \\frac{y_\\mathrm{p}}{x_\\mathrm{p}}\n",
    "$$"
   ]
  },
  {
   "cell_type": "markdown",
   "metadata": {},
   "source": [
    "where $x_\\mathrm{p}$ ($y_\\mathrm{p}$) is the $x$ ($y$) position of\n",
    "Mercury at perihelion, i.e. at the point where Mercury is at its\n",
    "closest to the Sun. You may use that the speed of Mercury at\n",
    "perihelion is $12.44\\,\\mathrm{AU}/\\mathrm{yr}$, and that the distance\n",
    "to the Sun at perihelion is $0.3075\\,\\mathrm{AU}$.\n",
    "\n",
    "You need to make\n",
    "sure that the time resolution used in your simulation is sufficient,\n",
    "for example by checking that the perihelion precession you get with a\n",
    "pure Newtonian force is at least a few orders of magnitude smaller\n",
    "than the observed perihelion precession of Mercury. Can the observed\n",
    "perihelion precession of Mercury be explained by the general theory of\n",
    "relativity?"
   ]
  }
 ],
 "metadata": {},
 "nbformat": 4,
 "nbformat_minor": 2
}
