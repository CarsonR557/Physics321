{
 "cells": [
  {
   "cell_type": "markdown",
   "metadata": {},
   "source": [
    "<!-- dom:TITLE: PHY321: Classical Mechanics 1 -->\n",
    "# PHY321: Classical Mechanics 1\n",
    "<!-- dom:AUTHOR: Homework 5, due Monday  February 17 -->\n",
    "<!-- Author: -->  \n",
    "**Homework 5, due Monday  February 17**\n",
    "\n",
    "Date: **Feb 9, 2020**\n",
    "\n",
    "### Practicalities about  homeworks and projects\n",
    "\n",
    "1. You can work in groups (optimal groups are often 2-3 people) or by yourself. If you work as a group you can hand in one answer only if you wish. **Remember to write your name(s)**!\n",
    "\n",
    "2. Homeworks are available Wednesday/Thursday the week before the deadline. The deadline is at the Friday lecture.\n",
    "\n",
    "3. How do I(we)  hand in?  You can hand in the paper and pencil exercises as a hand-written document. For this homework this applies to exercises 1-5. Alternatively, you can hand in everyhting (if you are ok with typing mathematical formulae using say Latex) as a jupyter notebook at D2L. The numerical exercise(s) (exercise 6 here) should always be handed in as a jupyter notebook by the deadline at D2L. \n",
    "\n",
    "### Introduction to homework 5\n",
    "\n",
    "This week's sets of classical pen and paper and computational\n",
    "exercises are a continuation of the topics from the previous homework set. We keep dealing with simple motion problems and conservation laws; energy, momentum and angular momentum. These conservation laws are central in Physics and understanding them properly lays the foundation for understanding and analyzing more complicated physics problems.\n",
    "The relevant reading background is\n",
    "1. chapters 3 and 4 of Taylor (there are many good examples there) and\n",
    "\n",
    "2. chapters 10-14 of Malthe-Sørenssen.\n",
    "\n",
    "In both textbooks there are many nice worked out examples. Malthe-Sørenssen's text contains also several coding examples you may find useful. \n",
    "\n",
    "The numerical homework focuses on another motion problem where you can\n",
    "use the code you developed in homework 4, almost entirely. Please take\n",
    "a look at the posted solution (jupyter-notebook) for homework 4. You\n",
    "need only to change the forces at play. The problem at hand is again a\n",
    "classic one, a block fastened to a spring moving back and forth along the $x$-axis. It is a simpler problem compared to the previous homework. It allows us however to introduce damping (friction) and study more realistic situations. \n",
    "\n",
    "\n",
    "\n",
    "### Exercise 1 (15 pt), Work-energy theorem and conservation laws\n",
    "\n",
    "We will study a classical electron which moves in the $x$-direction along a surface. The force from the surface is"
   ]
  },
  {
   "cell_type": "markdown",
   "metadata": {},
   "source": [
    "$$\n",
    "\\boldsymbol{F}(x)=-F_0\\sin{(\\frac{2\\pi x}{b})}\\boldsymbol{e}_x.\n",
    "$$"
   ]
  },
  {
   "cell_type": "markdown",
   "metadata": {},
   "source": [
    "The constant $b$ represents the distance between atoms at the surface of the material, $F_0$ is a constant and $x$ is the position of the electron.\n",
    "\n",
    "* 1a (2pt) Is this a conservative force? And if so, what does that imply?\n",
    "\n",
    "* 1b (4pt) Use the work-energy theorem to find the velocity $v(x)$. \n",
    "\n",
    "* 1c (4pt) With the above expression for the force, find the potential energy.\n",
    "\n",
    "* 1d (5pt) Make a plot of the potential energy and discuss the equilibrium points where the force on the electron is zero. Discuss the physical interpretation of stable and unstable equilibrium points. Use energy conservation. Recommended read here  is Malthe-Sørenssen chapter 11.3.2.\n",
    "\n",
    "### Exercise 2 (10 pt), Conservation of  momentum\n",
    "\n",
    "A ball of mass $m$ hits a wall with a velocity $\\boldsymbol{v}_0$ and bounces\n",
    "back. The ball hits the wall with an inclination, so that the velocity\n",
    "forms an angle $\\theta$ with the wall surface. When the ball leaves\n",
    "the wall after the collision, the magnitude of the velocity is the\n",
    "same, but its direction has changed. However, only the component of\n",
    "the velocity that is normal to the wall changes during the collision.\n",
    "Thus the velocity forms the same angle with the wall after the\n",
    "collision. The ball is in contact with the wall during a time interval\n",
    "$\\Delta t$.\n",
    "\n",
    "* 2a (3pt) What is the change in momentum of the ball?\n",
    "\n",
    "* 2b (3pt) What is the average force on the ball from the wall?\n",
    "\n",
    "* 2c (4pt) For what angle $\\theta$ is the average force on the ball largest? \n",
    "\n",
    "### Exsercise 3 (10pt), Rocket, Momentum and mass\n",
    "\n",
    "Taylor exercise 3.11.\n",
    "\n",
    "### Exercise 4 (10pt), More Rockets\n",
    "\n",
    "Taylor exercises 3.13 (5pt) and 3.14 (5pt).\n",
    "\n",
    "### Exercise 5 (10pt), Center of mass\n",
    "\n",
    "Taylor exercise 3.20.\n",
    "\n",
    "\n",
    "### Exercise 6 (10pt), Sliding Block  and Spring (please not again), Scaling the Equations and getting started with numerical project\n",
    "\n",
    "We start now with our next numerical application with simple rewrites of our equations. The system we will look at is that of a block fastened to a spring (which in turn is tied to a wall).\n",
    "The force acting on the block from the spring in the $x$-drection only is"
   ]
  },
  {
   "cell_type": "markdown",
   "metadata": {},
   "source": [
    "$$\n",
    "m\\frac{d^2x(t)}{dt^2}=F(x) = -k(x-b),\n",
    "$$"
   ]
  },
  {
   "cell_type": "markdown",
   "metadata": {},
   "source": [
    "where $k$ is a material specific constant and $b$ is the equilibrium position. The block has mass $m$ and $t$ is time. Define the initial time as $t_0$. We will for simplicity set the equilibrium position to zero, that is $b=0$.\n",
    "\n",
    "* 6a (3pt) Does this force conserve energy? If so, with given initial position and velocity $x_0$ and $v_0$, respectively, find the expression for energy conservation in terms of the potential and kinetic energies.  \n",
    "\n",
    "* 6b (3pt) Define a constant $\\omega_0=\\sqrt{k/m}$ and show that you can write the acceleration as $a(t) = -\\omega_0^2 x(t)$. What is the dimentionality of $\\omega_0$? (it is normally called a natural frequency).  \n",
    "\n",
    "* 6c (4pt) Introduce now a dimensionless time $\\tau = t\\omega_0$. Show that you can rewrite the  equation for the acceleration in terms of two first-order differential equations"
   ]
  },
  {
   "cell_type": "markdown",
   "metadata": {},
   "source": [
    "$$\n",
    "\\frac{dv}{d\\tau} = -x,\n",
    "$$"
   ]
  },
  {
   "cell_type": "markdown",
   "metadata": {},
   "source": [
    "and"
   ]
  },
  {
   "cell_type": "markdown",
   "metadata": {},
   "source": [
    "$$\n",
    "\\frac{dx}{d\\tau} = v.\n",
    "$$"
   ]
  },
  {
   "cell_type": "markdown",
   "metadata": {},
   "source": [
    "What are the dimensionalities of these two equations?\n",
    "\n",
    "These are the equations which we will code in the next exercise.\n",
    "\n",
    "### Exercise 7 (30pt), Sliding Block  and Spring, now the code\n",
    "\n",
    "**This exercise should be handed in as a jupyter-notebook** at D2L. Remember to write your name(s). \n",
    "\n",
    "Last week we:\n",
    "1. Studied  the Euler-Cromer and Velocity Verlet  to find the position and the velocity of  Earth orbiting around the sun.\n",
    "\n",
    "2. We added the Euler-Cromer and Velocity-Verlet methods to our toolbag for solving ordinary differential equations.\n",
    "\n",
    "3. We compared and analyzed the stability of the  computational solutions.\n",
    "\n",
    "This week we will reuse our code from homework 4 and study a block\n",
    "which slides back and forth without friction in the $x$-direction.\n",
    "The only thing we need to is to change the forces at play and since we\n",
    "limit motion only to the $x$-direction we can simplify our code to\n",
    "only that degree of freedom.\n",
    "The advantage with the block sliding back and forth is that we have analytical solutions for the velocity and the position. \n",
    "\n",
    "\n",
    "* 7a (10pt) Find the analytical solutions for the velocity and position as function of the initial conditions. \n",
    "\n",
    "* 7b (20 pt)  Write then a program which solves the above differential equations for the sliding blook using the Euler-Cromer  method and the velocity Verlet method. Study the results for the position, velocity and energy conservation as function of time and the step size in time. Compare the numerical results with the analytical ones. Check that your results for position and velocity obey periodicity. \n",
    "\n",
    "Is energy properly conserved? Discuss your results. \n",
    "\n",
    "Here follows a simple code example which could be used to study the sliding block."
   ]
  },
  {
   "cell_type": "code",
   "execution_count": 1,
   "metadata": {
    "collapsed": false
   },
   "outputs": [],
   "source": [
    "DeltaT = 0.001\n",
    "#set up arrays \n",
    "tfinal = 10 # in seconds\n",
    "n = ceil(tfinal/DeltaT)\n",
    "# set up arrays for time t, velocity v, and position r\n",
    "t = np.zeros(n)\n",
    "v = np.zeros(n)\n",
    "x = np.zeros(n)\n",
    "# Example of Initial conditions\n",
    "x0 = 1.0\n",
    "v0 = 0.0\n",
    "r[0] = r0\n",
    "v[0] = v0\n",
    "# Start integrating using Euler's method\n",
    "for i in range(n-1):\n",
    "    # Set up the acceleration\n",
    "    # Here you could have defined your own function for this\n",
    "    a = -x[i]\n",
    "    # update velocity, time and position using the Euler-Cromer method\n",
    "    v[i+1] = v[i] + DeltaT*a\n",
    "    x[i+1] = x[i] + DeltaT*v[i+1]\n",
    "    t[i+1] = t[i] + DeltaT"
   ]
  },
  {
   "cell_type": "markdown",
   "metadata": {},
   "source": [
    "### Exercise 8 (30pt), Bonus exercise\n",
    "\n",
    "You don't need to do this exercise, but it gives you a bonus score of 30 points.\n",
    "\n",
    "In this exercise we will add to our program a first derivative of position (the velocity) which is meant to mimick the role of friction.\n",
    "Our differential equation is now"
   ]
  },
  {
   "cell_type": "markdown",
   "metadata": {},
   "source": [
    "$$\n",
    "m\\frac{d^2x(t)}{dt^2}+\\beta\\frac{dx}{dt}+kx=ma(t)+\\beta v(t)+kx(t)=0,\n",
    "$$"
   ]
  },
  {
   "cell_type": "markdown",
   "metadata": {},
   "source": [
    "where $k$ is a material specific constant and $\\beta$ is a constant\n",
    "representing the resitance from the plane on which the block slides.\n",
    "We have thus assumed that friction depends on velocity in a linear\n",
    "way.\n",
    "\n",
    "We introduce again the dimensionless time $\\tau = t\\omega_0$ with\n",
    "$\\omega_0=\\sqrt{k/m}$.\n",
    "\n",
    "* 8a (10pt) Divide by $m$ and show that you can rewrite your equation as two first-order coupled differential equations"
   ]
  },
  {
   "cell_type": "markdown",
   "metadata": {},
   "source": [
    "$$\n",
    "\\frac{dv}{d\\tau} = -2v(t)\\gamma-x(t),\n",
    "$$"
   ]
  },
  {
   "cell_type": "markdown",
   "metadata": {},
   "source": [
    "and"
   ]
  },
  {
   "cell_type": "markdown",
   "metadata": {},
   "source": [
    "$$\n",
    "\\frac{dx}{d\\tau} = v(t).\n",
    "$$"
   ]
  },
  {
   "cell_type": "markdown",
   "metadata": {},
   "source": [
    "What are the dimensionalities of these two equations? We have defined $\\gamma = \\beta/2m$.  \n",
    "\n",
    "\n",
    "* 8b (20pt)  Add the role of friction to your code from exercise 7 and study the cases where (i) $\\gamma < \\omega_0$ (underdamping), (ii) $\\gamma = omega_0$ ( critical damping) and (iii) $\\gamma > omega_0$ (overdamping). Plot your resulting positions as functions of time and discuss the physical meaning of your results."
   ]
  }
 ],
 "metadata": {},
 "nbformat": 4,
 "nbformat_minor": 2
}
