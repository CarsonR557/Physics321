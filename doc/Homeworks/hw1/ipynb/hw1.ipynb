{
 "cells": [
  {
   "cell_type": "markdown",
   "metadata": {},
   "source": [
    "<!-- dom:TITLE: PHY321: Classical Mechanics 1 -->\n",
    "# PHY321: Classical Mechanics 1\n",
    "<!-- dom:AUTHOR: Homework 1, due Friday January 17 -->\n",
    "<!-- Author: -->  \n",
    "**Homework 1, due Friday January 17**\n",
    "\n",
    "Date: **Jan 7, 2020**\n",
    "\n",
    "### Exercise 1 (10pt)"
   ]
  }
 ],
 "metadata": {},
 "nbformat": 4,
 "nbformat_minor": 2
}
