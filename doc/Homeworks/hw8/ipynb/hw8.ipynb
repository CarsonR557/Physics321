{
 "cells": [
  {
   "cell_type": "markdown",
   "metadata": {},
   "source": [
    "<!-- dom:TITLE: PHY321: Classical Mechanics 1 -->\n",
    "# PHY321: Classical Mechanics 1\n",
    "<!-- dom:AUTHOR: Homework 8, due Monday  March 30 -->\n",
    "<!-- Author: -->  \n",
    "**Homework 8, due Monday  March 30**\n",
    "\n",
    "Date: **Mar 31, 2020**\n",
    "\n",
    "### Practicalities about  homeworks and projects\n",
    "\n",
    "1. You can work in groups (optimal groups are often 2-3 people) or by yourself. If you work as a group you can hand in one answer only if you wish. **Remember to write your name(s)**!\n",
    "\n",
    "2. Homeworks are available  the week before the deadline. \n",
    "\n",
    "3. How do I(we)  hand in?  Due to the corona virus and many of you not being on campus, we recommend that you scan your handwritten notes and upload them to D2L. If you are ok with typing mathematical formulae using say Latex, you can hand in everything as a single jupyter notebook at D2L. The numerical exercise(s) should always be handed in as a jupyter notebook by the deadline at D2L. \n",
    "\n",
    "### Introduction to homework 8\n",
    "\n",
    "This week's sets of classical pen and paper and computational\n",
    "exercises are tailored to the topic of two-body problems and central\n",
    "forces, as in hw7. It follows what was discussed during the lectures during week\n",
    "11 (March 9-13), week 12 (March 16-20) and March 23. It can also be seen as a continuation of hw7. \n",
    "\n",
    "The relevant reading background is\n",
    "1. Sections 8.1-8.7 of Taylor.\n",
    "\n",
    "2. Lecture notes on two-body problems, central forces and gravity.\n",
    "\n",
    "Exercises 2, 3, 4 and 5 all deal with an inverse-square-law and deal with various types of orbits, whether they are ellipses, parabolae or hyperbolae. \n",
    "The numerical homework is based on what you did in homework 7, but now of an inverse-square-law force as discussed here.  The numerical exercise is a study of the situations you have analyzed in exercises 2, 3, 4 and 5.\n",
    "\n",
    "This homework has no bonus exercise.\n",
    "\n",
    "\n",
    "\n",
    "### Exercise 1, equations for an ellipse (10pt)\n",
    "\n",
    "Consider an ellipse defined by the sum of the distances from the two foci being $2D$, which expressed in a Cartesian coordinates with the middle of the ellipse being at the origin becomes"
   ]
  },
  {
   "cell_type": "markdown",
   "metadata": {},
   "source": [
    "$$\n",
    "\\sqrt{(x-a)^2+y^2}+\\sqrt{(x+a)^2+y^2}=2D.\n",
    "$$"
   ]
  },
  {
   "cell_type": "markdown",
   "metadata": {},
   "source": [
    "Here the two foci are at $(a,0)$ and $(-a,0)$. Show that this form is can be written as"
   ]
  },
  {
   "cell_type": "markdown",
   "metadata": {},
   "source": [
    "$$\n",
    "\\frac{x^2}{D^2}+\\frac{y^2}{D^2-a^2}=1.\n",
    "$$"
   ]
  },
  {
   "cell_type": "markdown",
   "metadata": {},
   "source": [
    "### Exercise 2: Attractive Potential (10pt)\n",
    "\n",
    "Consider a particle in an attractive potential"
   ]
  },
  {
   "cell_type": "markdown",
   "metadata": {},
   "source": [
    "$$\n",
    "U(r)=-\\alpha/r.\n",
    "$$"
   ]
  },
  {
   "cell_type": "markdown",
   "metadata": {},
   "source": [
    "The quantity $r$ is the absolute value of the relative position. We\n",
    "will use the reduced mass $\\mu$ and the angular momentum $L$, as\n",
    "discussed during the lectures. With the transformation of a two-body\n",
    "problem to the center-of-mass frame, the actual equations look like an\n",
    "*effective* one-body problem. The energy of the system is $E$ and the\n",
    "minimum of the effective potential is $r_{\\rm min}$.\n",
    "\n",
    "\n",
    "The analytical solution to the radial equation of motion is"
   ]
  },
  {
   "cell_type": "markdown",
   "metadata": {},
   "source": [
    "$$\n",
    "r(\\phi) = \\frac{1}{\\frac{\\mu\\alpha}{L^2}+A\\cos{(\\phi)}}.\n",
    "$$"
   ]
  },
  {
   "cell_type": "markdown",
   "metadata": {},
   "source": [
    "Find the value of $A$. Hint: Use the fact that at $r_{\\rm min}$\n",
    "there is no radial kinetic energy and $E=-\\alpha/r_{\\rm min}+L^2/2mr_{\\rm min}^2$.\n",
    "\n",
    "\n",
    "### Exercise 3 (20pt) Inverse-square force\n",
    "\n",
    "Consider again the same effective potential as in 2. This leads to an attractive inverse-square-law force, $F=-\\alpha/r^2$. Consider a particle of mass $m$ with angular momentum $L$. Taylor sections 8.4-8.7 are relevant background material.  See also the harmonic oscillator potential from hw7. The equation of motion for the radial degrees of freedom is (see also hw7) in the center-of-mass frame in two dimensions with $x=r\\cos{(\\phi)}$ and $y=r\\sin{(\\phi)}$ and\n",
    "$r\\in [0,\\infty)$, $\\phi\\in [0,2\\pi]$ and $r=\\sqrt{x^2+y^2}$ are given by"
   ]
  },
  {
   "cell_type": "markdown",
   "metadata": {},
   "source": [
    "$$\n",
    "\\ddot{r}=-\\frac{1}{m}\\frac{dV(r)}{dr}+r\\dot{\\phi}^2,\n",
    "$$"
   ]
  },
  {
   "cell_type": "markdown",
   "metadata": {},
   "source": [
    "and"
   ]
  },
  {
   "cell_type": "markdown",
   "metadata": {},
   "source": [
    "$$\n",
    "\\dot{\\phi}=\\frac{L}{m r^2}.\n",
    "$$"
   ]
  },
  {
   "cell_type": "markdown",
   "metadata": {},
   "source": [
    "Here $V(r)$ is any central force which depends only on the relative coordinate.\n",
    "\n",
    "\n",
    "* 3a (5pt)  Find the radius of a circular orbit by solving for the position of the minimum of the effective potential. \n",
    "\n",
    "* 3b (5pt) At the minimum, the radial velocity is zero and it is only the [centripetal velocity](https://en.wikipedia.org/wiki/Centripetal_force) which is nonzero. This implies that $\\ddot{r}=0$.  What is the angular frequency, $\\dot{\\theta}$, of the orbit? Solve this by setting $\\ddot{r}=0=F/m+\\dot{\\theta}^2r$.\n",
    "\n",
    "* 3c (5pt) Find the effective spring constant for the particle at the minimum.\n",
    "\n",
    "* 3d (5pt) What is the angular frequency for small vibrations about the minimum? How does this compare with the answer to (3b)?\n",
    "\n",
    "### Exercise 4, Inverse-square force again (10pt)\n",
    "\n",
    "Consider again a  particle of mass $m$ in the same attractive potential, $U(r)=-\\alpha/r$, with angular momentum $L$ with just the right energy so that"
   ]
  },
  {
   "cell_type": "markdown",
   "metadata": {},
   "source": [
    "$$\n",
    "A=m\\alpha/L^2\n",
    "$$"
   ]
  },
  {
   "cell_type": "markdown",
   "metadata": {},
   "source": [
    "where $A$ comes from the expression"
   ]
  },
  {
   "cell_type": "markdown",
   "metadata": {},
   "source": [
    "$$\n",
    "r=\\frac{1}{(m\\alpha/L^2)+A\\cos{(\\phi)}}.\n",
    "$$"
   ]
  },
  {
   "cell_type": "markdown",
   "metadata": {},
   "source": [
    "The trajectory can then be rewritten as"
   ]
  },
  {
   "cell_type": "markdown",
   "metadata": {},
   "source": [
    "$$\n",
    "r=\\frac{2r_0}{1+\\cos\\theta},~~~r_0=\\frac{L^2}{2m\\alpha}.\n",
    "$$"
   ]
  },
  {
   "cell_type": "markdown",
   "metadata": {},
   "source": [
    "* 4a (5pt) Show that for this case the total energy $E$ approaches zero.\n",
    "\n",
    "* 4b (5pt) With zero energy $E=0$, write this trajectory in a more recognizable parabolic form, that is express $x_0$ and $R$ in terms of $r_0$ using"
   ]
  },
  {
   "cell_type": "markdown",
   "metadata": {},
   "source": [
    "$$\n",
    "x=x_0-\\frac{y^2}{R}.\n",
    "$$"
   ]
  },
  {
   "cell_type": "markdown",
   "metadata": {},
   "source": [
    "### Exercise 5, parabolic and hyperbolic orbits (10pt)\n",
    "\n",
    "The solution to the radial function for an inverse-square-law force, see for example Taylor equation (8.59) or the equation above, is"
   ]
  },
  {
   "cell_type": "markdown",
   "metadata": {},
   "source": [
    "$$\n",
    "r(\\phi) = \\frac{c}{1+\\epsilon\\cos{(\\phi)}}.\n",
    "$$"
   ]
  },
  {
   "cell_type": "markdown",
   "metadata": {},
   "source": [
    "For $\\epsilon=1$ (or the energy $E=0$) the orbit reduces to a parabola as we saw in the previous exercise,\n",
    "while for $\\epsilon > 1$ (or energy positive) the orbit becomes a hyperbola. The equation for a hyperbola in Cartesian coordinates is"
   ]
  },
  {
   "cell_type": "markdown",
   "metadata": {},
   "source": [
    "$$\n",
    "\\frac{(x-\\delta)^2}{\\alpha^2}-\\frac{y^2}{\\beta^2}=1.\n",
    "$$"
   ]
  },
  {
   "cell_type": "markdown",
   "metadata": {},
   "source": [
    "For a hyperbola, identify the constants $\\alpha$, $\\beta$ and $\\delta$ in terms of the constants $c$ and $\\epsilon$ for $r(\\phi)$. \n",
    "\n",
    "### Exercise 6, Testing orbit types (40 pt)\n",
    "\n",
    "In this exercise we can use the program for $r(\\phi)$ we developed in hw7. We will use an inverse-square-law force as in exercises 2, 3, 4 and 5. The aim is to see that the orbits we get for $E<0$ become ellipses (or circles), parabola for $E=0$ and hyperbola for $E>0$.  An example code is shown here.\n",
    "\n",
    "Here we have defined the constants $L=m=\\alpha=1$. Feel free to set new values. **You need also to set the initial conditions** in order to study the different types of orbits. It may be useful to plot the potential here and find the values for the initial conditions that fit $E<0$, $E=0$ and $E>0$."
   ]
  },
  {
   "cell_type": "code",
   "execution_count": 1,
   "metadata": {
    "collapsed": false
   },
   "outputs": [],
   "source": [
    "%matplotlib inline\n",
    "\n",
    "# Common imports\n",
    "import numpy as np\n",
    "import pandas as pd\n",
    "from math import *\n",
    "import matplotlib.pyplot as plt\n",
    "# Simple Gravitational Force   -alpha/r\n",
    "    \n",
    "DeltaT = 0.01\n",
    "#set up arrays \n",
    "tfinal = 100.0\n",
    "n = ceil(tfinal/DeltaT)\n",
    "# set up arrays for t, v and r\n",
    "t = np.zeros(n)\n",
    "v = np.zeros(n)\n",
    "r = np.zeros(n)\n",
    "# Constants of the model, setting all variables to one for simplicity\n",
    "alpha = 1.0\n",
    "AngMom = 1.0  #  The angular momentum\n",
    "m = 1.0  # scale mass to one\n",
    "c1 = AngMom*AngMom/(m*m)\n",
    "c2 = AngMom*AngMom/m\n",
    "# You need to specify the initial conditions\n",
    "r0 = 0.0\n",
    "v0 = 0.0\n",
    "r[0] = r0\n",
    "v[0] = v0\n",
    "# Start integrating using the Velocity-Verlet  method\n",
    "for i in range(n-1):\n",
    "    # Set up acceleration\n",
    "    a = -alpha/(r[i]**2)+c1/(r[i]**3)\n",
    "    # update velocity, time and position using the Velocity-Verlet method\n",
    "    r[i+1] = r[i] + DeltaT*v[i]+0.5*(DeltaT**2)*a\n",
    "    anew = -alpha/(r[i+1]**2)+c1/(r[i+1]**3)\n",
    "    v[i+1] = v[i] + 0.5*DeltaT*(a+anew)\n",
    "    t[i+1] = t[i] + DeltaT\n",
    "    # Plot position as function of time\n",
    "fig, ax = plt.subplots(2,1)\n",
    "ax[0].set_xlabel('time')\n",
    "ax[0].set_ylabel('radius')\n",
    "ax[0].plot(t,r)\n",
    "ax[1].set_xlabel('time')\n",
    "ax[1].set_ylabel('Velocity')\n",
    "ax[1].plot(t,v)\n",
    "\n",
    "plt.show()"
   ]
  },
  {
   "cell_type": "markdown",
   "metadata": {},
   "source": [
    "Run your code and study and discuss the situations where you have elliptical, parabolic and hyperbolic orbits. Discuss the physics of these cases. The results from exercises 2, 3, 4 and 5 may be useful here."
   ]
  }
 ],
 "metadata": {},
 "nbformat": 4,
 "nbformat_minor": 2
}
