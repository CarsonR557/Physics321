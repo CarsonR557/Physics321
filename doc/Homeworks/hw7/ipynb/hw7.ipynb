{
 "cells": [
  {
   "cell_type": "markdown",
   "metadata": {},
   "source": [
    "<!-- dom:TITLE: PHY321: Classical Mechanics 1 -->\n",
    "# PHY321: Classical Mechanics 1\n",
    "<!-- dom:AUTHOR: Homework 7, due Monday  March 23 -->\n",
    "<!-- Author: -->  \n",
    "**Homework 7, due Monday  March 23**\n",
    "\n",
    "Date: **Mar 17, 2020**\n",
    "\n",
    "### Practicalities about  homeworks and projects\n",
    "\n",
    "1. You can work in groups (optimal groups are often 2-3 people) or by yourself. If you work as a group you can hand in one answer only if you wish. **Remember to write your name(s)**!\n",
    "\n",
    "2. Homeworks are available  the week before the deadline. \n",
    "\n",
    "3. How do I(we)  hand in?  Due to the corona virus and many of you not being on campus, we recommend that you scan your handwritten notes and upload them to D2L. If you are ok with typing mathematical formulae using say Latex, you can hand in everything as a single jupyter notebook at D2L. The numerical exercise(s) should always be handed in as a jupyter notebook by the deadline at D2L. \n",
    "\n",
    "### Introduction to homework 7\n",
    "\n",
    "This week's sets of classical pen and paper and computational\n",
    "exercises are tailored to the topic of two-body problems and central\n",
    "forces, following what was discussed during the lectures during week\n",
    "11 (March 9-13) and week 12 (March 16-20). Some of the exercise are\n",
    "simple derivations of the equations we discussed during lectures while\n",
    "other are applications to specific forces. Plotting the energy-diagram\n",
    "is again a very useful exercise. And you will see that many of the\n",
    "classical topics like conservation laws, conservative forces, central\n",
    "forces, energy, momentum and angular momentum conservation pop up\n",
    "again. These are indeed overarching features which allow us to develop\n",
    "our intuition about a given physical system.\n",
    "\n",
    "The relevant reading background is\n",
    "1. Sections 8.1-8.7 of Taylor.\n",
    "\n",
    "The numerical homework is based on what you did in homework 4 on the Earth-Sun system, but we will add to this the numerical solution of elliptical orbits. \n",
    "\n",
    "\n",
    "### Exercise 1 (20pt), Center-of-Mass and Relative Coordinates and Reference Frames\n",
    "\n",
    "We define the two-body center-of-mass coordinate and relative coordinate by expressing the trajectories for\n",
    "$\\boldsymbol{r}_1$ and $\\boldsymbol{r}_2$ into the center-of-mass coordinate\n",
    "$\\boldsymbol{R}_{\\rm cm}$"
   ]
  },
  {
   "cell_type": "markdown",
   "metadata": {},
   "source": [
    "$$\n",
    "\\boldsymbol{R}_{\\rm cm}\\equiv\\frac{m_1\\boldsymbol{r}_1+m_2\\boldsymbol{r}_2}{m_1+m_2},\n",
    "$$"
   ]
  },
  {
   "cell_type": "markdown",
   "metadata": {},
   "source": [
    "and the relative coordinate"
   ]
  },
  {
   "cell_type": "markdown",
   "metadata": {},
   "source": [
    "$$\n",
    "\\boldsymbol{r}\\equiv\\boldsymbol{r}_1-\\boldsymbol{r_2}.\n",
    "$$"
   ]
  },
  {
   "cell_type": "markdown",
   "metadata": {},
   "source": [
    "Here, we assume the two particles interact only with one another, so $\\boldsymbol{F}_{12}=-\\boldsymbol{F}_{21}$ (where $\\boldsymbol{F}_{ij}$ is the force on $i$ due to $j$.\n",
    "\n",
    "* 1a (5pt) Show that the equations of motion then become $\\ddot{\\boldsymbol{R}}_{\\rm cm}=0$ and $\\ddot{\\boldsymbol{r}}=\\mu\\boldsymbol{F}_{12}$, with the reduced mass $\\mu=m_1m_2/(m_1+m_2)$.\n",
    "\n",
    "The first expression simply states that the center of mass coordinate $\\boldsymbol{R}_{\\rm cm}$ moves at a fixed velocity. The second expression can be rewritten in terms of the reduced mass $\\mu$.\n",
    "\n",
    "* 1b (5pt) Show that the linear momenta for the center-of-mass $\\boldsymbol{P}$ motion and the relative motion $\\boldsymbol{q}$ are given by $\\boldsymbol{P}=M\\dot{\\boldsymbol{R}}_{\\rm cm}$ with $M=m_1+m_2$ and $\\boldsymbol{q}=\\mu\\dot{\\boldsymbol{r}}$.\n",
    "\n",
    "* 1c (5pt) Show then the kinetic energy for two objects can then be written as"
   ]
  },
  {
   "cell_type": "markdown",
   "metadata": {},
   "source": [
    "$$\n",
    "K=\\frac{P^2}{2M}+\\frac{q^2}{2\\mu}.\n",
    "$$"
   ]
  },
  {
   "cell_type": "markdown",
   "metadata": {},
   "source": [
    "* 1d (5pt) Show that the total angular momentum for two-particles in the center-of-mass frame $\\boldsymbol{R}=0$, is given by"
   ]
  },
  {
   "cell_type": "markdown",
   "metadata": {},
   "source": [
    "$$\n",
    "\\boldsymbol{L}=\\boldsymbol{r}\\times \\mu\\dot{\\boldsymbol{r}}.\n",
    "$$"
   ]
  },
  {
   "cell_type": "markdown",
   "metadata": {},
   "source": [
    "### Exercise 2 (10pt), Conservation of Energy\n",
    "\n",
    "The equations of motion in the center-of-mass frame in two dimension with $x=r\\cos{(\\phi)}$ and $y=r\\sin{(\\phi)}$ and\n",
    "$r\\in [0,\\infty)$, $\\phi\\in [0,2\\pi]$ and $r=\\sqrt{x^2+y^2}$ are given by"
   ]
  },
  {
   "cell_type": "markdown",
   "metadata": {},
   "source": [
    "$$\n",
    "\\mu \\ddot{r}=-\\frac{dV(r)}{dr}+\\mu\\dot{\\phi}^2,\n",
    "$$"
   ]
  },
  {
   "cell_type": "markdown",
   "metadata": {},
   "source": [
    "and"
   ]
  },
  {
   "cell_type": "markdown",
   "metadata": {},
   "source": [
    "$$\n",
    "\\dot{\\phi}=\\frac{L}{\\mu r^2}.\n",
    "$$"
   ]
  },
  {
   "cell_type": "markdown",
   "metadata": {},
   "source": [
    "Here $V(r)$ is any central force which depends only on the relative coordinate.\n",
    "* 2a (5pt) Show that you can rewrite the radial equation in terms of an effective potential $V_{\\mathrm{eff}}(r)=V(r)+L^2/(2\\mu r^2)$. \n",
    "\n",
    "* 2b (5pt) Write out the final differential equation for the radial degrees of freedom when we specify that $V(r)=-\\alpha/r$.  Plot the effective potential (choose values for $\\alpha$ and $L$ and discuss (see Taylor section 8.4 and example 8.2) the physics of the system for two energies, one larger than zero and one smaller than zero. This is similar to what you did in the first midterm, except that the potential is different.\n",
    "\n",
    "### Exercise 3 (40pt), Harmonic oscillator again\n",
    "\n",
    "See the lecture notes on central forces for a discussion of this problem. It is given as an example in the text.\n",
    "\n",
    "Consider a particle of mass $m$ in a $2$-dimensional harmonic oscillator with potential"
   ]
  },
  {
   "cell_type": "markdown",
   "metadata": {},
   "source": [
    "$$\n",
    "V(r)=\\frac{1}{2}kr^2=\\frac{1}{2}k(x^2+y^2).\n",
    "$$"
   ]
  },
  {
   "cell_type": "markdown",
   "metadata": {},
   "source": [
    "We assume the orbit has a final non-zero angular momentum $L$.  The\n",
    "effective potential looks like that of a harmonic oscillator for large\n",
    "$r$, but for small $r$, the centrifugal potential repels the particle\n",
    "from the origin. The combination of the two potentials has a minimum\n",
    "for at some radius $r_{\\rm min}$.\n",
    "\n",
    "\n",
    "* 3a (10pt) Set up the effective potential and plot it. Find $r_{\\rm min}$ and $\\dot{\\phi}$. Show that the latter is given by $\\dot{\\phi}=\\sqrt{k/m}$.  At $r_{\\rm min}$ the particle does not accelerate and $r$ stays constant and the motion is circular. With fixed $k$ and $m$, which parameter can we adjust to change the value of $r$ at $r_{\\rm min}$?\n",
    "\n",
    "* 3b (10pt) Now consider small vibrations about $r_{\\rm min}$. The effective spring constant is the curvature of the effective potential.  Use the curvature at $r_{\\rm min}$ to find the effective spring constant (hint, look at  exercise 4 in homework 6) $k_{\\mathrm{eff}}$. Show also that $\\omega=\\sqrt{k_{\\mathrm{eff}}/m}=2\\dot{\\phi}$  \n",
    "\n",
    "* 3c (10pt) The solution to the equations of motion in Cartesian coordinates is simple. The $x$ and $y$ equations of motion separate, and we have $\\ddot{x}=-kx$ and $\\ddot{y}=-ky$. The harmonic oscillator is indeed a system where the degrees of freedom separate and we can find analytical solutions. Define a natural frequency $\\omega_0=\\sqrt{k/m}$ and show that (where $A$, $B$, $C$ and $D$ are arbitrary constants defined by the initial conditions)"
   ]
  },
  {
   "cell_type": "markdown",
   "metadata": {},
   "source": [
    "$$\n",
    "\\begin{eqnarray*}\n",
    "x&=&A\\cos\\omega_0 t+B\\sin\\omega_0 t,\\\\\n",
    "y&=&C\\cos\\omega_0 t+D\\sin\\omega_0 t.\n",
    "\\end{eqnarray*}\n",
    "$$"
   ]
  },
  {
   "cell_type": "markdown",
   "metadata": {},
   "source": [
    "* 3d (10pt) With the solutions for $x$ and $y$, and $r^2=x^2+y^2$ and the definitions $\\alpha=\\frac{A^2+B^2+C^2+D^2}{2}$, $\\beta=\\frac{A^2-B^2+C^2-D^2}{2}$ and $\\gamma=AB+CD$, show that"
   ]
  },
  {
   "cell_type": "markdown",
   "metadata": {},
   "source": [
    "$$\n",
    "r^2=\\alpha+(\\beta^2+\\gamma^2)^{1/2}\\cos(2\\omega_0 t-\\delta),\n",
    "$$"
   ]
  },
  {
   "cell_type": "markdown",
   "metadata": {},
   "source": [
    "with"
   ]
  },
  {
   "cell_type": "markdown",
   "metadata": {},
   "source": [
    "$$\n",
    "\\delta=\\arctan(\\gamma/\\beta),\n",
    "$$"
   ]
  },
  {
   "cell_type": "markdown",
   "metadata": {},
   "source": [
    "### Exercise 4 (30pt), Numerical Solution of the Harmonic Oscillator\n",
    "\n",
    "Using the code we developed in homework 4 for the Earth-Sun system, we can solve the above harmonic oscillator problem in two dimensions using our code from this homework. We need however to change the acceleration from the gravitational force to the one given by the harmonic oscillator potential.\n",
    "\n",
    "The code is given here for the Velocity-Verlet algorithm, with obvious elements to fill in. \n",
    "\n",
    "## Code Example with Euler's Method\n",
    "\n",
    "The code here implements Euler's method for the Earth-Sun system using a more compact way of representing the vectors. Alternatively, you could have spelled out all the variables $v_x$, $v_y$, $x$ and $y$ as one-dimensional arrays. Note that we have not specified the acceleration and the initial conditions. These need to be added by you."
   ]
  },
  {
   "cell_type": "code",
   "execution_count": 1,
   "metadata": {
    "collapsed": false
   },
   "outputs": [],
   "source": [
    "%matplotlib inline\n",
    "\n",
    "# Common imports\n",
    "import numpy as np\n",
    "import pandas as pd\n",
    "from math import *\n",
    "import matplotlib.pyplot as plt\n",
    "import os\n",
    "\n",
    "# Where to save the figures and data files\n",
    "PROJECT_ROOT_DIR = \"Results\"\n",
    "FIGURE_ID = \"Results/FigureFiles\"\n",
    "DATA_ID = \"DataFiles/\"\n",
    "\n",
    "if not os.path.exists(PROJECT_ROOT_DIR):\n",
    "    os.mkdir(PROJECT_ROOT_DIR)\n",
    "\n",
    "if not os.path.exists(FIGURE_ID):\n",
    "    os.makedirs(FIGURE_ID)\n",
    "\n",
    "if not os.path.exists(DATA_ID):\n",
    "    os.makedirs(DATA_ID)\n",
    "\n",
    "def image_path(fig_id):\n",
    "    return os.path.join(FIGURE_ID, fig_id)\n",
    "\n",
    "def data_path(dat_id):\n",
    "    return os.path.join(DATA_ID, dat_id)\n",
    "\n",
    "def save_fig(fig_id):\n",
    "    plt.savefig(image_path(fig_id) + \".png\", format='png')\n",
    "\n",
    "DeltaT = 0.01\n",
    "#set up arrays \n",
    "tfinal = 10.0\n",
    "n = ceil(tfinal/DeltaT)\n",
    "# set up arrays for t, a, v, and x\n",
    "t = np.zeros(n)\n",
    "v = np.zeros((n,2))\n",
    "r = np.zeros((n,2))\n",
    "# Initial conditions as compact 2-dimensional arrays\n",
    "r0 = np.array([1.0,0.5])  # You must change these to fit rmin\n",
    "v0 = np.array([0.0,0.0]) # You must change these to fit rmin\n",
    "r[0] = r0\n",
    "v[0] = v0\n",
    "k = 0.1   # spring constant\n",
    "m = 0.1   # mass, you can change these\n",
    "omega02 = sqrt(k/m)\n",
    "# Start integrating using the Velocity-Verlet  method\n",
    "for i in range(n-1):\n",
    "    # Set up forces, define acceleration first\n",
    "    a =  -r[i]*omega02  # you may need to change this\n",
    "    # update velocity, time and position using the Velocity-Verlet method\n",
    "    r[i+1] = r[i] + DeltaT*v[i]+0.5*(DeltaT**2)*a\n",
    "    # new accelerationfor the Verlet method\n",
    "    anew = -r[i+1]*omega02  \n",
    "    v[i+1] = v[i] + 0.5*DeltaT*(a+anew)\n",
    "    t[i+1] = t[i] + DeltaT\n",
    "# Plot position as function of time    \n",
    "fig, ax = plt.subplots()\n",
    "ax.set_xlabel('t[s]')\n",
    "ax.set_ylabel('x[m] and y[m]')\n",
    "ax.plot(t,r[:,0])\n",
    "ax.plot(t,r[:,1])\n",
    "fig.tight_layout()\n",
    "save_fig(\"2DimHOVV\")\n",
    "plt.show()"
   ]
  },
  {
   "cell_type": "markdown",
   "metadata": {},
   "source": [
    "* 4a (15pt) Use for example the above code to set up the acceleration and use the inital conditions fixed by for example $r_{\\rm min}$ from exercise 3. Which value does the initial velocity take if you place yourself at $r_{\\rm min}$?  Check the solutions as function of  different initial conditions (one set suffices) and compare with the analytical solutions for $x$ and $y$. Check also that energy is conserved.\n",
    "\n",
    "Instead of solving the equations in the cartesian frame we will now rewrite the above code in terms of the radial degrees of freedom only. Our differential equation is now"
   ]
  },
  {
   "cell_type": "markdown",
   "metadata": {},
   "source": [
    "$$\n",
    "\\mu \\ddot{r}=-\\frac{dV(r)}{dr}+\\mu\\dot{\\phi}^2,\n",
    "$$"
   ]
  },
  {
   "cell_type": "markdown",
   "metadata": {},
   "source": [
    "and"
   ]
  },
  {
   "cell_type": "markdown",
   "metadata": {},
   "source": [
    "$$\n",
    "\\dot{\\phi}=\\frac{L}{\\mu r^2}.\n",
    "$$"
   ]
  },
  {
   "cell_type": "markdown",
   "metadata": {},
   "source": [
    "* 4b (15pt) We will use $r_{\\rm min}$ to fix a value of $L$, as seen in exercise 3. This fixes also $\\dot{\\phi}$. Write a code which now implements the radial equation for $r$ using the same $r_{\\rm min}$ as you did in 4a. Compare the results with those from 4a with the same initial conditions. Do they agree? Use only one set of initial conditions.\n",
    "\n",
    "### Exercise 5, the Bonus Exercise (30pt)\n",
    "\n",
    "As in previous sets, this exercise is not compulsory but gives you a bonus of 30 points.\n",
    "The aim here is to compare the numerical result from 4b with the analytical ones  listed in 3d. Do your numerical results agree with the analytical ones?  And is energy conserved?  For this you need to set up the expression for the energy in terms of the effective potential and the kinetic energy in terms of $r$."
   ]
  }
 ],
 "metadata": {},
 "nbformat": 4,
 "nbformat_minor": 2
}
