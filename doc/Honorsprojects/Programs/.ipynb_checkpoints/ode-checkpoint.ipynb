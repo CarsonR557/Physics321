{
 "cells": [
  {
   "cell_type": "markdown",
   "metadata": {},
   "source": [
    "<!-- dom:TITLE: Using Neural networks to solve Ordinary Differential Equations (ODEs) -->\n",
    "# Using Neural networks to solve Ordinary Differential Equations (ODEs)\n",
    "<!-- dom:AUTHOR: Morten Hjorth-Jensen, MSU -->\n",
    "<!-- Author: -->  \n",
    "**Morten Hjorth-Jensen, MSU**\n",
    "\n",
    "Date: **Feb 26, 2020**\n",
    "\n",
    "## Example: Exponential decay\n",
    "An exponential decay of a quantity $g(x)$ is described by the equation"
   ]
  },
  {
   "cell_type": "markdown",
   "metadata": {},
   "source": [
    "<!-- Equation labels as ordinary links -->\n",
    "<div id=\"solve_expdec\"></div>\n",
    "\n",
    "$$\n",
    "\\begin{equation} \\label{solve_expdec} \\tag{1}\n",
    "  g'(x) = -\\gamma g(x)\n",
    "\\end{equation}\n",
    "$$"
   ]
  },
  {
   "cell_type": "markdown",
   "metadata": {},
   "source": [
    "with $g(0) = g_0$ for some chosen initial value $g_0$.\n",
    "\n",
    "The analytical solution of ([1](#solve_expdec)) is"
   ]
  },
  {
   "cell_type": "markdown",
   "metadata": {},
   "source": [
    "<!-- Equation labels as ordinary links -->\n",
    "<div id=\"_auto1\"></div>\n",
    "\n",
    "$$\n",
    "\\begin{equation}\n",
    "  g(x) = g_0 \\exp\\left(-\\gamma x\\right)\n",
    "\\label{_auto1} \\tag{2}\n",
    "\\end{equation}\n",
    "$$"
   ]
  },
  {
   "cell_type": "markdown",
   "metadata": {},
   "source": [
    "Having an analytical solution at hand, it is possible to use it to compare how well a neural network finds a solution of ([1](#solve_expdec)).\n",
    "\n",
    "\n",
    "\n",
    "We will use a neural network to solve"
   ]
  },
  {
   "cell_type": "markdown",
   "metadata": {},
   "source": [
    "<!-- Equation labels as ordinary links -->\n",
    "<div id=\"solveode\"></div>\n",
    "\n",
    "$$\n",
    "\\begin{equation} \\label{solveode} \\tag{3}\n",
    "g'(x) = -\\gamma g(x)\n",
    "\\end{equation}\n",
    "$$"
   ]
  },
  {
   "cell_type": "markdown",
   "metadata": {},
   "source": [
    "where $g(0) = g_0$ with $\\gamma$ and $g_0$ being some chosen values.\n",
    "\n",
    "In this example, $\\gamma = 2$ and $g_0 = 10$.\n",
    "\n",
    "## The trial solution\n",
    "To begin with, a trial solution $g_t(t)$ must be chosen. A general trial solution for ordinary differential equations could be"
   ]
  },
  {
   "cell_type": "markdown",
   "metadata": {},
   "source": [
    "$$\n",
    "g_t(x, P) = h_1(x) + h_2(x, N(x, P))\n",
    "$$"
   ]
  },
  {
   "cell_type": "markdown",
   "metadata": {},
   "source": [
    "with $h_1(x)$ ensuring that $g_t(x)$ satisfies some conditions and\n",
    "$h_2(x,N(x, P))$ an expression involving $x$ and the output from the\n",
    "neural network $N(x,P)$ with $P $ being the collection of the weights\n",
    "and biases for each layer. For now, it is assumed that the network\n",
    "consists of one input layer, one hidden layer, and one output layer.\n",
    "\n",
    "\n",
    "\n",
    "## Reformulating the problem\n",
    "We wish that our neural network manages to minimize a given cost function.\n",
    "\n",
    "A reformulation of our equation must therefore be done,\n",
    "such that it describes the problem a neural network can solve for.\n",
    "\n",
    "The trial solution"
   ]
  },
  {
   "cell_type": "markdown",
   "metadata": {},
   "source": [
    "$$\n",
    "g_t(x, P) = g_0 + x \\cdot N(x, P)\n",
    "$$"
   ]
  },
  {
   "cell_type": "markdown",
   "metadata": {},
   "source": [
    "has been chosen such that it already solves the condition $g(0) = g_0$. What remains, is to find $P$ such that"
   ]
  },
  {
   "cell_type": "markdown",
   "metadata": {},
   "source": [
    "<!-- Equation labels as ordinary links -->\n",
    "<div id=\"nnmin\"></div>\n",
    "\n",
    "$$\n",
    "\\begin{equation} \\label{nnmin} \\tag{4}\n",
    "g_t'(x, P) = - \\gamma g_t(x, P)\n",
    "\\end{equation}\n",
    "$$"
   ]
  },
  {
   "cell_type": "markdown",
   "metadata": {},
   "source": [
    "is fulfilled as *best as possible*.\n",
    "\n",
    "The left hand side and right hand side of ([4](#nnmin)) must be computed separately, and then the neural network must choose weights and biases, contained in $P$, such that the sides are equal as best as possible.\n",
    "This means that the absolute or squared difference between the sides must be as close to zero, ideally equal to zero.\n",
    "In this case, the difference squared shows to be an appropriate measurement of how erroneous the trial solution is with respect to $P$ of the neural network.\n",
    "\n",
    "This gives the following cost function our neural network must solve for:"
   ]
  },
  {
   "cell_type": "markdown",
   "metadata": {},
   "source": [
    "$$\n",
    "\\min_{P}\\Big\\{ \\big(g_t'(x, P) - ( -\\gamma g_t(x, P) \\big)^2 \\Big\\}\n",
    "$$"
   ]
  },
  {
   "cell_type": "markdown",
   "metadata": {},
   "source": [
    "(the notation $\\min_{P}\\{ f(x, P) \\}$ means that we desire to find $P$ that yields the minimum of $f(x, P)$)\n",
    "\n",
    "or, in terms of weights and biases for the hidden and output layer in our network:"
   ]
  },
  {
   "cell_type": "markdown",
   "metadata": {},
   "source": [
    "$$\n",
    "\\min_{P_{\\text{hidden} }, \\ P_{\\text{output} }}\\Big\\{ \\big(g_t'(x, \\{ P_{\\text{hidden} }, P_{\\text{output} }\\}) - ( -\\gamma g_t(x, \\{ P_{\\text{hidden} }, P_{\\text{output} }\\}) \\big)^2 \\Big\\}\n",
    "$$"
   ]
  },
  {
   "cell_type": "markdown",
   "metadata": {},
   "source": [
    "for an input value $x$.\n",
    "\n",
    "If the neural network evaluates $g_t(x, P)$ at more values for $x$, say $N$ values $x_i$ for $i = 1, \\dots, N$, then the *total* error to minimize becomes"
   ]
  },
  {
   "cell_type": "markdown",
   "metadata": {},
   "source": [
    "<!-- Equation labels as ordinary links -->\n",
    "<div id=\"min\"></div>\n",
    "\n",
    "$$\n",
    "\\begin{equation} \\label{min} \\tag{5}\n",
    "\\min_{P}\\Big\\{\\frac{1}{N} \\sum_{i=1}^N  \\big(g_t'(x_i, P) - ( -\\gamma g_t(x_i, P) \\big)^2 \\Big\\}\n",
    "\\end{equation}\n",
    "$$"
   ]
  },
  {
   "cell_type": "markdown",
   "metadata": {},
   "source": [
    "Letting $\\vec x$ be a vector with elements $x_i$ and $c(\\vec x, P) = \\frac{1}{N} \\sum_i  \\big(g_t'(x_i, P) - ( -\\gamma g_t(x_i, P) \\big)^2$ denote the cost function, the minimization problem that our network must solve, becomes"
   ]
  },
  {
   "cell_type": "markdown",
   "metadata": {},
   "source": [
    "$$\n",
    "\\min_{P} c(\\vec x, P)\n",
    "$$"
   ]
  },
  {
   "cell_type": "markdown",
   "metadata": {},
   "source": [
    "In terms of $P_{\\text{hidden} }$ and $P_{\\text{output} }$, this could also be expressed as\n",
    "\n",
    "$$\n",
    "\\min_{P_{\\text{hidden} }, \\ P_{\\text{output} }} c(\\vec x, \\{P_{\\text{hidden} }, P_{\\text{output} }\\})\n",
    "$$"
   ]
  },
  {
   "cell_type": "code",
   "execution_count": 1,
   "metadata": {},
   "outputs": [
    {
     "name": "stdout",
     "output_type": "stream",
     "text": [
      "WARNING:tensorflow:From /usr/local/lib/python3.7/site-packages/tensorflow_core/python/compat/v2_compat.py:65: disable_resource_variables (from tensorflow.python.ops.variable_scope) is deprecated and will be removed in a future version.\n",
      "Instructions for updating:\n",
      "non-resource variables are not supported in the long term\n",
      "A =  Tensor(\"Const:0\", shape=(6, 6), dtype=float64)\n",
      "x0 =  Tensor(\"Const_1:0\", shape=(1, 6), dtype=float64)\n",
      "WARNING:tensorflow:From <ipython-input-1-580cbdad9716>:44: dense (from tensorflow.python.layers.core) is deprecated and will be removed in a future version.\n",
      "Instructions for updating:\n",
      "Use keras.layers.Dense instead.\n",
      "WARNING:tensorflow:From /usr/local/lib/python3.7/site-packages/tensorflow_core/python/layers/core.py:187: Layer.apply (from tensorflow.python.keras.engine.base_layer) is deprecated and will be removed in a future version.\n",
      "Instructions for updating:\n",
      "Please use `layer.__call__` method instead.\n",
      "dnn_output =  Tensor(\"dnn/dense_1/BiasAdd:0\", shape=(1, 6), dtype=float64)\n",
      "x_trial =  Tensor(\"loss/transpose:0\", shape=(6, 1), dtype=float64)\n",
      "Tensor(\"loss/mul:0\", shape=(6, 6), dtype=float64)\n",
      "Tensor(\"loss/mul_1:0\", shape=(6, 6), dtype=float64)\n",
      "Tensor(\"loss/Tensordot_3:0\", shape=(6, 1), dtype=float64)\n",
      "Step: 0 / 10000 loss:  0.8811536\n",
      "Step: 100 / 10000 loss:  0.046221524\n",
      "Step: 200 / 10000 loss:  0.016936405\n",
      "Step: 300 / 10000 loss:  0.0077625248\n",
      "Step: 400 / 10000 loss:  0.0039261067\n",
      "Step: 500 / 10000 loss:  0.002088301\n",
      "Step: 600 / 10000 loss:  0.0011415791\n",
      "Step: 700 / 10000 loss:  0.0006338091\n",
      "Step: 800 / 10000 loss:  0.00035512898\n",
      "Step: 900 / 10000 loss:  0.00020010369\n",
      "Step: 1000 / 10000 loss:  0.00011315974\n",
      "Step: 1100 / 10000 loss:  6.4148364e-05\n",
      "Step: 1200 / 10000 loss:  3.6427515e-05\n",
      "Step: 1300 / 10000 loss:  2.071231e-05\n",
      "Step: 1400 / 10000 loss:  1.178851e-05\n",
      "Step: 1500 / 10000 loss:  6.714881e-06\n",
      "Step: 1600 / 10000 loss:  3.827342e-06\n",
      "Step: 1700 / 10000 loss:  2.1827416e-06\n",
      "Step: 1800 / 10000 loss:  1.2453808e-06\n",
      "Step: 1900 / 10000 loss:  7.1084213e-07\n",
      "Step: 2000 / 10000 loss:  4.0587983e-07\n",
      "Step: 2100 / 10000 loss:  2.3182183e-07\n",
      "Step: 2200 / 10000 loss:  1.3244498e-07\n",
      "Step: 2300 / 10000 loss:  7.567783e-08\n",
      "Step: 2400 / 10000 loss:  4.325354e-08\n",
      "Step: 2500 / 10000 loss:  2.4727095e-08\n",
      "Step: 2600 / 10000 loss:  1.4136344e-08\n",
      "Step: 2700 / 10000 loss:  8.083139e-09\n",
      "Step: 2800 / 10000 loss:  4.6220157e-09\n",
      "Step: 2900 / 10000 loss:  2.6442566e-09\n",
      "Step: 3000 / 10000 loss:  1.5119698e-09\n",
      "Step: 3100 / 10000 loss:  8.6484375e-10\n",
      "Step: 3200 / 10000 loss:  4.94961e-10\n",
      "Step: 3300 / 10000 loss:  2.828026e-10\n",
      "Step: 3400 / 10000 loss:  1.6201303e-10\n",
      "Step: 3500 / 10000 loss:  9.2457965e-11\n",
      "Step: 3600 / 10000 loss:  5.295579e-11\n",
      "Step: 3700 / 10000 loss:  3.03072e-11\n",
      "Step: 3800 / 10000 loss:  1.7342535e-11\n",
      "Step: 3900 / 10000 loss:  9.956665e-12\n",
      "Step: 4000 / 10000 loss:  5.6626557e-12\n",
      "Step: 4100 / 10000 loss:  3.25584e-12\n",
      "Step: 4200 / 10000 loss:  1.8782753e-12\n",
      "Step: 4300 / 10000 loss:  1.0610032e-12\n",
      "Step: 4400 / 10000 loss:  6.1458244e-13\n",
      "Step: 4500 / 10000 loss:  3.514596e-13\n",
      "Step: 4600 / 10000 loss:  1.9691655e-13\n",
      "Step: 4700 / 10000 loss:  1.1461203e-13\n",
      "Step: 4800 / 10000 loss:  6.4392935e-14\n",
      "Step: 4900 / 10000 loss:  3.8968828e-14\n",
      "Step: 5000 / 10000 loss:  2.0206059e-14\n",
      "Step: 5100 / 10000 loss:  1.0843178e-14\n",
      "Step: 5200 / 10000 loss:  7.4014865e-15\n",
      "Step: 5300 / 10000 loss:  4.18184e-15\n",
      "Step: 5400 / 10000 loss:  2.3684759e-15\n",
      "Step: 5500 / 10000 loss:  9.992007e-16\n",
      "Step: 5600 / 10000 loss:  6.2912636e-16\n",
      "Step: 5700 / 10000 loss:  3.330669e-16\n",
      "Step: 5800 / 10000 loss:  2.5905203e-16\n",
      "Step: 5900 / 10000 loss:  2.220446e-16\n",
      "Step: 6000 / 10000 loss:  1.8503717e-16\n",
      "Step: 6100 / 10000 loss:  0.0\n",
      "Step: 6200 / 10000 loss:  0.0\n",
      "Step: 6300 / 10000 loss:  0.0\n",
      "Step: 6400 / 10000 loss:  0.0\n",
      "Step: 6500 / 10000 loss:  0.0\n",
      "Step: 6600 / 10000 loss:  0.0\n",
      "Step: 6700 / 10000 loss:  0.0\n",
      "Step: 6800 / 10000 loss:  0.0\n",
      "Step: 6900 / 10000 loss:  0.0\n",
      "Step: 7000 / 10000 loss:  0.0\n",
      "Step: 7100 / 10000 loss:  0.0\n",
      "Step: 7200 / 10000 loss:  0.0\n",
      "Step: 7300 / 10000 loss:  0.0\n",
      "Step: 7400 / 10000 loss:  0.0\n",
      "Step: 7500 / 10000 loss:  0.0\n",
      "Step: 7600 / 10000 loss:  0.0\n",
      "Step: 7700 / 10000 loss:  0.0\n",
      "Step: 7800 / 10000 loss:  0.0\n",
      "Step: 7900 / 10000 loss:  0.0\n",
      "Step: 8000 / 10000 loss:  0.0\n",
      "Step: 8100 / 10000 loss:  0.0\n",
      "Step: 8200 / 10000 loss:  0.0\n",
      "Step: 8300 / 10000 loss:  0.0\n",
      "Step: 8400 / 10000 loss:  0.0\n",
      "Step: 8500 / 10000 loss:  0.0\n",
      "Step: 8600 / 10000 loss:  0.0\n",
      "Step: 8700 / 10000 loss:  0.0\n",
      "Step: 8800 / 10000 loss:  0.0\n",
      "Step: 8900 / 10000 loss:  0.0\n",
      "Step: 9000 / 10000 loss:  0.0\n",
      "Step: 9100 / 10000 loss:  0.0\n",
      "Step: 9200 / 10000 loss:  0.0\n",
      "Step: 9300 / 10000 loss:  0.0\n",
      "Step: 9400 / 10000 loss:  0.0\n",
      "Step: 9500 / 10000 loss:  0.0\n",
      "Step: 9600 / 10000 loss:  0.0\n",
      "Step: 9700 / 10000 loss:  0.0\n",
      "Step: 9800 / 10000 loss:  0.0\n",
      "Step: 9900 / 10000 loss:  0.0\n",
      "Eigenvector NN = \n",
      " [[-0.39691579]\n",
      " [-0.44182647]\n",
      " [-0.31817309]\n",
      " [-0.44666684]\n",
      " [-0.46830313]\n",
      " [-0.3566427 ]] \n",
      "\n",
      "Eigenvalue NN = \n",
      " [[2.92582919]] \n",
      " \n",
      "\n",
      "Eigenvector analytic = \n",
      " [[ 0.3969158   0.29100653  0.40140726  0.02937581 -0.74911156  0.1860489 ]\n",
      " [ 0.44182644 -0.71132178 -0.16781868 -0.46238523 -0.09608805  0.21820769]\n",
      " [ 0.31817312  0.22136178 -0.78435104  0.11667646 -0.25862122 -0.3925047 ]\n",
      " [ 0.44666685 -0.05238361  0.43638351 -0.05112953  0.26673152 -0.73044793]\n",
      " [ 0.4683031  -0.12182987 -0.01170839  0.73966719  0.31037851  0.34967161]\n",
      " [ 0.35664272  0.58544763 -0.07024875 -0.47117065  0.44185236  0.32846135]]\n",
      "\n",
      "\n",
      "Eigenvalues analytic = \n",
      " [ 2.92582919  0.66100181 -0.45976283  0.39186161 -0.12704888 -0.07943175]\n"
     ]
    },
    {
     "data": {
      "image/png": "[encoded data removed]",
      "text/plain": [
       "<Figure size 432x288 with 1 Axes>"
      ]
     },
     "metadata": {},
     "output_type": "display_data"
    }
   ],
   "source": [
    "%matplotlib inline\n",
    "\n",
    "# # Finding eigenvalues of matrices with neural networks. \n",
    "# Script for finding the eigenvectors corresponding to the largest eigenvalue of a matrix with a neural network.\n",
    "\n",
    "import tensorflow.compat.v1 as tf\n",
    "tf.disable_v2_behavior()\n",
    "tf.reset_default_graph()\n",
    "# tf.set_random_seed(343)\n",
    "\n",
    "# import tensorflow as tf\n",
    "import numpy as np\n",
    "from matplotlib import cm\n",
    "from matplotlib import pyplot as plt\n",
    "from mpl_toolkits.mplot3d import axes3d\n",
    "#from lib import compute_dx_dt\n",
    "\n",
    "matrix_size = 6\n",
    "\n",
    "A = np.random.random_sample(size=(matrix_size,matrix_size))\n",
    "A = (A.T + A)/2.0\n",
    "start_matrix = A\n",
    "\n",
    "eigen_vals, eigen_vecs =  np.linalg.eig(A)\n",
    "\n",
    "A = tf.convert_to_tensor(A)\n",
    "print(\"A = \", A)\n",
    "\n",
    "x_0 = tf.convert_to_tensor(np.random.random_sample(size = (1,matrix_size)))\n",
    "print(\"x0 = \", x_0)\n",
    "\n",
    "## The construction phase\n",
    "\n",
    "num_iter = 10000\n",
    "num_hidden_neurons = [50]\n",
    "num_hidden_layers = np.size(num_hidden_neurons)\n",
    "\n",
    "\n",
    "with tf.variable_scope('dnn'):\n",
    "\n",
    "    previous_layer = x_0\n",
    "\n",
    "    for l in range(num_hidden_layers):\n",
    "        current_layer = tf.layers.dense(previous_layer, num_hidden_neurons[l],activation=tf.nn.sigmoid)\n",
    "        previous_layer = current_layer\n",
    "\n",
    "    dnn_output = tf.layers.dense(previous_layer, matrix_size)\n",
    "\n",
    "with tf.name_scope('loss'):\n",
    "    print(\"dnn_output = \", dnn_output)\n",
    "    \n",
    "    x_trial = tf.transpose(dnn_output)\n",
    "    print(\"x_trial = \", x_trial)\n",
    "    \n",
    "    temp1 = (tf.tensordot(tf.transpose(x_trial), x_trial, axes=1)*A)\n",
    "    temp2 = (1- tf.tensordot(tf.transpose(x_trial), tf.tensordot(A, x_trial, axes=1), axes=1))*np.eye(matrix_size)\n",
    "    func = tf.tensordot((temp1-temp2), x_trial, axes=1)\n",
    "    \n",
    "    print(temp1)\n",
    "    print(temp2)\n",
    "    print(func)\n",
    "    \n",
    "    func = tf.transpose(func)\n",
    "    x_trial = tf.transpose(x_trial)\n",
    "    \n",
    "    loss = tf.losses.mean_squared_error(func, x_trial)\n",
    "\n",
    "learning_rate = 0.001\n",
    "\n",
    "with tf.name_scope('train'):\n",
    "    optimizer = tf.train.GradientDescentOptimizer(learning_rate)\n",
    "    traning_op = optimizer.minimize(loss)\n",
    "\n",
    "init = tf.global_variables_initializer()\n",
    "\n",
    "g_dnn = None\n",
    "\n",
    "losses = []\n",
    "\n",
    "with tf.Session() as sess:\n",
    "    init.run()\n",
    "    for i in range(num_iter):\n",
    "        sess.run(traning_op)\n",
    "\n",
    "        if i % 100 == 0:\n",
    "            l = loss.eval()\n",
    "            print(\"Step:\", i, \"/\",num_iter, \"loss: \", l)\n",
    "            losses.append(l)\n",
    "\n",
    "    x_dnn = x_trial.eval()\n",
    "x_dnn = x_dnn.T\n",
    "\n",
    "\n",
    "# ## Plotting loss over time\n",
    "\n",
    "plt.plot(losses[:5])\n",
    "plt.xlabel(\"Iteration\")\n",
    "plt.ylabel(\"Loss\")\n",
    "\n",
    "print(\"Eigenvector NN = \\n\", (x_dnn/(x_dnn**2).sum()**0.5), \"\\n\")\n",
    "\n",
    "eigen_val_nn = x_dnn.T @ (start_matrix @ x_dnn) / (x_dnn.T @ x_dnn)\n",
    "\n",
    "print(\"Eigenvalue NN = \\n\", eigen_val_nn, \"\\n \\n\")\n",
    "print(\"Eigenvector analytic = \\n\", eigen_vecs)\n",
    "print(\"\\n\")\n",
    "print(\"Eigenvalues analytic = \\n\",eigen_vals)"
   ]
  },
  {
   "cell_type": "code",
   "execution_count": null,
   "metadata": {},
   "outputs": [],
   "source": []
  }
 ],
 "metadata": {
  "kernelspec": {
   "display_name": "Python 3",
   "language": "python",
   "name": "python3"
  },
  "language_info": {
   "codemirror_mode": {
    "name": "ipython",
    "version": 3
   },
   "file_extension": ".py",
   "mimetype": "text/x-python",
   "name": "python",
   "nbconvert_exporter": "python",
   "pygments_lexer": "ipython3",
   "version": "3.7.6"
  }
 },
 "nbformat": 4,
 "nbformat_minor": 2
}
