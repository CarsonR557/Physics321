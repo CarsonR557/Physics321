{
 "cells": [
  {
   "cell_type": "markdown",
   "metadata": {},
   "source": [
    "<!-- dom:TITLE: PHY321: Classical Mechanics 1 -->\n",
    "# PHY321: Classical Mechanics 1\n",
    "<!-- dom:AUTHOR: Final  project, due Friday May 1 -->\n",
    "<!-- Author: -->  \n",
    "**Final  project, due Friday May 1**\n",
    "\n",
    "Date: **Apr 24, 2020**\n",
    "\n",
    "### Practicalities about  homeworks and projects\n",
    "\n",
    "1. You can work in groups (optimal groups are often 2-3 people) or by yourself. If you work as a group you can hand in one answer only if you wish. **Remember to write your name(s)**!\n",
    "\n",
    "2. How do I(we)  hand in?  Due to the extraordinary situation we are in now, the midterm should be handed in fully via D2L. You can scan your handwritten notes and upload to D2L or you can hand in everyhting (if you are ok with typing mathematical formulae using say Latex) as a jupyter notebook at D2L. The numerical part should always be handed in as a jupyter notebook.\n",
    "\n",
    "### Introduction to the final project, total score 100 points\n",
    "\n",
    "The relevant reading background is\n",
    "1. chapters 2-9 and 14 of Taylor\n",
    "\n",
    "2. lecture notes throughout the semester and previous homework and midterm projects.\n",
    "\n",
    "The final project aims at covering most of the topics we have discussed during the semester. As a physical system to discuss what has been, we will use what in the literature is called the **mathematical pendulum** and variants thereof. \n",
    "\n",
    "### Exercise 1: Mathematical pendulum in two dimensions\n",
    "\n",
    "A mathematical pendulum consists of a point mass $m$ suspended by a massless thread/rod of length $l$ in a gravitational field, as shown in the figure here. The constraining force is labeled by $\\boldsymbol{T}$\n",
    "and the gravitational force is labeled $\\boldsymbol{F}_g$.\n",
    "\n",
    "<!-- FIGURE: [figslides/simplependulum.png, width=600 frac=0.6] -->\n",
    "\n",
    "We assume that the length $l$ is constant and we define the coordinates involved as"
   ]
  },
  {
   "cell_type": "markdown",
   "metadata": {},
   "source": [
    "$$\n",
    "\\boldsymbol{r} = l(\\sin(\\phi)\\boldsymbol{\\hat{x}}+\\cos(\\phi)\\boldsymbol{\\hat{y}},\n",
    "$$"
   ]
  },
  {
   "cell_type": "markdown",
   "metadata": {},
   "source": [
    "where $\\boldsymbol{\\hat{x}}$ and $\\boldsymbol{\\hat{y}}$ are the unit vectors in the $x$ and $y$ directions, respectively.\n",
    "\n",
    "* 1a (5pt): Set up the forces acting on the system and show that the equation of motion is $m\\ddot{\\boldsymbol{r}}=\\boldsymbol{F}_g+\\boldsymbol{T}$.\n",
    "\n",
    "* 1b (10pt): Show that you can rewrite the above equation of motion as two independent equations of motion, on for $\\phi$ and one for the constraining force. Show that these equations are $\\ddot{\\phi}(t)=-\\omega_0^2\\sin{(\\phi(t))}$ with $\\omega_0^2=g/l$ and $-ml\\dot{\\phi}^2=mg\\cos{(\\phi)}-T$.\n",
    "\n",
    "The equation for $\\phi$ is a second-order differential equation"
   ]
  },
  {
   "cell_type": "markdown",
   "metadata": {},
   "source": [
    "$$\n",
    "\\ddot{\\phi}(t)=-\\omega_0^2\\sin{(\\phi(t))}.\n",
    "$$"
   ]
  },
  {
   "cell_type": "markdown",
   "metadata": {},
   "source": [
    "This equation can be solved analytically if we assume that the angle $\\phi$ is very small. Then we can approximate our equation as"
   ]
  },
  {
   "cell_type": "markdown",
   "metadata": {},
   "source": [
    "$$\n",
    "\\ddot{\\phi}(t)=-\\omega_0^2\\phi(t).\n",
    "$$"
   ]
  },
  {
   "cell_type": "markdown",
   "metadata": {},
   "source": [
    "* 1c (10pt): Find the analytical solution for the last equation. Hint, look back at the solutions for the simple harmonic oscillator problem in one dimension in for example homework 6.\n",
    "\n",
    "For our numerical treatment of the full second-order differential  equation, we can proceed as we have done before and split the second-order differential in two first-order differential equations\n",
    "\n",
    "The equation for $\\phi$ is a second-order differential equation"
   ]
  },
  {
   "cell_type": "markdown",
   "metadata": {},
   "source": [
    "$$\n",
    "\\frac{d\\dot{\\phi}}{dt}=-\\omega_0^2\\sin{(\\phi)}.\n",
    "$$"
   ]
  },
  {
   "cell_type": "markdown",
   "metadata": {},
   "source": [
    "and"
   ]
  },
  {
   "cell_type": "markdown",
   "metadata": {},
   "source": [
    "$$\n",
    "\\frac{d\\phi}{dt}=\\dot{\\phi}.\n",
    "$$"
   ]
  },
  {
   "cell_type": "markdown",
   "metadata": {},
   "source": [
    "* 1d (10pt): Scale the equations in terms of a dimensionless time $\\hat{t}=\\omega_0t$. Choose between the Euler-Cromer, the Velocity-Verlet or the Runge-Kutta to fourth order and **write** the algorithm for solving the last two equations numerically. Explain briefly your choice of numerical algorithm. Hint, look back at what you did in homework 6.\n",
    "\n",
    "* 1e (10pt): Choose initial conditions and compare your numerical solution with the analytical one. For which range of angles $\\phi$ (determined by your initial conditions) are the analytical solutions comparable to your numerical results? Discuss the implications of your results.\n",
    "\n",
    "* 1f (10pt): Find the expressions for the kinetic and potential energies in terms of the variables $r$ (remember that $r=l$ and is a constant throughout the calculations). In your code, check then that energy is conserved by calculating the total energy, the kinetic and potential energies ad functions of time. Discuss your results.\n",
    "\n",
    "* 1g (10pt) With the potential $V$  and kinetic $T$ energies, define the Lagrangian for the mathematical pendulum discussed here. Add the constraint $r=l$ via a Lagrange multiplier $\\lambda$ and derive the equations of motion. Show that these result in \n",
    "\n",
    "$\\ddot{\\phi}(t)=-\\omega_0^2\\sin{(\\phi(t))}$ with $\\omega_0^2=g/l$ and $-ml\\dot{\\phi}^2=mg\\cos{(\\phi)}-\\lambda$.  How would you interpret $\\lambda$?"
   ]
  }
 ],
 "metadata": {},
 "nbformat": 4,
 "nbformat_minor": 2
}
